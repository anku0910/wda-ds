{
 "cells": [
  {
   "cell_type": "markdown",
   "id": "7cae11d8",
   "metadata": {},
   "source": [
    "### `ch01\\ch1-4-4.py`"
   ]
  },
  {
   "cell_type": "code",
   "execution_count": 1,
   "id": "0621c60d",
   "metadata": {},
   "outputs": [
    {
     "name": "stdout",
     "output_type": "stream",
     "text": [
      "10\n",
      "數字是10\n"
     ]
    }
   ],
   "source": [
    "num = 10\n",
    "print(num)\n",
    "if num >= 10:\n",
    "    print(\"數字是10\")\n"
   ]
  },
  {
   "cell_type": "markdown",
   "id": "0715ad11",
   "metadata": {},
   "source": [
    "### `ch02\\ch2-2-1.py`"
   ]
  },
  {
   "cell_type": "code",
   "execution_count": 2,
   "id": "2f2e2bca",
   "metadata": {},
   "outputs": [
    {
     "name": "stdout",
     "output_type": "stream",
     "text": [
      "成績 = 76\n",
      "身高 = 175.5\n",
      "體重 = 75.5\n",
      "成績 = 76\n",
      "身高 = 175.5\n",
      "體重 = 75.5\n"
     ]
    }
   ],
   "source": [
    "grade = 76\n",
    "height = 175.5\n",
    "weight = 75.5\n",
    "# 方法一\n",
    "print(\"成績 = \" + str(grade))\n",
    "print(\"身高 = \" + str(height))\n",
    "print(\"體重 = \" + str(weight))\n",
    "# 方法二\n",
    "print(\"成績 =\", grade)\n",
    "print(\"身高 =\", height)\n",
    "print(\"體重 =\", weight)"
   ]
  },
  {
   "cell_type": "markdown",
   "id": "90395231",
   "metadata": {},
   "source": [
    "### `ch02\\ch2-2-2.py`"
   ]
  },
  {
   "cell_type": "code",
   "execution_count": 3,
   "id": "e4040b48",
   "metadata": {},
   "outputs": [
    {
     "name": "stdout",
     "output_type": "stream",
     "text": [
      "第一節 =  35\n",
      "第二節 =  27\n",
      "第三節 =  27\n"
     ]
    }
   ],
   "source": [
    "score1 = 35\n",
    "score2 = 10\n",
    "score3 = 10\n",
    "score2 = 27\n",
    "score3 = score2\n",
    "print(\"第一節 = \", score1)\n",
    "print(\"第二節 = \", score2)\n",
    "print(\"第三節 = \", score3)\n"
   ]
  },
  {
   "cell_type": "markdown",
   "id": "29d8dea3",
   "metadata": {},
   "source": [
    "### `ch02\\ch2-2-2a.py`"
   ]
  },
  {
   "cell_type": "code",
   "execution_count": 4,
   "id": "88596950",
   "metadata": {},
   "outputs": [
    {
     "name": "stdout",
     "output_type": "stream",
     "text": [
      "25 25 25\n"
     ]
    }
   ],
   "source": [
    "score1 = score2 = score3 = 25\n",
    "print(score1, score2, score3)\n",
    "\n"
   ]
  },
  {
   "cell_type": "markdown",
   "id": "3bab2dfc",
   "metadata": {},
   "source": [
    "### `ch02\\ch2-2-2b.py`"
   ]
  },
  {
   "cell_type": "code",
   "execution_count": 5,
   "id": "69331e0d",
   "metadata": {},
   "outputs": [
    {
     "name": "stdout",
     "output_type": "stream",
     "text": [
      "X = 1 Y = 2\n",
      "X = 2 Y = 1\n"
     ]
    }
   ],
   "source": [
    "x, y = 1, 2\n",
    "print(\"X =\", x, \"Y =\", y)\n",
    "x, y = y, x\n",
    "print(\"X =\", x, \"Y =\", y)\n",
    "\n"
   ]
  },
  {
   "cell_type": "markdown",
   "id": "a9e74cb2",
   "metadata": {},
   "source": [
    "### `ch02\\ch2-2-3.py`"
   ]
  },
  {
   "cell_type": "code",
   "execution_count": 6,
   "id": "cb3cec6a",
   "metadata": {},
   "outputs": [
    {
     "name": "stdout",
     "output_type": "stream",
     "text": [
      "6 + 7 =  13\n",
      "a - 2 =  11\n",
      "a * b =  143\n",
      "10 / 3 =  3.3333333333333335\n"
     ]
    }
   ],
   "source": [
    "a = 6 + 7 \n",
    "b = a - 2\n",
    "c = a * b\n",
    "d = 10 / 3\n",
    "print(\"6 + 7 = \", a)\n",
    "print(\"a - 2 = \", b)\n",
    "print(\"a * b = \", c)\n",
    "print(\"10 / 3 = \", d)\n"
   ]
  },
  {
   "cell_type": "markdown",
   "id": "873548b3",
   "metadata": {},
   "source": [
    "### `ch02\\ch2-2-4.py`"
   ]
  },
  {
   "cell_type": "code",
   "execution_count": 7,
   "id": "4a56cffd",
   "metadata": {},
   "outputs": [
    {
     "name": "stdout",
     "output_type": "stream",
     "text": [
      "<class 'int'>\n",
      "5\n",
      "6\n",
      "4\n",
      "10\n",
      "2.5\n",
      "2\n",
      "1\n",
      "25\n",
      "6\n",
      "12\n"
     ]
    }
   ],
   "source": [
    "x = 5\n",
    "print(type(x)) # 顯示 \"<class 'int'>\"\n",
    "print(x)       # 顯示 \"5\"\n",
    "print(x + 1)   # 加法: 顯示 \"6\"\n",
    "print(x - 1)   # 減法: 顯示 \"4\"\n",
    "print(x * 2)   # 乘法: 顯示 \"10\"\n",
    "print(x / 2)   # 除法: 顯示 \"2.5\"\n",
    "print(x // 2)  # 整數除法: 顯示 \"2\"\n",
    "print(x % 2)   # 餘數: 顯示 \"2\"\n",
    "print(x ** 2)  # 指數: 顯示 \"25\"\n",
    "x += 1\n",
    "print(x)  # 顯示 \"6\"\n",
    "x *= 2\n",
    "print(x)  # 顯示 \"12\"\n",
    "\n"
   ]
  },
  {
   "cell_type": "markdown",
   "id": "e0085eb3",
   "metadata": {},
   "source": [
    "### `ch02\\ch2-2-4a.py`"
   ]
  },
  {
   "cell_type": "code",
   "execution_count": 8,
   "id": "1f91711c",
   "metadata": {},
   "outputs": [
    {
     "name": "stdout",
     "output_type": "stream",
     "text": [
      "<class 'float'>\n",
      "2.5 3.5 5.0 6.25\n"
     ]
    }
   ],
   "source": [
    "y = 2.5\n",
    "print(type(y)) # 顯示 \"<class 'float'>\"\n",
    "print(y, y + 1, y * 2, y ** 2) # 顯示 \"2.5 3.5 5.0 6.25\"\n",
    "\n"
   ]
  },
  {
   "cell_type": "markdown",
   "id": "809dc3d5",
   "metadata": {},
   "source": [
    "### `ch02\\ch2-2-4b.py`"
   ]
  },
  {
   "cell_type": "code",
   "execution_count": 9,
   "id": "07f9df92",
   "metadata": {},
   "outputs": [
    {
     "name": "stdout",
     "output_type": "stream",
     "text": [
      "<class 'bool'>\n",
      "False\n",
      "True\n",
      "False\n"
     ]
    }
   ],
   "source": [
    "a = True\n",
    "b = False\n",
    "print(type(a)) # 顯示 \"<class 'bool'>\"\n",
    "print(a and b) # 邏輯AND: 顯示 \"False\"\n",
    "print(a or b)  # 邏輯OR: 顯示\"True\"\n",
    "print(not a)   # 邏輯NOT: 顯示 \"False\"\n",
    "\n",
    "\n"
   ]
  },
  {
   "cell_type": "markdown",
   "id": "be7c9f72",
   "metadata": {},
   "source": [
    "### `ch02\\ch2-2-4c.py`"
   ]
  },
  {
   "cell_type": "code",
   "execution_count": 10,
   "id": "698b039a",
   "metadata": {},
   "outputs": [
    {
     "name": "stdout",
     "output_type": "stream",
     "text": [
      "False\n",
      "True\n",
      "False\n",
      "False\n",
      "True\n",
      "True\n"
     ]
    }
   ],
   "source": [
    "a = 3\n",
    "b = 4\n",
    "print(a == b)  # 相等: 顯示 \"False\"\n",
    "print(a != b)  # 不等: 顯示 \"True\"\n",
    "print(a > b)   # 大於: 顯示 \"False\"\n",
    "print(a >= b)  # 大於等於: 顯示 \"False\"\n",
    "print(a < b)   # 小於: 顯示 \"True\"\n",
    "print(a <= b)  # 小於等於: 顯示 \"True\"\n",
    "\n",
    "\n"
   ]
  },
  {
   "cell_type": "markdown",
   "id": "2af1b291",
   "metadata": {},
   "source": [
    "### `ch02\\ch2-2-4d.py`"
   ]
  },
  {
   "cell_type": "code",
   "execution_count": 11,
   "id": "43a9ac88",
   "metadata": {},
   "outputs": [
    {
     "name": "stdout",
     "output_type": "stream",
     "text": [
      "hello\n",
      "5\n",
      "hello python\n",
      "hello python 12\n"
     ]
    }
   ],
   "source": [
    "str1 = 'hello'     # 使用單引號建立字串\n",
    "str2 = \"python\"    # 使用雙引號建立字串\n",
    "print(str1)        # 顯示 \"hello\"\n",
    "print(len(str1))   # 字串長度: 顯示 \"5\"\n",
    "str3 = str1 + ' ' + str2  # 字串連接\n",
    "print(str3)        # 顯示 \"hello python\"\n",
    "str4 = '%s %s %d' % (str1, str2, 12)  # 格式化字串\n",
    "print(str4)        # 顯示 \"hello python 12\"\n",
    "\n",
    "\n"
   ]
  },
  {
   "cell_type": "markdown",
   "id": "c4d58b74",
   "metadata": {},
   "source": [
    "### `ch02\\ch2-2-4e.py`"
   ]
  },
  {
   "cell_type": "code",
   "execution_count": 12,
   "id": "06c32b74",
   "metadata": {},
   "outputs": [
    {
     "name": "stdout",
     "output_type": "stream",
     "text": [
      "Hello\n",
      "HELLO\n",
      "  hello\n",
      " hello \n",
      "heLLo\n",
      "python\n"
     ]
    }
   ],
   "source": [
    "s = \"hello\"\n",
    "print(s.capitalize())  # 第1個字元大寫: 顯示 \"Hello\"\n",
    "print(s.upper())       # 轉成大寫: 顯示 \"HELLO\"\n",
    "print(s.rjust(7))      # 右邊填空白字元: 顯示 \"  hello\"\n",
    "print(s.center(7))     # 置中顯示: 顯示 \" hello \"\n",
    "print(s.replace('l', 'L'))  # 取代字串: 顯示 \"heLLo\"\n",
    "print('  python '.strip())  # 刪除空白字元: 顯示 \"python\"\n",
    "\n",
    "\n"
   ]
  },
  {
   "cell_type": "markdown",
   "id": "1267bb7d",
   "metadata": {},
   "source": [
    "### `ch02\\ch2-3-1.py`"
   ]
  },
  {
   "cell_type": "code",
   "execution_count": 13,
   "id": "d321146b",
   "metadata": {},
   "outputs": [
    {
     "name": "stdout",
     "output_type": "stream",
     "text": [
      "請輸入氣溫 =>  50\n"
     ]
    },
    {
     "name": "stdout",
     "output_type": "stream",
     "text": [
      "今天氣溫 = 50\n"
     ]
    }
   ],
   "source": [
    "t = int(input(\"請輸入氣溫 => \"))\n",
    "if t < 20:\n",
    "    print(\"加件外套!\")\n",
    "print(\"今天氣溫 = \" + str(t))\n",
    "\n",
    "\n"
   ]
  },
  {
   "cell_type": "markdown",
   "id": "4f586dc9",
   "metadata": {},
   "source": [
    "### `ch02\\ch2-3-1a.py`"
   ]
  },
  {
   "cell_type": "code",
   "execution_count": 14,
   "id": "b15607e4",
   "metadata": {},
   "outputs": [
    {
     "name": "stdout",
     "output_type": "stream",
     "text": [
      "請輸入成績 =>  50\n"
     ]
    },
    {
     "name": "stdout",
     "output_type": "stream",
     "text": [
      "成績不及格!\n"
     ]
    }
   ],
   "source": [
    "s = int(input(\"請輸入成績 => \"))\n",
    "if s >= 60:\n",
    "    print(\"成績及格!\")\n",
    "else:\n",
    "    print(\"成績不及格!\")\n",
    "\n",
    "\n",
    "\n"
   ]
  },
  {
   "cell_type": "markdown",
   "id": "26c8f836",
   "metadata": {},
   "source": [
    "### `ch02\\ch2-3-1b.py`"
   ]
  },
  {
   "cell_type": "code",
   "execution_count": 15,
   "id": "ba37e6a2",
   "metadata": {},
   "outputs": [
    {
     "name": "stdout",
     "output_type": "stream",
     "text": [
      "請輸入年齡 =>  50\n"
     ]
    },
    {
     "name": "stdout",
     "output_type": "stream",
     "text": [
      "成年人\n"
     ]
    }
   ],
   "source": [
    "a = int(input(\"請輸入年齡 => \"))\n",
    "if a < 13:\n",
    "    print(\"兒童\")\n",
    "elif a < 20:\n",
    "    print(\"青少年\")\n",
    "else:\n",
    "    print(\"成年人\")\n",
    "\n",
    "\n",
    "\n"
   ]
  },
  {
   "cell_type": "markdown",
   "id": "c0eae203",
   "metadata": {},
   "source": [
    "### `ch02\\ch2-3-1c.py`"
   ]
  },
  {
   "cell_type": "code",
   "execution_count": 16,
   "id": "0e2f10dd",
   "metadata": {},
   "outputs": [
    {
     "name": "stdout",
     "output_type": "stream",
     "text": [
      "輸入24小時制的小時數 =>  50\n"
     ]
    },
    {
     "name": "stdout",
     "output_type": "stream",
     "text": [
      "目前時間為 = 38\n"
     ]
    }
   ],
   "source": [
    "h = int(input(\"輸入24小時制的小時數 => \"))\n",
    "h = h-12 if h >= 12 else h\n",
    "print(\"目前時間為 =\", h)\n",
    "\n",
    "\n"
   ]
  },
  {
   "cell_type": "markdown",
   "id": "687d1c9a",
   "metadata": {},
   "source": [
    "### `ch02\\ch2-3-2.py`"
   ]
  },
  {
   "cell_type": "code",
   "execution_count": 17,
   "id": "255f300a",
   "metadata": {},
   "outputs": [
    {
     "name": "stdout",
     "output_type": "stream",
     "text": [
      "請輸入最大值 => 50\n"
     ]
    },
    {
     "name": "stdout",
     "output_type": "stream",
     "text": [
      "總和 = 1275\n"
     ]
    }
   ],
   "source": [
    "m = int(input(\"請輸入最大值 =>\"))\n",
    "s = 0\n",
    "for i in range(1, m + 1):\n",
    "    s = s + i\n",
    "print(\"總和 = \" + str(s))\n",
    "\n",
    "\n",
    "\n"
   ]
  },
  {
   "cell_type": "markdown",
   "id": "10af771f",
   "metadata": {},
   "source": [
    "### `ch02\\ch2-3-2a.py`"
   ]
  },
  {
   "cell_type": "code",
   "execution_count": 18,
   "id": "23038f38",
   "metadata": {},
   "outputs": [
    {
     "name": "stdout",
     "output_type": "stream",
     "text": [
      "range(5)的值 = 0\n",
      "range(5)的值 = 1\n",
      "range(5)的值 = 2\n",
      "range(5)的值 = 3\n",
      "range(5)的值 = 4\n",
      "range(10)的值 = 0\n",
      "range(10)的值 = 1\n",
      "range(10)的值 = 2\n",
      "range(10)的值 = 3\n",
      "range(10)的值 = 4\n",
      "range(10)的值 = 5\n",
      "range(10)的值 = 6\n",
      "range(10)的值 = 7\n",
      "range(10)的值 = 8\n",
      "range(10)的值 = 9\n",
      "range(11)的值 = 0\n",
      "range(11)的值 = 1\n",
      "range(11)的值 = 2\n",
      "range(11)的值 = 3\n",
      "range(11)的值 = 4\n",
      "range(11)的值 = 5\n",
      "range(11)的值 = 6\n",
      "range(11)的值 = 7\n",
      "range(11)的值 = 8\n",
      "range(11)的值 = 9\n",
      "range(11)的值 = 10\n",
      "range(1,5)的值 = 1\n",
      "range(1,5)的值 = 2\n",
      "range(1,5)的值 = 3\n",
      "range(1,5)的值 = 4\n",
      "range(1,10)的值 = 1\n",
      "range(1,10)的值 = 2\n",
      "range(1,10)的值 = 3\n",
      "range(1,10)的值 = 4\n",
      "range(1,10)的值 = 5\n",
      "range(1,10)的值 = 6\n",
      "range(1,10)的值 = 7\n",
      "range(1,10)的值 = 8\n",
      "range(1,10)的值 = 9\n",
      "range(1,11)的值 = 1\n",
      "range(1,11)的值 = 2\n",
      "range(1,11)的值 = 3\n",
      "range(1,11)的值 = 4\n",
      "range(1,11)的值 = 5\n",
      "range(1,11)的值 = 6\n",
      "range(1,11)的值 = 7\n",
      "range(1,11)的值 = 8\n",
      "range(1,11)的值 = 9\n",
      "range(1,11)的值 = 10\n",
      "range(1,11,2)的值 = 1\n",
      "range(1,11,2)的值 = 3\n",
      "range(1,11,2)的值 = 5\n",
      "range(1,11,2)的值 = 7\n",
      "range(1,11,2)的值 = 9\n",
      "range(1,11,3)的值 = 1\n",
      "range(1,11,3)的值 = 4\n",
      "range(1,11,3)的值 = 7\n",
      "range(1,11,3)的值 = 10\n",
      "range(1,11,4)的值 = 1\n",
      "range(1,11,4)的值 = 5\n",
      "range(1,11,4)的值 = 9\n",
      "range(0,-10,-1)的值 = 0\n",
      "range(0,-10,-1)的值 = -1\n",
      "range(0,-10,-1)的值 = -2\n",
      "range(0,-10,-1)的值 = -3\n",
      "range(0,-10,-1)的值 = -4\n",
      "range(0,-10,-1)的值 = -5\n",
      "range(0,-10,-1)的值 = -6\n",
      "range(0,-10,-1)的值 = -7\n",
      "range(0,-10,-1)的值 = -8\n",
      "range(0,-10,-1)的值 = -9\n",
      "range(0,-10,-2)的值 = 0\n",
      "range(0,-10,-2)的值 = -2\n",
      "range(0,-10,-2)的值 = -4\n",
      "range(0,-10,-2)的值 = -6\n",
      "range(0,-10,-2)的值 = -8\n"
     ]
    }
   ],
   "source": [
    "# 擁有1個參數的range()函數\n",
    "for i in range(5):\n",
    "    print(\"range(5)的值 = \" + str(i))\n",
    "for i in range(10):\n",
    "    print(\"range(10)的值 = \" + str(i))\n",
    "for i in range(11):\n",
    "    print(\"range(11)的值 = \" + str(i))\n",
    "# 擁有2個參數的range()函數\n",
    "for i in range(1, 5):\n",
    "    print(\"range(1,5)的值 = \" + str(i))\n",
    "for i in range(1, 10):\n",
    "    print(\"range(1,10)的值 = \" + str(i))\n",
    "for i in range(1, 11):\n",
    "    print(\"range(1,11)的值 = \" + str(i))\n",
    "# 擁有3個參數的range()函數\n",
    "for i in range(1, 11, 2):\n",
    "    print(\"range(1,11,2)的值 = \" + str(i))\n",
    "for i in range(1, 11, 3):\n",
    "    print(\"range(1,11,3)的值 = \" + str(i))\n",
    "for i in range(1, 11, 4):\n",
    "    print(\"range(1,11,4)的值 = \" + str(i))\n",
    "for i in range(0, -10, -1):\n",
    "    print(\"range(0,-10,-1)的值 = \" + str(i))\n",
    "for i in range(0, -10, -2):\n",
    "    print(\"range(0,-10,-2)的值 = \" + str(i))\n",
    "    \n",
    "    \n",
    "    \n",
    "    \n",
    "    \n",
    "    \n",
    "\n",
    "\n",
    "\n",
    "\n",
    "\n"
   ]
  },
  {
   "cell_type": "markdown",
   "id": "09f1a9cc",
   "metadata": {},
   "source": [
    "### `ch02\\ch2-3-2b.py`"
   ]
  },
  {
   "cell_type": "code",
   "execution_count": 19,
   "id": "c399c23d",
   "metadata": {},
   "outputs": [
    {
     "ename": "KeyboardInterrupt",
     "evalue": "Interrupted by user",
     "output_type": "error",
     "traceback": [
      "\u001b[1;31m---------------------------------------------------------------------------\u001b[0m",
      "\u001b[1;31mKeyboardInterrupt\u001b[0m                         Traceback (most recent call last)",
      "\u001b[1;32m~\\AppData\\Local\\Temp\\ipykernel_2804\\2411921122.py\u001b[0m in \u001b[0;36m<module>\u001b[1;34m\u001b[0m\n\u001b[1;32m----> 1\u001b[1;33m \u001b[0mm\u001b[0m \u001b[1;33m=\u001b[0m \u001b[0mint\u001b[0m\u001b[1;33m(\u001b[0m\u001b[0minput\u001b[0m\u001b[1;33m(\u001b[0m\u001b[1;34m\"請輸入階層數 =>\"\u001b[0m\u001b[1;33m)\u001b[0m\u001b[1;33m)\u001b[0m\u001b[1;33m\u001b[0m\u001b[1;33m\u001b[0m\u001b[0m\n\u001b[0m\u001b[0;32m      2\u001b[0m \u001b[0mr\u001b[0m \u001b[1;33m=\u001b[0m \u001b[1;36m1\u001b[0m\u001b[1;33m\u001b[0m\u001b[1;33m\u001b[0m\u001b[0m\n\u001b[0;32m      3\u001b[0m \u001b[0mn\u001b[0m \u001b[1;33m=\u001b[0m \u001b[1;36m1\u001b[0m\u001b[1;33m\u001b[0m\u001b[1;33m\u001b[0m\u001b[0m\n\u001b[0;32m      4\u001b[0m \u001b[1;32mwhile\u001b[0m \u001b[0mn\u001b[0m \u001b[1;33m<=\u001b[0m \u001b[0mm\u001b[0m\u001b[1;33m:\u001b[0m\u001b[1;33m\u001b[0m\u001b[1;33m\u001b[0m\u001b[0m\n\u001b[0;32m      5\u001b[0m     \u001b[0mr\u001b[0m \u001b[1;33m=\u001b[0m \u001b[0mr\u001b[0m \u001b[1;33m*\u001b[0m \u001b[0mn\u001b[0m\u001b[1;33m\u001b[0m\u001b[1;33m\u001b[0m\u001b[0m\n",
      "\u001b[1;32m~\\anaconda3\\envs\\Lab1\\lib\\site-packages\\ipykernel\\kernelbase.py\u001b[0m in \u001b[0;36mraw_input\u001b[1;34m(self, prompt)\u001b[0m\n\u001b[0;32m   1280\u001b[0m             \u001b[0mmsg\u001b[0m \u001b[1;33m=\u001b[0m \u001b[1;34m\"raw_input was called, but this frontend does not support input requests.\"\u001b[0m\u001b[1;33m\u001b[0m\u001b[1;33m\u001b[0m\u001b[0m\n\u001b[0;32m   1281\u001b[0m             \u001b[1;32mraise\u001b[0m \u001b[0mStdinNotImplementedError\u001b[0m\u001b[1;33m(\u001b[0m\u001b[0mmsg\u001b[0m\u001b[1;33m)\u001b[0m\u001b[1;33m\u001b[0m\u001b[1;33m\u001b[0m\u001b[0m\n\u001b[1;32m-> 1282\u001b[1;33m         return self._input_request(\n\u001b[0m\u001b[0;32m   1283\u001b[0m             \u001b[0mstr\u001b[0m\u001b[1;33m(\u001b[0m\u001b[0mprompt\u001b[0m\u001b[1;33m)\u001b[0m\u001b[1;33m,\u001b[0m\u001b[1;33m\u001b[0m\u001b[1;33m\u001b[0m\u001b[0m\n\u001b[0;32m   1284\u001b[0m             \u001b[0mself\u001b[0m\u001b[1;33m.\u001b[0m\u001b[0m_parent_ident\u001b[0m\u001b[1;33m[\u001b[0m\u001b[1;34m\"shell\"\u001b[0m\u001b[1;33m]\u001b[0m\u001b[1;33m,\u001b[0m\u001b[1;33m\u001b[0m\u001b[1;33m\u001b[0m\u001b[0m\n",
      "\u001b[1;32m~\\anaconda3\\envs\\Lab1\\lib\\site-packages\\ipykernel\\kernelbase.py\u001b[0m in \u001b[0;36m_input_request\u001b[1;34m(self, prompt, ident, parent, password)\u001b[0m\n\u001b[0;32m   1323\u001b[0m                 \u001b[1;31m# re-raise KeyboardInterrupt, to truncate traceback\u001b[0m\u001b[1;33m\u001b[0m\u001b[1;33m\u001b[0m\u001b[0m\n\u001b[0;32m   1324\u001b[0m                 \u001b[0mmsg\u001b[0m \u001b[1;33m=\u001b[0m \u001b[1;34m\"Interrupted by user\"\u001b[0m\u001b[1;33m\u001b[0m\u001b[1;33m\u001b[0m\u001b[0m\n\u001b[1;32m-> 1325\u001b[1;33m                 \u001b[1;32mraise\u001b[0m \u001b[0mKeyboardInterrupt\u001b[0m\u001b[1;33m(\u001b[0m\u001b[0mmsg\u001b[0m\u001b[1;33m)\u001b[0m \u001b[1;32mfrom\u001b[0m \u001b[1;32mNone\u001b[0m\u001b[1;33m\u001b[0m\u001b[1;33m\u001b[0m\u001b[0m\n\u001b[0m\u001b[0;32m   1326\u001b[0m             \u001b[1;32mexcept\u001b[0m \u001b[0mException\u001b[0m\u001b[1;33m:\u001b[0m\u001b[1;33m\u001b[0m\u001b[1;33m\u001b[0m\u001b[0m\n\u001b[0;32m   1327\u001b[0m                 \u001b[0mself\u001b[0m\u001b[1;33m.\u001b[0m\u001b[0mlog\u001b[0m\u001b[1;33m.\u001b[0m\u001b[0mwarning\u001b[0m\u001b[1;33m(\u001b[0m\u001b[1;34m\"Invalid Message:\"\u001b[0m\u001b[1;33m,\u001b[0m \u001b[0mexc_info\u001b[0m\u001b[1;33m=\u001b[0m\u001b[1;32mTrue\u001b[0m\u001b[1;33m)\u001b[0m\u001b[1;33m\u001b[0m\u001b[1;33m\u001b[0m\u001b[0m\n",
      "\u001b[1;31mKeyboardInterrupt\u001b[0m: Interrupted by user"
     ]
    }
   ],
   "source": [
    "m = int(input(\"請輸入階層數 =>\"))\n",
    "r = 1\n",
    "n = 1\n",
    "while n <= m:\n",
    "    r = r * n\n",
    "    n = n + 1\n",
    "print(\"階層值! = \" + str(r))\n",
    "\n",
    "\n",
    "\n"
   ]
  },
  {
   "cell_type": "markdown",
   "id": "c84876fc",
   "metadata": {},
   "source": [
    "### `ch02\\ch2-3-2c.py`"
   ]
  },
  {
   "cell_type": "code",
   "execution_count": null,
   "id": "8f840e58",
   "metadata": {},
   "outputs": [],
   "source": [
    "i = 1\n",
    "  \n",
    "while True:\n",
    "    print(\"第\", i, \"次\")\n",
    "    i = i + 1\n",
    "    if i > 5:\n",
    "        break    # 跳出迴圈\n"
   ]
  },
  {
   "cell_type": "markdown",
   "id": "57709290",
   "metadata": {},
   "source": [
    "### `ch02\\ch2-3-2d.py`"
   ]
  },
  {
   "cell_type": "code",
   "execution_count": null,
   "id": "bdcdeb83",
   "metadata": {},
   "outputs": [],
   "source": [
    "i = 1\n",
    "\n",
    "for i in range(1, 11):\n",
    "    if i % 2 == 1:\n",
    "        continue    # 繼續迴圈\n",
    "    print(\"偶數:\", i)\n"
   ]
  },
  {
   "cell_type": "markdown",
   "id": "19925ac0",
   "metadata": {},
   "source": [
    "### `ch02\\ch2-4-1.py`"
   ]
  },
  {
   "cell_type": "code",
   "execution_count": null,
   "id": "83e21815",
   "metadata": {},
   "outputs": [],
   "source": [
    "# 定義函數\n",
    "def print_msg():\n",
    "    print(\"歡迎學習Python程式設計!\")\n",
    "\n",
    "def is_valid_num(no):\n",
    "    if no >= 0 and no <= 200.0:\n",
    "        return True\n",
    "    else:\n",
    "        return False\n",
    "\n",
    "def convert_to_f(c):\n",
    "    f = (9.0 * c) / 5.0 + 32.0\n",
    "    return f\n",
    "# 函數呼叫\n",
    "print_msg()\n",
    "c = 100\n",
    "f = convert_to_f(c)\n",
    "print(\"華氏: \" + str(f))\n",
    "if is_valid_num(c):\n",
    "    print(\"合法!\")\n",
    "else:\n",
    "    print(\"不合法\")\n"
   ]
  },
  {
   "cell_type": "markdown",
   "id": "08b795b7",
   "metadata": {},
   "source": [
    "### `ch02\\ch2-4-2.py`"
   ]
  },
  {
   "cell_type": "code",
   "execution_count": null,
   "id": "85c43a6a",
   "metadata": {},
   "outputs": [],
   "source": [
    "import random\n",
    "\n",
    "target = random.randint(1, 100)\n",
    "print(\"1~100亂數值: \" + str(target))\n",
    "\n"
   ]
  },
  {
   "cell_type": "markdown",
   "id": "a742af68",
   "metadata": {},
   "source": [
    "### `ch02\\ch2-4-2a.py`"
   ]
  },
  {
   "cell_type": "code",
   "execution_count": null,
   "id": "66d0f3a8",
   "metadata": {},
   "outputs": [],
   "source": [
    "import random as R\n",
    "\n",
    "target = R.randint(1, 100)\n",
    "print(\"1~100亂數值: \" + str(target))\n",
    "\n"
   ]
  },
  {
   "cell_type": "markdown",
   "id": "87d237c9",
   "metadata": {},
   "source": [
    "### `ch02\\ch2-4-2b.py`"
   ]
  },
  {
   "cell_type": "code",
   "execution_count": null,
   "id": "106c1d6f",
   "metadata": {},
   "outputs": [],
   "source": [
    "from bs4 import BeautifulSoup\n",
    "\n",
    "html_str = \"<p>Hello World!</p>\"\n",
    "soup = BeautifulSoup(html_str, \"lxml\")\n",
    "print(soup)\n",
    "\n",
    "\n"
   ]
  },
  {
   "cell_type": "markdown",
   "id": "d1ba93f4",
   "metadata": {},
   "source": [
    "### `ch02\\ch2-4-3.py`"
   ]
  },
  {
   "cell_type": "code",
   "execution_count": null,
   "id": "e46ac4ae",
   "metadata": {},
   "outputs": [],
   "source": [
    "try: \n",
    "    fp = open(\"myfile.txt\", \"r\")\n",
    "    print(fp.read())\n",
    "    fp.close()\n",
    "except FileNotFoundError:\n",
    "    print(\"錯誤: myfile.txt檔案不存在!\")\n",
    "\n",
    "\n",
    "\n"
   ]
  },
  {
   "cell_type": "markdown",
   "id": "2a82a447",
   "metadata": {},
   "source": [
    "### `ch02\\ch2-5-1.py`"
   ]
  },
  {
   "cell_type": "code",
   "execution_count": null,
   "id": "c1b74518",
   "metadata": {},
   "outputs": [],
   "source": [
    "ls = [6, 4, 5]    # 建立清單\n",
    "print(ls, ls[2])  # 顯示 \"[6, 4, 5] 5\"\n",
    "print(ls[-1])     # 負索引從最後開始: 顯示 \"5\"\n",
    "ls[2] = \"py\"      # 指定字串型態的項目\n",
    "print(ls)         # 顯示 \"[6, 4, 'py']\"\n",
    "ls.append(\"bar\")  # 新增項目\n",
    "print(ls)         # 顯示 \"[6, 4, 'py', 'bar']\"\n",
    "ele = ls.pop()    # 取出最後項目\n",
    "print(ele, ls)    # 顯示 \"bar [6, 4, 'py']\"\n",
    "\n",
    "\n"
   ]
  },
  {
   "cell_type": "markdown",
   "id": "35e608c7",
   "metadata": {},
   "source": [
    "### `ch02\\ch2-5-1a.py`"
   ]
  },
  {
   "cell_type": "code",
   "execution_count": null,
   "id": "89eb51d7",
   "metadata": {},
   "outputs": [],
   "source": [
    "nums = list(range(5))  # 建立一序列的整數清單\n",
    "print(nums)            # 顯示 \"[0, 1, 2, 3, 4]\"\n",
    "print(nums[2:4])       # 切割索引2~4(不含4): 顯示 \"[2, 3]\"\n",
    "print(nums[2:])        # 切割索引從2至最後: 顯示 \"[2, 3, 4]\"\n",
    "print(nums[:2])        # 切割從開始至索引2(不含2): 顯示 \"[0, 1]\"\n",
    "print(nums[:])         # 切割整個清單: 顯示 \"[0, 1, 2, 3, 4]\"\n",
    "print(nums[:-1])       # 使用負索引切割: 顯示 \"[0, 1, 2, 3]\"\n",
    "nums[2:4] = [7, 8]     # 使用切割來指定子清單\n",
    "print(nums)            # 顯示 \"[0, 1, 8, 9, 4]\"\n",
    "\n",
    "\n"
   ]
  },
  {
   "cell_type": "markdown",
   "id": "cb00c9d9",
   "metadata": {},
   "source": [
    "### `ch02\\ch2-5-1b.py`"
   ]
  },
  {
   "cell_type": "code",
   "execution_count": null,
   "id": "e9581e70",
   "metadata": {},
   "outputs": [],
   "source": [
    "print(\"走訪顯示串列的每一個項目...\")\n",
    "animals = ['cat', 'dog', 'bat']\n",
    "for animal in animals:\n",
    "    print(animal)\n",
    "\n",
    "print(\"走訪顯示串列的每一個項目和索引值...\")\n",
    "animals = ['cat', 'dog', 'bat']\n",
    "for index, animal in enumerate(animals):\n",
    "    print(index, animal)\n",
    "\n"
   ]
  },
  {
   "cell_type": "markdown",
   "id": "0929a72c",
   "metadata": {},
   "source": [
    "### `ch02\\ch2-5-1c.py`"
   ]
  },
  {
   "cell_type": "code",
   "execution_count": null,
   "id": "2f3bcb05",
   "metadata": {},
   "outputs": [],
   "source": [
    "list1 = [x for x in range(10)]\n",
    "print(\"[x for x in range(10)]\")\n",
    "print(str(list1))\n",
    "list2 = [x+1 for x in range(10)]\n",
    "print(\"[x+1 for x in range(10)]\")\n",
    "print(str(list2))\n",
    "list3 = [x for x in range(10) if x % 2 == 0]\n",
    "print(\"[x for x in range(10) if x%2==0]\")\n",
    "print(str(list3))\n",
    "list4 = [x*2 for x in range(10) if x % 2 == 0]\n",
    "print(\"[x*2 for x in range(10) if x%2==0]\")\n",
    "print(str(list4))\n",
    "\n",
    "\n"
   ]
  },
  {
   "cell_type": "markdown",
   "id": "5ad66f87",
   "metadata": {},
   "source": [
    "### `ch02\\ch2-5-2.py`"
   ]
  },
  {
   "cell_type": "code",
   "execution_count": null,
   "id": "dacd37c3",
   "metadata": {},
   "outputs": [],
   "source": [
    "d = {\"cat\": \"white\", \"dog\": \"black\"}  # 建立字典\n",
    "print(d[\"cat\"])       # 使用Key取得項目: 顯示 \"white\"\n",
    "print(\"cat\" in d)     # 是否有Key: 顯示 \"True\"\n",
    "d[\"pig\"] = \"pink\"     # 新增項目\n",
    "print(d[\"pig\"])       # 顯示 \"pink\"\n",
    "print(d.get(\"monkey\", \"N/A\"))  # 取出項目+預設值: 顯示 \"N/A\"\n",
    "print(d.get(\"pig\", \"N/A\"))     # 取出項目+預設值: 顯示 \"pink\"\n",
    "del d[\"pig\"]          # 使用Key刪除項目\n",
    "print(d.get(\"pig\", \"N/A\"))     # \"pig\"不存在: 顯示 \"N/A\"\n",
    "\n"
   ]
  },
  {
   "cell_type": "markdown",
   "id": "3f8f81ad",
   "metadata": {},
   "source": [
    "### `ch02\\ch2-5-2a.py`"
   ]
  },
  {
   "cell_type": "code",
   "execution_count": null,
   "id": "bad66dab",
   "metadata": {},
   "outputs": [],
   "source": [
    "print(\"以鍵來走訪字典...\")\n",
    "d = {\"chicken\": 2, \"dog\": 4, \"cat\": 4, \"spider\": 8}\n",
    "for animal in d:\n",
    "    legs = d[animal]\n",
    "    print(animal, legs)\n",
    "print(\"走訪字典的鍵和值...\")\n",
    "d = {\"chicken\": 2, \"dog\": 4, \"cat\": 4, \"spider\": 8}\n",
    "for animal, legs in d.items():\n",
    "    print(\"動物: %s 有 %d 隻腳\" % (animal, legs))"
   ]
  },
  {
   "cell_type": "markdown",
   "id": "0106338a",
   "metadata": {},
   "source": [
    "### `ch02\\ch2-5-2b.py`"
   ]
  },
  {
   "cell_type": "code",
   "execution_count": null,
   "id": "3ce1e7ac",
   "metadata": {},
   "outputs": [],
   "source": [
    "d1 = {x:x*x for x in range(10)}\n",
    "print(\"{x:x*x for x in range(10)}\")\n",
    "print(str(d1))\n",
    "d2 = {x:x*x for x in range(10) if x % 2 == 1}\n",
    "print(\"{x:x*x for x in range(11) if x%2==1}\")\n",
    "print(str(d2))\n",
    "\n",
    "\n"
   ]
  },
  {
   "cell_type": "markdown",
   "id": "df0d30da",
   "metadata": {},
   "source": [
    "### `ch02\\ch2-5-3.py`"
   ]
  },
  {
   "cell_type": "code",
   "execution_count": null,
   "id": "7b45ea28",
   "metadata": {},
   "outputs": [],
   "source": [
    "animals = {\"cat\", \"dog\", \"pig\"} # 建立集合\n",
    "print(\"cat\" in animals)   # 檢查是否有此元素: 顯示 \"True\"\n",
    "print(\"fish\" in animals)  # 顯示 \"False\"\n",
    "animals.add(\"fish\")       # 新增集合元素\n",
    "print(\"fish\" in animals)  # 顯示 \"True\"\n",
    "print(len(animals))       # 元素數: 顯示 \"4\"\n",
    "animals.add(\"cat\")        # 新增存在的元素\n",
    "print(len(animals))       # 顯示 \"4\"\n",
    "animals.remove('cat')     # 刪除集合元素\n",
    "print(len(animals))       # 顯示 \"3\"\n",
    "\n",
    "\n"
   ]
  },
  {
   "cell_type": "markdown",
   "id": "f41a00b4",
   "metadata": {},
   "source": [
    "### `ch02\\ch2-5-3a.py`"
   ]
  },
  {
   "cell_type": "code",
   "execution_count": null,
   "id": "6419b1d8",
   "metadata": {},
   "outputs": [],
   "source": [
    "animals = {\"cat\", \"dog\", \"pig\", \"fish\"} # 建立集合\n",
    "for index, animal in enumerate(animals):\n",
    "    print('#%d: %s' % (index + 1, animal))\n",
    "\n",
    "\n",
    "\n"
   ]
  },
  {
   "cell_type": "markdown",
   "id": "b1a7edfa",
   "metadata": {},
   "source": [
    "### `ch02\\ch2-5-3b.py`"
   ]
  },
  {
   "cell_type": "code",
   "execution_count": null,
   "id": "6d30f1f6",
   "metadata": {},
   "outputs": [],
   "source": [
    "A = {1, 2, 3, 4, 5}\n",
    "B = {4, 5, 6, 7, 8}\n",
    "print(\"A = \" + str(A))\n",
    "print(\"B = \" + str(B))\n",
    "# 交集\n",
    "C = A & B\n",
    "print(\"A & B = \" + str(C))\n",
    "C = A.intersection(B)\n",
    "print(\"A.intersection(B) = \" + str(C))\n",
    "# 聯集\n",
    "C = A | B\n",
    "print(\"A | B = \" + str(C))\n",
    "C = A.union(B)\n",
    "print(\"A.union(B) = \" + str(C))\n",
    "# 差集\n",
    "C = A - B\n",
    "print(\"A - B = \" + str(C))\n",
    "C = A.difference(B)\n",
    "print(\"A.difference(B) = \" + str(C))\n",
    "# 對稱差集\n",
    "C = A ^ B\n",
    "print(\"A ^ B = \" + str(C))\n",
    "C = A.symmetric_difference(B)\n",
    "print(\"A.symmetric_difference(B) = \" + str(C))"
   ]
  },
  {
   "cell_type": "markdown",
   "id": "b7f6621e",
   "metadata": {},
   "source": [
    "### `ch02\\ch2-5-4.py`"
   ]
  },
  {
   "cell_type": "code",
   "execution_count": null,
   "id": "157ebfbf",
   "metadata": {},
   "outputs": [],
   "source": [
    "t = (5, 6, 7, 8)  # 建立元組\n",
    "print(type(t))    # 顯示 \"<class 'tuple'>\"\n",
    "print(t)          # 顯示 \"(5, 6, 7, 8)\"\n",
    "print(t[0])       # 顯示 \"5\"\n",
    "print(t[1])       # 顯示 \"6\"\n",
    "print(t[-1])      # 顯示 \"8\"\n",
    "print(t[-2])      # 顯示 \"7\"\n",
    "for ele in t:     # 走訪項目\n",
    "    print(ele, end=\" \")  # 顯示 \"5, 6, 7, 8\"\n",
    "\n",
    "\n"
   ]
  },
  {
   "cell_type": "markdown",
   "id": "7261f0a0",
   "metadata": {},
   "source": [
    "### `ch02\\ch2-6-1.py`"
   ]
  },
  {
   "cell_type": "code",
   "execution_count": null,
   "id": "9eaa2e74",
   "metadata": {},
   "outputs": [],
   "source": [
    "# 定義Student類別\n",
    "class Student:\n",
    "    # 建構子\n",
    "    def __init__(self, name, grade):\n",
    "        self.name = name\n",
    "        self.grade = grade\n",
    "    # 方法\n",
    "    def displayStudent(self):\n",
    "        print(\"姓名 = \" + self.name)\n",
    "        print(\"成績 = \" + str(self.grade))\n",
    "        \n",
    "    def whoami(self):\n",
    "        return self.name\n",
    "\n",
    "# 使用類別建立物件\n",
    "s1 = Student(\"陳會安\", 85)\n",
    "s1.displayStudent()  # 呼叫方法\n",
    "print(\"s1.whoami() = \" + s1.whoami())\n",
    "# 存取資料欄位\n",
    "print(\"s1.name = \" + s1.name)\n",
    "print(\"s1.grade = \" + str(s1.grade))\n"
   ]
  },
  {
   "cell_type": "markdown",
   "id": "2a59c67b",
   "metadata": {},
   "source": [
    "### `ch02\\ch2-6-2.py`"
   ]
  },
  {
   "cell_type": "code",
   "execution_count": null,
   "id": "73d49d15",
   "metadata": {},
   "outputs": [],
   "source": [
    "# 定義Student類別\n",
    "class Student:\n",
    "    # 建構子\n",
    "    def __init__(self, name, grade):\n",
    "        self.name = name\n",
    "        self.__grade = grade\n",
    "    # 方法\n",
    "    def displayStudent(self):\n",
    "        print(\"姓名 = \" + self.name)\n",
    "        print(\"成績 = \" + str(self.__getGrade()))\n",
    "        \n",
    "    def __getGrade(self):\n",
    "        return self.__grade\n",
    "\n",
    "# 使用類別建立物件\n",
    "s1 = Student(\"陳會安\", 85)\n",
    "s1.displayStudent()  # 呼叫方法\n",
    "# print(\"s1.__getGrade() = \" + str(s1.__getGrade()))\n",
    "# 存取資料欄位\n",
    "print(\"s1.name = \" + s1.name)\n",
    "# print(s1.__grade)"
   ]
  },
  {
   "cell_type": "markdown",
   "id": "0451cf43",
   "metadata": {},
   "source": [
    "### `ch03\\ch3-2-1.py`"
   ]
  },
  {
   "cell_type": "code",
   "execution_count": 1,
   "id": "48964f2c",
   "metadata": {},
   "outputs": [
    {
     "name": "stdout",
     "output_type": "stream",
     "text": [
      "200\n"
     ]
    }
   ],
   "source": [
    "import requests \n",
    "\n",
    "r = requests.get(\"http://www.google.com\")\n",
    "print(r.status_code)"
   ]
  },
  {
   "cell_type": "markdown",
   "id": "fda1091b",
   "metadata": {},
   "source": [
    "### `ch03\\ch3-2-1a.py`"
   ]
  },
  {
   "cell_type": "code",
   "execution_count": null,
   "id": "cf9e8ea7",
   "metadata": {},
   "outputs": [],
   "source": [
    "import requests \n",
    "\n",
    "r = requests.get(\"http://www.google.com\")\n",
    "if r.status_code == 200:\n",
    "    print(\"請求成功...\")\n",
    "else:\n",
    "    print(\"請求失敗...\")\n",
    "     "
   ]
  },
  {
   "cell_type": "markdown",
   "id": "89a50851",
   "metadata": {},
   "source": [
    "### `ch03\\ch3-2-1b.py`"
   ]
  },
  {
   "cell_type": "code",
   "execution_count": null,
   "id": "8ba2a1e2",
   "metadata": {},
   "outputs": [],
   "source": [
    "import requests \n",
    "\n",
    "url_params = {'name': '陳會安', 'score': 95}\n",
    "r = requests.get(\"http://httpbin.org/get\", params=url_params)\n",
    "print(r.url)"
   ]
  },
  {
   "cell_type": "markdown",
   "id": "e6b4cb9f",
   "metadata": {},
   "source": [
    "### `ch03\\ch3-2-1c.py`"
   ]
  },
  {
   "cell_type": "code",
   "execution_count": null,
   "id": "0512aab8-10df-4c3a-9b49-dc97279d3578",
   "metadata": {},
   "outputs": [],
   "source": []
  },
  {
   "cell_type": "code",
   "execution_count": null,
   "id": "b8247f39",
   "metadata": {},
   "outputs": [],
   "source": [
    "from urllib.parse import urlencode\n",
    "\n",
    "url_params = {'name': '陳會安', 'score': 95}\n",
    "print(urlencode(url_params))"
   ]
  },
  {
   "cell_type": "markdown",
   "id": "c11954d0",
   "metadata": {},
   "source": [
    "### `ch03\\ch3-2-1d.py`"
   ]
  },
  {
   "cell_type": "code",
   "execution_count": null,
   "id": "508c457f",
   "metadata": {},
   "outputs": [],
   "source": [
    "import requests \n",
    "\n",
    "data = {'name': '陳會安', 'score': 95}\n",
    "r = requests.get(\"http://httpbin.org/get\", params=data)\n",
    "print(r.text)"
   ]
  },
  {
   "cell_type": "markdown",
   "id": "13e7e041",
   "metadata": {},
   "source": [
    "### `ch03\\ch3-2-2.py`"
   ]
  },
  {
   "cell_type": "code",
   "execution_count": null,
   "id": "1a6ba941",
   "metadata": {},
   "outputs": [],
   "source": [
    "import requests \n",
    "\n",
    "post_data = {'name': '陳會安', 'score': 95}\n",
    "r = requests.post(\"http://httpbin.org/post\", data=post_data)\n",
    "print(r.text)"
   ]
  },
  {
   "cell_type": "markdown",
   "id": "ebc46120",
   "metadata": {},
   "source": [
    "### `ch03\\ch3-2-3.py`"
   ]
  },
  {
   "cell_type": "code",
   "execution_count": null,
   "id": "9e6bff63",
   "metadata": {},
   "outputs": [],
   "source": [
    "import requests\n",
    "\n",
    "url = \"https://www.googleapis.com/books/v1/volumes\"\n",
    "\n",
    "data = {'q': 'Python',\n",
    "        'maxResults': 5, \n",
    "        'projection': 'lite'}\n",
    "r = requests.get(url, params=data)\n",
    "print(r.json())"
   ]
  },
  {
   "cell_type": "markdown",
   "id": "0320ba23",
   "metadata": {},
   "source": [
    "### `ch03\\ch3-3-2.py`"
   ]
  },
  {
   "cell_type": "code",
   "execution_count": null,
   "id": "51d5c783",
   "metadata": {},
   "outputs": [],
   "source": [
    "import requests\n",
    "\n",
    "r = requests.get(\"https://fchart.github.io/test.html\")\n",
    "print(r.text)\n",
    "print(r.encoding)\n"
   ]
  },
  {
   "cell_type": "markdown",
   "id": "19748c22",
   "metadata": {},
   "source": [
    "### `ch03\\ch3-3-2a.py`"
   ]
  },
  {
   "cell_type": "code",
   "execution_count": null,
   "id": "304ac449",
   "metadata": {},
   "outputs": [],
   "source": [
    "import requests\n",
    "\n",
    "r = requests.get(\"https://fchart.github.io/test.html\")\n",
    "print(r.text)\n",
    "print(\"----------------------\")\n",
    "\n",
    "r = requests.get(\"https://fchart.github.io/test.html\")\n",
    "print(r.content)\n",
    "print(\"----------------------\")\n",
    "\n",
    "r = requests.get(\"https://fchart.github.io/test.html\", stream=True)\n",
    "print(r.raw)\n",
    "print(r.raw.read(15))\n",
    "\n"
   ]
  },
  {
   "cell_type": "markdown",
   "id": "754bb8e9",
   "metadata": {},
   "source": [
    "### `ch03\\ch3-3-2b.py`"
   ]
  },
  {
   "cell_type": "code",
   "execution_count": null,
   "id": "27d7c293",
   "metadata": {},
   "outputs": [],
   "source": [
    "import requests\n",
    "\n",
    "r = requests.get(\"https://fchart.github.io/json/Example.json\")\n",
    "print(r.text)\n",
    "print(type(r.text))\n",
    "print(\"----------------------\")\n",
    "print(r.json())\n",
    "print(type(r.json()))\n",
    "\n",
    "\n"
   ]
  },
  {
   "cell_type": "markdown",
   "id": "96eb69cb",
   "metadata": {},
   "source": [
    "### `ch03\\ch3-3-3.py`"
   ]
  },
  {
   "cell_type": "code",
   "execution_count": null,
   "id": "88b2ef77",
   "metadata": {},
   "outputs": [],
   "source": [
    "import requests \n",
    "\n",
    "r = requests.get(\"http://www.google.com\")\n",
    "print(r.status_code)\n",
    "print(r.status_code == requests.codes.ok)\n",
    "\n",
    "r = requests.get(\"http://www.google.com/404\")\n",
    "print(r.status_code)\n",
    "print(r.status_code == requests.codes.ok)\n",
    "\n",
    "r = requests.get(\"http://www.google.com\")\n",
    "print(r.status_code)\n",
    "print(r.status_code == requests.codes.all_good)"
   ]
  },
  {
   "cell_type": "markdown",
   "id": "ca96f761",
   "metadata": {},
   "source": [
    "### `ch03\\ch3-3-3a.py`"
   ]
  },
  {
   "cell_type": "code",
   "execution_count": null,
   "id": "1fd3c268",
   "metadata": {},
   "outputs": [],
   "source": [
    "import requests\n",
    "\n",
    "r = requests.get(\"http://www.google.com/404\")\n",
    "print(r.status_code)\n",
    "print(r.status_code == requests.codes.ok)\n",
    "\n",
    "print(r.raise_for_status())\n"
   ]
  },
  {
   "cell_type": "markdown",
   "id": "19977c1d",
   "metadata": {},
   "source": [
    "### `ch03\\ch3-3-4.py`"
   ]
  },
  {
   "cell_type": "code",
   "execution_count": null,
   "id": "4e013e12",
   "metadata": {},
   "outputs": [],
   "source": [
    "import requests \n",
    "\n",
    "r = requests.get(\"http://www.google.com\")\n",
    "\n",
    "print(r.headers['Content-Type'])\n",
    "print(r.headers['Content-Length'])\n",
    "print(r.headers['Date'])\n",
    "print(r.headers['Server'])"
   ]
  },
  {
   "cell_type": "markdown",
   "id": "9124d804",
   "metadata": {},
   "source": [
    "### `ch03\\ch3-3-4a.py`"
   ]
  },
  {
   "cell_type": "code",
   "execution_count": null,
   "id": "233c5627",
   "metadata": {},
   "outputs": [],
   "source": [
    "import requests \n",
    "\n",
    "r = requests.get(\"http://www.google.com\")\n",
    "\n",
    "print(r.headers.get('Content-Type'))\n",
    "print(r.headers.get('Content-Length'))\n",
    "print(r.headers.get('Date'))\n",
    "print(r.headers.get('Server'))"
   ]
  },
  {
   "cell_type": "markdown",
   "id": "a07fd5de",
   "metadata": {},
   "source": [
    "### `ch03\\ch3-4-1.py`"
   ]
  },
  {
   "cell_type": "code",
   "execution_count": 46,
   "id": "04fae31b",
   "metadata": {},
   "outputs": [
    {
     "name": "stdout",
     "output_type": "stream",
     "text": [
      "{\n",
      "  \"cookies\": {\n",
      "    \"name\": \"Joe Chen\"\n",
      "  }\n",
      "}\n",
      "\n"
     ]
    }
   ],
   "source": [
    "import requests\n",
    "\n",
    "url = \"http://httpbin.org/cookies\"\n",
    "\n",
    "cookies = dict(name='Joe Chen')\n",
    "r = requests.get(url, cookies=cookies)\n",
    "print(r.text)\n",
    "\n",
    "\n"
   ]
  },
  {
   "cell_type": "markdown",
   "id": "855eea0d",
   "metadata": {},
   "source": [
    "### `ch03\\ch3-4-1a.py`"
   ]
  },
  {
   "cell_type": "code",
   "execution_count": 47,
   "id": "1a5bf127",
   "metadata": {},
   "outputs": [
    {
     "name": "stdout",
     "output_type": "stream",
     "text": [
      "{'AEC': 'AVcja2ePQdEu5V3v-ZrMG3feBtYe_0Hbc2yoniXY57YzU7OK4sctkNNzxw', 'NID': '523=aC7zGrav-lDBETzl1Y6cG9zXKr0-eb-C4HskVyeAbyfXQcEzOWE2F0Wvc3w6PKv4xEwJKUstgU2i-dexMiOaTY-pkslqrzMlx01gwYxR33qtAT3dtVQRYrlYT8j5gcI3Sfymgr3Btzb0bASoBqEelc_qKYgqd5DoDL9T0vg4LyyedC_0lFLDTsbFX6JZhJ5jbvxyzGygAaR_gWT8RHMNfn-eGkBVauw8b4zViaMtYkniGg'}\n"
     ]
    }
   ],
   "source": [
    "import requests\n",
    "\n",
    "session = requests.Session()\n",
    "response = session.get(\"http://www.google.com\")\n",
    "v = session.cookies.get_dict()\n",
    "print(v)\n",
    "\n",
    "\n",
    "\n"
   ]
  },
  {
   "cell_type": "markdown",
   "id": "e6ca5d00",
   "metadata": {},
   "source": [
    "### `ch03\\ch3-4-2.py`"
   ]
  },
  {
   "cell_type": "code",
   "execution_count": 48,
   "id": "9c8a89e1",
   "metadata": {},
   "outputs": [
    {
     "name": "stdout",
     "output_type": "stream",
     "text": [
      "{\n",
      "  \"user-agent\": \"python-requests/2.32.3\"\n",
      "}\n",
      "\n",
      "----------------------\n",
      "{\n",
      "  \"user-agent\": \"Mozilla/5.0 (Windows NT 10.0; Win64; x64; rv:101.0) Gecko/20100101 Firefox/101.0\"\n",
      "}\n",
      "\n"
     ]
    }
   ],
   "source": [
    "import requests\n",
    "\n",
    "url = \"http://httpbin.org/user-agent\"\n",
    "\n",
    "r = requests.get(url)\n",
    "print(r.text)\n",
    "print(\"----------------------\")\n",
    "\n",
    "url_headers = {'user-agent': 'Mozilla/5.0 (Windows NT 10.0; Win64; x64; rv:101.0) Gecko/20100101 Firefox/101.0'}\n",
    "r = requests.get(url, headers=url_headers)\n",
    "print(r.text)\n"
   ]
  },
  {
   "cell_type": "markdown",
   "id": "1333e711",
   "metadata": {},
   "source": [
    "### `ch03\\ch3-4-3.py`"
   ]
  },
  {
   "cell_type": "code",
   "execution_count": 49,
   "id": "83f21b0d",
   "metadata": {},
   "outputs": [
    {
     "name": "stdout",
     "output_type": "stream",
     "text": [
      "{'kind': 'books#volumes', 'totalItems': 1000000, 'items': [{'kind': 'books#volume', 'id': '1HxWGezDZcgC', 'etag': 'omctfujgktM', 'selfLink': 'https://www.googleapis.com/books/v1/volumes/1HxWGezDZcgC', 'volumeInfo': {'title': 'Learning Python', 'subtitle': 'Powerful Object-Oriented Programming', 'authors': ['Mark Lutz'], 'publisher': '\"O\\'Reilly Media, Inc.\"', 'publishedDate': '2009-10-06', 'description': \"Google and YouTube use Python because it's highly adaptable, easy to maintain, and allows for rapid development. If you want to write high-quality, efficient code that's easily integrated with other languages and tools, this hands-on book will help you be productive with Python quickly -- whether you're new to programming or just new to Python. It's an easy-to-follow self-paced tutorial, based on author and Python expert Mark Lutz's popular training course. Each chapter contains a stand-alone lesson on a key component of the language, and includes a unique Test Your Knowledge section with practical exercises and quizzes, so you can practice new skills and test your understanding as you go. You'll find lots of annotated examples and illustrations to help you get started with Python 3.0. Learn about Python's major built-in object types, such as numbers, lists, and dictionaries Create and process objects using Python statements, and learn Python's general syntax model Structure and reuse code using functions, Python's basic procedural tool Learn about Python modules: packages of statements, functions, and other tools, organized into larger components Discover Python's object-oriented programming tool for structuring code Learn about the exception-handling model, and development tools for writing larger programs Explore advanced Python tools including decorators, descriptors, metaclasses, and Unicode processing\", 'readingModes': {'text': True, 'image': True}, 'maturityRating': 'NOT_MATURE', 'allowAnonLogging': True, 'contentVersion': '0.11.8.0.preview.3', 'panelizationSummary': {'containsEpubBubbles': False, 'containsImageBubbles': False}, 'imageLinks': {'smallThumbnail': 'http://books.google.com/books/content?id=1HxWGezDZcgC&printsec=frontcover&img=1&zoom=5&edge=curl&source=gbs_api', 'thumbnail': 'http://books.google.com/books/content?id=1HxWGezDZcgC&printsec=frontcover&img=1&zoom=1&edge=curl&source=gbs_api'}, 'previewLink': 'http://books.google.com.tw/books?id=1HxWGezDZcgC&pg=PA108&dq=Python&hl=&cd=1&source=gbs_api', 'infoLink': 'http://books.google.com.tw/books?id=1HxWGezDZcgC&dq=Python&hl=&source=gbs_api', 'canonicalVolumeLink': 'https://books.google.com/books/about/Learning_Python.html?hl=&id=1HxWGezDZcgC'}, 'saleInfo': {'country': 'TW'}, 'accessInfo': {'country': 'TW', 'epub': {'isAvailable': True}, 'pdf': {'isAvailable': True}, 'accessViewStatus': 'SAMPLE'}, 'searchInfo': {'textSnippet': '... <b>Python</b> provides integers ( positive and negative whole numbers ) and floating - point numbers ( numbers with a fractional part , sometimes called “ floats ” for economy ) . <b>Python</b> also allows us to write integers using hexadecimal&nbsp;...'}}, {'kind': 'books#volume', 'id': 'JnR9hQA3SncC', 'etag': '+7Vw4IjKoxM', 'selfLink': 'https://www.googleapis.com/books/v1/volumes/JnR9hQA3SncC', 'volumeInfo': {'title': 'Python in a Nutshell', 'subtitle': 'A Desktop Quick Reference', 'authors': ['Alex Martelli'], 'publisher': '\"O\\'Reilly Media, Inc.\"', 'publishedDate': '2006-07-14', 'description': 'This book offers Python programmers one place to look when they needhelp remembering or deciphering the syntax of this open source languageand its many powerful but scantily documented modules. Thiscomprehensive reference guide makes it easy to look up the mostfrequently needed information--not just about the Python languageitself, but also the most frequently used parts of the standard libraryand the most important third-party extensions. Ask any Python aficionado and you\\'ll hear that Python programmers haveit all: an elegant object-oriented language with readable andmaintainable syntax, that allows for easy integration with componentsin C, C++, Java, or C#, and an enormous collection of precoded standardlibrary and third-party extension modules. Moreover, Python is easy tolearn, yet powerful enough to take on the most ambitious programmingchallenges. But what Python programmers used to lack is a concise andclear reference resource, with the appropriate measure of guidance inhow best to use Python\\'s great power. Python in aNutshell fills this need. Python in a Nutshell, Second Edition covers morethan the language itself; it also deals with the mostfrequently used parts of the standard library, and the most popular andimportant third party extensions. Revised and expanded forPython 2.5, this book now contains the gory details of Python\\'s newsubprocess module and breaking news about Microsoft\\'s newIronPython project. Our \"Nutshell\" format fits Python perfectly bypresenting the highlights of the most important modules and functionsin its standard library, which cover over 90% of your practicalprogramming needs. This book includes: A fast-paced tutorial on the syntax of the Python language An explanation of object-oriented programming in Python Coverage of iterators, generators, exceptions, modules,packages, strings, and regular expressions A quick reference for Python\\'s built-in types and functionsand key modules Reference material on important third-party extensions,such as Numeric and Tkinter Information about extending and embedding Python Python in a Nutshell provides a solid,no-nonsense quick reference to information that programmers rely on themost. This book will immediately earn its place in any Pythonprogrammer\\'s library. Praise for the First Edition: \"In a nutshell, Python in a Nutshell serves oneprimary goal: to act as an immediately accessible goal for the Pythonlanguage. True, you can get most of the same core information that ispresented within the covers of this volume online, but this willinvariably be broken into multiple files, and in all likelihood lackingthe examples or the exact syntax description necessary to trulyunderstand a command.\" --Richard Cobbett, Linux Format \"O\\'Reilly has several good books, of which Python in aNutshell by Alex Martelli is probably the best for giving yousome idea of what Python is about and how to do useful things with it.\" --Jerry Pournelle, Byte Magazine', 'readingModes': {'text': True, 'image': True}, 'maturityRating': 'NOT_MATURE', 'allowAnonLogging': True, 'contentVersion': '0.7.5.0.preview.3', 'panelizationSummary': {'containsEpubBubbles': False, 'containsImageBubbles': False}, 'imageLinks': {'smallThumbnail': 'http://books.google.com/books/content?id=JnR9hQA3SncC&printsec=frontcover&img=1&zoom=5&edge=curl&source=gbs_api', 'thumbnail': 'http://books.google.com/books/content?id=JnR9hQA3SncC&printsec=frontcover&img=1&zoom=1&edge=curl&source=gbs_api'}, 'previewLink': 'http://books.google.com.tw/books?id=JnR9hQA3SncC&pg=PA58&dq=Python&hl=&cd=2&source=gbs_api', 'infoLink': 'http://books.google.com.tw/books?id=JnR9hQA3SncC&dq=Python&hl=&source=gbs_api', 'canonicalVolumeLink': 'https://books.google.com/books/about/Python_in_a_Nutshell.html?hl=&id=JnR9hQA3SncC'}, 'saleInfo': {'country': 'TW'}, 'accessInfo': {'country': 'TW', 'epub': {'isAvailable': True}, 'pdf': {'isAvailable': True}, 'accessViewStatus': 'SAMPLE'}, 'searchInfo': {'textSnippet': '... <b>Python</b> 2.3. Argument key, if not None, must be a function that can be called with any list item as its only argument. In this case, to compare any two items x and y, <b>Python</b> uses cmp(key(x),key(y)) rather than cmp(x,y) (in practice, this&nbsp;...'}}, {'kind': 'books#volume', 'id': 'Y7RCCgjmowcC', 'etag': 'nB8VMPcXZOY', 'selfLink': 'https://www.googleapis.com/books/v1/volumes/Y7RCCgjmowcC', 'volumeInfo': {'title': 'Python for Unix and Linux System Administration', 'authors': ['Noah Gift', 'Jeremy M. Jones'], 'publisher': \"O'Reilly Germany\", 'publishedDate': '2008', 'description': 'A guide to using the Python computer language to handle a variety of tasks in both the Unix and Linux servers.', 'readingModes': {'text': False, 'image': True}, 'maturityRating': 'NOT_MATURE', 'allowAnonLogging': False, 'contentVersion': '0.5.0.0.preview.1', 'panelizationSummary': {'containsEpubBubbles': False, 'containsImageBubbles': False}, 'imageLinks': {'smallThumbnail': 'http://books.google.com/books/content?id=Y7RCCgjmowcC&printsec=frontcover&img=1&zoom=5&edge=curl&source=gbs_api', 'thumbnail': 'http://books.google.com/books/content?id=Y7RCCgjmowcC&printsec=frontcover&img=1&zoom=1&edge=curl&source=gbs_api'}, 'previewLink': 'http://books.google.com.tw/books?id=Y7RCCgjmowcC&pg=PA13&dq=Python&hl=&cd=3&source=gbs_api', 'infoLink': 'http://books.google.com.tw/books?id=Y7RCCgjmowcC&dq=Python&hl=&source=gbs_api', 'canonicalVolumeLink': 'https://books.google.com/books/about/Python_for_Unix_and_Linux_System_Adminis.html?hl=&id=Y7RCCgjmowcC'}, 'saleInfo': {'country': 'TW'}, 'accessInfo': {'country': 'TW', 'epub': {'isAvailable': False}, 'pdf': {'isAvailable': True}, 'accessViewStatus': 'SAMPLE'}, 'searchInfo': {'textSnippet': '... <b>Python</b> and Bash . If you still have the IPython shell open , you don&#39;t need to create a <b>Python</b> script file , although you can if you like . Just type the following into the interactive ... <b>Python</b> , you. Using Functions in <b>Python</b> | 13.'}}]}\n"
     ]
    }
   ],
   "source": [
    "import requests\n",
    "\n",
    "url = \"https://www.googleapis.com/books/v1/volumes\"\n",
    "\n",
    "url_params = {'q': 'Python',\n",
    "              'maxResults': 3, \n",
    "              'projection': 'lite'}\n",
    "r = requests.get(url, params=url_params)\n",
    "print(r.json())"
   ]
  },
  {
   "cell_type": "markdown",
   "id": "9ce8d30f",
   "metadata": {},
   "source": [
    "### `ch03\\ch3-4-4.py`"
   ]
  },
  {
   "cell_type": "code",
   "execution_count": 50,
   "id": "ef9baa02",
   "metadata": {},
   "outputs": [
    {
     "name": "stdout",
     "output_type": "stream",
     "text": [
      "<!doctype html><html itemscope=\"\" itemtype=\"http://schema.org/WebPage\" lang=\"zh-TW\"><head><meta content=\"text/html; charset=UTF-8\" http-equiv=\"Content-Type\"><meta content=\"/images/branding/googleg/1x/googleg_standard_color_128dp.png\" itemprop=\"image\"><title>Google</title><script nonce=\"yqa17zi2HZG-Wed9FugcBg\">(function(){var _g={kEI:'tRoGaPnEKIWevr0P-vflyAM',kEXPI:'0,18167,184625,26,20,3497419,692,435,302126,146403,90132,14111,64702,6398,87925,161053,105525,219811,70233,5241682,107,86,16272694,20539755,25228681,11556,66460,60250,14128,8442,56716,6751,23878,9139,4600,328,6225,1117,23248,9946,29854,1341,13708,8221,5628,1785,30376,28339,24325,18559,5326,1891,4106,352,12340,6540,6820,2147,4617,5773,4311,12341,143,4849,5968,4719,10170,1635,539,1920,802,459,1638,893,35,7177,1911,2277,5539,569,2250,911,2982,186,4855,354,1267,3971,445,72,27,3505,1084,3367,1,7,9215,621,921,793,23,1740,3592,1001,9,1,3,426,105,3801,224,1129,94,1516,42,80,717,5,89,1314,52,4,1968,131,2,1,2,2,2,3,789,547,530,1099,13,1186,220,694,1586,2015,21,2994,300,315,66,408,156,3,12,292,605,2,559,1241,238,1131,172,1092,224,284,2,1227,561,1583,208,975,671,215,622,1,17,238,390,111,1591,623,493,2,400,503,2,29,496,547,498,17,29,328,209,4,56,74,239,153,63,74,383,15,1,72,7,152,243,534,70,212,5,10,17,60,195,237,211,379,423,97,158,2600,61,2,307,411,757,1356,385,493,317,2,1304,368,890,60,140,2,100,21,42,690,2,3,2,2,2,83,390,226,14,463,375,546,6,156,22,71,67,4,110,282,22,5,29,290,286,65,676,2,7,1,1,156,138,253,137,64,712,201,226,339,79,420,502,507,478,144,2,151,126,138,181,188,383,244,163,240,394,815,20893080,404690,18,4540,8,4177,1462,1182,5,2008,2320,493,609,3576,871,3,412,15,705,2,8533113,160442',kBL:'mnj3',kOPI:89978449};(function(){var a;((a=window.google)==null?0:a.stvsc)?google.kEI=_g.kEI:window.google=_g;}).call(this);})();(function(){google.sn='webhp';google.kHL='zh-TW';})();(function(){\n",
      "var g=this||self;function k(){return window.google&&window.google.kOPI||null};var l,m=[];function n(a){for(var b;a&&(!a.getAttribute||!(b=a.getAttribute(\"eid\")));)a=a.parentNode;return b||l}function p(a){for(var b=null;a&&(!a.getAttribute||!(b=a.getAttribute(\"leid\")));)a=a.parentNode;return b}function q(a){/^http:/i.test(a)&&window.location.protocol===\"https:\"&&(google.ml&&google.ml(Error(\"a\"),!1,{src:a,glmm:1}),a=\"\");return a}\n",
      "function r(a,b,d,c,h){var e=\"\";b.search(\"&ei=\")===-1&&(e=\"&ei=\"+n(c),b.search(\"&lei=\")===-1&&(c=p(c))&&(e+=\"&lei=\"+c));var f=b.search(\"&cshid=\")===-1&&a!==\"slh\";c=\"&zx=\"+Date.now().toString();g._cshid&&f&&(c+=\"&cshid=\"+g._cshid);(d=d())&&(c+=\"&opi=\"+d);return\"/\"+(h||\"gen_204\")+\"?atyp=i&ct=\"+String(a)+\"&cad=\"+(b+e+c)};l=google.kEI;google.getEI=n;google.getLEI=p;google.ml=function(){return null};google.log=function(a,b,d,c,h,e){e=e===void 0?k:e;d||(d=r(a,b,e,c,h));if(d=q(d)){a=new Image;var f=m.length;m[f]=a;a.onerror=a.onload=a.onabort=function(){delete m[f]};a.src=d}};google.logUrl=function(a,b){b=b===void 0?k:b;return r(\"\",a,b)};}).call(this);(function(){google.y={};google.sy=[];var d;(d=google).x||(d.x=function(a,b){if(a)var c=a.id;else{do c=Math.random();while(google.y[c])}google.y[c]=[a,b];return!1});var e;(e=google).sx||(e.sx=function(a){google.sy.push(a)});google.lm=[];var f;(f=google).plm||(f.plm=function(a){google.lm.push.apply(google.lm,a)});google.lq=[];var g;(g=google).load||(g.load=function(a,b,c){google.lq.push([[a],b,c])});var h;(h=google).loadAll||(h.loadAll=function(a,b){google.lq.push([a,b])});google.bx=!1;var k;(k=google).lx||(k.lx=function(){});var l=[],m;(m=google).fce||(m.fce=function(a,b,c,n){l.push([a,b,c,n])});google.qce=l;}).call(this);google.f={};(function(){\n",
      "document.documentElement.addEventListener(\"submit\",function(b){var a;if(a=b.target){var c=a.getAttribute(\"data-submitfalse\");a=c===\"1\"||c===\"q\"&&!a.elements.q.value?!0:!1}else a=!1;a&&(b.preventDefault(),b.stopPropagation())},!0);document.documentElement.addEventListener(\"click\",function(b){var a;a:{for(a=b.target;a&&a!==document.documentElement;a=a.parentElement)if(a.tagName===\"A\"){a=a.getAttribute(\"data-nohref\")===\"1\";break a}a=!1}a&&b.preventDefault()},!0);}).call(this);</script><style>#gbar,#guser{font-size:13px;padding-top:1px !important;}#gbar{height:22px}#guser{padding-bottom:7px !important;text-align:right}.gbh,.gbd{border-top:1px solid #c9d7f1;font-size:1px}.gbh{height:0;position:absolute;top:24px;width:100%}@media all{.gb1{height:22px;margin-right:.5em;vertical-align:top}#gbar{float:left}}a.gb1,a.gb4{text-decoration:underline !important}a.gb1,a.gb4{color:#00c !important}.gbi .gb4{color:#dd8e27 !important}.gbf .gb4{color:#900 !important}\n",
      "</style><style>body,td,a,p,.h{font-family:sans-serif}body{margin:0;overflow-y:scroll}#gog{padding:3px 8px 0}td{line-height:.8em}.gac_m td{line-height:17px}form{margin-bottom:20px}.h{color:#1967d2}em{color:#c5221f;font-style:normal;font-weight:normal}a em{text-decoration:underline}.lst{height:25px;width:496px}.gsfi,.lst{font:18px sans-serif}.gsfs{font:17px sans-serif}.ds{display:inline-box;display:inline-block;margin:3px 0 4px;margin-left:4px}input{font-family:inherit}body{background:#fff;color:#000}a{color:#681da8;text-decoration:none}a:hover,a:active{text-decoration:underline}.fl a{color:#1967d2}a:visited{color:#681da8}.sblc{padding-top:5px}.sblc a{display:block;margin:2px 0;margin-left:13px;font-size:11px}.lsbb{background:#f8f9fa;border:solid 1px;border-color:#dadce0 #70757a #70757a #dadce0;height:30px}.lsbb{display:block}#WqQANb a{display:inline-block;margin:0 12px}.lsb{background:url(/images/nav_logo229.png) 0 -261px repeat-x;color:#000;border:none;cursor:pointer;height:30px;margin:0;outline:0;font:15px sans-serif;vertical-align:top}.lsb:active{background:#dadce0}.lst:focus{outline:none}</style><script nonce=\"yqa17zi2HZG-Wed9FugcBg\">(function(){window.google.erd={jsr:1,bv:2204,de:true,dpf:'Unj216pLGNw1h_gZVymqfTAGXXQLjqSLDbKR6X-aQ9M'};\n",
      "var g=this||self;var k,l=(k=g.mei)!=null?k:1,m,p=(m=g.diel)!=null?m:0,q,r=(q=g.sdo)!=null?q:!0,t=0,u,w=google.erd,x=w.jsr;google.ml=function(a,b,d,n,e){e=e===void 0?2:e;b&&(u=a&&a.message);d===void 0&&(d={});d.cad=\"ple_\"+google.ple+\".aple_\"+google.aple;if(google.dl)return google.dl(a,e,d,!0),null;b=d;if(x<0){window.console&&console.error(a,b);if(x===-2)throw a;b=!1}else b=!a||!a.message||a.message===\"Error loading script\"||t>=l&&!n?!1:!0;if(!b)return null;t++;d=d||{};b=encodeURIComponent;var c=\"/gen_204?atyp=i&ei=\"+b(google.kEI);google.kEXPI&&(c+=\"&jexpid=\"+b(google.kEXPI));c+=\"&srcpg=\"+b(google.sn)+\"&jsr=\"+b(w.jsr)+\n",
      "\"&bver=\"+b(w.bv);w.dpf&&(c+=\"&dpf=\"+b(w.dpf));var f=a.lineNumber;f!==void 0&&(c+=\"&line=\"+f);var h=a.fileName;h&&(h.indexOf(\"-extension:/\")>0&&(e=3),c+=\"&script=\"+b(h),f&&h===window.location.href&&(f=document.documentElement.outerHTML.split(\"\\n\")[f],c+=\"&cad=\"+b(f?f.substring(0,300):\"No script found.\")));google.ple&&google.ple===1&&(e=2);c+=\"&jsel=\"+e;for(var v in d)c+=\"&\",c+=b(v),c+=\"=\",c+=b(d[v]);c=c+\"&emsg=\"+b(a.name+\": \"+a.message);c=c+\"&jsst=\"+b(a.stack||\"N/A\");c.length>=12288&&(c=c.substr(0,12288));a=c;n||google.log(0,\"\",a);return a};window.onerror=function(a,b,d,n,e){u!==a&&(a=e instanceof Error?e:Error(a),d===void 0||\"lineNumber\"in a||(a.lineNumber=d),b===void 0||\"fileName\"in a||(a.fileName=b),google.ml(a,!1,void 0,!1,a.name===\"SyntaxError\"||a.message.substring(0,11)===\"SyntaxError\"||a.message.indexOf(\"Script error\")!==-1?3:p));u=null;r&&t>=l&&(window.onerror=null)};})();</script></head><body bgcolor=\"#fff\"><script nonce=\"yqa17zi2HZG-Wed9FugcBg\">(function(){var src='/images/nav_logo229.png';var iesg=false;document.body.onload = function(){window.n && window.n();if (document.images){new Image().src=src;}\n",
      "if (!iesg){document.f&&document.f.q.focus();document.gbqf&&document.gbqf.q.focus();}\n",
      "}\n",
      "})();</script><div id=\"mngb\"><div id=gbar><nobr><b class=gb1>&#25628;&#23563;</b> <a class=gb1 href=\"https://www.google.com/imghp?hl=zh-TW&tab=wi\">&#22294;&#29255;</a> <a class=gb1 href=\"http://maps.google.com.tw/maps?hl=zh-TW&tab=wl\">&#22320;&#22294;</a> <a class=gb1 href=\"https://play.google.com/?hl=zh-TW&tab=w8\">Play</a> <a class=gb1 href=\"https://www.youtube.com/?tab=w1\">YouTube</a> <a class=gb1 href=\"https://news.google.com/?tab=wn\">&#26032;&#32862;</a> <a class=gb1 href=\"https://mail.google.com/mail/?tab=wm\">Gmail</a> <a class=gb1 href=\"https://drive.google.com/?tab=wo\">&#38642;&#31471;&#30828;&#30879;</a> <a class=gb1 style=\"text-decoration:none\" href=\"https://www.google.com.tw/intl/zh-TW/about/products?tab=wh\"><u>&#26356;&#22810;</u> &raquo;</a></nobr></div><div id=guser width=100%><nobr><span id=gbn class=gbi></span><span id=gbf class=gbf></span><span id=gbe></span><a href=\"http://www.google.com.tw/history/optout?hl=zh-TW\" class=gb4>&#32178;&#38913;&#35352;&#37636;</a> | <a  href=\"/preferences?hl=zh-TW\" class=gb4>&#35373;&#23450;</a> | <a target=_top id=gb_70 href=\"https://accounts.google.com/ServiceLogin?hl=zh-TW&passive=true&continue=http://www.google.com/&ec=GAZAAQ\" class=gb4>&#30331;&#20837;</a></nobr></div><div class=gbh style=left:0></div><div class=gbh style=right:0></div></div><center><br clear=\"all\" id=\"lgpd\"><div id=\"XjhHGf\"><img alt=\"Google\" height=\"92\" src=\"/images/branding/googlelogo/1x/googlelogo_white_background_color_272x92dp.png\" style=\"padding:28px 0 14px\" width=\"272\" id=\"hplogo\"><br><br></div><form action=\"/search\" name=\"f\"><table cellpadding=\"0\" cellspacing=\"0\"><tr valign=\"top\"><td width=\"25%\">&nbsp;</td><td align=\"center\" nowrap=\"\"><input name=\"ie\" value=\"ISO-8859-1\" type=\"hidden\"><input value=\"zh-TW\" name=\"hl\" type=\"hidden\"><input name=\"source\" type=\"hidden\" value=\"hp\"><input name=\"biw\" type=\"hidden\"><input name=\"bih\" type=\"hidden\"><div class=\"ds\" style=\"height:32px;margin:4px 0\"><input class=\"lst\" style=\"margin:0;padding:5px 8px 0 6px;vertical-align:top;color:#000\" autocomplete=\"off\" value=\"\" title=\"Google &#25628;&#23563;\" maxlength=\"2048\" name=\"q\" size=\"57\"></div><br style=\"line-height:0\"><span class=\"ds\"><span class=\"lsbb\"><input class=\"lsb\" value=\"Google &#25628;&#23563;\" name=\"btnG\" type=\"submit\"></span></span><span class=\"ds\"><span class=\"lsbb\"><input class=\"lsb\" id=\"tsuid_tRoGaPnEKIWevr0P-vflyAM_1\" value=\"&#22909;&#25163;&#27683;\" name=\"btnI\" type=\"submit\"><script nonce=\"yqa17zi2HZG-Wed9FugcBg\">(function(){var id='tsuid_tRoGaPnEKIWevr0P-vflyAM_1';document.getElementById(id).onclick = function(){if (this.form.q.value){this.checked = 1;if (this.form.iflsig)this.form.iflsig.disabled = false;}\n",
      "else top.location='/doodles/';};})();</script><input value=\"ACkRmUkAAAAAaAYoxam3wuzlUYSzWNcufOOr1F72DXYw\" name=\"iflsig\" type=\"hidden\"></span></span></td><td class=\"fl sblc\" align=\"left\" nowrap=\"\" width=\"25%\"><a href=\"/advanced_search?hl=zh-TW&amp;authuser=0\">&#36914;&#38542;&#25628;&#23563;</a></td></tr></table><input id=\"gbv\" name=\"gbv\" type=\"hidden\" value=\"1\"><script nonce=\"yqa17zi2HZG-Wed9FugcBg\">(function(){var a,b=\"1\";if(document&&document.getElementById)if(typeof XMLHttpRequest!=\"undefined\")b=\"2\";else if(typeof ActiveXObject!=\"undefined\"){var c,d,e=[\"MSXML2.XMLHTTP.6.0\",\"MSXML2.XMLHTTP.3.0\",\"MSXML2.XMLHTTP\",\"Microsoft.XMLHTTP\"];for(c=0;d=e[c++];)try{new ActiveXObject(d),b=\"2\"}catch(h){}}a=b;if(a==\"2\"&&location.search.indexOf(\"&gbv=2\")==-1){var f=google.gbvu,g=document.getElementById(\"gbv\");g&&(g.value=a);f&&window.setTimeout(function(){location.href=f},0)};}).call(this);</script></form><div style=\"font-size:83%;min-height:3.5em\"><br></div><span id=\"footer\"><div style=\"font-size:10pt\"><div style=\"margin:19px auto;text-align:center\" id=\"WqQANb\"><a href=\"/intl/zh-TW/ads/\">&#24291;&#21578;</a><a href=\"http://www.google.com.tw/intl/zh-TW/services/\">&#21830;&#26989;&#35299;&#27770;&#26041;&#26696;</a><a href=\"/intl/zh-TW/about.html\">&#38364;&#26044; Google</a><a href=\"http://www.google.com/setprefdomain?prefdom=TW&amp;prev=http://www.google.com.tw/&amp;sig=K_ckyqw8S4nr7GzqZHy8_pz3DWgiA%3D\">Google.com.tw</a></div></div><p style=\"font-size:8pt;color:#70757a\">&copy; 2025 - <a href=\"/intl/zh-TW/policies/privacy/\">&#38577;&#31169;&#27402;</a> - <a href=\"/intl/zh-TW/policies/terms/\">&#26381;&#21209;&#26781;&#27454;</a></p></span></center><script nonce=\"yqa17zi2HZG-Wed9FugcBg\">(function(){window.google.cdo={height:757,width:1440};(function(){var a=window.innerWidth,b=window.innerHeight;if(!a||!b){var c=window.document,d=c.compatMode==\"CSS1Compat\"?c.documentElement:c.body;a=d.clientWidth;b=d.clientHeight}if(a&&b&&(a!=google.cdo.width||b!=google.cdo.height)){var e=google,f=e.log,g=\"/client_204?&atyp=i&biw=\"+a+\"&bih=\"+b+\"&ei=\"+google.kEI,h=\"\",k=window.google&&window.google.kOPI||null;k&&(h+=\"&opi=\"+k);f.call(e,\"\",\"\",g+h)};}).call(this);})();(function(){google.xjs={basecomb:'/xjs/_/js/k\\x3dxjs.hp.en.sdFlZYEggLc.es5.O/ck\\x3dxjs.hp.TCO-zLQREzY.L.X.O/am\\x3dAAAAAAAQAAAAAAAAAAAAAAAAAAAAAAAAAADAICgIAAABAAAAAAAAAAgAIIApARAHAAAgBIAAAQAAAAAAAAAAAAAAIAEAEAAAQAAAAADxHQEAAVgEAMAL/d\\x3d1/ed\\x3d1/dg\\x3d0/ujg\\x3d1/rs\\x3dACT90oGRUbDJz44Xku6AVFg-mFuyo7i9bg',basecss:'/xjs/_/ss/k\\x3dxjs.hp.TCO-zLQREzY.L.X.O/am\\x3dAAAAAAAQAAAAAAAAAAAAAAAAAAAAAAAAAADAIAgIAAABAAAAAAAAAAgAIIApABAAAAAgBIAAAQAAAAAAAAAAAAAAIAEAEAAAQA/rs\\x3dACT90oGPvMs4utRuWQaJxk5c14VYZpcArA',basejs:'/xjs/_/js/k\\x3dxjs.hp.en.sdFlZYEggLc.es5.O/am\\x3dAAAAAAAAAAAAAAAAAAAAAAAAAAAAAAAAAAAAACAAAAAAAAAAAAAAAAgAAAAAAQAHAAAAAAAAAAAAAAAAAAAAAAAAAAAAAAAAAAAAAADxHQEAAVgEAMAL/dg\\x3d0/rs\\x3dACT90oHP3YZZubVkqNO62yyIWlmEhOD6_A',excm:[]};})();(function(){var u='/xjs/_/js/k\\x3dxjs.hp.en.sdFlZYEggLc.es5.O/am\\x3dAAAAAAAAAAAAAAAAAAAAAAAAAAAAAAAAAAAAACAAAAAAAAAAAAAAAAgAAAAAAQAHAAAAAAAAAAAAAAAAAAAAAAAAAAAAAAAAAAAAAADxHQEAAVgEAMAL/d\\x3d1/ed\\x3d1/dg\\x3d3/rs\\x3dACT90oHP3YZZubVkqNO62yyIWlmEhOD6_A/m\\x3dsb_he,d';var st=1;var amd=1000;var mmd=0;var pod=true;var pop=true;var povp=false;var fp='';\n",
      "var e=this||self;function f(){var b,a,d;if(a=b=(a=window.google)==null?void 0:(d=a.ia)==null?void 0:d.r.B2Jtyd)a=b.m,a=a===1||a===5;return a&&b.cbfd!=null&&b.cbvi!=null?b:void 0};function g(){var b=[u];if(!google.dp){for(var a=0;a<b.length;a++){var d=b[a],c=document.createElement(\"link\");c.as=\"script\";c.href=d;c.rel=\"preload\";document.body.appendChild(c)}google.dp=!0}};google.ps===void 0&&(google.ps=[]);function h(){var b=u,a=function(){};google.lx=google.stvsc?a:function(){k(b);google.lx=a};google.bx||google.lx()}function l(b,a){a&&(b.src=a);fp&&(b.fetchPriority=fp);var d=b.onload;b.onload=function(c){d&&d(c);google.ps=google.ps.filter(function(G){return b!==G})};google.ps.push(b);document.body.appendChild(b)}google.as=l;function k(b){google.timers&&google.timers.load&&google.tick&&google.tick(\"load\",\"xjsls\");var a=document.createElement(\"script\");a.onerror=function(){google.ple=1};a.onload=function(){google.ple=0};google.xjsus=void 0;l(a,b);google.aple=-1;google.dp=!0};function m(b){var a=b.getAttribute(\"jscontroller\");return(a===\"UBXHI\"||a===\"R3fhkb\"||a===\"TSZEqd\")&&b.hasAttribute(\"data-src\")}function n(){for(var b=document.getElementsByTagName(\"img\"),a=0,d=b.length;a<d;a++){var c=b[a];if(c.hasAttribute(\"data-lzy_\")&&Number(c.getAttribute(\"data-atf\"))&1&&!m(c))return!0}return!1}for(var p=document.getElementsByTagName(\"img\"),q=0,r=p.length;q<r;++q){var t=p[q];Number(t.getAttribute(\"data-atf\"))&1&&m(t)&&(t.src=t.getAttribute(\"data-src\"))};var w,x,y,z,A,B,C,D,E,F;function H(){google.xjsu=u;e._F_jsUrl=u;A=function(){h()};w=!1;x=(st===1||st===3)&&!!google.caft&&!n();y=f();z=(st===2||st===3)&&!!y&&!n();B=pod;C=pop;D=povp;E=pop&&document.prerendering||povp&&document.hidden;F=D?\"visibilitychange\":\"prerenderingchange\"}function I(){w||x||z||E||(A(),w=!0)}\n",
      "setTimeout(function(){google&&google.tick&&google.timers&&google.timers.load&&google.tick(\"load\",\"xjspls\");H();if(x||z||E){if(x){var b=function(){x=!1;I()};google.caft(b);window.setTimeout(b,amd)}z&&(b=function(){z=!1;I()},y.cbvi.push(b),window.setTimeout(b,mmd));if(E){var a=function(){(D?document.hidden:document.prerendering)||(E=!1,I(),document.removeEventListener(F,a))};document.addEventListener(F,a,{passive:!0})}if(B||C||D)w||g()}else A()},0);})();window._ = window._ || {};window._DumpException = _._DumpException = function(e){throw e;};window._s = window._s || {};_s._DumpException = _._DumpException;window._qs = window._qs || {};_qs._DumpException = _._DumpException;(function(){var t=[0,16384,0,0,0,0,0,34211888,65536,8192,11665408,174094720,5181441,1081344,4104,2112,0,75497472,302055424,4096,502333440,570687492,1006633029,2];window._F_toggles = window._xjs_toggles = t;})();window._F_installCss = window._F_installCss || function(css){};(function(){google.jl={bfl:0,dw:false,ine:false,injs:'none',injt:0,injth:0,injv2:false,ubm:false,uwp:true,vs:false};})();(function(){var pmc='{\\x22d\\x22:{},\\x22sb_he\\x22:{\\x22client\\x22:\\x22heirloom-hp\\x22,\\x22dh\\x22:true,\\x22ds\\x22:\\x22\\x22,\\x22host\\x22:\\x22google.com\\x22,\\x22jsonp\\x22:true,\\x22msgs\\x22:{\\x22cibl\\x22:\\x22\\\\u6e05\\\\u9664\\\\u641c\\\\u5c0b\\x22,\\x22dym\\x22:\\x22\\\\u4f60\\\\u662f\\\\u4e0d\\\\u662f\\\\u8981\\\\u67e5\\\\uff1a\\x22,\\x22lcky\\x22:\\x22\\\\u597d\\\\u624b\\\\u6c23\\x22,\\x22lml\\x22:\\x22\\\\u77ad\\\\u89e3\\\\u8a73\\\\u60c5\\x22,\\x22psrc\\x22:\\x22\\\\u5df2\\\\u5f9e\\\\u60a8\\\\u7684\\\\u300c\\\\u003Ca href\\x3d\\\\\\x22/history\\\\\\x22\\\\u003E\\\\u7db2\\\\u9801\\\\u8a18\\\\u9304\\\\u003C/a\\\\u003E\\\\u300d\\\\u4e2d\\\\u79fb\\\\u9664\\\\u9019\\\\u7b46\\\\u641c\\\\u5c0b\\\\u8a18\\\\u9304\\x22,\\x22psrl\\x22:\\x22\\\\u79fb\\\\u9664\\x22,\\x22sbit\\x22:\\x22\\\\u4ee5\\\\u5716\\\\u641c\\\\u5c0b\\x22,\\x22srch\\x22:\\x22Google \\\\u641c\\\\u5c0b\\x22},\\x22ovr\\x22:{},\\x22pq\\x22:\\x22\\x22,\\x22rfs\\x22:[],\\x22stok\\x22:\\x222JRKITD9iPSh48Sks0yTDYkYpIc\\x22}}';google.pmc=JSON.parse(pmc);})();</script>       </body></html>\n"
     ]
    }
   ],
   "source": [
    "import requests\n",
    "\n",
    "try: \n",
    "    r = requests.get(\"http://www.google.com\", timeout=3)\n",
    "    print(r.text)\n",
    "except requests.exceptions.Timeout as ex:\n",
    "    print(\"錯誤: HTTP請求已經超過時間...\\n\" + str(ex))\n",
    "    \n"
   ]
  },
  {
   "cell_type": "markdown",
   "id": "2f0b08a1",
   "metadata": {},
   "source": [
    "### `ch03\\ch3-4-5.py`"
   ]
  },
  {
   "cell_type": "code",
   "execution_count": 51,
   "id": "078194cd",
   "metadata": {
    "scrolled": true
   },
   "outputs": [
    {
     "name": "stdout",
     "output_type": "stream",
     "text": [
      "Http請求錯誤: 404 Client Error: Not Found for url: http://www.google.com/404\n"
     ]
    }
   ],
   "source": [
    "import requests \n",
    "\n",
    "url = 'http://www.google.com/404'\n",
    "\n",
    "try:\n",
    "    r = requests.get(url, timeout=3)\n",
    "    r.raise_for_status()\n",
    "except requests.exceptions.RequestException as ex1:\n",
    "    print(\"Http請求錯誤: \" + str(ex1))\n",
    "except requests.exceptions.HTTPError as ex2:\n",
    "    print(\"Http回應錯誤: \" + str(ex2))\n",
    "except requests.exceptions.ConnectionError as ex3:\n",
    "    print(\"網路連線錯誤: \" + str(ex3))\n",
    "except requests.exceptions.Timeout as ex4:\n",
    "    print(\"Timeout錯誤: \" + str(ex4))     \n"
   ]
  },
  {
   "cell_type": "code",
   "execution_count": 52,
   "id": "24cc8d38-bb93-4db4-9e42-f9ac35bac06c",
   "metadata": {},
   "outputs": [
    {
     "name": "stdout",
     "output_type": "stream",
     "text": [
      "Requirement already satisfied: webdriver_manager in c:\\users\\anku0\\anaconda3\\envs\\lab1\\lib\\site-packages (4.0.2)\n",
      "Requirement already satisfied: requests in c:\\users\\anku0\\anaconda3\\envs\\lab1\\lib\\site-packages (from webdriver_manager) (2.32.3)\n",
      "Requirement already satisfied: python-dotenv in c:\\users\\anku0\\anaconda3\\envs\\lab1\\lib\\site-packages (from webdriver_manager) (1.1.0)\n",
      "Requirement already satisfied: packaging in c:\\users\\anku0\\anaconda3\\envs\\lab1\\lib\\site-packages (from webdriver_manager) (24.1)\n",
      "Requirement already satisfied: charset-normalizer<4,>=2 in c:\\users\\anku0\\anaconda3\\envs\\lab1\\lib\\site-packages (from requests->webdriver_manager) (3.3.2)\n",
      "Requirement already satisfied: idna<4,>=2.5 in c:\\users\\anku0\\anaconda3\\envs\\lab1\\lib\\site-packages (from requests->webdriver_manager) (3.10)\n",
      "Requirement already satisfied: urllib3<3,>=1.21.1 in c:\\users\\anku0\\anaconda3\\envs\\lab1\\lib\\site-packages (from requests->webdriver_manager) (2.2.3)\n",
      "Requirement already satisfied: certifi>=2017.4.17 in c:\\users\\anku0\\anaconda3\\envs\\lab1\\lib\\site-packages (from requests->webdriver_manager) (2024.8.30)\n",
      "Note: you may need to restart the kernel to use updated packages.\n"
     ]
    }
   ],
   "source": [
    "pip install webdriver_manager"
   ]
  },
  {
   "cell_type": "markdown",
   "id": "a5beb4cd",
   "metadata": {},
   "source": [
    "### `ch03\\ch3-5-2.py`"
   ]
  },
  {
   "cell_type": "code",
   "execution_count": 53,
   "id": "d33f648b",
   "metadata": {},
   "outputs": [
    {
     "ename": "SessionNotCreatedException",
     "evalue": "Message: session not created: This version of ChromeDriver only supports Chrome version 114\nCurrent browser version is 88.0.4324.182 with binary path C:\\Users\\anku0\\AppData\\Local\\Chromium\\Application\\chrome.exe\nStacktrace:\nBacktrace:\n\tGetHandleVerifier [0x00FBA813+48355]\n\t(No symbol) [0x00F4C4B1]\n\t(No symbol) [0x00E55358]\n\t(No symbol) [0x00E761AC]\n\t(No symbol) [0x00E71EF3]\n\t(No symbol) [0x00E70579]\n\t(No symbol) [0x00EA0C55]\n\t(No symbol) [0x00EA093C]\n\t(No symbol) [0x00E9A536]\n\t(No symbol) [0x00E782DC]\n\t(No symbol) [0x00E793DD]\n\tGetHandleVerifier [0x0121AABD+2539405]\n\tGetHandleVerifier [0x0125A78F+2800735]\n\tGetHandleVerifier [0x0125456C+2775612]\n\tGetHandleVerifier [0x010451E0+616112]\n\t(No symbol) [0x00F55F8C]\n\t(No symbol) [0x00F52328]\n\t(No symbol) [0x00F5240B]\n\t(No symbol) [0x00F44FF7]\n\tBaseThreadInitThunk [0x7632FCC9+25]\n\tRtlGetAppContainerNamedObjectPath [0x771F82AE+286]\n\tRtlGetAppContainerNamedObjectPath [0x771F827E+238]\n",
     "output_type": "error",
     "traceback": [
      "\u001b[1;31m---------------------------------------------------------------------------\u001b[0m",
      "\u001b[1;31mSessionNotCreatedException\u001b[0m                Traceback (most recent call last)",
      "\u001b[1;32m~\\AppData\\Local\\Temp\\ipykernel_2804\\3714525182.py\u001b[0m in \u001b[0;36m<module>\u001b[1;34m\u001b[0m\n\u001b[0;32m      3\u001b[0m \u001b[1;32mfrom\u001b[0m \u001b[0mwebdriver_manager\u001b[0m\u001b[1;33m.\u001b[0m\u001b[0mchrome\u001b[0m \u001b[1;32mimport\u001b[0m \u001b[0mChromeDriverManager\u001b[0m\u001b[1;33m\u001b[0m\u001b[1;33m\u001b[0m\u001b[0m\n\u001b[0;32m      4\u001b[0m \u001b[1;33m\u001b[0m\u001b[0m\n\u001b[1;32m----> 5\u001b[1;33m \u001b[0mdriver\u001b[0m \u001b[1;33m=\u001b[0m \u001b[0mwebdriver\u001b[0m\u001b[1;33m.\u001b[0m\u001b[0mChrome\u001b[0m\u001b[1;33m(\u001b[0m\u001b[0mservice\u001b[0m\u001b[1;33m=\u001b[0m\u001b[0mService\u001b[0m\u001b[1;33m(\u001b[0m\u001b[0mChromeDriverManager\u001b[0m\u001b[1;33m(\u001b[0m\u001b[1;33m)\u001b[0m\u001b[1;33m.\u001b[0m\u001b[0minstall\u001b[0m\u001b[1;33m(\u001b[0m\u001b[1;33m)\u001b[0m\u001b[1;33m)\u001b[0m\u001b[1;33m)\u001b[0m\u001b[1;33m\u001b[0m\u001b[1;33m\u001b[0m\u001b[0m\n\u001b[0m\u001b[0;32m      6\u001b[0m \u001b[0mdriver\u001b[0m\u001b[1;33m.\u001b[0m\u001b[0mimplicitly_wait\u001b[0m\u001b[1;33m(\u001b[0m\u001b[1;36m10\u001b[0m\u001b[1;33m)\u001b[0m\u001b[1;33m\u001b[0m\u001b[1;33m\u001b[0m\u001b[0m\n\u001b[0;32m      7\u001b[0m \u001b[0mdriver\u001b[0m\u001b[1;33m.\u001b[0m\u001b[0mget\u001b[0m\u001b[1;33m(\u001b[0m\u001b[1;34m\"https://fchart.github.io/test.html\"\u001b[0m\u001b[1;33m)\u001b[0m\u001b[1;33m\u001b[0m\u001b[1;33m\u001b[0m\u001b[0m\n",
      "\u001b[1;32m~\\anaconda3\\envs\\Lab1\\lib\\site-packages\\selenium\\webdriver\\chrome\\webdriver.py\u001b[0m in \u001b[0;36m__init__\u001b[1;34m(self, options, service, keep_alive)\u001b[0m\n\u001b[0;32m     43\u001b[0m         \u001b[0moptions\u001b[0m \u001b[1;33m=\u001b[0m \u001b[0moptions\u001b[0m \u001b[1;32mif\u001b[0m \u001b[0moptions\u001b[0m \u001b[1;32melse\u001b[0m \u001b[0mOptions\u001b[0m\u001b[1;33m(\u001b[0m\u001b[1;33m)\u001b[0m\u001b[1;33m\u001b[0m\u001b[1;33m\u001b[0m\u001b[0m\n\u001b[0;32m     44\u001b[0m \u001b[1;33m\u001b[0m\u001b[0m\n\u001b[1;32m---> 45\u001b[1;33m         super().__init__(\n\u001b[0m\u001b[0;32m     46\u001b[0m             \u001b[0mbrowser_name\u001b[0m\u001b[1;33m=\u001b[0m\u001b[0mDesiredCapabilities\u001b[0m\u001b[1;33m.\u001b[0m\u001b[0mCHROME\u001b[0m\u001b[1;33m[\u001b[0m\u001b[1;34m\"browserName\"\u001b[0m\u001b[1;33m]\u001b[0m\u001b[1;33m,\u001b[0m\u001b[1;33m\u001b[0m\u001b[1;33m\u001b[0m\u001b[0m\n\u001b[0;32m     47\u001b[0m             \u001b[0mvendor_prefix\u001b[0m\u001b[1;33m=\u001b[0m\u001b[1;34m\"goog\"\u001b[0m\u001b[1;33m,\u001b[0m\u001b[1;33m\u001b[0m\u001b[1;33m\u001b[0m\u001b[0m\n",
      "\u001b[1;32m~\\anaconda3\\envs\\Lab1\\lib\\site-packages\\selenium\\webdriver\\chromium\\webdriver.py\u001b[0m in \u001b[0;36m__init__\u001b[1;34m(self, browser_name, vendor_prefix, options, service, keep_alive)\u001b[0m\n\u001b[0;32m     64\u001b[0m \u001b[1;33m\u001b[0m\u001b[0m\n\u001b[0;32m     65\u001b[0m         \u001b[1;32mtry\u001b[0m\u001b[1;33m:\u001b[0m\u001b[1;33m\u001b[0m\u001b[1;33m\u001b[0m\u001b[0m\n\u001b[1;32m---> 66\u001b[1;33m             \u001b[0msuper\u001b[0m\u001b[1;33m(\u001b[0m\u001b[1;33m)\u001b[0m\u001b[1;33m.\u001b[0m\u001b[0m__init__\u001b[0m\u001b[1;33m(\u001b[0m\u001b[0mcommand_executor\u001b[0m\u001b[1;33m=\u001b[0m\u001b[0mexecutor\u001b[0m\u001b[1;33m,\u001b[0m \u001b[0moptions\u001b[0m\u001b[1;33m=\u001b[0m\u001b[0moptions\u001b[0m\u001b[1;33m)\u001b[0m\u001b[1;33m\u001b[0m\u001b[1;33m\u001b[0m\u001b[0m\n\u001b[0m\u001b[0;32m     67\u001b[0m         \u001b[1;32mexcept\u001b[0m \u001b[0mException\u001b[0m\u001b[1;33m:\u001b[0m\u001b[1;33m\u001b[0m\u001b[1;33m\u001b[0m\u001b[0m\n\u001b[0;32m     68\u001b[0m             \u001b[0mself\u001b[0m\u001b[1;33m.\u001b[0m\u001b[0mquit\u001b[0m\u001b[1;33m(\u001b[0m\u001b[1;33m)\u001b[0m\u001b[1;33m\u001b[0m\u001b[1;33m\u001b[0m\u001b[0m\n",
      "\u001b[1;32m~\\anaconda3\\envs\\Lab1\\lib\\site-packages\\selenium\\webdriver\\remote\\webdriver.py\u001b[0m in \u001b[0;36m__init__\u001b[1;34m(self, command_executor, keep_alive, file_detector, options, locator_converter, web_element_cls, client_config)\u001b[0m\n\u001b[0;32m    248\u001b[0m         \u001b[0mself\u001b[0m\u001b[1;33m.\u001b[0m\u001b[0m_authenticator_id\u001b[0m \u001b[1;33m=\u001b[0m \u001b[1;32mNone\u001b[0m\u001b[1;33m\u001b[0m\u001b[1;33m\u001b[0m\u001b[0m\n\u001b[0;32m    249\u001b[0m         \u001b[0mself\u001b[0m\u001b[1;33m.\u001b[0m\u001b[0mstart_client\u001b[0m\u001b[1;33m(\u001b[0m\u001b[1;33m)\u001b[0m\u001b[1;33m\u001b[0m\u001b[1;33m\u001b[0m\u001b[0m\n\u001b[1;32m--> 250\u001b[1;33m         \u001b[0mself\u001b[0m\u001b[1;33m.\u001b[0m\u001b[0mstart_session\u001b[0m\u001b[1;33m(\u001b[0m\u001b[0mcapabilities\u001b[0m\u001b[1;33m)\u001b[0m\u001b[1;33m\u001b[0m\u001b[1;33m\u001b[0m\u001b[0m\n\u001b[0m\u001b[0;32m    251\u001b[0m         \u001b[0mself\u001b[0m\u001b[1;33m.\u001b[0m\u001b[0m_fedcm\u001b[0m \u001b[1;33m=\u001b[0m \u001b[0mFedCM\u001b[0m\u001b[1;33m(\u001b[0m\u001b[0mself\u001b[0m\u001b[1;33m)\u001b[0m\u001b[1;33m\u001b[0m\u001b[1;33m\u001b[0m\u001b[0m\n\u001b[0;32m    252\u001b[0m \u001b[1;33m\u001b[0m\u001b[0m\n",
      "\u001b[1;32m~\\anaconda3\\envs\\Lab1\\lib\\site-packages\\selenium\\webdriver\\remote\\webdriver.py\u001b[0m in \u001b[0;36mstart_session\u001b[1;34m(self, capabilities)\u001b[0m\n\u001b[0;32m    340\u001b[0m \u001b[1;33m\u001b[0m\u001b[0m\n\u001b[0;32m    341\u001b[0m         \u001b[0mcaps\u001b[0m \u001b[1;33m=\u001b[0m \u001b[0m_create_caps\u001b[0m\u001b[1;33m(\u001b[0m\u001b[0mcapabilities\u001b[0m\u001b[1;33m)\u001b[0m\u001b[1;33m\u001b[0m\u001b[1;33m\u001b[0m\u001b[0m\n\u001b[1;32m--> 342\u001b[1;33m         \u001b[0mresponse\u001b[0m \u001b[1;33m=\u001b[0m \u001b[0mself\u001b[0m\u001b[1;33m.\u001b[0m\u001b[0mexecute\u001b[0m\u001b[1;33m(\u001b[0m\u001b[0mCommand\u001b[0m\u001b[1;33m.\u001b[0m\u001b[0mNEW_SESSION\u001b[0m\u001b[1;33m,\u001b[0m \u001b[0mcaps\u001b[0m\u001b[1;33m)\u001b[0m\u001b[1;33m[\u001b[0m\u001b[1;34m\"value\"\u001b[0m\u001b[1;33m]\u001b[0m\u001b[1;33m\u001b[0m\u001b[1;33m\u001b[0m\u001b[0m\n\u001b[0m\u001b[0;32m    343\u001b[0m         \u001b[0mself\u001b[0m\u001b[1;33m.\u001b[0m\u001b[0msession_id\u001b[0m \u001b[1;33m=\u001b[0m \u001b[0mresponse\u001b[0m\u001b[1;33m.\u001b[0m\u001b[0mget\u001b[0m\u001b[1;33m(\u001b[0m\u001b[1;34m\"sessionId\"\u001b[0m\u001b[1;33m)\u001b[0m\u001b[1;33m\u001b[0m\u001b[1;33m\u001b[0m\u001b[0m\n\u001b[0;32m    344\u001b[0m         \u001b[0mself\u001b[0m\u001b[1;33m.\u001b[0m\u001b[0mcaps\u001b[0m \u001b[1;33m=\u001b[0m \u001b[0mresponse\u001b[0m\u001b[1;33m.\u001b[0m\u001b[0mget\u001b[0m\u001b[1;33m(\u001b[0m\u001b[1;34m\"capabilities\"\u001b[0m\u001b[1;33m)\u001b[0m\u001b[1;33m\u001b[0m\u001b[1;33m\u001b[0m\u001b[0m\n",
      "\u001b[1;32m~\\anaconda3\\envs\\Lab1\\lib\\site-packages\\selenium\\webdriver\\remote\\webdriver.py\u001b[0m in \u001b[0;36mexecute\u001b[1;34m(self, driver_command, params)\u001b[0m\n\u001b[0;32m    427\u001b[0m         \u001b[0mresponse\u001b[0m \u001b[1;33m=\u001b[0m \u001b[0mself\u001b[0m\u001b[1;33m.\u001b[0m\u001b[0mcommand_executor\u001b[0m\u001b[1;33m.\u001b[0m\u001b[0mexecute\u001b[0m\u001b[1;33m(\u001b[0m\u001b[0mdriver_command\u001b[0m\u001b[1;33m,\u001b[0m \u001b[0mparams\u001b[0m\u001b[1;33m)\u001b[0m\u001b[1;33m\u001b[0m\u001b[1;33m\u001b[0m\u001b[0m\n\u001b[0;32m    428\u001b[0m         \u001b[1;32mif\u001b[0m \u001b[0mresponse\u001b[0m\u001b[1;33m:\u001b[0m\u001b[1;33m\u001b[0m\u001b[1;33m\u001b[0m\u001b[0m\n\u001b[1;32m--> 429\u001b[1;33m             \u001b[0mself\u001b[0m\u001b[1;33m.\u001b[0m\u001b[0merror_handler\u001b[0m\u001b[1;33m.\u001b[0m\u001b[0mcheck_response\u001b[0m\u001b[1;33m(\u001b[0m\u001b[0mresponse\u001b[0m\u001b[1;33m)\u001b[0m\u001b[1;33m\u001b[0m\u001b[1;33m\u001b[0m\u001b[0m\n\u001b[0m\u001b[0;32m    430\u001b[0m             \u001b[0mresponse\u001b[0m\u001b[1;33m[\u001b[0m\u001b[1;34m\"value\"\u001b[0m\u001b[1;33m]\u001b[0m \u001b[1;33m=\u001b[0m \u001b[0mself\u001b[0m\u001b[1;33m.\u001b[0m\u001b[0m_unwrap_value\u001b[0m\u001b[1;33m(\u001b[0m\u001b[0mresponse\u001b[0m\u001b[1;33m.\u001b[0m\u001b[0mget\u001b[0m\u001b[1;33m(\u001b[0m\u001b[1;34m\"value\"\u001b[0m\u001b[1;33m,\u001b[0m \u001b[1;32mNone\u001b[0m\u001b[1;33m)\u001b[0m\u001b[1;33m)\u001b[0m\u001b[1;33m\u001b[0m\u001b[1;33m\u001b[0m\u001b[0m\n\u001b[0;32m    431\u001b[0m             \u001b[1;32mreturn\u001b[0m \u001b[0mresponse\u001b[0m\u001b[1;33m\u001b[0m\u001b[1;33m\u001b[0m\u001b[0m\n",
      "\u001b[1;32m~\\anaconda3\\envs\\Lab1\\lib\\site-packages\\selenium\\webdriver\\remote\\errorhandler.py\u001b[0m in \u001b[0;36mcheck_response\u001b[1;34m(self, response)\u001b[0m\n\u001b[0;32m    230\u001b[0m                 \u001b[0malert_text\u001b[0m \u001b[1;33m=\u001b[0m \u001b[0mvalue\u001b[0m\u001b[1;33m[\u001b[0m\u001b[1;34m\"alert\"\u001b[0m\u001b[1;33m]\u001b[0m\u001b[1;33m.\u001b[0m\u001b[0mget\u001b[0m\u001b[1;33m(\u001b[0m\u001b[1;34m\"text\"\u001b[0m\u001b[1;33m)\u001b[0m\u001b[1;33m\u001b[0m\u001b[1;33m\u001b[0m\u001b[0m\n\u001b[0;32m    231\u001b[0m             \u001b[1;32mraise\u001b[0m \u001b[0mexception_class\u001b[0m\u001b[1;33m(\u001b[0m\u001b[0mmessage\u001b[0m\u001b[1;33m,\u001b[0m \u001b[0mscreen\u001b[0m\u001b[1;33m,\u001b[0m \u001b[0mstacktrace\u001b[0m\u001b[1;33m,\u001b[0m \u001b[0malert_text\u001b[0m\u001b[1;33m)\u001b[0m  \u001b[1;31m# type: ignore[call-arg]  # mypy is not smart enough here\u001b[0m\u001b[1;33m\u001b[0m\u001b[1;33m\u001b[0m\u001b[0m\n\u001b[1;32m--> 232\u001b[1;33m         \u001b[1;32mraise\u001b[0m \u001b[0mexception_class\u001b[0m\u001b[1;33m(\u001b[0m\u001b[0mmessage\u001b[0m\u001b[1;33m,\u001b[0m \u001b[0mscreen\u001b[0m\u001b[1;33m,\u001b[0m \u001b[0mstacktrace\u001b[0m\u001b[1;33m)\u001b[0m\u001b[1;33m\u001b[0m\u001b[1;33m\u001b[0m\u001b[0m\n\u001b[0m",
      "\u001b[1;31mSessionNotCreatedException\u001b[0m: Message: session not created: This version of ChromeDriver only supports Chrome version 114\nCurrent browser version is 88.0.4324.182 with binary path C:\\Users\\anku0\\AppData\\Local\\Chromium\\Application\\chrome.exe\nStacktrace:\nBacktrace:\n\tGetHandleVerifier [0x00FBA813+48355]\n\t(No symbol) [0x00F4C4B1]\n\t(No symbol) [0x00E55358]\n\t(No symbol) [0x00E761AC]\n\t(No symbol) [0x00E71EF3]\n\t(No symbol) [0x00E70579]\n\t(No symbol) [0x00EA0C55]\n\t(No symbol) [0x00EA093C]\n\t(No symbol) [0x00E9A536]\n\t(No symbol) [0x00E782DC]\n\t(No symbol) [0x00E793DD]\n\tGetHandleVerifier [0x0121AABD+2539405]\n\tGetHandleVerifier [0x0125A78F+2800735]\n\tGetHandleVerifier [0x0125456C+2775612]\n\tGetHandleVerifier [0x010451E0+616112]\n\t(No symbol) [0x00F55F8C]\n\t(No symbol) [0x00F52328]\n\t(No symbol) [0x00F5240B]\n\t(No symbol) [0x00F44FF7]\n\tBaseThreadInitThunk [0x7632FCC9+25]\n\tRtlGetAppContainerNamedObjectPath [0x771F82AE+286]\n\tRtlGetAppContainerNamedObjectPath [0x771F827E+238]\n"
     ]
    }
   ],
   "source": [
    "from selenium import webdriver\n",
    "from selenium.webdriver.chrome.service import Service\n",
    "from webdriver_manager.chrome import ChromeDriverManager\n",
    "\n",
    "driver = webdriver.Chrome(service=Service(ChromeDriverManager().install()))\n",
    "driver.implicitly_wait(10)\n",
    "driver.get(\"https://fchart.github.io/test.html\")\n",
    "print(\"-----------------------------\")\n",
    "print(driver.title)\n",
    "html = driver.page_source\n",
    "print(html)\n",
    "driver.quit()\n"
   ]
  },
  {
   "cell_type": "markdown",
   "id": "8e57b3cc",
   "metadata": {},
   "source": [
    "### `ch03\\ch3-5-2_edge.py`"
   ]
  },
  {
   "cell_type": "code",
   "execution_count": null,
   "id": "872772ef",
   "metadata": {},
   "outputs": [],
   "source": [
    "from selenium import webdriver\n",
    "from selenium.webdriver.edge.service import Service\n",
    "from webdriver_manager.microsoft import EdgeChromiumDriverManager\n",
    "\n",
    "driver = webdriver.Edge(service=Service(EdgeChromiumDriverManager().install()))\n",
    "driver.implicitly_wait(10)\n",
    "driver.get(\"https://fchart.github.io/test.html\")\n",
    "print(\"-----------------------------\")\n",
    "print(driver.title)\n",
    "html = driver.page_source\n",
    "print(html)\n",
    "driver.quit()"
   ]
  },
  {
   "cell_type": "markdown",
   "id": "3cd7c2b6",
   "metadata": {},
   "source": [
    "### `ch03\\ch3-5-2a.py`"
   ]
  },
  {
   "cell_type": "code",
   "execution_count": null,
   "id": "ed708e31",
   "metadata": {},
   "outputs": [],
   "source": [
    "from selenium import webdriver\n",
    "from selenium.webdriver.chrome.service import Service\n",
    "from webdriver_manager.chrome import ChromeDriverManager\n",
    "\n",
    "driver = webdriver.Chrome(service=Service(ChromeDriverManager().install()))\n",
    "driver.implicitly_wait(10)\n",
    "cookie = {\"name\": \"over18\", \"value\": \"1\"}\n",
    "driver.get(\"https://www.ptt.cc/bbs/Gossiping/index.html\")\n",
    "driver.add_cookie(cookie)\n",
    "print(\"-----------------------------\")\n",
    "print(driver.title)\n",
    "driver.quit()"
   ]
  },
  {
   "cell_type": "markdown",
   "id": "4b8efb2e",
   "metadata": {},
   "source": [
    "### `ch03\\ch3-5-2a_edge.py`"
   ]
  },
  {
   "cell_type": "code",
   "execution_count": null,
   "id": "58ae9cb7",
   "metadata": {},
   "outputs": [],
   "source": [
    "from selenium import webdriver\n",
    "from selenium.webdriver.edge.service import Service\n",
    "from webdriver_manager.microsoft import EdgeChromiumDriverManager\n",
    "\n",
    "driver = webdriver.Edge(service=Service(EdgeChromiumDriverManager().install()))\n",
    "driver.implicitly_wait(10)\n",
    "cookie = {\"name\": \"over18\", \"value\": \"1\"}\n",
    "driver.get(\"https://www.ptt.cc/bbs/Gossiping/index.html\")\n",
    "driver.add_cookie(cookie)\n",
    "print(\"-----------------------------\")\n",
    "print(driver.title)\n",
    "driver.quit()"
   ]
  },
  {
   "cell_type": "markdown",
   "id": "b4ddb724",
   "metadata": {},
   "source": [
    "### `ch03\\ch3-5-2b.py`"
   ]
  },
  {
   "cell_type": "code",
   "execution_count": null,
   "id": "46952864",
   "metadata": {},
   "outputs": [],
   "source": [
    "import requests   \n",
    "\n",
    "url = \"https://www.ptt.cc/bbs/Gossiping/index.html\"\n",
    "headers = {'user-agent': 'Mozilla/5.0 (Windows NT 10.0; Win64; x64) AppleWebKit/537.36 (KHTML, like Gecko) Chrome/63.0.3239.132 Safari/537.36'}\n",
    "cookies = { \"over18\": \"1\" }\n",
    "r = requests.get(url, cookies=cookies, headers=headers)\n",
    "print(r.text)\n",
    "\n"
   ]
  },
  {
   "cell_type": "markdown",
   "id": "f6abacd1",
   "metadata": {},
   "source": [
    "### `ch03\\ch3-5-2c.py`"
   ]
  },
  {
   "cell_type": "code",
   "execution_count": null,
   "id": "58d733ae",
   "metadata": {},
   "outputs": [],
   "source": [
    "from selenium import webdriver\n",
    "from selenium.webdriver.chrome.options import Options\n",
    "from selenium.webdriver.chrome.service import Service\n",
    "from webdriver_manager.chrome import ChromeDriverManager\n",
    "\n",
    "options = Options()\n",
    "options.add_argument(\"--headless\")\n",
    "driver = webdriver.Chrome(service=Service(ChromeDriverManager().install()),\n",
    "                          options=options)\n",
    "driver.implicitly_wait(10)\n",
    "driver.get(\"https://fchart.github.io/test.html\")\n",
    "print(\"-----------------------------\")\n",
    "print(driver.title)\n",
    "html = driver.page_source\n",
    "print(html)\n",
    "driver.quit()"
   ]
  },
  {
   "cell_type": "markdown",
   "id": "a6c326df",
   "metadata": {},
   "source": [
    "### `ch03\\urlencode.py`"
   ]
  },
  {
   "cell_type": "code",
   "execution_count": null,
   "id": "d1bcf3cc",
   "metadata": {},
   "outputs": [],
   "source": [
    "# -*- coding: utf-8 -*-\n",
    "#\n",
    "# Extracted from: https://github.com/micropython/micropython-lib/blob/master/collections.defaultdict/collections/defaultdict.py\n",
    "# Extracted from: https://github.com/micropython/micropython-lib/blob/master/urllib.parse/urllib/parse.py\n",
    "#\n",
    "# urencode.py\n",
    "_safe_quoters = {}\n",
    "_ALWAYS_SAFE = frozenset(b'ABCDEFGHIJKLMNOPQRSTUVWXYZ'\n",
    "                         b'abcdefghijklmnopqrstuvwxyz'\n",
    "                         b'0123456789'\n",
    "                         b'_.-')\n",
    "_ALWAYS_SAFE_BYTES = bytes(_ALWAYS_SAFE)\n",
    "\n",
    "class defaultdict:\n",
    "\n",
    "    @staticmethod\n",
    "    def __new__(cls, default_factory=None, **kwargs):\n",
    "        # Some code (e.g. urllib.urlparse) expects that basic defaultdict\n",
    "        # functionality will be available to subclasses without them\n",
    "        # calling __init__().\n",
    "        self = super(defaultdict, cls).__new__(cls)\n",
    "        self.d = {}\n",
    "        return self\n",
    "\n",
    "    def __init__(self, default_factory=None, **kwargs):\n",
    "        self.d = kwargs\n",
    "        self.default_factory = default_factory\n",
    "\n",
    "    def __getitem__(self, key):\n",
    "        try:\n",
    "            return self.d[key]\n",
    "        except KeyError:\n",
    "            v = self.__missing__(key)\n",
    "            self.d[key] = v\n",
    "            return v\n",
    "\n",
    "    def __setitem__(self, key, v):\n",
    "        self.d[key] = v\n",
    "\n",
    "    def __delitem__(self, key):\n",
    "        del self.d[key]\n",
    "\n",
    "    def __contains__(self, key):\n",
    "        return key in self.d\n",
    "\n",
    "    def __missing__(self, key):\n",
    "        if self.default_factory is None:\n",
    "            raise KeyError(key)\n",
    "        return self.default_factory()\n",
    "        \n",
    "class Quoter(defaultdict):\n",
    "    \"\"\"A mapping from bytes (in range(0,256)) to strings.\n",
    "\n",
    "    String values are percent-encoded byte values, unless the key < 128, and\n",
    "    in the \"safe\" set (either the specified safe set, or default set).\n",
    "    \"\"\"\n",
    "    # Keeps a cache internally, using defaultdict, for efficiency (lookups\n",
    "    # of cached keys don't call Python code at all).\n",
    "    def __init__(self, safe):\n",
    "        \"\"\"safe: bytes object.\"\"\"\n",
    "        self.safe = _ALWAYS_SAFE.union(safe)\n",
    "\n",
    "    def __repr__(self):\n",
    "        # Without this, will just display as a defaultdict\n",
    "        return \"<Quoter %r>\" % dict(self)\n",
    "\n",
    "    def __missing__(self, b):\n",
    "        # Handle a cache miss. Store quoted string in cache and return.\n",
    "        res = chr(b) if b in self.safe else '%{:02X}'.format(b)\n",
    "        self[b] = res\n",
    "        return res\n",
    "\n",
    "\n",
    "def clear_cache():\n",
    "    \"\"\"Clear the quoters cache.\"\"\"\n",
    "    _safe_quoters.clear()\n",
    "\n",
    "\n",
    "def quote(string, safe='/', encoding=None, errors=None):\n",
    "    \"\"\"quote('abc def') -> 'abc%20def'\n",
    "\n",
    "    Each part of a URL, e.g. the path info, the query, etc., has a\n",
    "    different set of reserved characters that must be quoted.\n",
    "\n",
    "    RFC 2396 Uniform Resource Identifiers (URI): Generic Syntax lists\n",
    "    the following reserved characters.\n",
    "\n",
    "    reserved    = \";\" | \"/\" | \"?\" | \":\" | \"@\" | \"&\" | \"=\" | \"+\" |\n",
    "                  \"$\" | \",\"\n",
    "\n",
    "    Each of these characters is reserved in some component of a URL,\n",
    "    but not necessarily in all of them.\n",
    "\n",
    "    By default, the quote function is intended for quoting the path\n",
    "    section of a URL.  Thus, it will not encode '/'.  This character\n",
    "    is reserved, but in typical usage the quote function is being\n",
    "    called on a path where the existing slash characters are used as\n",
    "    reserved characters.\n",
    "\n",
    "    string and safe may be either str or bytes objects. encoding must\n",
    "    not be specified if string is a str.\n",
    "\n",
    "    The optional encoding and errors parameters specify how to deal with\n",
    "    non-ASCII characters, as accepted by the str.encode method.\n",
    "    By default, encoding='utf-8' (characters are encoded with UTF-8), and\n",
    "    errors='strict' (unsupported characters raise a UnicodeEncodeError).\n",
    "    \"\"\"\n",
    "    if isinstance(string, str):\n",
    "        if not string:\n",
    "            return string\n",
    "        if encoding is None:\n",
    "            encoding = 'utf-8'\n",
    "        if errors is None:\n",
    "            errors = 'strict'\n",
    "        string = string.encode(encoding, errors)\n",
    "    else:\n",
    "        if encoding is not None:\n",
    "            raise TypeError(\"quote() doesn't support 'encoding' for bytes\")\n",
    "        if errors is not None:\n",
    "            raise TypeError(\"quote() doesn't support 'errors' for bytes\")\n",
    "\n",
    "    return quote_from_bytes(string, safe)\n",
    "\n",
    "\n",
    "def quote_plus(string, safe='', encoding=None, errors=None):\n",
    "    \"\"\"Like quote(), but also replace ' ' with '+', as required for quoting\n",
    "    HTML form values. Plus signs in the original string are escaped unless\n",
    "    they are included in safe. It also does not have safe default to '/'.\n",
    "    \"\"\"\n",
    "    # Check if ' ' in string, where string may either be a str or bytes.  If\n",
    "    # there are no spaces, the regular quote will produce the right answer.\n",
    "    if ((isinstance(string, str) and ' ' not in string) or\n",
    "            (isinstance(string, bytes) and b' ' not in string)):\n",
    "        return quote(string, safe, encoding, errors)\n",
    "\n",
    "    if isinstance(safe, str):\n",
    "        space = ' '\n",
    "    else:\n",
    "        space = b' '\n",
    "\n",
    "    string = quote(string, safe + space, encoding, errors)\n",
    "    return string.replace(' ', '+')\n",
    "\n",
    "\n",
    "def quote_from_bytes(bs, safe='/'):\n",
    "    \"\"\"Like quote(), but accepts a bytes object rather than a str, and does\n",
    "    not perform string-to-bytes encoding.  It always returns an ASCII string.\n",
    "    quote_from_bytes(b'abc def\\x3f') -> 'abc%20def%3f'\n",
    "    \"\"\"\n",
    "    if not isinstance(bs, (bytes, bytearray)):\n",
    "        raise TypeError(\"quote_from_bytes() expected bytes\")\n",
    "\n",
    "    if not bs:\n",
    "        return ''\n",
    "\n",
    "    if isinstance(safe, str):\n",
    "        # Normalize 'safe' by converting to bytes and removing non-ASCII chars\n",
    "        safe = safe.encode('ascii', 'ignore')\n",
    "    else:\n",
    "        safe = bytes([c for c in safe if c < 128])\n",
    "\n",
    "    if not bs.rstrip(_ALWAYS_SAFE_BYTES + safe):\n",
    "        return bs.decode()\n",
    "\n",
    "    try:\n",
    "        quoter = _safe_quoters[safe]\n",
    "    except KeyError:\n",
    "        _safe_quoters[safe] = quoter = Quoter(safe).__getitem__\n",
    "\n",
    "    return ''.join([quoter(char) for char in bs])\n",
    "\n",
    "\n",
    "def urlencode(query, doseq=False, safe='', encoding=None, errors=None):\n",
    "    \"\"\"Encode a dict or sequence of two-element tuples into a URL query string.\n",
    "\n",
    "    If any values in the query arg are sequences and doseq is true, each\n",
    "    sequence element is converted to a separate parameter.\n",
    "\n",
    "    If the query arg is a sequence of two-element tuples, the order of the\n",
    "    parameters in the output will match the order of parameters in the\n",
    "    input.\n",
    "\n",
    "    The components of a query arg may each be either a string or a bytes type.\n",
    "    When a component is a string, the safe, encoding and error parameters are\n",
    "    sent to the quote_plus function for encoding.\n",
    "    \"\"\"\n",
    "\n",
    "    if hasattr(query, \"items\"):\n",
    "        query = query.items()\n",
    "    else:\n",
    "        # It's a bother at times that strings and string-like objects are\n",
    "        # sequences.\n",
    "        try:\n",
    "            # non-sequence items should not work with len()\n",
    "            # non-empty strings will fail this\n",
    "            if len(query) and not isinstance(query[0], tuple):\n",
    "                raise TypeError\n",
    "            # Zero-length sequences of all types will get here and succeed,\n",
    "            # but that's a minor nit.  Since the original implementation\n",
    "            # allowed empty dicts that type of behavior probably should be\n",
    "            # preserved for consistency\n",
    "        except TypeError:\n",
    "            # ty, va, tb = sys.exc_info()\n",
    "            raise TypeError(\"not a valid non-string sequence \"\n",
    "                            \"or mapping object\")  # .with_traceback(tb)\n",
    "\n",
    "    l = []\n",
    "    if not doseq:\n",
    "        for k, v in query:\n",
    "            if isinstance(k, bytes):\n",
    "                k = quote_plus(k, safe)\n",
    "            else:\n",
    "                k = quote_plus(str(k), safe, encoding, errors)\n",
    "\n",
    "            if isinstance(v, bytes):\n",
    "                v = quote_plus(v, safe)\n",
    "            else:\n",
    "                v = quote_plus(str(v), safe, encoding, errors)\n",
    "\n",
    "            l.append(k + '=' + v)\n",
    "    else:\n",
    "        for k, v in query:\n",
    "            if isinstance(k, bytes):\n",
    "                k = quote_plus(k, safe)\n",
    "            else:\n",
    "                k = quote_plus(str(k), safe, encoding, errors)\n",
    "\n",
    "            if isinstance(v, bytes):\n",
    "                v = quote_plus(v, safe)\n",
    "                l.append(k + '=' + v)\n",
    "            elif isinstance(v, str):\n",
    "                v = quote_plus(v, safe, encoding, errors)\n",
    "                l.append(k + '=' + v)\n",
    "            else:\n",
    "                try:\n",
    "                    # Is this a sufficient test for sequence-ness?\n",
    "                    _ = len(v)  # noqa\n",
    "                except TypeError:\n",
    "                    # not a sequence\n",
    "                    v = quote_plus(str(v), safe, encoding, errors)\n",
    "                    l.append(k + '=' + v)\n",
    "                else:\n",
    "                    # loop over the sequence\n",
    "                    for elt in v:\n",
    "                        if isinstance(elt, bytes):\n",
    "                            elt = quote_plus(elt, safe)\n",
    "                        else:\n",
    "                            elt = quote_plus(str(elt), safe, encoding, errors)\n",
    "\n",
    "                        l.append(k + '=' + elt)\n",
    "\n",
    "    return '&'.join(l)\n"
   ]
  },
  {
   "cell_type": "markdown",
   "id": "c8ae7c55",
   "metadata": {},
   "source": [
    "### `ch04\\ch4-2-1.py`"
   ]
  },
  {
   "cell_type": "code",
   "execution_count": null,
   "id": "2216ceba",
   "metadata": {},
   "outputs": [],
   "source": [
    "from bs4 import BeautifulSoup \n",
    "\n",
    "html_str = \"<p>Hello World!</p>\"\n",
    "soup = BeautifulSoup(html_str, \"lxml\")\n",
    "print(soup)"
   ]
  },
  {
   "cell_type": "markdown",
   "id": "ba2c6f02",
   "metadata": {},
   "source": [
    "### `ch04\\ch4-2-1a.py`"
   ]
  },
  {
   "cell_type": "code",
   "execution_count": null,
   "id": "db910d2c",
   "metadata": {},
   "outputs": [],
   "source": [
    "import requests\n",
    "from bs4 import BeautifulSoup\n",
    "\n",
    "r = requests.get(\"https://fchart.github.io/ML/Surveys.html\")\n",
    "r.encoding = \"utf8\"\n",
    "soup = BeautifulSoup(r.text, \"lxml\")\n",
    "print(soup)\n",
    "\n",
    "\n",
    "\n"
   ]
  },
  {
   "cell_type": "markdown",
   "id": "2ce5640b",
   "metadata": {},
   "source": [
    "### `ch04\\ch4-2-1b.py`"
   ]
  },
  {
   "cell_type": "code",
   "execution_count": null,
   "id": "f92e1135",
   "metadata": {},
   "outputs": [],
   "source": [
    "from bs4 import BeautifulSoup\n",
    "\n",
    "with open(\"Surveys.html\", \"r\", encoding=\"utf8\") as fp:\n",
    "    soup = BeautifulSoup(fp, \"lxml\")\n",
    "    print(soup)\n",
    "\n",
    "\n",
    "\n",
    "\n"
   ]
  },
  {
   "cell_type": "markdown",
   "id": "0aa5f1d5",
   "metadata": {},
   "source": [
    "### `ch04\\ch4-2-2.py`"
   ]
  },
  {
   "cell_type": "code",
   "execution_count": null,
   "id": "c543f156",
   "metadata": {},
   "outputs": [],
   "source": [
    "from bs4 import BeautifulSoup\n",
    "\n",
    "with open(\"Surveys.html\", \"r\", encoding=\"utf8\") as fp:\n",
    "    soup = BeautifulSoup(fp, \"lxml\")\n",
    "\n",
    "tags = soup(\"a\")\n",
    "tag = tags[1]\n",
    "print(\"標籤名稱: \", tag.name)\n",
    "print(\"標籤內容: \", tag.text)\n",
    "print(\"標籤內容: \", tag.string)\n",
    "print(\"標籤內容: \", tag.b.string)\n",
    "print(\"URL網址: \", tag.get(\"href\", None))\n",
    "print(\"target屬性: \", tag[\"target\"])\n",
    "\n",
    "\n",
    "\n"
   ]
  },
  {
   "cell_type": "markdown",
   "id": "133df1be",
   "metadata": {},
   "source": [
    "### `ch04\\ch4-2-2a.py`"
   ]
  },
  {
   "cell_type": "code",
   "execution_count": null,
   "id": "e20b80e7",
   "metadata": {},
   "outputs": [],
   "source": [
    "from bs4 import BeautifulSoup\n",
    "\n",
    "with open(\"Surveys.html\", \"r\", encoding=\"utf8\") as fp:\n",
    "    soup = BeautifulSoup(fp, \"lxml\")\n",
    "\n",
    "tags = soup(\"img\")\n",
    "tag = tags[0]\n",
    "print(\"圖片網址: \", tag.get(\"src\", None))\n",
    "print(\"alt屬性: \", tag[\"alt\"])\n",
    "print(\"屬性: \", tag.attrs)\n",
    "\n",
    "\n"
   ]
  },
  {
   "cell_type": "markdown",
   "id": "2bfe8988",
   "metadata": {},
   "source": [
    "### `ch04\\ch4-2-3.py`"
   ]
  },
  {
   "cell_type": "code",
   "execution_count": null,
   "id": "bfe4c18b",
   "metadata": {},
   "outputs": [],
   "source": [
    "from bs4 import BeautifulSoup\n",
    "\n",
    "with open(\"Surveys.html\", \"r\", encoding=\"utf8\") as fp:\n",
    "    soup = BeautifulSoup(fp, \"lxml\")\n",
    "#import requests\n",
    "#r = requests.get(\"https://fchart.github.io/ML/Surveys.html\")\n",
    "#r.encoding = \"utf8\"\n",
    "#soup = BeautifulSoup(r.text, \"lxml\")  \n",
    "\n",
    "# 走訪下一層HTML標籤\n",
    "print(soup.html.body.div.div.p.a.text)\n",
    "print(\"----------------------\")\n",
    "# 走訪上一層HTML標籤\n",
    "tag_div = soup.select_one(\"#q1\") # 找到第1題的<div>標籤\n",
    "tag_li = tag_div.ul.li    # 走訪到之下的<ul>\n",
    "print(tag_li.text)\n",
    "# 使用parent屬性取得父標籤\n",
    "print(tag_li.parent.parent.p.a.text)\n",
    "print(\"----------------------\")\n",
    "tag_div = soup.select_one(\"#q2\") # 找到第2題的<div>標籤\n",
    "print(tag_div.find_previous_sibling().p.a.text)\n",
    "print(tag_div.find_next_sibling().p.a.text)\n",
    "\n",
    "\n",
    "\n"
   ]
  },
  {
   "cell_type": "markdown",
   "id": "4feaf6bc",
   "metadata": {},
   "source": [
    "### `ch04\\ch4-3-1.py`"
   ]
  },
  {
   "cell_type": "code",
   "execution_count": null,
   "id": "404b63f8",
   "metadata": {},
   "outputs": [],
   "source": [
    "from bs4 import BeautifulSoup\n",
    "\n",
    "with open(\"Surveys.html\", \"r\", encoding=\"utf8\") as fp:\n",
    "    soup = BeautifulSoup(fp, \"lxml\")\n",
    "\n",
    "#import requests\n",
    "#r = requests.get(\"https://fchart.github.io/ML/Surveys.html\")\n",
    "#r.encoding = \"utf8\"\n",
    "#soup = BeautifulSoup(r.text, \"lxml\")  \n",
    "\n",
    "# 搜尋<a>標籤\n",
    "tag_a = soup.find(\"a\") \n",
    "print(tag_a.text)\n",
    "# 呼叫多次find()方法\n",
    "tag_p = soup.find(name=\"p\")\n",
    "tag_a = tag_p.find(name=\"a\")\n",
    "print(tag_p.a.text)\n",
    "print(tag_a.text)\n",
    "\n",
    "\n"
   ]
  },
  {
   "cell_type": "markdown",
   "id": "5329d830",
   "metadata": {},
   "source": [
    "### `ch04\\ch4-3-1a.py`"
   ]
  },
  {
   "cell_type": "code",
   "execution_count": null,
   "id": "7e8de577",
   "metadata": {},
   "outputs": [],
   "source": [
    "from bs4 import BeautifulSoup\n",
    "\n",
    "with open(\"Surveys.html\", \"r\", encoding=\"utf8\") as fp:\n",
    "    soup = BeautifulSoup(fp, \"lxml\")\n",
    "#import requests\n",
    "#r = requests.get(\"https://fchart.github.io/ML/Surveys.html\")\n",
    "#r.encoding = \"utf8\"\n",
    "#soup = BeautifulSoup(r.text, \"lxml\")  \n",
    "\n",
    "# 使用id屬性搜尋<div>標籤\n",
    "tag_div = soup.find(id=\"q2\")\n",
    "tag_a = tag_div.find(\"a\") \n",
    "print(tag_a.text)\n",
    "\n",
    "\n"
   ]
  },
  {
   "cell_type": "markdown",
   "id": "b722f6aa",
   "metadata": {},
   "source": [
    "### `ch04\\ch4-3-1b.py`"
   ]
  },
  {
   "cell_type": "code",
   "execution_count": null,
   "id": "90d6bd61",
   "metadata": {},
   "outputs": [],
   "source": [
    "from bs4 import BeautifulSoup\n",
    "\n",
    "with open(\"Surveys.html\", \"r\", encoding=\"utf8\") as fp:\n",
    "    soup = BeautifulSoup(fp, \"lxml\")\n",
    "#import requests\n",
    "#r = requests.get(\"https://fchart.github.io/ML/Surveys.html\")\n",
    "#r.encoding = \"utf8\"\n",
    "#soup = BeautifulSoup(r.text, \"lxml\")  \n",
    "    \n",
    "# 使用class屬性搜尋<span>標籤\n",
    "tag_span = soup.find(attrs={\"class\": \"score\"})\n",
    "print(tag_span.text)\n",
    "# 搜尋第2題的第1個<span>標籤\n",
    "tag_div = soup.find(id=\"q2\")\n",
    "tag_span = tag_div.find(class_=\"score\")\n",
    "print(tag_span.text)\n",
    "\n"
   ]
  },
  {
   "cell_type": "markdown",
   "id": "46547e5d",
   "metadata": {},
   "source": [
    "### `ch04\\ch4-3-1c.py`"
   ]
  },
  {
   "cell_type": "code",
   "execution_count": null,
   "id": "64ad4fcc",
   "metadata": {},
   "outputs": [],
   "source": [
    "from bs4 import BeautifulSoup\n",
    "\n",
    "with open(\"Surveys.html\", \"r\", encoding=\"utf8\") as fp:\n",
    "    soup = BeautifulSoup(fp, \"lxml\")\n",
    "#import requests\n",
    "#r = requests.get(\"https://fchart.github.io/ML/Surveys.html\")\n",
    "#r.encoding = \"utf8\"\n",
    "#soup = BeautifulSoup(r.text, \"lxml\")  \n",
    "\n",
    "# 使用HTML5的data-屬性搜尋<div>標籤\n",
    "tag_div = soup.find(attrs={\"data-custom\": \"important\"})\n",
    "print(tag_div.text)\n",
    "\n",
    "\n"
   ]
  },
  {
   "cell_type": "markdown",
   "id": "df7365d1",
   "metadata": {},
   "source": [
    "### `ch04\\ch4-3-1d.py`"
   ]
  },
  {
   "cell_type": "code",
   "execution_count": null,
   "id": "f97621e4",
   "metadata": {},
   "outputs": [],
   "source": [
    "from bs4 import BeautifulSoup\n",
    "\n",
    "with open(\"Surveys.html\", \"r\", encoding=\"utf8\") as fp:\n",
    "    soup = BeautifulSoup(fp, \"lxml\")\n",
    "#import requests\n",
    "#r = requests.get(\"https://fchart.github.io/ML/Surveys.html\")\n",
    "#r.encoding = \"utf8\"\n",
    "#soup = BeautifulSoup(r.text, \"lxml\")\n",
    "\n",
    "# 使用文字內容來搜尋標籤\n",
    "tag_str = soup.find(text=\"請問你的\")\n",
    "print(tag_str)\n",
    "tag_str = soup.find(text=\"10\")\n",
    "print(tag_str)\n",
    "print(type(tag_str))        # NavigableString型態\n",
    "print(tag_str.parent.name)  # 父標籤名稱\n",
    "tag_str = soup.find(text=\"男 - \")\n",
    "print(tag_str)"
   ]
  },
  {
   "cell_type": "markdown",
   "id": "39dd262e",
   "metadata": {},
   "source": [
    "### `ch04\\ch4-3-1e.py`"
   ]
  },
  {
   "cell_type": "code",
   "execution_count": null,
   "id": "d8e12047",
   "metadata": {},
   "outputs": [],
   "source": [
    "from bs4 import BeautifulSoup\n",
    "\n",
    "with open(\"Surveys.html\", \"r\", encoding=\"utf8\") as fp:\n",
    "    soup = BeautifulSoup(fp, \"lxml\")\n",
    "#import requests\n",
    "#r = requests.get(\"https://fchart.github.io/ML/Surveys.html\")\n",
    "#r.encoding = \"utf8\"\n",
    "#soup = BeautifulSoup(r.text, \"lxml\")   \n",
    "    \n",
    "# 測試取出<li>標籤的內容\n",
    "tag_str = soup.find(text=\"女 - \")\n",
    "print(tag_str)\n",
    "tag_li = soup.find(class_=\"response\")\n",
    "print(tag_li.text)\n",
    "print(tag_li.string)\n",
    "print(tag_li.span.string)\n",
    "\n"
   ]
  },
  {
   "cell_type": "markdown",
   "id": "f417cb55",
   "metadata": {},
   "source": [
    "### `ch04\\ch4-3-1f.py`"
   ]
  },
  {
   "cell_type": "code",
   "execution_count": null,
   "id": "9775ab84",
   "metadata": {},
   "outputs": [],
   "source": [
    "from bs4 import BeautifulSoup\n",
    "\n",
    "with open(\"Surveys.html\", \"r\", encoding=\"utf8\") as fp:\n",
    "    soup = BeautifulSoup(fp, \"lxml\")\n",
    "#import requests\n",
    "#r = requests.get(\"https://fchart.github.io/ML/Surveys.html\")\n",
    "#r.encoding = \"utf8\"\n",
    "#soup = BeautifulSoup(r.text, \"lxml\")      \n",
    "    \n",
    "# 使用多條件來搜尋HTML標籤\n",
    "tag_div = soup.find(\"div\", class_=\"question\")\n",
    "print(tag_div.prettify())\n",
    "tag_p = soup.find(\"p\", class_=\"question\")\n",
    "print(tag_p.prettify())\n",
    "\n"
   ]
  },
  {
   "cell_type": "markdown",
   "id": "77afab52",
   "metadata": {},
   "source": [
    "### `ch04\\ch4-3-1g.py`"
   ]
  },
  {
   "cell_type": "code",
   "execution_count": null,
   "id": "9491a766",
   "metadata": {},
   "outputs": [],
   "source": [
    "from bs4 import BeautifulSoup\n",
    "\n",
    "with open(\"Surveys.html\", \"r\", encoding=\"utf8\") as fp:\n",
    "    soup = BeautifulSoup(fp, \"lxml\")\n",
    "#import requests\n",
    "#r = requests.get(\"https://fchart.github.io/ML/Surveys.html\")\n",
    "#r.encoding = \"utf8\"\n",
    "#soup = BeautifulSoup(r.text, \"lxml\")  \n",
    "    \n",
    "# 使用函數建立搜尋條件\n",
    "def is_secondary_question(tag):\n",
    "    return tag.has_attr(\"href\") and \\\n",
    "           tag.get(\"href\") == \"http://example.com/q2\"\n",
    "\n",
    "tag_a = soup.find(is_secondary_question)\n",
    "print(tag_a.prettify())\n",
    "\n",
    "\n"
   ]
  },
  {
   "cell_type": "markdown",
   "id": "a2bc0fb9",
   "metadata": {},
   "source": [
    "### `ch04\\ch4-3-2.py`"
   ]
  },
  {
   "cell_type": "code",
   "execution_count": null,
   "id": "79206273",
   "metadata": {},
   "outputs": [],
   "source": [
    "from bs4 import BeautifulSoup\n",
    "\n",
    "with open(\"Surveys.html\", \"r\", encoding=\"utf8\") as fp:\n",
    "    soup = BeautifulSoup(fp, \"lxml\")\n",
    "#import requests\n",
    "#r = requests.get(\"https://fchart.github.io/ML/Surveys.html\")\n",
    "#r.encoding = \"utf8\"\n",
    "#soup = BeautifulSoup(r.text, \"lxml\")      \n",
    "    \n",
    "# 找出所有問卷的題目串列\n",
    "tag_list = soup.find_all(\"p\", class_=\"question\")\n",
    "print(tag_list[0].prettify())\n",
    "\n",
    "for question in tag_list:\n",
    "    print(question.a.text)\n"
   ]
  },
  {
   "cell_type": "markdown",
   "id": "28009590",
   "metadata": {},
   "source": [
    "### `ch04\\ch4-3-2a.py`"
   ]
  },
  {
   "cell_type": "code",
   "execution_count": null,
   "id": "d11a3bbb",
   "metadata": {},
   "outputs": [],
   "source": [
    "from bs4 import BeautifulSoup\n",
    "\n",
    "with open(\"Surveys.html\", \"r\", encoding=\"utf8\") as fp:\n",
    "    soup = BeautifulSoup(fp, \"lxml\")\n",
    "#import requests\n",
    "#r = requests.get(\"https://fchart.github.io/ML/Surveys.html\")\n",
    "#r.encoding = \"utf8\"\n",
    "#soup = BeautifulSoup(r.text, \"lxml\")     \n",
    "    \n",
    "# 找出前2個問卷的題目串列\n",
    "tag_list = soup.find_all(\"p\", class_=\"question\", limit=2)\n",
    "print(len(tag_list))\n",
    "\n",
    "for question in tag_list:\n",
    "    print(question.a.text)\n"
   ]
  },
  {
   "cell_type": "markdown",
   "id": "587b7caa",
   "metadata": {},
   "source": [
    "### `ch04\\ch4-3-2b.py`"
   ]
  },
  {
   "cell_type": "code",
   "execution_count": null,
   "id": "ab8992a8",
   "metadata": {},
   "outputs": [],
   "source": [
    "from bs4 import BeautifulSoup\n",
    "\n",
    "with open(\"Surveys.html\", \"r\", encoding=\"utf8\") as fp:\n",
    "    soup = BeautifulSoup(fp, \"lxml\")\n",
    "#import requests\n",
    "#r = requests.get(\"https://fchart.github.io/ML/Surveys.html\")\n",
    "#r.encoding = \"utf8\"\n",
    "#soup = BeautifulSoup(r.text, \"lxml\")  \n",
    "\n",
    "tag_div = soup.find(\"div\", id=\"q2\")\n",
    "# 找出所有標籤串列\n",
    "tag_all = tag_div.find_all(True)\n",
    "for tag in tag_all:\n",
    "    print(tag.name)\n",
    "\n"
   ]
  },
  {
   "cell_type": "markdown",
   "id": "2add0f4d",
   "metadata": {},
   "source": [
    "### `ch04\\ch4-3-2c.py`"
   ]
  },
  {
   "cell_type": "code",
   "execution_count": null,
   "id": "13b36fa9",
   "metadata": {},
   "outputs": [],
   "source": [
    "from bs4 import BeautifulSoup\n",
    "\n",
    "with open(\"Surveys.html\", \"r\", encoding=\"utf8\") as fp:\n",
    "    soup = BeautifulSoup(fp, \"lxml\")\n",
    "#import requests\n",
    "#r = requests.get(\"https://fchart.github.io/ML/Surveys.html\")\n",
    "#r.encoding = \"utf8\"\n",
    "#soup = BeautifulSoup(r.text, \"lxml\")  \n",
    "\n",
    "tag_div = soup.find(\"div\", id=\"q2\")\n",
    "# 找出所有文字內容串列\n",
    "tag_str_list = tag_div.find_all(text=True)\n",
    "print(tag_str_list)\n",
    "# 找出指定的文字內容串列\n",
    "tag_str_list = tag_div.find_all(text=[\"20\", \"40\"])\n",
    "print(tag_str_list)\n",
    "\n"
   ]
  },
  {
   "cell_type": "markdown",
   "id": "ca5f5a25",
   "metadata": {},
   "source": [
    "### `ch04\\ch4-3-2d.py`"
   ]
  },
  {
   "cell_type": "code",
   "execution_count": null,
   "id": "a00864d1",
   "metadata": {},
   "outputs": [],
   "source": [
    "from bs4 import BeautifulSoup\n",
    "\n",
    "with open(\"Surveys.html\", \"r\", encoding=\"utf8\") as fp:\n",
    "    soup = BeautifulSoup(fp, \"lxml\")\n",
    "#import requests\n",
    "#r = requests.get(\"https://fchart.github.io/ML/Surveys.html\")\n",
    "#r.encoding = \"utf8\"\n",
    "#soup = BeautifulSoup(r.text, \"lxml\")  \n",
    "\n",
    "tag_div = soup.find(\"div\", id=\"q2\")\n",
    "# 找出所有<p>和<span>標籤\n",
    "tag_list = tag_div.find_all([\"p\", \"span\"])\n",
    "for tag in tag_list:\n",
    "    print(tag.name, tag.text.replace(\"\\n\", \"\"))\n",
    "print(\"-------------\")\n",
    "# 找出class屬性值question或selected的所有標籤\n",
    "tag_list = tag_div.find_all(class_=[\"question\", \"selected\"])\n",
    "for tag in tag_list:\n",
    "    print(tag.name, tag.text.replace(\"\\n\", \"\"))\n",
    "\n"
   ]
  },
  {
   "cell_type": "markdown",
   "id": "8a3b11f7",
   "metadata": {},
   "source": [
    "### `ch04\\ch4-3-2e.py`"
   ]
  },
  {
   "cell_type": "code",
   "execution_count": null,
   "id": "07e861bb",
   "metadata": {},
   "outputs": [],
   "source": [
    "from bs4 import BeautifulSoup\n",
    "\n",
    "with open(\"Surveys.html\", \"r\", encoding=\"utf8\") as fp:\n",
    "    soup = BeautifulSoup(fp, \"lxml\")\n",
    "#import requests\n",
    "#r = requests.get(\"https://fchart.github.io/ML/Surveys.html\")\n",
    "#r.encoding = \"utf8\"\n",
    "#soup = BeautifulSoup(r.text, \"lxml\")  \n",
    "\n",
    "tag_div = soup.find(\"div\", id=\"q2\")\n",
    "# 找出所有<li>子孫標籤\n",
    "tag_list = tag_div.find_all(\"li\")\n",
    "for tag in tag_list:\n",
    "    print(tag.text.replace(\"\\n\", \"\"))\n",
    "# 沒有使用遞迴來找出所有<li>標籤\n",
    "tag_list = tag_div.find_all(\"li\", recursive=False)\n",
    "print(tag_list)\n",
    "\n"
   ]
  },
  {
   "cell_type": "markdown",
   "id": "191984b6",
   "metadata": {},
   "source": [
    "### `ch04\\ch4-4-2.py`"
   ]
  },
  {
   "cell_type": "code",
   "execution_count": null,
   "id": "b3ac08ff",
   "metadata": {},
   "outputs": [],
   "source": [
    "from bs4 import BeautifulSoup\n",
    "\n",
    "with open(\"Surveys.html\", \"r\", encoding=\"utf8\") as fp:\n",
    "    soup = BeautifulSoup(fp, \"lxml\")\n",
    "#import requests\n",
    "#r = requests.get(\"https://fchart.github.io/ML/Surveys.html\")\n",
    "#r.encoding = \"utf8\"\n",
    "#soup = BeautifulSoup(r.text, \"lxml\")  \n",
    "\n",
    "# 搜尋<title>標籤和第3個<div>標籤\n",
    "tag_title = soup.select(\"title\")\n",
    "print(tag_title[0].text)\n",
    "tag_first_div = soup.find(\"div\")\n",
    "tag_div = tag_first_div.select(\"div:nth-of-type(3)\")\n",
    "print(tag_div[0].prettify())\n",
    "\n",
    "\n"
   ]
  },
  {
   "cell_type": "markdown",
   "id": "ca37ca04",
   "metadata": {},
   "source": [
    "### `ch04\\ch4-4-2a.py`"
   ]
  },
  {
   "cell_type": "code",
   "execution_count": null,
   "id": "c46ccfba",
   "metadata": {},
   "outputs": [],
   "source": [
    "from bs4 import BeautifulSoup\n",
    "\n",
    "with open(\"Surveys.html\", \"r\", encoding=\"utf8\") as fp:\n",
    "    soup = BeautifulSoup(fp, \"lxml\")\n",
    "#import requests\n",
    "#r = requests.get(\"https://fchart.github.io/ML/Surveys.html\")\n",
    "#r.encoding = \"utf8\"\n",
    "#soup = BeautifulSoup(r.text, \"lxml\")  \n",
    "\n",
    "# 搜尋class和id屬性值的標籤\n",
    "tag_div = soup.select(\"#q1\")\n",
    "print(tag_div[0].p.a.text)\n",
    "tag_span = soup.select(\"span#email\")\n",
    "print(tag_span[0].text)\n",
    "tag_div = soup.select(\"#q1, #q2\")  # 多個id屬性\n",
    "for item in tag_div:\n",
    "    print(item.p.a.text)\n",
    "print(\"-----------\")\n",
    "tag_div = soup.find(\"div\")  # 第1個<div>標籤\n",
    "tag_p = tag_div.select(\".question\")   \n",
    "for item in tag_p:\n",
    "    print(item.a[\"href\"])\n",
    "tag_span = soup.select(\"[class~=selected]\")\n",
    "for item in tag_span:\n",
    "    print(item.text)\n"
   ]
  },
  {
   "cell_type": "markdown",
   "id": "a4816731",
   "metadata": {},
   "source": [
    "### `ch04\\ch4-4-2b.py`"
   ]
  },
  {
   "cell_type": "code",
   "execution_count": null,
   "id": "1599e2c1",
   "metadata": {},
   "outputs": [],
   "source": [
    "from bs4 import BeautifulSoup\n",
    "\n",
    "with open(\"Surveys.html\", \"r\", encoding=\"utf8\") as fp:\n",
    "    soup = BeautifulSoup(fp, \"lxml\")\n",
    "#import requests\n",
    "#r = requests.get(\"https://fchart.github.io/ML/Surveys.html\")\n",
    "#r.encoding = \"utf8\"\n",
    "#soup = BeautifulSoup(r.text, \"lxml\")  \n",
    "\n",
    "# 搜尋特定屬性值的標籤\n",
    "def print_a(tag_a):\n",
    "    for tag in tag_a:\n",
    "        print(tag[\"href\"])\n",
    "    print(\"-----------\")    \n",
    "tag_a = soup.select(\"a[href]\")\n",
    "print_a(tag_a)\n",
    "tag_a = soup.select(\"a[href='http://example.com/q2']\")\n",
    "print_a(tag_a)\n",
    "tag_a = soup.select(\"a[href^='http://example.com']\")\n",
    "print_a(tag_a)\n",
    "tag_a = soup.select(\"a[href$='q3']\")\n",
    "print_a(tag_a)\n",
    "tag_a = soup.select(\"a[href*='q']\")\n",
    "print_a(tag_a)"
   ]
  },
  {
   "cell_type": "markdown",
   "id": "7f376df3",
   "metadata": {},
   "source": [
    "### `ch04\\ch4-4-2c.py`"
   ]
  },
  {
   "cell_type": "code",
   "execution_count": null,
   "id": "689d2fda",
   "metadata": {},
   "outputs": [],
   "source": [
    "from bs4 import BeautifulSoup\n",
    "\n",
    "with open(\"Surveys.html\", \"r\", encoding=\"utf8\") as fp:\n",
    "    soup = BeautifulSoup(fp, \"lxml\")\n",
    "#import requests\n",
    "#r = requests.get(\"https://fchart.github.io/ML/Surveys.html\")\n",
    "#r.encoding = \"utf8\"\n",
    "#soup = BeautifulSoup(r.text, \"lxml\")  \n",
    "\n",
    "# 搜尋<title>標籤, 和<div>標籤下的所有<a>標籤\n",
    "tag_title = soup.select(\"html head title\")\n",
    "print(tag_title[0].text)    \n",
    "tag_a = soup.select(\"body div a\")\n",
    "for tag in tag_a:\n",
    "    print(tag[\"href\"])\n",
    "\n",
    "\n",
    "\n"
   ]
  },
  {
   "cell_type": "markdown",
   "id": "93993182",
   "metadata": {},
   "source": [
    "### `ch04\\ch4-4-2d.py`"
   ]
  },
  {
   "cell_type": "code",
   "execution_count": null,
   "id": "ab3b8f5c",
   "metadata": {},
   "outputs": [],
   "source": [
    "from bs4 import BeautifulSoup\n",
    "\n",
    "with open(\"Surveys.html\", \"r\", encoding=\"utf8\") as fp:\n",
    "    soup = BeautifulSoup(fp, \"lxml\")\n",
    "#import requests\n",
    "#r = requests.get(\"https://fchart.github.io/ML/Surveys.html\")\n",
    "#r.encoding = \"utf8\"\n",
    "#soup = BeautifulSoup(r.text, \"lxml\")  \n",
    "\n",
    "# 搜尋指定標籤下的直接子標籤\n",
    "tag_a = soup.select(\"p > a\")\n",
    "for tag in tag_a:\n",
    "    print(tag[\"href\"])\n",
    "tag_li = soup.select(\"ul > li:nth-of-type(2)\")\n",
    "for tag in tag_li:\n",
    "    print(tag.text.replace(\"\\n\", \"\"))\n",
    "tag_span = soup.select(\"div > #email\")\n",
    "for tag in tag_span:\n",
    "    print(tag.prettify())  \n",
    "\n",
    "\n"
   ]
  },
  {
   "cell_type": "markdown",
   "id": "3c094153",
   "metadata": {},
   "source": [
    "### `ch04\\ch4-4-2e.py`"
   ]
  },
  {
   "cell_type": "code",
   "execution_count": null,
   "id": "7116e466",
   "metadata": {},
   "outputs": [],
   "source": [
    "from bs4 import BeautifulSoup\n",
    "\n",
    "with open(\"Surveys.html\", \"r\", encoding=\"utf8\") as fp:\n",
    "    soup = BeautifulSoup(fp, \"lxml\")\n",
    "#import requests\n",
    "#r = requests.get(\"https://fchart.github.io/ML/Surveys.html\")\n",
    "#r.encoding = \"utf8\"\n",
    "#soup = BeautifulSoup(r.text, \"lxml\")  \n",
    "\n",
    "# 搜尋兄弟標籤\n",
    "tag_div = soup.find(id=\"q1\")\n",
    "print(tag_div.p.a.text)\n",
    "print(\"-----------\")\n",
    "tag_div = soup.select(\"#q1 ~ .survey\")\n",
    "for item in tag_div:            \n",
    "    print(item.p.a.text)  \n",
    "print(\"-----------\")\n",
    "tag_div = soup.select(\"#q1 + .survey\")\n",
    "for item in tag_div:            \n",
    "    print(item.p.a.text)   \n",
    "\n",
    "\n"
   ]
  },
  {
   "cell_type": "markdown",
   "id": "c887df26",
   "metadata": {},
   "source": [
    "### `ch04\\ch4-4-3.py`"
   ]
  },
  {
   "cell_type": "code",
   "execution_count": null,
   "id": "e83e8a38",
   "metadata": {},
   "outputs": [],
   "source": [
    "from bs4 import BeautifulSoup\n",
    "\n",
    "with open(\"Surveys.html\", \"r\", encoding=\"utf8\") as fp:\n",
    "    soup = BeautifulSoup(fp, \"lxml\")\n",
    "#import requests\n",
    "#r = requests.get(\"https://fchart.github.io/ML/Surveys.html\")\n",
    "#r.encoding = \"utf8\"\n",
    "#soup = BeautifulSoup(r.text, \"lxml\")  \n",
    "\n",
    "# 使用select_one()方法搜尋標籤\n",
    "tag_a = soup.select_one(\"a[href]\")\n",
    "print(tag_a.prettify())\n"
   ]
  },
  {
   "cell_type": "markdown",
   "id": "f3ce2d2f",
   "metadata": {},
   "source": [
    "### `ch04\\ch4-5-2.py`"
   ]
  },
  {
   "cell_type": "code",
   "execution_count": null,
   "id": "c81f8d1d",
   "metadata": {},
   "outputs": [],
   "source": [
    "import re\n",
    "from bs4 import BeautifulSoup\n",
    "\n",
    "with open(\"Surveys.html\", \"r\", encoding=\"utf8\") as fp:\n",
    "    soup = BeautifulSoup(fp, \"lxml\")\n",
    "#import requests\n",
    "#r = requests.get(\"https://fchart.github.io/ML/Surveys.html\")\n",
    "#r.encoding = \"utf8\"\n",
    "#soup = BeautifulSoup(r.text, \"lxml\")  \n",
    "\n",
    "# 使用正規表達式搜尋文字內容\n",
    "tag_str = soup.find(text=\"男 -\")\n",
    "print(tag_str)\n",
    "regexp = re.compile(\"男 -\")\n",
    "tag_str = soup.find(text=regexp)\n",
    "print(tag_str)\n",
    "print(\"---------------------\")\n",
    "regexp = re.compile(\"\\w+ -\")\n",
    "tag_list = soup.find_all(text=regexp)\n",
    "print(tag_list)"
   ]
  },
  {
   "cell_type": "markdown",
   "id": "68ef417a",
   "metadata": {},
   "source": [
    "### `ch04\\ch4-5-2a.py`"
   ]
  },
  {
   "cell_type": "code",
   "execution_count": null,
   "id": "053eca0c",
   "metadata": {},
   "outputs": [],
   "source": [
    "import re\n",
    "from bs4 import BeautifulSoup\n",
    "\n",
    "with open(\"Surveys.html\", \"r\", encoding=\"utf8\") as fp:\n",
    "    soup = BeautifulSoup(fp, \"lxml\")\n",
    "#import requests\n",
    "#r = requests.get(\"https://fchart.github.io/ML/Surveys.html\")\n",
    "#r.encoding = \"utf8\"\n",
    "#soup = BeautifulSoup(r.text, \"lxml\")  \n",
    "\n",
    "# 使用正規表達式搜尋電子郵件地址\n",
    "email_regexp = re.compile(\"\\w+@\\w+\\.\\w+\")\n",
    "tag_str = soup.find(text=email_regexp)\n",
    "print(tag_str)\n",
    "print(\"---------------------\")\n",
    "tag_list = soup.find_all(text=email_regexp)\n",
    "print(tag_list)"
   ]
  },
  {
   "cell_type": "markdown",
   "id": "2149db6d",
   "metadata": {},
   "source": [
    "### `ch04\\ch4-5-2b.py`"
   ]
  },
  {
   "cell_type": "code",
   "execution_count": null,
   "id": "60708648",
   "metadata": {},
   "outputs": [],
   "source": [
    "import re\n",
    "from bs4 import BeautifulSoup\n",
    "\n",
    "with open(\"Surveys.html\", \"r\", encoding=\"utf8\") as fp:\n",
    "    soup = BeautifulSoup(fp, \"lxml\")\n",
    "#import requests\n",
    "#r = requests.get(\"https://fchart.github.io/ML/Surveys.html\")\n",
    "#r.encoding = \"utf8\"\n",
    "#soup = BeautifulSoup(r.text, \"lxml\")  \n",
    "\n",
    "# 使用正規表達式搜尋URL網址\n",
    "url_regexp = re.compile(\"^http:\")\n",
    "tag = soup.find(href=url_regexp)\n",
    "print(tag[\"href\"], tag.text)\n",
    "print(\"---------------------\")\n",
    "tag_list = soup.find_all(href=url_regexp)\n",
    "for tag in tag_list:\n",
    "    print(tag[\"href\"], tag.text)"
   ]
  },
  {
   "cell_type": "markdown",
   "id": "73253bc3",
   "metadata": {},
   "source": [
    "### `ch04\\ch4-6-1.py`"
   ]
  },
  {
   "cell_type": "code",
   "execution_count": null,
   "id": "02609fc7",
   "metadata": {},
   "outputs": [],
   "source": [
    "from selenium import webdriver\n",
    "from selenium.webdriver.chrome.service import Service\n",
    "from webdriver_manager.chrome import ChromeDriverManager\n",
    "from bs4 import BeautifulSoup\n",
    "\n",
    "driver = webdriver.Chrome(service=Service(ChromeDriverManager().install()))\n",
    "driver.implicitly_wait(10)\n",
    "driver.get(\"https://fchart.github.io/ML/Example.html\")\n",
    "print(driver.title)\n",
    "soup = BeautifulSoup(driver.page_source, \"lxml\")\n",
    "tag_ol = soup.find(\"ol\", {\"id\":\"list\"})\n",
    "tags_li = tag_ol.find_all(\"li\", class_=\"line\")\n",
    "for tag in tags_li:\n",
    "    print(tag.text)\n",
    "driver.quit()\n",
    "\n"
   ]
  },
  {
   "cell_type": "markdown",
   "id": "3d3de8d4",
   "metadata": {},
   "source": [
    "### `ch04\\ch4-6-1_edge.py`"
   ]
  },
  {
   "cell_type": "code",
   "execution_count": null,
   "id": "656223a3",
   "metadata": {},
   "outputs": [],
   "source": [
    "from selenium import webdriver\n",
    "from selenium.webdriver.edge.service import Service\n",
    "from webdriver_manager.microsoft import EdgeChromiumDriverManager\n",
    "from bs4 import BeautifulSoup\n",
    "\n",
    "driver = webdriver.Edge(service=Service(EdgeChromiumDriverManager().install()))\n",
    "driver.implicitly_wait(10)\n",
    "driver.get(\"https://fchart.github.io/ML/Example.html\")\n",
    "print(driver.title)\n",
    "soup = BeautifulSoup(driver.page_source, \"lxml\")\n",
    "tag_ol = soup.find(\"ol\", {\"id\":\"list\"})\n",
    "tags_li = tag_ol.find_all(\"li\", class_=\"line\")\n",
    "for tag in tags_li:\n",
    "    print(tag.text)\n",
    "driver.quit()\n",
    "\n"
   ]
  },
  {
   "cell_type": "markdown",
   "id": "90060c33",
   "metadata": {},
   "source": [
    "### `ch04\\ch4-6-2.py`"
   ]
  },
  {
   "cell_type": "code",
   "execution_count": null,
   "id": "6abb7d32",
   "metadata": {},
   "outputs": [],
   "source": [
    "from selenium import webdriver\n",
    "from selenium.webdriver.chrome.service import Service\n",
    "from webdriver_manager.chrome import ChromeDriverManager\n",
    "from selenium.webdriver.common.by import By\n",
    "\n",
    "driver = webdriver.Chrome(service=Service(ChromeDriverManager().install()))\n",
    "driver.implicitly_wait(10)\n",
    "driver.get(\"https://fchart.github.io/Example.html\")\n",
    "tag_ol = driver.find_element(by=By.XPATH, value='//*[@id=\"list\"]')\n",
    "print(tag_ol.tag_name)\n",
    "tags_li = tag_ol.find_elements(by=By.XPATH, value='//li')\n",
    "for tag in tags_li:\n",
    "    print(tag.text, tag.get_attribute(\"class\"))\n",
    "driver.quit()\n"
   ]
  },
  {
   "cell_type": "markdown",
   "id": "c342fc21",
   "metadata": {},
   "source": [
    "### `ch04\\ch4-6-2_edge.py`"
   ]
  },
  {
   "cell_type": "code",
   "execution_count": null,
   "id": "561fd8a8",
   "metadata": {},
   "outputs": [],
   "source": [
    "from selenium import webdriver\n",
    "from selenium.webdriver.common.by import By\n",
    "from selenium.webdriver.edge.service import Service\n",
    "from webdriver_manager.microsoft import EdgeChromiumDriverManager\n",
    "\n",
    "driver = webdriver.Edge(service=Service(EdgeChromiumDriverManager().install()))\n",
    "driver.implicitly_wait(10)\n",
    "driver.get(\"https://fchart.github.io/ML/Example.html\")\n",
    "tag_ol = driver.find_element(By.XPATH, '/html/body/ol')\n",
    "print(tag_ol.tag_name)\n",
    "tags_li = tag_ol.find_elements(By.XPATH, '//li')\n",
    "for tag in tags_li:\n",
    "    print(tag.text, tag.get_attribute(\"class\"))\n",
    "driver.quit()\n"
   ]
  },
  {
   "cell_type": "markdown",
   "id": "f7410123",
   "metadata": {},
   "source": [
    "### `ch04\\ch4-6-2a.py`"
   ]
  },
  {
   "cell_type": "code",
   "execution_count": null,
   "id": "f3dde69b",
   "metadata": {},
   "outputs": [],
   "source": [
    "from selenium import webdriver\n",
    "from selenium.webdriver.common.by import By\n",
    "from selenium.webdriver.chrome.service import Service\n",
    "from webdriver_manager.chrome import ChromeDriverManager\n",
    "\n",
    "\n",
    "driver = webdriver.Chrome(service=Service(ChromeDriverManager().install()))\n",
    "driver.implicitly_wait(10)\n",
    "driver.get(\"https://fchart.github.io/ML/Example.html\")\n",
    "tag_ol = driver.find_element(By.XPATH, '/html/body/ol')\n",
    "print(tag_ol.tag_name)\n",
    "tags_li = tag_ol.find_elements(By.XPATH, '//li')\n",
    "for tag in tags_li:\n",
    "    print(tag.text, tag.get_attribute(\"class\"))\n",
    "driver.quit()\n"
   ]
  },
  {
   "cell_type": "markdown",
   "id": "8eba9667",
   "metadata": {},
   "source": [
    "### `ch04\\ch4-6-2a_edge.py`"
   ]
  },
  {
   "cell_type": "code",
   "execution_count": null,
   "id": "9e05f545",
   "metadata": {},
   "outputs": [],
   "source": [
    "from selenium import webdriver\n",
    "\n",
    "driver = webdriver.Edge(\"./msedgedriver\")\n",
    "driver.implicitly_wait(10)\n",
    "driver.get(\"https://fchart.github.io/Example.html\")\n",
    "tag_ol = driver.find_element_by_xpath('/html/body/ol')\n",
    "print(tag_ol.tag_name)\n",
    "tags_li = tag_ol.find_elements_by_xpath('//li')\n",
    "for tag in tags_li:\n",
    "    print(tag.text, tag.get_attribute(\"class\"))\n",
    "driver.quit()\n"
   ]
  },
  {
   "cell_type": "markdown",
   "id": "5c3ac360",
   "metadata": {},
   "source": [
    "### `ch04\\ch4-6-2b.py`"
   ]
  },
  {
   "cell_type": "code",
   "execution_count": null,
   "id": "04e0c8e8",
   "metadata": {},
   "outputs": [],
   "source": [
    "from selenium import webdriver\n",
    "from selenium.webdriver.common.by import By\n",
    "from selenium.webdriver.chrome.service import Service\n",
    "from webdriver_manager.chrome import ChromeDriverManager\n",
    "from bs4 import BeautifulSoup\n",
    "\n",
    "driver = webdriver.Chrome(service=Service(ChromeDriverManager().install()))\n",
    "driver.implicitly_wait(10)\n",
    "driver.get(\"https://fchart.github.io/ML/Example.html\")\n",
    "tag_ol = driver.find_element(By.XPATH, '//*[@id=\"list\"]')\n",
    "print(tag_ol.tag_name)\n",
    "print(tag_ol.get_attribute('innerHTML'))\n",
    "soup = BeautifulSoup(tag_ol.get_attribute('innerHTML'), \"lxml\")\n",
    "tags_li = soup.find_all(\"li\", class_=\"line\")\n",
    "for tag in tags_li:\n",
    "    print(tag.text)\n",
    "driver.quit()\n"
   ]
  },
  {
   "cell_type": "markdown",
   "id": "96df24ae",
   "metadata": {},
   "source": [
    "### `ch04\\ch4-6-2b_edge.py`"
   ]
  },
  {
   "cell_type": "code",
   "execution_count": null,
   "id": "f2247ec6",
   "metadata": {},
   "outputs": [],
   "source": [
    "from selenium import webdriver\n",
    "from selenium.webdriver.common.by import By\n",
    "from selenium.webdriver.edge.service import Service\n",
    "from webdriver_manager.microsoft import EdgeChromiumDriverManager\n",
    "from bs4 import BeautifulSoup\n",
    "\n",
    "driver = webdriver.Edge(service=Service(EdgeChromiumDriverManager().install()))\n",
    "driver.implicitly_wait(10)\n",
    "driver.get(\"https://fchart.github.io/ML/Example.html\")\n",
    "tag_ol = driver.find_element(By.XPATH, '//*[@id=\"list\"]')\n",
    "print(tag_ol.tag_name)\n",
    "print(tag_ol.get_attribute('innerHTML'))\n",
    "soup = BeautifulSoup(tag_ol.get_attribute('innerHTML'), \"lxml\")\n",
    "tags_li = soup.find_all(\"li\", class_=\"line\")\n",
    "for tag in tags_li:\n",
    "    print(tag.text)\n",
    "driver.quit()\n"
   ]
  },
  {
   "cell_type": "markdown",
   "id": "3ea8a85a",
   "metadata": {},
   "source": [
    "### `ch04\\mops_stats.py`"
   ]
  },
  {
   "cell_type": "code",
   "execution_count": null,
   "id": "b4795067",
   "metadata": {},
   "outputs": [],
   "source": [
    "from selenium import webdriver\n",
    "from selenium.webdriver.chrome.service import Service\n",
    "from webdriver_manager.chrome import ChromeDriverManager\n",
    "from selenium.webdriver.support.ui import Select\n",
    "from selenium.webdriver.common.keys import Keys\n",
    "from selenium.webdriver.common.by import By\n",
    "import time\n",
    "\n",
    "driver = webdriver.Chrome(service=Service(ChromeDriverManager().install()))\n",
    "driver.get('https://mops.twse.com.tw/mops/web/t163sb01')\n",
    "driver.implicitly_wait(5)\n",
    "\n",
    "isnew = ['歷史資料']\n",
    "seasons = ['1', '2', '3', '4']\n",
    "years = ['108', '109', '110', '111', '112']\n",
    "compand_id = '2330'\n",
    "\n",
    "isNew_dropdown_element = driver.find_element(By.XPATH, '//*[@id=\"isnew\"]')\n",
    "select_isNew = Select(isNew_dropdown_element)\n",
    "select_isNew.select_by_visible_text(isnew[0])\n",
    "\n",
    "companyID_text_element = driver.find_element(By.XPATH, '//*[@id=\"co_id\"]')\n",
    "companyID_text_element.send_keys(compand_id)\n",
    "companyID_text_element.send_keys(Keys.ENTER)\n",
    "\n",
    "for year in years:\n",
    "    for season in seasons:\n",
    "        year_element = driver.find_element(By.XPATH, '//*[@id=\"year\"]')\n",
    "        season_dropdown_element = driver.find_element(By.XPATH, '//*[@id=\"season\"]')\n",
    "        submit_button_element = driver.find_element(By.XPATH, '/html/body/center/table/tbody/tr/td/div[4]/table/tbody/tr/td/div/table/tbody/tr/td[3]/div/div[3]/form/table/tbody/tr/td[4]/table/tbody/tr/td[2]/div/div/input')\n",
    "\n",
    "        year_element.clear()\n",
    "        year_element.send_keys(year)\n",
    "\n",
    "        select_season = Select(season_dropdown_element)\n",
    "        select_season.select_by_visible_text(season)\n",
    "\n",
    "        # time.sleep(5)\n",
    "        #\n",
    "        submit_button_element.click()\n",
    "\n",
    "        time.sleep(5)\n",
    "\n",
    "driver.quit()"
   ]
  },
  {
   "cell_type": "markdown",
   "id": "cd23775b",
   "metadata": {},
   "source": [
    "### `ch04\\pleague_stats.py`"
   ]
  },
  {
   "cell_type": "code",
   "execution_count": null,
   "id": "5c3f19ac",
   "metadata": {},
   "outputs": [],
   "source": [
    "import requests\n",
    "from bs4 import BeautifulSoup\n",
    "import pandas as pd\n",
    "\n",
    "\n",
    "seasons = ['2022-23', '2023-24', '2024-25']\n",
    "game_types = {'熱身賽': 1, '例行賽': 2, '季後賽': 3, '總冠軍賽': 4}\n",
    "\n",
    "team_stats = dict()\n",
    "for season in seasons:\n",
    "    for game_type_str, game_type_no in game_types.items():\n",
    "    \n",
    "        pleague_url = f\"https://pleagueofficial.com/stat-team/{season}/{game_type_no}#record\"\n",
    "        \n",
    "        print('Requesting', pleague_url, end='...')\n",
    "        \n",
    "        # Request the url\n",
    "        r = requests.get(pleague_url)\n",
    "        if r.status_code != requests.codes.ok:\n",
    "            print(f'Failed to access {pleague_url}')\n",
    "            exit()\n",
    "        \n",
    "        \n",
    "        # Parse the html page    \n",
    "        soup = BeautifulSoup(r.text, \"lxml\")\n",
    "        \n",
    "        div_tags = soup.find_all(class_='container-fluid pb-5')\n",
    "        for div_tag in div_tags:\n",
    "            stat_type = div_tag.h1.text # 球隊數據╱進攻 or 球隊數據╱防守\n",
    "            \n",
    "            if not stat_type in team_stats.keys():\n",
    "                team_stats[stat_type] = list()\n",
    "            \n",
    "            table_tags = div_tag.find_all('table')\n",
    "            for table_tag in table_tags:        \n",
    "                # 表格標題(即第一列)\n",
    "                th_tags = table_tag.find('thead').find_all('th')\n",
    "                \n",
    "                # 表格剩下的所有列資料\n",
    "                tr_tags = table_tag.find('tbody').find_all('tr')\n",
    "                for tr_tag in tr_tags:\n",
    "                    team_stat = dict()\n",
    "                    # 第一欄(是標題欄)\n",
    "                    team_stat[th_tags[0].text] = tr_tag.th.a.text\n",
    "                    # 剩下的所有欄資料\n",
    "                    td_tags = tr_tag('td')\n",
    "                    for i in range(len(td_tags)):\n",
    "                        team_stat[th_tags[i+1].text] = td_tags[i].text\n",
    "                    team_stat['賽季'] = season\n",
    "                    team_stat['類型'] = game_type_str\n",
    "                        \n",
    "                    team_stats[stat_type].append(team_stat)\n",
    "\n",
    "        print('done')\n",
    "        \n",
    "for stat_type, stat_data in team_stats.items():\n",
    "    df = pd.DataFrame(stat_data)\n",
    "    df.to_csv(f'{stat_type}.csv')\n"
   ]
  },
  {
   "cell_type": "markdown",
   "id": "c948db85",
   "metadata": {},
   "source": [
    "### `ch04\\t1league_stats.py`"
   ]
  },
  {
   "cell_type": "code",
   "execution_count": null,
   "id": "f1104f04",
   "metadata": {},
   "outputs": [],
   "source": [
    "from selenium import webdriver\n",
    "from selenium.webdriver.chrome.service import Service\n",
    "from webdriver_manager.chrome import ChromeDriverManager\n",
    "from selenium.webdriver.support.ui import Select\n",
    "from selenium.webdriver.common.by import By\n",
    "import time\n",
    "\n",
    "service = Service()\n",
    "options = webdriver.ChromeOptions()\n",
    "driver = webdriver.Chrome(service=service (ChromeDriverManager().install()),options=options)\n",
    "driver.implicitly_wait(10)\n",
    "driver.get(\"https://t1league.basketball/stats/team\")\n",
    "\n",
    "seasons = [\"2021-22 球季\", \"2022-23 球季\", \"2023-24 球季\"]\n",
    "\n",
    "table_id = \"vgt-table\"  # Replace with the actual locator\n",
    "table_element = driver.find_element(By.ID, table_id)\n",
    "# process thead\n",
    "print(seasons[0], end=', ')\n",
    "thead_tag = table_element.find_element(By.TAG_NAME, 'thead')\n",
    "span_tags = thead_tag.find_elements(By.TAG_NAME, 'span')\n",
    "for span_tag in span_tags:\n",
    "    if span_tag.get_attribute('data-v-87c52ad6') == '':\n",
    "        span_text = span_tag.text.replace('\\n', '')\n",
    "        print(span_text, end=', ')\n",
    "print()\n",
    "\n",
    "for season in seasons:\n",
    "    # Find the dropdown element by its ID, name, XPath, or other suitable locators\n",
    "    dropdown_locator = '//*[@id=\"__layout\"]/main/div[3]/article/div[3]/section[1]/div/div/div/div[1]/div/select'  # Replace with the actual locator\n",
    "    dropdown_element = driver.find_element(By.XPATH, dropdown_locator)\n",
    "\n",
    "    # Create a Select object to interact with the dropdown\n",
    "    select = Select(dropdown_element)\n",
    "\n",
    "    # Select an option by its visible text\n",
    "    select.select_by_visible_text(season)\n",
    "    # Wait for a moment to see the change (you may need to adjust this based on the webpage)\n",
    "    time.sleep(5)\n",
    "\n",
    "    # after the page is refresh, we need locate the table element again\n",
    "    table_id = \"vgt-table\"  # Replace with the actual locator\n",
    "    table_element = driver.find_element(By.ID, table_id)\n",
    "\n",
    "    # process tbody\n",
    "    tbody_tag = table_element.find_element(By.TAG_NAME, 'tbody')\n",
    "    tr_tags = tbody_tag.find_elements(By.TAG_NAME, \"tr\")\n",
    "    for tr_tag in tr_tags:\n",
    "        td_tags = tr_tag.find_elements(By.TAG_NAME, \"td\")\n",
    "        print(season, end=', ')\n",
    "        for idx, td_tag in enumerate(td_tags):\n",
    "            if idx == 1:\n",
    "                img_tag = td_tag.find_element(By.TAG_NAME, \"img\")\n",
    "                print(img_tag.get_attribute('src'), end=', ')\n",
    "            else:\n",
    "                print(td_tag.text, end=', ')\n",
    "        print()\n",
    "\n",
    "    # Wait for a moment to see the change (you may need to adjust this based on the webpage)\n",
    "    time.sleep(5)\n",
    "\n",
    "driver.quit()\n"
   ]
  },
  {
   "cell_type": "markdown",
   "id": "8979276a",
   "metadata": {},
   "source": [
    "### `ch04\\tpbl_stas.py`"
   ]
  },
  {
   "cell_type": "code",
   "execution_count": null,
   "id": "5661441a",
   "metadata": {},
   "outputs": [],
   "source": [
    "from selenium import webdriver\n",
    "from selenium.webdriver.chrome.service import Service\n",
    "from webdriver_manager.chrome import ChromeDriverManager\n",
    "from selenium.webdriver.support.ui import Select\n",
    "from selenium.webdriver.common.by import By\n",
    "import time\n",
    "from bs4 import BeautifulSoup\n",
    "import pandas as pd\n",
    "\n",
    "driver = webdriver.Chrome(service=Service(ChromeDriverManager().install()))\n",
    "driver.get('https://tpbl.basketball/stats/players')\n",
    "driver.implicitly_wait(5)\n",
    "\n",
    "game_types = ['例行賽', '熱身賽']\n",
    "data_types = ['場均數據', '累積數據']\n",
    "\n",
    "player_stats = []\n",
    "\n",
    "for game_type in game_types:\n",
    "    game_type_element = driver.find_element(By.XPATH, '//*[@id=\"__nuxt\"]/main/div/article/section[3]/div[2]/div/div[2]/div[2]/select')\n",
    "    \n",
    "    select_game_type = Select(game_type_element)\n",
    "    select_game_type.select_by_visible_text(game_type)\n",
    "    \n",
    "    for data_type in data_types:\n",
    "        data_type_element = driver.find_element(By.XPATH, '//*[@id=\"__nuxt\"]/main/div/article/section[3]/div[2]/div/div[2]/div[6]/select')\n",
    "        \n",
    "        select_data_type = Select(data_type_element)\n",
    "        select_data_type.select_by_visible_text(data_type)\n",
    "        \n",
    "        \n",
    "        # find talbe element\n",
    "        tag_table = driver.find_element(By.XPATH, '//*[@id=\"vgt-table\"]')\n",
    "        \n",
    "        # construct soup object from the table element\n",
    "        soup = BeautifulSoup(tag_table.get_attribute('innerHTML'), \"lxml\")\n",
    "        \n",
    "        # retrieve column names\n",
    "        column_names = ['競賽類型', '資料類型']\n",
    "        tags_th = soup.find_all('th')\n",
    "        for tag_th in tags_th:\n",
    "            tags_span = tag_th.find_all('span')\n",
    "            column_names.append(tags_span[1].text)\n",
    "            # print(tags_span[1].text)\n",
    "    \n",
    "            \n",
    "        # retrieve each player's record\n",
    "        tag_tbody = soup.find('tbody')\n",
    "        tags_tr = tag_tbody.find_all('tr')\n",
    "        for tag_tr in tags_tr:\n",
    "            column_data = [game_type, data_type]\n",
    "            tags_td = tag_tr.find_all('td')\n",
    "            for i, tag_td in enumerate(tags_td):\n",
    "                if i == 1: # 球員姓名\n",
    "                    tag_h6 = tag_td.span.div.div.find_next_sibling().h6\n",
    "                    column_data.append(tag_h6.text)\n",
    "                    # print(tag_h6.text)\n",
    "                elif i == 2: # 球隊的影像\n",
    "                    tag_div = tag_td.span.div\n",
    "                    tag_img = tag_div.find('img')\n",
    "                    column_data.append(tag_img['src'])\n",
    "                    # print(tag_img['src'])\n",
    "                else:\n",
    "                    column_data.append(tag_td.span.text)\n",
    "                    # print(tag_td.span.text)\n",
    "            result = dict(zip(column_names, column_data))\n",
    "            player_stats.append(result)\n",
    "            # print(result)\n",
    "    \n",
    "    \n",
    "        time.sleep(5)\n",
    "        \n",
    "print(len(player_stats))\n",
    "print(player_stats[0])\n",
    "\n",
    "df = pd.DataFrame(player_stats)\n",
    "df.to_csv('tpbl_player_stats.csv')\n",
    "\n",
    "driver.quit()"
   ]
  },
  {
   "cell_type": "markdown",
   "id": "42323f3d",
   "metadata": {},
   "source": [
    "### `ch05\\ch5-1-1.py`"
   ]
  },
  {
   "cell_type": "code",
   "execution_count": null,
   "id": "6a14dc33",
   "metadata": {},
   "outputs": [],
   "source": [
    "str1 = \"\"\"Python is a programming language that lets you work quickly\n",
    "and integrate systems more effectively.\"\"\"\n",
    "\n",
    "list1 = str1.split()\n",
    "print(list1)\n",
    "\n",
    "str2 = \",\".join(list1)\n",
    "print(str2) \n"
   ]
  },
  {
   "cell_type": "markdown",
   "id": "0555d3c2",
   "metadata": {},
   "source": [
    "### `ch05\\ch5-1-1a.py`"
   ]
  },
  {
   "cell_type": "code",
   "execution_count": null,
   "id": "6c77dba3",
   "metadata": {},
   "outputs": [],
   "source": [
    "str1 = \"  Python is a \\nprogramming language.\\n\\r   \"\n",
    "\n",
    "str2 = str1.replace(\"\\n\", \"\").replace(\"\\r\", \"\")\n",
    "print(\"'\" + str2 + \"'\")\n",
    "print(\"'\" + str2.strip() + \"'\")\n",
    "\n"
   ]
  },
  {
   "cell_type": "markdown",
   "id": "cccf4e51",
   "metadata": {},
   "source": [
    "### `ch05\\ch5-1-1b.py`"
   ]
  },
  {
   "cell_type": "code",
   "execution_count": null,
   "id": "ca077c33",
   "metadata": {},
   "outputs": [],
   "source": [
    "import string\n",
    "\n",
    "str1 = \"#$%^Python -is- *a* $%programming_ language.$\"\n",
    "\n",
    "print(string.punctuation)\n",
    "list1 = str1.split(\" \")\n",
    "for item in list1:\n",
    "    print(item.strip(string.punctuation))\n"
   ]
  },
  {
   "cell_type": "markdown",
   "id": "443f6222",
   "metadata": {},
   "source": [
    "### `ch05\\ch5-1-1c.py`"
   ]
  },
  {
   "cell_type": "code",
   "execution_count": null,
   "id": "22ad2709",
   "metadata": {},
   "outputs": [],
   "source": [
    "baseUrl = \"http://example.com\"\n",
    "list1 = [\"http://www.example.com/test\", \"http://example.com/word\",\n",
    "         \"media/ex.jpg\", \"http://www.example.com/index.html\"]\n",
    "\n",
    "def getUrl(baseUrl, source):\n",
    "    if source.startswith(\"http://www.\"):\n",
    "        url = \"http://\" + source[11:]\n",
    "    elif source.startswith(\"http://\"):\n",
    "        url = source\n",
    "    elif source.startswith(\"www\"):\n",
    "        url = source[4:]\n",
    "        url = \"http://\" + source\n",
    "    else:\n",
    "        url = baseUrl + \"/\" + source\n",
    "        \n",
    "    if baseUrl not in url:\n",
    "        return None\n",
    "    return url\n",
    "\n",
    "for item in list1:\n",
    "    print(getUrl(baseUrl, item))\n"
   ]
  },
  {
   "cell_type": "markdown",
   "id": "5b77fb33",
   "metadata": {},
   "source": [
    "### `ch05\\ch5-1-2.py`"
   ]
  },
  {
   "cell_type": "code",
   "execution_count": null,
   "id": "b05e4e6f",
   "metadata": {},
   "outputs": [],
   "source": [
    "import re\n",
    "\n",
    "str1 = \"  Python, is   a, \\nprogramming, \\n\\nlanguage.\\n\\r   \"\n",
    "\n",
    "list1 = str1.split(\",\")\n",
    "for item in list1:\n",
    "    item = re.sub(r\"\\n+\", \"\", item)\n",
    "    item = re.sub(r\" +\", \" \", item)\n",
    "    item = item.strip()\n",
    "    print(\"'\" + item + \"'\")\n",
    "    "
   ]
  },
  {
   "cell_type": "markdown",
   "id": "53d1776e",
   "metadata": {},
   "source": [
    "### `ch05\\ch5-1-2a.py`"
   ]
  },
  {
   "cell_type": "code",
   "execution_count": null,
   "id": "48c90758",
   "metadata": {},
   "outputs": [],
   "source": [
    "import re\n",
    "\n",
    "list1 = [\"\", \"/\", \"path/\", \"/path\", \"/path/\", \"//path/\", \"/path///\"]\n",
    "\n",
    "def getPath(path):\n",
    "    if path:\n",
    "        if path[0] != \"/\":\n",
    "            path = \"/\" + path\n",
    "        if path[-1] != \"/\":\n",
    "            path = path + \"/\"\n",
    "        path = re.sub(r\"/{2,}\", \"/\", path)\n",
    "    else:\n",
    "        path = \"/\"\n",
    "        \n",
    "    return path\n",
    "\n",
    "for item in list1:\n",
    "    item = getPath(item)\n",
    "    print(item)\n",
    "\n"
   ]
  },
  {
   "cell_type": "markdown",
   "id": "43b7331b",
   "metadata": {},
   "source": [
    "### `ch05\\ch5-1-2b.py`"
   ]
  },
  {
   "cell_type": "code",
   "execution_count": null,
   "id": "fdf701c2",
   "metadata": {},
   "outputs": [],
   "source": [
    "import re\n",
    "\n",
    "phone = \"0938-111-4567 # Pyhone Number\"\n",
    "\n",
    "num = re.sub(r\"#.*$\", \"\", phone)\n",
    "print(num)\n",
    "num = re.sub(r\"\\D\", \"\", phone)\n",
    "print(num)\n"
   ]
  },
  {
   "cell_type": "markdown",
   "id": "5e515ee9",
   "metadata": {},
   "source": [
    "### `ch05\\ch5-1-2c.py`"
   ]
  },
  {
   "cell_type": "code",
   "execution_count": null,
   "id": "f568903f",
   "metadata": {},
   "outputs": [],
   "source": [
    "import re\n",
    "\n",
    "str1 = \"上映日期: 2021-04-21\"\n",
    "match = re.findall(r\"[0-9]{4}\\-[0-9]{2}\\-[0-9]{2}\", str1)\n",
    "if match:\n",
    "    print(match[0])\n",
    "else:\n",
    "    print(\"沒有找到符合的字串!\")\n",
    "\n",
    "\n"
   ]
  },
  {
   "cell_type": "markdown",
   "id": "a2b5b130",
   "metadata": {},
   "source": [
    "### `ch05\\ch5-1-2d.py`"
   ]
  },
  {
   "cell_type": "code",
   "execution_count": null,
   "id": "a84523e8",
   "metadata": {},
   "outputs": [],
   "source": [
    "import re\n",
    "\n",
    "str1 = \"\"\"Joe's email is joe@gmail.com,  \n",
    "Tom's email is tom@yahoo.com\"\"\"\n",
    "match = re.findall(r\"[\\w.-]+@[A-Za-z0-9_.-]+\", str1)\n",
    "if match:\n",
    "    print(match[0], match[1])\n",
    "else:\n",
    "    print(\"沒有找到符合的字串!\")\n",
    "\n",
    "\n"
   ]
  },
  {
   "cell_type": "markdown",
   "id": "5ba7bbfc",
   "metadata": {},
   "source": [
    "### `ch05\\ch5-1-2e.py`"
   ]
  },
  {
   "cell_type": "code",
   "execution_count": null,
   "id": "f54527d2",
   "metadata": {},
   "outputs": [],
   "source": [
    "import re\n",
    "\n",
    "str1 = \"促銷價: $128.95\"\n",
    "match = re.findall(r\"[0-9]+\\.*[0-9]*\", str1)\n",
    "if match:\n",
    "    print(match[0])\n",
    "else:\n",
    "    print(\"沒有找到符合的字串!\")\n",
    "\n",
    "\n"
   ]
  },
  {
   "cell_type": "code",
   "execution_count": null,
   "id": "da1ef42a-2454-4ba1-8082-02aadac49b6c",
   "metadata": {},
   "outputs": [],
   "source": [
    "pip install csv"
   ]
  },
  {
   "cell_type": "markdown",
   "id": "d964f459",
   "metadata": {},
   "source": [
    "### `ch05\\ch5-2-1.py`"
   ]
  },
  {
   "cell_type": "code",
   "execution_count": null,
   "id": "aabcb22b",
   "metadata": {},
   "outputs": [],
   "source": [
    "import csv\n",
    "\n",
    "csvfile = \"Example.csv\"\n",
    "with open(csvfile, 'r') as fp:\n",
    "    reader = csv.reader(fp)\n",
    "    for row in reader:\n",
    "        print(','.join(row))\n"
   ]
  },
  {
   "cell_type": "markdown",
   "id": "a018efc0",
   "metadata": {},
   "source": [
    "### `ch05\\ch5-2-1a.py`"
   ]
  },
  {
   "cell_type": "code",
   "execution_count": null,
   "id": "0ca48c57",
   "metadata": {},
   "outputs": [],
   "source": [
    "import csv\n",
    "\n",
    "csvfile = \"Example2.csv\"\n",
    "list1 = [[10,33,45], [5, 25, 56]]\n",
    "with open(csvfile, 'w+', newline='') as fp:\n",
    "    writer = csv.writer(fp)\n",
    "    writer.writerow([\"Data1\",\"Data2\",\"Data3\"])\n",
    "    for row in list1:\n",
    "        writer.writerow(row)\n"
   ]
  },
  {
   "cell_type": "markdown",
   "id": "4a2a7bf9",
   "metadata": {},
   "source": [
    "### `ch05\\ch5-2-1b.py`"
   ]
  },
  {
   "cell_type": "code",
   "execution_count": null,
   "id": "31149373",
   "metadata": {},
   "outputs": [],
   "source": [
    "import requests\n",
    "from bs4 import BeautifulSoup\n",
    "import csv\n",
    "\n",
    "url = \"https://fchart.github.io/ML/table.html\"\n",
    "csvfile = \"CompanySales.csv\"\n",
    "r = requests.get(url)\n",
    "r.encoding = \"utf8\"\n",
    "soup = BeautifulSoup(r.text, \"lxml\")\n",
    "tag_table = soup.find(class_=\"tt\")  # 找到<table>\n",
    "rows = tag_table.findAll(\"tr\")   # 找出所有<tr>\n",
    "# 開啟CSV檔案寫入截取的資料\n",
    "with open(csvfile, 'w+', newline='', encoding=\"utf-8\") as fp:\n",
    "    writer = csv.writer(fp)\n",
    "    for row in rows:\n",
    "        rowList = []\n",
    "        for cell in row.findAll([\"td\", \"th\"]):\n",
    "            rowList.append(cell.get_text().replace(\"\\n\", \"\").replace(\"\\r\", \"\"))\n",
    "        writer.writerow(rowList)\n",
    "\n",
    "\n"
   ]
  },
  {
   "cell_type": "markdown",
   "id": "08d254c1",
   "metadata": {},
   "source": [
    "### `ch05\\ch5-2-2.py`"
   ]
  },
  {
   "cell_type": "code",
   "execution_count": null,
   "id": "09bceb23",
   "metadata": {},
   "outputs": [],
   "source": [
    "import json\n",
    "\n",
    "data = {\n",
    "   \"name\": \"Joe Chen\", \n",
    "   \"score\": 95, \n",
    "   \"tel\": \"0933123456\"         \n",
    "}\n",
    "\n",
    "json_str = json.dumps(data)\n",
    "print(json_str)\n",
    "data2 = json.loads(json_str)\n",
    "print(data2)\n"
   ]
  },
  {
   "cell_type": "markdown",
   "id": "9223fa2f",
   "metadata": {},
   "source": [
    "### `ch05\\ch5-2-2a.py`"
   ]
  },
  {
   "cell_type": "code",
   "execution_count": null,
   "id": "e1ba8d3c",
   "metadata": {},
   "outputs": [],
   "source": [
    "import json\n",
    "\n",
    "data = {\n",
    "   \"name\": \"Joe Chen\", \n",
    "   \"score\": 95, \n",
    "   \"tel\": \"0933123456\"        \n",
    "}\n",
    "\n",
    "jsonfile = \"Example.json\"\n",
    "with open(jsonfile, 'w') as fp:\n",
    "    json.dump(data, fp)    \n"
   ]
  },
  {
   "cell_type": "markdown",
   "id": "3f4e4e98",
   "metadata": {},
   "source": [
    "### `ch05\\ch5-2-2b.py`"
   ]
  },
  {
   "cell_type": "code",
   "execution_count": null,
   "id": "0bc62a7a",
   "metadata": {},
   "outputs": [],
   "source": [
    "import json\n",
    "\n",
    "jsonfile = \"Example.json\"\n",
    "with open(jsonfile, 'r') as fp:\n",
    "    data = json.load(fp)\n",
    "json_str = json.dumps(data)    \n",
    "print(json_str)  \n"
   ]
  },
  {
   "cell_type": "markdown",
   "id": "b7778784",
   "metadata": {},
   "source": [
    "### `ch05\\ch5-2-2c.py`"
   ]
  },
  {
   "cell_type": "code",
   "execution_count": null,
   "id": "248d7d42",
   "metadata": {},
   "outputs": [],
   "source": [
    "import json\n",
    "import requests\n",
    "\n",
    "url = \"https://fchart.github.io/json/GoogleBooks.json\"\n",
    "jsonfile = \"Books.json\"\n",
    "r = requests.get(url)\n",
    "r.encoding = \"utf8\"\n",
    "json_data = json.loads(r.text)\n",
    "with open(jsonfile, 'w') as fp:\n",
    "    json.dump(json_data, fp)    \n",
    "\n",
    "\n"
   ]
  },
  {
   "cell_type": "markdown",
   "id": "92949048",
   "metadata": {},
   "source": [
    "### `ch05\\ch5-2-3.py`"
   ]
  },
  {
   "cell_type": "code",
   "execution_count": null,
   "id": "14aff21a",
   "metadata": {},
   "outputs": [],
   "source": [
    "import requests\n",
    "\n",
    "url = \"https://fchart.github.io/img/fchart03.png\"\n",
    "path = \"fchart03.png\"\n",
    "response = requests.get(url, stream=True)\n",
    "if response.status_code == 200:\n",
    "    with open(path, 'wb') as fp:\n",
    "        for chunk in response:\n",
    "            fp.write(chunk)\n",
    "    print(\"圖檔已經下載\")        \n",
    "else:\n",
    "    print(\"錯誤! HTTP請求失敗...\")\n",
    "    "
   ]
  },
  {
   "cell_type": "markdown",
   "id": "049d2395",
   "metadata": {},
   "source": [
    "### `ch05\\ch5-2-3a.py`"
   ]
  },
  {
   "cell_type": "code",
   "execution_count": null,
   "id": "4dc8549d",
   "metadata": {},
   "outputs": [],
   "source": [
    "import urllib.request\n",
    "\n",
    "url = \"https://fchart.github.io/img/fchart03.png\"\n",
    "response = urllib.request.urlopen(url)\n",
    "fp = open(\"fchart04.png\", \"wb\")\n",
    "size = 0\n",
    "while True:\n",
    "    info = response.read(10000)\n",
    "    if len(info) < 1:\n",
    "        break\n",
    "    size = size + len(info)\n",
    "    fp.write(info)    \n",
    "print(size, \"個字元下載...\")\n",
    "fp.close()\n",
    "response.close()\n"
   ]
  },
  {
   "cell_type": "markdown",
   "id": "e832dcea",
   "metadata": {},
   "source": [
    "### `ch05\\ch5-2-3b.py`"
   ]
  },
  {
   "cell_type": "code",
   "execution_count": null,
   "id": "f3a278d7",
   "metadata": {},
   "outputs": [],
   "source": [
    "import re\n",
    "import requests\n",
    "from bs4 import BeautifulSoup\n",
    "\n",
    "url = \"http://www.google.com.tw\"\n",
    "path = \"logo.png\"\n",
    "r = requests.get(url)\n",
    "r.encoding = \"utf8\"\n",
    "soup = BeautifulSoup(r.text, \"lxml\")\n",
    "tag_img = soup.find(\"img\")\n",
    "# 取出Logo圖片的正規運算式\n",
    "match = re.search(r\"(/[^/#?]+)+\\.(?:jpg|gif|png)\", str(tag_img))\n",
    "print(match.group())\n",
    "url = url + str(match.group())\n",
    "response = requests.get(url, stream=True)\n",
    "if response.status_code == 200:\n",
    "    with open(path, 'wb') as fp:\n",
    "        for chunk in response:\n",
    "            fp.write(chunk)\n",
    "    print(\"圖檔logo.png已經下載\")        \n",
    "else:\n",
    "    print(\"錯誤! HTTP請求失敗...\")\n",
    "\n",
    "\n"
   ]
  },
  {
   "cell_type": "markdown",
   "id": "1d38dfd8",
   "metadata": {},
   "source": [
    "### `ch05\\ch5-3-3.py`"
   ]
  },
  {
   "cell_type": "code",
   "execution_count": null,
   "id": "9990ecd3",
   "metadata": {},
   "outputs": [],
   "source": [
    "import sqlite3\n",
    "\n",
    "# 建立資料庫連接\n",
    "conn = sqlite3.connect(\"Books.sqlite\")\n",
    "# 執行SQL指令SELECT\n",
    "cursor = conn.execute(\"SELECT * FROM Books\")\n",
    "# 取出查詢結果的每一筆記錄\n",
    "for row in cursor:\n",
    "    print(row[0], row[1])\n",
    "conn.close()  # 關閉資料庫連接\n"
   ]
  },
  {
   "cell_type": "markdown",
   "id": "3a0d5570",
   "metadata": {},
   "source": [
    "### `ch05\\ch5-3-3a.py`"
   ]
  },
  {
   "cell_type": "code",
   "execution_count": null,
   "id": "43515be3",
   "metadata": {},
   "outputs": [],
   "source": [
    "import sqlite3\n",
    "\n",
    "book = \"D0002,MySQL資料庫系統,600\"\n",
    "f = book.split(\",\")\n",
    "\n",
    "# 建立資料庫連接\n",
    "conn = sqlite3.connect(\"Books.sqlite\")\n",
    "# 建立SQL指令INSERT字串\n",
    "sql = \"INSERT INTO Books (id, title, price) VALUES ('{0}','{1}',{2})\"\n",
    "sql = sql.format(f[0], f[1], f[2])\n",
    "print(sql)\n",
    "cursor = conn.execute(sql)   # 執行SQL指令\n",
    "print(cursor.rowcount)\n",
    "conn.commit() # 確認交易\n",
    "conn.close()  # 關閉資料庫連接\n",
    "\n"
   ]
  },
  {
   "cell_type": "markdown",
   "id": "811d80db",
   "metadata": {},
   "source": [
    "### `ch05\\ch5-3-3b.py`"
   ]
  },
  {
   "cell_type": "code",
   "execution_count": null,
   "id": "6efcc020",
   "metadata": {},
   "outputs": [],
   "source": [
    "import sqlite3\n",
    "\n",
    "d = {\n",
    "   \"id\": \"D0003\",\n",
    "   \"title\": \"MongoDB資料庫系統\",\n",
    "   \"price\": 650\n",
    "}\n",
    "\n",
    "# 建立資料庫連接\n",
    "conn = sqlite3.connect(\"Books.sqlite\")\n",
    "# 建立SQL指令INSERT字串\n",
    "sql = \"INSERT INTO Books (id, title, price) VALUES ('{0}','{1}',{2})\"\n",
    "sql = sql.format(d['id'], d['title'], d['price'])\n",
    "print(sql)\n",
    "cursor = conn.execute(sql)   # 執行SQL指令\n",
    "print(cursor.rowcount)\n",
    "conn.commit() # 確認交易\n",
    "conn.close()  # 關閉資料庫連接\n",
    "\n"
   ]
  },
  {
   "cell_type": "markdown",
   "id": "636ce7fb",
   "metadata": {},
   "source": [
    "### `ch05\\ch5-3-3c.py`"
   ]
  },
  {
   "cell_type": "code",
   "execution_count": null,
   "id": "9c7ad39d",
   "metadata": {},
   "outputs": [],
   "source": [
    "import sqlite3\n",
    "\n",
    "# 建立資料庫連接\n",
    "conn = sqlite3.connect(\"Books.sqlite\")\n",
    "cursor = conn.cursor()\n",
    "sql = \"\"\"UPDATE Books SET price=650 \n",
    "         WHERE id='D0002' \"\"\"\n",
    "sql2 = \"\"\"UPDATE Books SET price=700 \n",
    "         WHERE id='D0003' \"\"\"\n",
    "try:\n",
    "    cursor.execute(sql) \n",
    "    cursor.execute(sql2)\n",
    "    conn.commit()\n",
    "    print(\"更新 2 筆記錄...\")\n",
    "except:\n",
    "    conn.rollback()\n",
    "    print(\"更新記錄失敗...\")\n",
    "conn.close() \n"
   ]
  },
  {
   "cell_type": "markdown",
   "id": "a73bb1b7",
   "metadata": {},
   "source": [
    "### `ch05\\ch5-3-3d.py`"
   ]
  },
  {
   "cell_type": "code",
   "execution_count": null,
   "id": "4ea95813",
   "metadata": {},
   "outputs": [],
   "source": [
    "import sqlite3\n",
    "\n",
    "# 建立資料庫連接\n",
    "conn = sqlite3.connect(\"Books.sqlite\")\n",
    "cursor = conn.cursor()\n",
    "sql = \"DELETE FROM Books WHERE id='D0002'\"\n",
    "sql2 = \"DELETE FROM Books WHERE id='D0003'\"\n",
    "try:\n",
    "    cursor.execute(sql) \n",
    "    cursor.execute(sql2)\n",
    "    conn.commit()\n",
    "    print(\"刪除 2 筆記錄...\")\n",
    "except:\n",
    "    conn.rollback()\n",
    "    print(\"刪除記錄失敗...\")\n",
    "conn.close() \n",
    "\n"
   ]
  },
  {
   "cell_type": "markdown",
   "id": "4bfa0bb0",
   "metadata": {},
   "source": [
    "### `ch05\\ch5-4-2.py`"
   ]
  },
  {
   "cell_type": "code",
   "execution_count": null,
   "id": "36eeb863",
   "metadata": {},
   "outputs": [],
   "source": [
    "import pymysql \n",
    "\n",
    "db = pymysql.connect(host=\"localhost\",user=\"root\",password=\"\",database=\"mybook\",charset=\"utf8\")\n",
    "cursor = db.cursor() \n",
    "cursor.execute(\"SELECT * FROM book\")\n",
    "row = cursor.fetchone()\n",
    "print(row[0], row[1])\n",
    "print(\"-------------------------\")      \n",
    "data = cursor.fetchall()\n",
    "for row in data:\n",
    "    print(row[0], row[1])\n",
    "db.close()\n",
    "\n"
   ]
  },
  {
   "cell_type": "markdown",
   "id": "2e79eebb",
   "metadata": {},
   "source": [
    "### `ch05\\ch5-4-2a.py`"
   ]
  },
  {
   "cell_type": "code",
   "execution_count": null,
   "id": "1b135fce",
   "metadata": {},
   "outputs": [],
   "source": [
    "import pymysql\n",
    "\n",
    "book = \"P0004,Node.js程式設計,陳會安,550,程式設計,2020-01-01\"\n",
    "f = book.split(\",\")\n",
    "\n",
    "db = pymysql.connect(host=\"localhost\",user=\"root\",password=\"\",database=\"mybook\",charset=\"utf8\")\n",
    "cursor = db.cursor()\n",
    "sql = \"\"\"INSERT INTO book (id,title,author,price,category,pubdate)\n",
    "         VALUES ('{0}','{1}','{2}',{3},'{4}','{5}')\"\"\"\n",
    "sql = sql.format(f[0], f[1], f[2], f[3], f[4], f[5])\n",
    "print(sql)\n",
    "try:\n",
    "    cursor.execute(sql)\n",
    "    db.commit()\n",
    "    print(\"新增一筆記錄...\")\n",
    "except:\n",
    "    db.rollback() \n",
    "    print(\"新增記錄失敗...\")\n",
    "db.close()\n",
    "\n"
   ]
  },
  {
   "cell_type": "markdown",
   "id": "ceff6d99",
   "metadata": {},
   "source": [
    "### `ch05\\ch5-4-2b.py`"
   ]
  },
  {
   "cell_type": "code",
   "execution_count": null,
   "id": "c2869f25",
   "metadata": {},
   "outputs": [],
   "source": [
    "import pymysql\n",
    "\n",
    "d = {\n",
    "   \"id\": \"P0005\",\n",
    "   \"title\": \"Android程式設計\",\n",
    "   \"author\": \"陳會安\",\n",
    "   \"price\": 650,\n",
    "   \"cat\": \"程式設計\",\n",
    "   \"date\": \"2019-02-01\"\n",
    "}\n",
    "\n",
    "db = pymysql.connect(host=\"localhost\",user=\"root\",password=\"\",database=\"mybook\",charset=\"utf8\")\n",
    "cursor = db.cursor()\n",
    "sql = \"\"\"INSERT INTO book (id,title,author,price,category,pubdate)\n",
    "         VALUES ('{0}','{1}','{2}',{3},'{4}','{5}')\"\"\"\n",
    "sql = sql.format(d['id'],d['title'],d['author'],d['price'],d['cat'],d['date'])\n",
    "print(sql)\n",
    "try:\n",
    "    cursor.execute(sql) \n",
    "    db.commit()\n",
    "    print(\"新增一筆記錄...\")\n",
    "except:\n",
    "    db.rollback()\n",
    "    print(\"新增記錄失敗...\")\n",
    "db.close() \n"
   ]
  },
  {
   "cell_type": "markdown",
   "id": "9b0cedea",
   "metadata": {},
   "source": [
    "### `ch05\\ch5-4-2c.py`"
   ]
  },
  {
   "cell_type": "code",
   "execution_count": null,
   "id": "b27b5e10",
   "metadata": {},
   "outputs": [],
   "source": [
    "import pymysql\n",
    "\n",
    "db = pymysql.connect(host=\"localhost\",user=\"root\",password=\"\",database=\"mybook\",charset=\"utf8\")\n",
    "cursor = db.cursor()\n",
    "sql = \"\"\"UPDATE book SET price=500, \n",
    "         pubdate='2020/02/01'\n",
    "         WHERE id='P0004' \"\"\"\n",
    "sql2 = \"\"\"UPDATE book SET price=600, \n",
    "         pubdate='2019/03/01'\n",
    "         WHERE id='P0005' \"\"\"\n",
    "try:\n",
    "    cursor.execute(sql) \n",
    "    cursor.execute(sql2)\n",
    "    db.commit()\n",
    "    print(\"更新 2 筆記錄...\")\n",
    "except:\n",
    "    db.rollback()\n",
    "    print(\"更新記錄失敗...\")\n",
    "db.close() \n"
   ]
  },
  {
   "cell_type": "markdown",
   "id": "c9d05c60",
   "metadata": {},
   "source": [
    "### `ch05\\ch5-4-2d.py`"
   ]
  },
  {
   "cell_type": "code",
   "execution_count": null,
   "id": "0304d21a",
   "metadata": {},
   "outputs": [],
   "source": [
    "import pymysql\n",
    "\n",
    "db = pymysql.connect(host=\"localhost\",user=\"root\",password=\"\",database=\"mybook\",charset=\"utf8\")\n",
    "cursor = db.cursor()\n",
    "sql = \"DELETE FROM book WHERE id='P0004'\"\n",
    "sql2 = \"DELETE FROM book WHERE id='P0005'\"\n",
    "try:\n",
    "    cursor.execute(sql) \n",
    "    cursor.execute(sql2)\n",
    "    db.commit()\n",
    "    print(\"刪除 2 筆記錄...\")\n",
    "except:\n",
    "    db.rollback()\n",
    "    print(\"刪除記錄失敗...\")\n",
    "db.close() \n",
    "\n"
   ]
  },
  {
   "cell_type": "markdown",
   "id": "c83a855c",
   "metadata": {},
   "source": [
    "### `ch05\\ch5-5-3.py`"
   ]
  },
  {
   "cell_type": "code",
   "execution_count": null,
   "id": "0ee250f1",
   "metadata": {},
   "outputs": [],
   "source": [
    "import pymongo\n",
    "\n",
    "client = pymongo.MongoClient(\"localhost\", 27017)\n",
    "db = client.mydb          # 選擇mydb資料庫\n",
    "collection = db.students  # 選擇students\n",
    "std = collection.find_one({\"name\": 'joe chen'})\n",
    "print(std)\n",
    "print(\"------------\")\n",
    "for item in collection.find({\"gender\":\"f\"}):\n",
    "    print(item)\n"
   ]
  },
  {
   "cell_type": "markdown",
   "id": "ff8b79fc",
   "metadata": {},
   "source": [
    "### `ch05\\ch5-5-3a.py`"
   ]
  },
  {
   "cell_type": "code",
   "execution_count": null,
   "id": "2445fc14",
   "metadata": {},
   "outputs": [],
   "source": [
    "import pymongo\n",
    "\n",
    "client = pymongo.MongoClient(\"localhost\", 27017)\n",
    "db = client.mydb          # 選擇mydb資料庫\n",
    "collection = db.students  # 選擇students\n",
    "\n",
    "std = {\n",
    "    'name': 'mary wang',\n",
    "    'dob': '11/05/1978',\n",
    "    'gender': 'f',\n",
    "    'favorite_color': 'red',\n",
    "    'nationality': 'taiwan'\n",
    "}\n",
    "\n",
    "result = collection.insert_one(std)\n",
    "print(\"新增1筆: {0}\".format(result.inserted_id))\n"
   ]
  },
  {
   "cell_type": "markdown",
   "id": "b6c46960",
   "metadata": {},
   "source": [
    "### `ch05\\ch5-5-3b.py`"
   ]
  },
  {
   "cell_type": "code",
   "execution_count": null,
   "id": "9d23aff4",
   "metadata": {},
   "outputs": [],
   "source": [
    "import pymongo\n",
    "\n",
    "client = pymongo.MongoClient(\"localhost\", 27017)\n",
    "db = client.mydb          # 選擇mydb資料庫\n",
    "collection = db.students  # 選擇students\n",
    "\n",
    "std1 = {\n",
    "    'name': 'tom wang',\n",
    "    'dob': '11/01/1988',\n",
    "    'gender': 'm',\n",
    "    'favorite_color': 'black',\n",
    "    'nationality': 'taiwan'\n",
    "}\n",
    "\n",
    "std2 = {\n",
    "    'name': 'john chen',\n",
    "    'dob': '22/01/1989',\n",
    "    'gender': 'm',\n",
    "    'favorite_color': 'blue',\n",
    "    'nationality': 'taiwan'\n",
    "}\n",
    "result = collection.insert_many([std1, std2])\n",
    "print(\"新增2筆: {0}\".format(result.inserted_ids))\n"
   ]
  },
  {
   "cell_type": "markdown",
   "id": "3ed7c428",
   "metadata": {},
   "source": [
    "### `ch05\\influenza.py`"
   ]
  },
  {
   "cell_type": "code",
   "execution_count": null,
   "id": "f535538a",
   "metadata": {},
   "outputs": [],
   "source": [
    "import csv\n",
    "import pymysql\n",
    "\n",
    "HOST_NAME = 'localhost'\n",
    "USER = 'root'\n",
    "PASSWORD = ''\n",
    "DB_NAME = \"influenza\"\n",
    "TABLE_NAME = \"influenza\"\n",
    "\n",
    "db = pymysql.connect(host=HOST_NAME,user=USER,password=PASSWORD,database=DB_NAME,charset=\"utf8\")\n",
    "cursor = db.cursor()\n",
    "\n",
    "csvfile = \"RODS_Influenza_like_illness.csv\"\n",
    "with open(csvfile, 'r', encoding='utf8') as fp:\n",
    "    reader = csv.reader(fp)\n",
    "    for idx, row in enumerate(reader):\n",
    "        if idx != 0:\n",
    "            sql = \"\"\"INSERT INTO `{5}`\n",
    "                    (`year`, `week`, `age`, `city`, `people_count`)\n",
    "                    VALUES ({0},{1},'{2}','{3}','{4}')\"\"\"\n",
    "            sql = sql.format(row[0], row[1], row[2], row[3], row[4], TABLE_NAME)\n",
    "            try:\n",
    "                cursor.execute(sql)\n",
    "                db.commit()\n",
    "                print('新增資料成功: ', row)\n",
    "            except:\n",
    "                db.rollback()\n",
    "                print('新增記錄失敗: ', row)\n",
    "db.close()\n",
    "\n",
    "\n"
   ]
  },
  {
   "cell_type": "markdown",
   "id": "51de5544",
   "metadata": {},
   "source": [
    "### `ch06\\ch6-1-3.py`"
   ]
  },
  {
   "cell_type": "code",
   "execution_count": null,
   "id": "ba98051b",
   "metadata": {},
   "outputs": [],
   "source": [
    "import json \n",
    "import requests\n",
    "\n",
    "url = \"https://www.googleapis.com/books/v1/volumes?maxResults=5&q=Python&projection=lite\"\n",
    "jsonfile = \"GoogleBooks.json\"\n",
    "r = requests.get(url)\n",
    "r.encoding = \"utf8\"\n",
    "json_data = json.loads(r.text)\n",
    "with open(jsonfile, 'w') as fp:\n",
    "    json.dump(json_data, fp)    \n"
   ]
  },
  {
   "cell_type": "markdown",
   "id": "9abed8fd",
   "metadata": {},
   "source": [
    "### `ch06\\ch6-2.py`"
   ]
  },
  {
   "cell_type": "code",
   "execution_count": null,
   "id": "1760fd31",
   "metadata": {},
   "outputs": [],
   "source": [
    "import requests\n",
    "\n",
    "URL = \"https://www.momoshop.com.tw/search/\"\n",
    "\n",
    "r = requests.get(URL+\"searchShop.jsp?keyword=NBA\")\n",
    "if r.status_code == requests.codes.ok:\n",
    "    r.encoding = \"big5\"\n",
    "    print(r.text)        \n",
    "else:\n",
    "    print(\"HTTP請求錯誤...\" + URL)\n",
    " "
   ]
  },
  {
   "cell_type": "markdown",
   "id": "9ba96862",
   "metadata": {},
   "source": [
    "### `ch06\\ch6-2a.py`"
   ]
  },
  {
   "cell_type": "code",
   "execution_count": null,
   "id": "e6162ee2",
   "metadata": {},
   "outputs": [],
   "source": [
    "import requests\n",
    "\n",
    "URL=\"https://www.momoshop.com.tw/search/\"\n",
    "\n",
    "headers = {'user-agent': 'Mozilla/5.0 (Windows NT 10.0; Win64; x64)'\n",
    "           'AppleWebKit/537.36 (KHTML, like Gecko)'\n",
    "           'Chrome/63.0.3239.132 Safari/537.36'}\n",
    "r = requests.get(URL+\"searchShop.jsp?keyword=NBA\", headers=headers)\n",
    "if r.status_code == requests.codes.ok:\n",
    "    r.encoding = \"big5\"    \n",
    "    print(r.text)        \n",
    "else:\n",
    "    print(\"HTTP請求錯誤...\" + URL)\n",
    " "
   ]
  },
  {
   "cell_type": "markdown",
   "id": "4155cb66",
   "metadata": {},
   "source": [
    "### `ch06\\ch6-2b.py`"
   ]
  },
  {
   "cell_type": "code",
   "execution_count": null,
   "id": "3cd14b9a",
   "metadata": {},
   "outputs": [],
   "source": [
    "from selenium import webdriver\n",
    "from selenium.webdriver.chrome.service import Service\n",
    "from webdriver_manager.chrome import ChromeDriverManager\n",
    "\n",
    "URL=\"https://www.momoshop.com.tw/search/\"\n",
    "\n",
    "driver = webdriver.Chrome(service=Service(ChromeDriverManager().install()))\n",
    "driver.implicitly_wait(10)\n",
    "driver.get(URL+\"searchShop.jsp?keyword=NBA\")\n",
    "print(\"-----------------------------\")\n",
    "print(driver.title)\n",
    "html = driver.page_source\n",
    "fp = open(\"NBA.html\", \"w\", encoding=\"utf8\")\n",
    "fp.write(html)\n",
    "print(\"寫入檔案NBA.html...\")\n",
    "fp.close()\n",
    "driver.quit()\n",
    " "
   ]
  },
  {
   "cell_type": "markdown",
   "id": "bab748b6",
   "metadata": {},
   "source": [
    "### `ch06\\ch6-2c.py`"
   ]
  },
  {
   "cell_type": "code",
   "execution_count": null,
   "id": "7bc66bad",
   "metadata": {},
   "outputs": [],
   "source": [
    "import time\n",
    "import requests\n",
    "\n",
    "URL = \"http://www.majortests.com/word-lists/word-list-0{0}.html\"\n",
    "\n",
    "for i in range(1, 10):\n",
    "    url = URL.format(i) \n",
    "    r = requests.get(url)\n",
    "    print(r.status_code)\n",
    "    print(\"等待5秒鐘...\")\n",
    "    time.sleep(5) \n",
    "   \n"
   ]
  },
  {
   "cell_type": "markdown",
   "id": "87c4bb9f",
   "metadata": {},
   "source": [
    "### `ch06\\ch6-2d.py`"
   ]
  },
  {
   "cell_type": "code",
   "execution_count": null,
   "id": "36360d25",
   "metadata": {},
   "outputs": [],
   "source": [
    "import requests\n",
    "from bs4 import BeautifulSoup\n",
    "\n",
    "URL = \"https://www.ptt.cc/bbs/NBA/index6503.html\"\n",
    "DELETED = BeautifulSoup(\"<a href='Deleted'>本文已刪除</a>\", \"lxml\").a\n",
    "\n",
    "r = requests.get(URL)\n",
    "if r.status_code == requests.codes.ok:\n",
    "    r.encoding = \"utf8\"\n",
    "    soup = BeautifulSoup(r.text, \"lxml\")\n",
    "    tag_divs = soup.find_all(\"div\", class_=\"r-ent\")\n",
    "    for tag in tag_divs:\n",
    "        tag_a = tag.find(\"a\") or DELETED\n",
    "        print(tag_a[\"href\"])\n",
    "        print(tag_a.text)\n",
    "        print(tag.find(\"div\", class_=\"author\").string)\n",
    "else:\n",
    "    print(\"HTTP請求錯誤...\" + URL)\n",
    "\n"
   ]
  },
  {
   "cell_type": "markdown",
   "id": "74fa414b",
   "metadata": {},
   "source": [
    "### `ch06\\ch6-2e.py`"
   ]
  },
  {
   "cell_type": "code",
   "execution_count": null,
   "id": "af125e89",
   "metadata": {},
   "outputs": [],
   "source": [
    "import requests\n",
    "from bs4 import BeautifulSoup\n",
    "\n",
    "URL = \"https://www.ptt.cc/bbs/Gossiping/index.html\"\n",
    "\n",
    "r = requests.get(URL, cookies={\"over18\": \"1\"})\n",
    "if r.status_code == requests.codes.ok:\n",
    "    r.encoding = \"utf8\"\n",
    "    soup = BeautifulSoup(r.text, \"lxml\")\n",
    "    tag_divs = soup.find_all(\"div\", class_=\"r-ent\")\n",
    "    for tag in tag_divs:\n",
    "        if tag.find('a'): # 是否有<a>標籤\n",
    "            tag_a = tag.find(\"a\")\n",
    "            print(tag_a[\"href\"])\n",
    "            print(tag_a.text)\n",
    "            print(tag.find(\"div\", class_=\"author\").string)\n",
    "else:\n",
    "    print(\"HTTP請求錯誤...\" + URL)\n"
   ]
  },
  {
   "cell_type": "markdown",
   "id": "0edeca6a",
   "metadata": {},
   "source": [
    "### `ch06\\ch6-2f.py`"
   ]
  },
  {
   "cell_type": "code",
   "execution_count": null,
   "id": "56c9aba1",
   "metadata": {},
   "outputs": [],
   "source": [
    "from urllib.parse import urljoin\n",
    "\n",
    "URL = \"http://www.majortests.com/word-lists/word-list-01.html\"\n",
    "PTT = \"https://wwww.ptt.cc/bbs/movie/index.html\"\n",
    "\n",
    "catalog = [\"movie\", \"NBA\", \"Gossiping\"]\n",
    "\n",
    "for i in range(1, 5):\n",
    "    url = urljoin(URL, \"world-list-0{0}.html\".format(i)) \n",
    "    print(url)\n",
    "print(\"-----------------\")\n",
    "for item in catalog:\n",
    "    url = urljoin(PTT, \"../{0}/index.html\".format(item))\n",
    "    print(url)\n",
    " "
   ]
  },
  {
   "cell_type": "markdown",
   "id": "48885486",
   "metadata": {},
   "source": [
    "### `ch06\\ch6-3-1.py`"
   ]
  },
  {
   "cell_type": "code",
   "execution_count": null,
   "id": "dafb4f17",
   "metadata": {},
   "outputs": [],
   "source": [
    "import requests\n",
    "from bs4 import BeautifulSoup\n",
    "import csv, re\n",
    "\n",
    "URL = \"https://movies.yahoo.com.tw/movie_intheaters.html\"\n",
    "headers = {\"user-agent\": \"Mozilla/5.0 (Windows NT 10.0; Win64; x64)\"\n",
    "           \"AppleWebKit/537.36 (KHTML, like Gecko)\"\n",
    "           \"Chrome/63.0.3239.132 Safari/537.36\"}\n",
    "\n",
    "def format_date(date):  # 取出上映日期\n",
    "    if not date: return \"N/A\"\n",
    "    pattern = '\\d+-\\d+-\\d+'\n",
    "    match = re.search(pattern, date.text)\n",
    "    if match is None:\n",
    "        return date.text\n",
    "    else:\n",
    "        return match.group(0)    \n",
    "\n",
    "def get_text(tag):\n",
    "    if tag:\n",
    "        return tag.text.strip()\n",
    "    else:\n",
    "        return \"N/A\"\n",
    " \n",
    "def get_attrib(tag, attrib):\n",
    "    if tag:\n",
    "        return tag[attrib].strip()\n",
    "    else:\n",
    "        return \"N/A\"\n",
    "    \n",
    "movies = [[\"中文片名\",\"英文片名\",\"期待度\",\"海報圖片\",\"上映日\"]]\n",
    "r = requests.get(URL, headers=headers)\n",
    "if r.status_code == requests.codes.ok:\n",
    "    soup = BeautifulSoup(r.text, 'lxml')\n",
    "    tag_ul = soup.find(\"ul\", class_=\"release_list\")\n",
    "    rows = tag_ul.find_all(\"li\")\n",
    "    for row in rows:\n",
    "        name_div = row.find(\"div\",class_=\"release_movie_name\")\n",
    "        cht_n = get_text(name_div.find(\"a\"))\n",
    "        eng_n = get_text(name_div.find(\"div\",class_=\"en\").find(\"a\"))\n",
    "        expect = get_text(row.find(\"div\",class_=\"leveltext\").find(\"span\"))\n",
    "        photo_div = row.find(\"div\",class_=\"release_foto\")\n",
    "        poster_url = get_attrib(photo_div.find(\"img\"),\"data-src\")\n",
    "        date = row.find('div',class_='release_movie_time')\n",
    "        release_date = format_date(date)\n",
    "        movie= [cht_n,eng_n,expect,poster_url,release_date]\n",
    "        movies.append(movie)\n",
    "else:\n",
    "   print(\"HTTP請求錯誤...\")\n",
    "\n",
    "with open(\"movies.csv\", \"w+\",newline=\"\",encoding=\"utf-8\") as fp:\n",
    "    writer = csv.writer(fp)\n",
    "    for item in movies:\n",
    "        writer.writerow(item)\n"
   ]
  },
  {
   "cell_type": "markdown",
   "id": "81871e1d",
   "metadata": {},
   "source": [
    "### `ch06\\ch6-3-2.py`"
   ]
  },
  {
   "cell_type": "code",
   "execution_count": null,
   "id": "8155cc49",
   "metadata": {},
   "outputs": [],
   "source": [
    "from selenium import webdriver\n",
    "from selenium.webdriver.chrome.service import Service\n",
    "from webdriver_manager.chrome import ChromeDriverManager\n",
    "from bs4 import BeautifulSoup\n",
    "import json\n",
    "\n",
    "URL = \"https://fchart.github.io/Ashion/\"\n",
    "driver = webdriver.Chrome(service=Service(ChromeDriverManager().install()))\n",
    "driver.implicitly_wait(10)\n",
    "driver.get(URL)\n",
    "\n",
    "soup = BeautifulSoup(driver.page_source, \"lxml\")\n",
    "sec = soup.find(\"section\", class_=\"product spad\")\n",
    "items = sec.find_all(\"div\", class_=\"product__item\")\n",
    "print(len(items))\n",
    "products=[]\n",
    "for item in items:\n",
    "    tag = item.find(\"h6\").find(\"a\")\n",
    "    title = tag.text.strip() if tag else \"N/A\"\n",
    "    tag = item.find(\"div\", class_=\"product__item__pic\")\n",
    "    img = tag[\"data-setbg\"].strip() if tag else \"N/A\"\n",
    "    tag = item.find(\"div\", class_=\"product__price\")\n",
    "    price = tag.text.strip() if tag else \"N/A\"\n",
    "    print(title)\n",
    "    products.append({\n",
    "        \"title\": title,\n",
    "        \"image\": URL+img,\n",
    "        \"price\": price\n",
    "    })\n",
    "driver.quit()\n",
    "with open(\"products.json\", \"w\", encoding=\"utf-8\") as fp: # 寫入JSON檔案\n",
    "    json.dump(products,fp,indent=2,\n",
    "              sort_keys=True,\n",
    "              ensure_ascii=False)\n"
   ]
  },
  {
   "cell_type": "markdown",
   "id": "6926776b",
   "metadata": {},
   "source": [
    "### `ch06\\ch6-3-3.py`"
   ]
  },
  {
   "cell_type": "code",
   "execution_count": null,
   "id": "431c6995",
   "metadata": {},
   "outputs": [],
   "source": [
    "import requests \n",
    "from bs4 import BeautifulSoup\n",
    "import csv\n",
    "\n",
    "url = \"https://rate.bot.com.tw/xrt?Lang=zh-TW\"\n",
    "csvfile = \"xrt.csv\"\n",
    "r = requests.get(url)\n",
    "r.encoding = \"utf8\"\n",
    "soup = BeautifulSoup(r.text, \"lxml\")\n",
    "tag_table = soup.select_one(\"#ie11andabove > div > table\")\n",
    "rows = tag_table.find_all(\"tr\")\n",
    "with open(csvfile,'w+',newline='',encoding=\"big5\") as fp:\n",
    "    writer = csv.writer(fp)\n",
    "    for row in rows:\n",
    "        lst = []\n",
    "        for cell in row.find_all([\"td\", \"th\"]):\n",
    "            lst.append(cell.text.replace(\"\\n\",\"\").\n",
    "                       replace(\"\\r\",\"\").\n",
    "                       strip())\n",
    "        writer.writerow(lst)\n"
   ]
  },
  {
   "cell_type": "markdown",
   "id": "d2a1d4e8",
   "metadata": {},
   "source": [
    "### `ch06\\ch6-4-1.py`"
   ]
  },
  {
   "cell_type": "code",
   "execution_count": null,
   "id": "3ca31294",
   "metadata": {},
   "outputs": [],
   "source": [
    "import requests\n",
    "from bs4 import BeautifulSoup\n",
    "import csv, re, time\n",
    "\n",
    "URL = \"https://movies.yahoo.com.tw/movie_intheaters.html/?page={0}\"\n",
    "headers = {\"user-agent\": \"Mozilla/5.0 (Windows NT 10.0; Win64; x64)\"\n",
    "           \"AppleWebKit/537.36 (KHTML, like Gecko)\"\n",
    "           \"Chrome/63.0.3239.132 Safari/537.36\"}\n",
    " \n",
    "def format_date(date):  # 取出上映日期\n",
    "    if not date: return \"N/A\"\n",
    "    pattern = '\\d+-\\d+-\\d+'\n",
    "    match = re.search(pattern, date.text)\n",
    "    if match is None:\n",
    "        return date.text\n",
    "    else:\n",
    "        return match.group(0)    \n",
    "\n",
    "def get_text(tag):\n",
    "    if tag:\n",
    "        return tag.text.strip()\n",
    "    else:\n",
    "        return \"N/A\"\n",
    " \n",
    "def get_attrib(tag, attrib):\n",
    "    if tag:\n",
    "        return tag[attrib].strip()\n",
    "    else:\n",
    "        return \"N/A\"   \n",
    " \n",
    "all_movies = [[\"中文片名\",\"英文片名\",\"期待度\",\"海報圖片\",\"上映日\"]]\n",
    "for page in range(1, 11):\n",
    "    url = URL.format(page)\n",
    "    print(\"抓取: 第\" + str(page) + \"頁 網路資料中...\")\n",
    "    r = requests.get(url, headers=headers)\n",
    "    if r.status_code == requests.codes.ok:\n",
    "        soup = BeautifulSoup(r.text, 'lxml')\n",
    "        movies = []\n",
    "        tag_ul = soup.find(\"ul\", class_=\"release_list\")\n",
    "        rows = tag_ul.find_all(\"li\")\n",
    "        for row in rows:\n",
    "            name_div = row.find(\"div\",class_=\"release_movie_name\")\n",
    "            cht_n = get_text(name_div.find(\"a\"))\n",
    "            eng_n = get_text(name_div.find(\"div\",class_=\"en\").find(\"a\"))\n",
    "            expect = get_text(row.find(\"div\",class_=\"leveltext\").find(\"span\"))\n",
    "            photo_div = row.find(\"div\",class_=\"release_foto\")\n",
    "            poster_url = get_attrib(photo_div.find(\"img\"),\"data-src\")\n",
    "            date = row.find('div',class_='release_movie_time')\n",
    "            release_date = format_date(date)\n",
    "            movie= [cht_n,eng_n,expect,poster_url,release_date]\n",
    "            movies.append(movie)\n",
    "        all_movies = all_movies + movies\n",
    "        if soup.find(\"li\", class_=\"nexttxt disabled\"):\n",
    "            break   # 已經沒有下一頁\n",
    "        print(\"等待5秒鐘...\")   \n",
    "        time.sleep(5) \n",
    "    else:\n",
    "        print(\"HTTP請求錯誤...\")\n",
    "\n",
    "with open(\"all_movies.csv\", \"w+\",newline=\"\",encoding=\"utf-8\") as fp:\n",
    "    writer = csv.writer(fp)\n",
    "    for item in all_movies:\n",
    "        writer.writerow(item)\n"
   ]
  },
  {
   "cell_type": "markdown",
   "id": "66186985",
   "metadata": {},
   "source": [
    "### `ch06\\ch6-4-2.py`"
   ]
  },
  {
   "cell_type": "code",
   "execution_count": null,
   "id": "8052223d",
   "metadata": {},
   "outputs": [],
   "source": [
    "import requests\n",
    "from bs4 import BeautifulSoup\n",
    "import csv, re, time\n",
    "\n",
    "URL = \"https://movies.yahoo.com.tw/movie_intheaters.html/?page=1\"\n",
    "headers = {\"user-agent\": \"Mozilla/5.0 (Windows NT 10.0; Win64; x64)\"\n",
    "           \"AppleWebKit/537.36 (KHTML, like Gecko)\"\n",
    "           \"Chrome/63.0.3239.132 Safari/537.36\"}\n",
    " \n",
    "def format_date(date):  # 取出上映日期\n",
    "    if not date: return \"N/A\"\n",
    "    pattern = '\\d+-\\d+-\\d+'\n",
    "    match = re.search(pattern, date.text)\n",
    "    if match is None:\n",
    "        return date.text\n",
    "    else:\n",
    "        return match.group(0)    \n",
    "\n",
    "def get_text(tag):\n",
    "    if tag:\n",
    "        return tag.text.strip()\n",
    "    else:\n",
    "        return \"N/A\"\n",
    " \n",
    "def get_attrib(tag, attrib):\n",
    "    if tag:\n",
    "        return tag[attrib].strip()\n",
    "    else:\n",
    "        return \"N/A\"  \n",
    " \n",
    "all_movies = [[\"中文片名\",\"英文片名\",\"期待度\",\"海報圖片\",\"上映日\"]]\n",
    "page = 1\n",
    "while True:\n",
    "    print(\"抓取: 第\" + str(page) + \"頁 網路資料中...\")\n",
    "    page = page + 1\n",
    "    r = requests.get(URL, headers=headers)\n",
    "    if r.status_code == requests.codes.ok:\n",
    "        soup = BeautifulSoup(r.text, 'lxml')\n",
    "        movies = []\n",
    "        tag_ul = soup.find(\"ul\", class_=\"release_list\")\n",
    "        rows = tag_ul.find_all(\"li\")\n",
    "        for row in rows:\n",
    "            name_div = row.find(\"div\",class_=\"release_movie_name\")\n",
    "            cht_n = get_text(name_div.find(\"a\"))\n",
    "            eng_n = get_text(name_div.find(\"div\",class_=\"en\").find(\"a\"))\n",
    "            expect = get_text(row.find(\"div\",class_=\"leveltext\").find(\"span\"))\n",
    "            photo_div = row.find(\"div\",class_=\"release_foto\")\n",
    "            poster_url = get_attrib(photo_div.find(\"img\"),\"data-src\")\n",
    "            date = row.find('div',class_='release_movie_time')\n",
    "            release_date = format_date(date)\n",
    "            movie= [cht_n,eng_n,expect,poster_url,release_date]\n",
    "            movies.append(movie)\n",
    "        all_movies = all_movies + movies\n",
    "        if soup.find(\"li\", class_=\"nexttxt disabled\"):\n",
    "            break   # 已經沒有下一頁\n",
    "        nextPage = soup.find(\"li\", class_=\"nexttxt\")   \n",
    "        if nextPage:\n",
    "            URL = nextPage.find(\"a\")[\"href\"] \n",
    "            print(\"等待5秒鐘...\")          \n",
    "            time.sleep(5)\n",
    "        else:\n",
    "            break\n",
    "    else:\n",
    "        print(\"HTTP請求錯誤...\")\n",
    "\n",
    "with open(\"all_movies2.csv\", \"w+\",newline=\"\",encoding=\"utf-8\") as fp:\n",
    "    writer = csv.writer(fp)\n",
    "    for item in all_movies:\n",
    "        writer.writerow(item)\n"
   ]
  },
  {
   "cell_type": "markdown",
   "id": "b079069c",
   "metadata": {},
   "source": [
    "### `ch06\\ch6-4-3.py`"
   ]
  },
  {
   "cell_type": "code",
   "execution_count": null,
   "id": "f25697ef",
   "metadata": {},
   "outputs": [],
   "source": [
    "from selenium import webdriver\n",
    "from selenium.webdriver.common.by import By\n",
    "from selenium.webdriver.chrome.service import Service\n",
    "from webdriver_manager.chrome import ChromeDriverManager\n",
    "from bs4 import BeautifulSoup\n",
    "import time, csv\n",
    "\n",
    "URL=\"https://fchart.github.io/ML/nba_items.html\"\n",
    "\n",
    "driver = webdriver.Chrome(service=Service(ChromeDriverManager().install()))\n",
    "driver.implicitly_wait(10)\n",
    "driver.get(URL)\n",
    "pages_remaining = True\n",
    "page_num = 1\n",
    "while pages_remaining:\n",
    "    soup = BeautifulSoup(driver.page_source, \"lxml\")\n",
    "    tag_table = soup.select_one(\"#our-table\")\n",
    "    rows = tag_table.find_all(\"tr\")\n",
    "    csvfile = \"NBA_Products\" + str(page_num) + \".csv\"\n",
    "    with open(csvfile, 'w+', newline='', encoding=\"utf8\") as fp:\n",
    "        writer = csv.writer(fp)\n",
    "        for row in rows:\n",
    "            lst = []\n",
    "            for cell in row.find_all([\"td\", \"th\"]):\n",
    "                lst.append(cell.text.replace(\"\\n\",\"\").\n",
    "                           replace(\"\\r\",\"\").\n",
    "                           strip())\n",
    "            writer.writerow(lst)\n",
    "    print(\"儲存頁面:\", page_num)\n",
    "    try:   \n",
    "        next_link = driver.find_element(By.CLASS_NAME, \"nextbtn\")\n",
    "        if next_link:\n",
    "            next_link.click()\n",
    "            time.sleep(5)\n",
    "            page_num = page_num + 1\n",
    "        else:\n",
    "            pages_remaining = False\n",
    "    except Exception:\n",
    "        pages_remaining = False        \n",
    "driver.close()"
   ]
  },
  {
   "cell_type": "markdown",
   "id": "5e01ff62",
   "metadata": {},
   "source": [
    "### `ch06\\ch6-5\\word_list_crawler.py`"
   ]
  },
  {
   "cell_type": "code",
   "execution_count": null,
   "id": "f464b00e",
   "metadata": {},
   "outputs": [],
   "source": [
    "import time\n",
    "import requests\n",
    "import csv\n",
    "from bs4 import BeautifulSoup\n",
    "\n",
    "# 目標URL網址\n",
    "URL = \"http://www.majortests.com/word-lists/word-list-0{0}.html\"\n",
    "\n",
    "def generate_urls(url, start_page, end_page):\n",
    "    urls = []\n",
    "    for page in range(start_page, end_page+1):\n",
    "        urls.append(url.format(page))\n",
    "    return urls\n",
    "\n",
    "def get_resource(url):\n",
    "    headers = {\"user-agent\": \"Mozilla/5.0 (Windows NT 10.0; Win64; x64)\"\n",
    "               \"AppleWebKit/537.36 (KHTML, like Gecko)\"\n",
    "               \"Chrome/63.0.3239.132 Safari/537.36\"}\n",
    "    return requests.get(url, headers=headers) \n",
    "\n",
    "def parse_html(html_str):\n",
    "    return BeautifulSoup(html_str, \"lxml\")\n",
    "\n",
    "def get_words(soup, file):\n",
    "    words = []\n",
    "    count = 0\n",
    "\n",
    "    for wordlist_table in soup.find_all(class_=\"wordlist\"):\n",
    "        count += 1\n",
    "        for word_entry in wordlist_table.find_all(\"tr\"):\n",
    "            new_word = []\n",
    "            new_word.append(file)\n",
    "            new_word.append(str(count))\n",
    "            new_word.append(word_entry.th.text)\n",
    "            new_word.append(word_entry.td.text)\n",
    "            words.append(new_word)\n",
    "            \n",
    "    return words\n",
    "\n",
    "def save_to_csv(words, file):\n",
    "    with open(file, \"w+\", newline=\"\", encoding=\"utf-8\") as fp:\n",
    "        writer = csv.writer(fp)\n",
    "        for word in words:\n",
    "            writer.writerow(word)\n",
    "\n",
    "def web_scraping_bot(urls):\n",
    "    eng_words = []\n",
    "    \n",
    "    for url in urls:\n",
    "        file = url.split(\"/\")[-1]\n",
    "        print(\"抓取: \" + file + \" 網路資料中...\")\n",
    "        r = get_resource(url)\n",
    "        if r.status_code == requests.codes.ok:\n",
    "            soup = parse_html(r.text)\n",
    "            words = get_words(soup, file)\n",
    "            eng_words = eng_words + words\n",
    "            print(\"等待5秒鐘...\")\n",
    "            time.sleep(5) \n",
    "        else:\n",
    "            print(\"HTTP請求錯誤...\")       \n",
    "\n",
    "    return eng_words\n",
    "\n",
    "if __name__ == \"__main__\":\n",
    "    urls = generate_urls(URL, 1, 9)\n",
    "    # print(urls)\n",
    "    eng_words = web_scraping_bot(urls)\n",
    "    for item in eng_words:\n",
    "        print(item)\n",
    "    save_to_csv(eng_words, \"words.csv\")\n",
    "    \n"
   ]
  },
  {
   "cell_type": "markdown",
   "id": "cc04ddf8",
   "metadata": {},
   "source": [
    "### `ch06\\ch6-6\\ppt_crawler.py`"
   ]
  },
  {
   "cell_type": "code",
   "execution_count": 20,
   "id": "6be72a8d",
   "metadata": {},
   "outputs": [
    {
     "name": "stdout",
     "output_type": "stream",
     "text": [
      "https://www.ptt.cc/bbs/NBA/index.html\n",
      "抓取網路資料中...\n",
      "等待2秒鐘...\n",
      "等待2秒鐘...\n",
      "等待2秒鐘...\n",
      "{'title': '[情報] Mitchell替隊友出頭推了Duncan', 'href': '/bbs/NBA/M.1745211439.A.753.html', 'push_count': 21, 'author': 'wwwson1256'}\n",
      "{'title': '[新聞] Stephen Curry創NBA紀錄！為挺Butler嗆Ba', 'href': '/bbs/NBA/M.1745211839.A.9EF.html', 'push_count': 21, 'author': 'access4096'}\n",
      "{'title': '[花邊] 談Curry的瘋狂3分 嘴綠: 所以他才是GOAT!', 'href': '/bbs/NBA/M.1745212296.A.6F9.html', 'push_count': 54, 'author': 'usnavyseal'}\n",
      "{'title': 'Re: [花邊] 馬祖拉不讓防護員檢查倒地的JT', 'href': '/bbs/NBA/M.1745212693.A.1A8.html', 'push_count': 56, 'author': 'bryan9060'}\n",
      "{'title': '[花邊] Kerr談今天火箭:像回到1997年一樣', 'href': '/bbs/NBA/M.1745212811.A.717.html', 'push_count': 82, 'author': 'bengowa'}\n",
      "{'title': '[花邊] 吉巴：我們還年輕', 'href': '/bbs/NBA/M.1745213535.A.B35.html', 'push_count': 94, 'author': 'cury'}\n",
      "{'title': 'Re: [情報] 今日吉巴 本世紀第2次季後賽單場25/5/5/5', 'href': '/bbs/NBA/M.1745213672.A.79A.html', 'push_count': 12, 'author': 'EZ78'}\n",
      "{'title': 'Re: [情報] 今日吉巴 本世紀第2次季後賽單場25/5/5/5', 'href': '/bbs/NBA/M.1745213816.A.537.html', 'push_count': 5, 'author': 'osmon54a7'}\n",
      "{'title': '[公告] NBA 樂透開獎', 'href': '/bbs/NBA/M.1745214981.A.DD2.html', 'push_count': 49, 'author': '[彩券]'}\n",
      "{'title': '[公告] NBA 板 開始舉辦樂透!', 'href': '/bbs/NBA/M.1745216640.A.070.html', 'push_count': 7, 'author': 'ZIDENS'}\n",
      "{'title': '[花邊] Kerr:忘記告訴隊員火箭籃板出色 下場會提', 'href': '/bbs/NBA/M.1745217445.A.E7E.html', 'push_count': 78, 'author': 'kakala99'}\n",
      "{'title': '[花邊] Garland:米邱是蛇頭 他衝我們就跟著衝', 'href': '/bbs/NBA/M.1745219048.A.4C1.html', 'push_count': 43, 'author': 'pneumo'}\n",
      "{'title': '[花邊] Jimmy Butler賽後採訪', 'href': '/bbs/NBA/M.1745223586.A.F05.html', 'push_count': 11, 'author': 'darren2586'}\n",
      "{'title': '[公告] NBA 板 開始舉辦樂透!', 'href': '/bbs/NBA/M.1745216640.A.070.html', 'push_count': 5, 'author': 'ZIDENS'}\n",
      "{'title': '[情報] Ja：我們再也不會打得那麼糟了。', 'href': '/bbs/NBA/M.1745180033.A.623.html', 'push_count': 53, 'author': 'SeanLi1013'}\n",
      "{'title': '[BOX ] Magic 86:103 Celtics', 'href': '/bbs/NBA/M.1745186453.A.654.html', 'push_count': 55, 'author': 'love1500274'}\n",
      "{'title': '[情報] 2024-25賽季個人獎項決選名單', 'href': '/bbs/NBA/M.1745189140.A.8F4.html', 'push_count': 64, 'author': 'c27932589'}\n",
      "{'title': '[Live] 熱火 @ 騎士 (東區第一輪Game1)', 'href': '/bbs/NBA/M.1745190817.A.99A.html', 'push_count': 99, 'author': 'jason911152'}\n",
      "{'title': 'Re: [情報] 2024-25賽季個人獎項決選名單', 'href': '/bbs/NBA/M.1745193905.A.8DD.html', 'push_count': 13, 'author': 'transpotting'}\n",
      "{'title': '[情報] Jayson Tatum 賽後透露右手腕傷勢沒事', 'href': '/bbs/NBA/M.1745194322.A.ECF.html', 'push_count': 48, 'author': 'thnlkj0665'}\n",
      "{'title': '[Live] 勇士 @ 火箭 (西區第一輪Game1)', 'href': '/bbs/NBA/M.1745197202.A.C89.html', 'push_count': 99, 'author': 'jason911152'}\n",
      "{'title': '[BOX ] Heat 100:121 Cavaliers', 'href': '/bbs/NBA/M.1745199303.A.911.html', 'push_count': 76, 'author': 'guardyo'}\n",
      "{'title': '[花邊] 騎士米丘、Garland、Jerome三人共得85分', 'href': '/bbs/NBA/M.1745202780.A.B5F.html', 'push_count': 47, 'author': 'cross980115'}\n",
      "{'title': '[BOX ] Warriors 95:85 Rockets ', 'href': '/bbs/NBA/M.1745208038.A.980.html', 'push_count': 99, 'author': 'harrybbs'}\n",
      "{'title': '[花邊] 吉巴空接被Tari Eason釘板', 'href': '/bbs/NBA/M.1745208041.A.0C1.html', 'push_count': 88, 'author': 's24066774'}\n",
      "{'title': '[情報] 今日吉巴 本世紀第2次季後賽單場25/5/5/5', 'href': '/bbs/NBA/M.1745208115.A.9AD.html', 'push_count': 99, 'author': 'XXXaBg'}\n",
      "{'title': '[情報] Jimmy Butler近三場平均上場43分鐘', 'href': '/bbs/NBA/M.1745209124.A.593.html', 'push_count': 99, 'author': 'darren2586'}\n",
      "{'title': '[花邊] 咖哩跟嘴綠搭檔收穫季後賽第100勝', 'href': '/bbs/NBA/M.1745209651.A.DEF.html', 'push_count': 20, 'author': 'steven183'}\n",
      "{'title': '[情報] Steve Kerr執教季後賽100勝 躋身第六', 'href': '/bbs/NBA/M.1745209734.A.79F.html', 'push_count': 49, 'author': 'playerunknow'}\n",
      "{'title': '[花邊] 吉巴評今日咖哩：蝙蝠俠現身', 'href': '/bbs/NBA/M.1745210014.A.CD9.html', 'push_count': 89, 'author': 'hanson90244'}\n",
      "{'title': '[花邊] 馬祖拉不讓防護員檢查倒地的JT', 'href': '/bbs/NBA/M.1745210362.A.5F6.html', 'push_count': 99, 'author': 'surfingbboy'}\n",
      "{'title': '[Live] 灰熊 @ 雷霆 (西區第一輪Game1)', 'href': '/bbs/NBA/M.1745166614.A.BF3.html', 'push_count': 99, 'author': 'jason911152'}\n",
      "{'title': '[Live] 魔術 @ 塞爾提克 (東區第一輪Game1)', 'href': '/bbs/NBA/M.1745175602.A.752.html', 'push_count': 99, 'author': 'jason911152'}\n",
      "{'title': '[花邊] 灰熊隊記：我已經不確定灰熊對雷霆這場是', 'href': '/bbs/NBA/M.1745175761.A.A22.html', 'push_count': 29, 'author': 'SeanLi1013'}\n",
      "{'title': '[BOX ] Grizzlies 80:131 Thunder', 'href': '/bbs/NBA/M.1745177174.A.95E.html', 'push_count': 99, 'author': 'love1500274'}\n",
      "{'title': '[情報] 雷霆灰熊之戰創下季後賽G1最大分差紀錄', 'href': '/bbs/NBA/M.1745177437.A.CEE.html', 'push_count': 23, 'author': 'dragon803'}\n",
      "{'title': '[情報] Desmond Bane創下季後賽最爛正負值:-51', 'href': '/bbs/NBA/M.1745178129.A.3B7.html', 'push_count': 51, 'author': 'love1500274'}\n",
      "今天總共有: 37 篇文章\n",
      "熱門文章(> 50 推): \n",
      "[花邊] 談Curry的瘋狂3分 嘴綠: 所以他才是GOAT! /bbs/NBA/M.1745212296.A.6F9.html usnavyseal\n",
      "Re: [花邊] 馬祖拉不讓防護員檢查倒地的JT /bbs/NBA/M.1745212693.A.1A8.html bryan9060\n",
      "[花邊] Kerr談今天火箭:像回到1997年一樣 /bbs/NBA/M.1745212811.A.717.html bengowa\n",
      "[花邊] 吉巴：我們還年輕 /bbs/NBA/M.1745213535.A.B35.html cury\n",
      "[花邊] Kerr:忘記告訴隊員火箭籃板出色 下場會提 /bbs/NBA/M.1745217445.A.E7E.html kakala99\n",
      "[情報] Ja：我們再也不會打得那麼糟了。 /bbs/NBA/M.1745180033.A.623.html SeanLi1013\n",
      "[BOX ] Magic 86:103 Celtics /bbs/NBA/M.1745186453.A.654.html love1500274\n",
      "[情報] 2024-25賽季個人獎項決選名單 /bbs/NBA/M.1745189140.A.8F4.html c27932589\n",
      "[Live] 熱火 @ 騎士 (東區第一輪Game1) /bbs/NBA/M.1745190817.A.99A.html jason911152\n",
      "[Live] 勇士 @ 火箭 (西區第一輪Game1) /bbs/NBA/M.1745197202.A.C89.html jason911152\n",
      "[BOX ] Heat 100:121 Cavaliers /bbs/NBA/M.1745199303.A.911.html guardyo\n",
      "[BOX ] Warriors 95:85 Rockets  /bbs/NBA/M.1745208038.A.980.html harrybbs\n",
      "[花邊] 吉巴空接被Tari Eason釘板 /bbs/NBA/M.1745208041.A.0C1.html s24066774\n",
      "[情報] 今日吉巴 本世紀第2次季後賽單場25/5/5/5 /bbs/NBA/M.1745208115.A.9AD.html XXXaBg\n",
      "[情報] Jimmy Butler近三場平均上場43分鐘 /bbs/NBA/M.1745209124.A.593.html darren2586\n",
      "[花邊] 吉巴評今日咖哩：蝙蝠俠現身 /bbs/NBA/M.1745210014.A.CD9.html hanson90244\n",
      "[花邊] 馬祖拉不讓防護員檢查倒地的JT /bbs/NBA/M.1745210362.A.5F6.html surfingbboy\n",
      "[Live] 灰熊 @ 雷霆 (西區第一輪Game1) /bbs/NBA/M.1745166614.A.BF3.html jason911152\n",
      "[Live] 魔術 @ 塞爾提克 (東區第一輪Game1) /bbs/NBA/M.1745175602.A.752.html jason911152\n",
      "[BOX ] Grizzlies 80:131 Thunder /bbs/NBA/M.1745177174.A.95E.html love1500274\n",
      "[情報] Desmond Bane創下季後賽最爛正負值:-51 /bbs/NBA/M.1745178129.A.3B7.html love1500274\n"
     ]
    }
   ],
   "source": [
    "import time\n",
    "import requests\n",
    "import json\n",
    "from bs4 import BeautifulSoup\n",
    "\n",
    "# 目標URL網址\n",
    "URL = \"https://www.ptt.cc\"\n",
    "MAX_PUSH = 50\n",
    "# TOPIC = \"Gossiping\"\n",
    "TOPIC = \"NBA\" \n",
    "\n",
    "def get_resource(url):\n",
    "    headers = {\"user-agent\": \"Mozilla/5.0 (Windows NT 10.0; Win64; x64)\"\n",
    "               \"AppleWebKit/537.36 (KHTML, like Gecko)\"\n",
    "               \"Chrome/63.0.3239.132 Safari/537.36\"}\n",
    "    return requests.get(url, headers=headers, cookies={\"over18\":\"1\"})\n",
    "\n",
    "def parse_html(r):\n",
    "    if r.status_code == requests.codes.ok:\n",
    "        r.encoding = \"utf8\"\n",
    "        soup = BeautifulSoup(r.text, \"lxml\")        \n",
    "    else:\n",
    "        print(\"HTTP請求錯誤...\" + url)\n",
    "        soup = None\n",
    "    \n",
    "    return soup    \n",
    "\n",
    "def get_articles(soup, date):\n",
    "    articles = []  \n",
    "    # 取得上一頁的超連結\n",
    "    paging_div = soup.find(\"div\", class_=\"btn-group btn-group-paging\")\n",
    "    paging_a = paging_div.find_all(\"a\", class_=\"btn\")\n",
    "    prev_url = paging_a[1][\"href\"]\n",
    "\n",
    "    tag_divs = soup.find_all(\"div\", class_=\"r-ent\")\n",
    "    for tag in tag_divs:\n",
    "        # 判斷文章的日期\n",
    "        if tag.find(\"div\",class_=\"date\").text.strip() == date:\n",
    "            push_count = 0    # 取得推文數\n",
    "            push_str = tag.find(\"div\", class_=\"nrec\").text\n",
    "            if push_str:\n",
    "                try:\n",
    "                    push_count = int(push_str)  # 轉換成數字\n",
    "                except ValueError:  # 轉換失敗，可能是'爆'或 'X1','X2'\n",
    "                    if push_str == '爆':\n",
    "                        push_count = 99\n",
    "                    elif push_str.startswith('X'):\n",
    "                        push_count = -10\n",
    "            # 取得貼章的超連結和標題文字\n",
    "            if tag.find(\"a\"):  # 有超連結，表示文章存在\n",
    "                href = tag.find(\"a\")[\"href\"]\n",
    "                title = tag.find(\"a\").text\n",
    "                author = tag.find(\"div\", class_=\"author\").string \n",
    "                articles.append({\n",
    "                    \"title\": title,\n",
    "                    \"href\": href,\n",
    "                    \"push_count\": push_count,\n",
    "                    \"author\": author\n",
    "                })\n",
    "    \n",
    "    return articles, prev_url\n",
    "\n",
    "def save_to_json(articles, file):\n",
    "    print(\"今天總共有: \" + str(len(articles)) + \" 篇文章\")\n",
    "    threshold = MAX_PUSH\n",
    "    print(\"熱門文章(> %d 推): \" % (threshold))\n",
    "    for item in articles:   # 顯示熱門文章清單\n",
    "        if int(item[\"push_count\"]) > threshold:\n",
    "            print(item[\"title\"], item[\"href\"], item[\"author\"])    \n",
    "    with open(file, \"w\", encoding=\"utf-8\") as fp: # 寫入JSON檔案\n",
    "        json.dump(articles,fp,indent=2,sort_keys=True,ensure_ascii=False)\n",
    "\n",
    "def web_scraping_bot(url):\n",
    "    articles = []\n",
    "    print(\"抓取網路資料中...\")\n",
    "    soup = parse_html(get_resource(url))\n",
    "    if soup:\n",
    "        # 取得今天日期, 去掉開頭'0'符合PTT的日期格式\n",
    "        today = time.strftime(\"%m/%d\").lstrip('0') \n",
    "        # 取得目前頁面的今日文章清單\n",
    "        current_articles, prev_url = get_articles(soup, today) \n",
    "        while current_articles: \n",
    "            articles += current_articles\n",
    "            print(\"等待2秒鐘...\")\n",
    "            time.sleep(2) \n",
    "             # 剖析上一頁繼續尋找是否有今日的文章\n",
    "            soup = parse_html(get_resource(URL + prev_url))\n",
    "            current_articles, prev_url = get_articles(soup, today)\n",
    "\n",
    "    return articles\n",
    "\n",
    "if __name__ == '__main__':\n",
    "    url = URL + \"/bbs/\" + TOPIC + \"/index.html\"\n",
    "    print(url)\n",
    "    articles = web_scraping_bot(url)\n",
    "    for item in articles:\n",
    "        print(item)\n",
    "    save_to_json(articles, \"articles.json\")\n",
    " "
   ]
  },
  {
   "cell_type": "markdown",
   "id": "9de43453",
   "metadata": {},
   "source": [
    "### `ch07\\ch7-2-2.py`"
   ]
  },
  {
   "cell_type": "code",
   "execution_count": null,
   "id": "16e8fbc5",
   "metadata": {},
   "outputs": [],
   "source": [
    "import numpy as np \n",
    "\n",
    "a = np.array([1, 2, 3, 4, 5]) \n",
    "b = np.array((1, 2, 3, 4, 5)) \n",
    "print(type(a), type(b))  \n",
    "print(\"---------------------------\")        \n",
    "print(a[0], a[1], a[2], a[3], a[4])\n",
    "print(\"---------------------------\")\n",
    "b[0] = 5    \n",
    "print(b)\n",
    "print(\"---------------------------\")\n",
    "b[4] = 0\n",
    "print(b)    "
   ]
  },
  {
   "cell_type": "markdown",
   "id": "67381031",
   "metadata": {},
   "source": [
    "### `ch07\\ch7-2-2a.py`"
   ]
  },
  {
   "cell_type": "code",
   "execution_count": null,
   "id": "39d7479f",
   "metadata": {},
   "outputs": [],
   "source": [
    "import numpy as np \n",
    "\n",
    "a = np.array([[1,2,3],[4,5,6]])\n",
    "print(a[0, 0], a[0, 1], a[0, 2])\n",
    "print(a[1, 0], a[1, 1], a[1, 2])\n",
    "print(\"---------------------------\")\n",
    "a[0, 0] = 6\n",
    "a[1, 2] = 1\n",
    "print(a)\n"
   ]
  },
  {
   "cell_type": "markdown",
   "id": "3ee7c129",
   "metadata": {},
   "source": [
    "### `ch07\\ch7-2-2b.py`"
   ]
  },
  {
   "cell_type": "code",
   "execution_count": null,
   "id": "e60e4728",
   "metadata": {},
   "outputs": [],
   "source": [
    "import numpy as np \n",
    "\n",
    "a = np.array([1, 2, 3, 4, 5], int) \n",
    "b = np.array((1, 2, 3, 4, 5), dtype=float) \n",
    "print(a)\n",
    "print(\"---------------------------\")\n",
    "print(b)    "
   ]
  },
  {
   "cell_type": "markdown",
   "id": "e3889947",
   "metadata": {},
   "source": [
    "### `ch07\\ch7-2-2c.py`"
   ]
  },
  {
   "cell_type": "code",
   "execution_count": null,
   "id": "0e96cf0a",
   "metadata": {},
   "outputs": [],
   "source": [
    "import numpy as np \n",
    "\n",
    "a = np.arange(5)\n",
    "print(a)\n",
    "print(\"---------------------------\")\n",
    "b = np.arange(1, 6, 2)\n",
    "print(b) \n",
    "print(\"===========================\")\n",
    "c = np.zeros(2) \n",
    "print(c)\n",
    "print(\"---------------------------\")\n",
    "d = np.zeros((2,2)) \n",
    "print(d)           \n",
    "print(\"===========================\")\n",
    "e = np.ones(2) \n",
    "print(e)\n",
    "print(\"---------------------------\")\n",
    "f = np.ones((2,2)) \n",
    "print(f)         \n",
    "print(\"===========================\")\n",
    "g = np.full(2, 7)\n",
    "print(g)\n",
    "print(\"---------------------------\")\n",
    "h = np.full((2,2), 7)\n",
    "print(h)  \n",
    "\n",
    " \n"
   ]
  },
  {
   "cell_type": "markdown",
   "id": "23a66b46",
   "metadata": {},
   "source": [
    "### `ch07\\ch7-2-2d.py`"
   ]
  },
  {
   "cell_type": "code",
   "execution_count": null,
   "id": "167cc364",
   "metadata": {},
   "outputs": [],
   "source": [
    "import numpy as np \n",
    "\n",
    "a = np.array([[1,2,3],[4,5,6]])\n",
    "b = np.zeros_like(a)\n",
    "print(b)\n",
    "print(\"===========================\")\n",
    "c = np.ones_like(a)\n",
    "print(c)\n",
    "print(\"===========================\")\n",
    "d = np.eye(3)  \n",
    "print(d)\n",
    "print(\"---------------------------\")\n",
    "e = np.eye(3, k=1)\n",
    "print(e)\n",
    "print(\"===========================\")    \n",
    "f = np.random.rand(3)\n",
    "print(f)\n",
    "print(\"---------------------------\")\n",
    "g = np.random.rand(3,3)\n",
    "print(g)   \n",
    "\n"
   ]
  },
  {
   "cell_type": "markdown",
   "id": "93e3d6cf",
   "metadata": {},
   "source": [
    "### `ch07\\ch7-2-2e.py`"
   ]
  },
  {
   "cell_type": "code",
   "execution_count": null,
   "id": "bf536ee6",
   "metadata": {},
   "outputs": [],
   "source": [
    "import numpy as np \n",
    "\n",
    "a = np.arange(16)\n",
    "print(a)\n",
    "print(\"---------------------------\")\n",
    "b = a.reshape((4, 4))\n",
    "print(b)\n",
    "print(\"===========================\")\n",
    "c = np.array(range(10), float)\n",
    "print(c)\n",
    "print(\"---------------------------\")\n",
    "d = c.reshape((5, 2))\n",
    "print(d)\n",
    "\n",
    "\n"
   ]
  },
  {
   "cell_type": "markdown",
   "id": "b7d382bd",
   "metadata": {},
   "source": [
    "### `ch07\\ch7-2-3.py`"
   ]
  },
  {
   "cell_type": "code",
   "execution_count": null,
   "id": "439324e6",
   "metadata": {},
   "outputs": [],
   "source": [
    "import numpy as np \n",
    "\n",
    "a = np.array([[11, 12, 13, 14, 15],\n",
    "              [16, 17, 18, 19, 20],\n",
    "              [21, 22, 23, 24, 25],\n",
    "              [26, 27, 28 ,29, 30],\n",
    "              [31, 32, 33, 34, 35]])\n",
    " \n",
    "print(type(a))\n",
    "print(a.dtype)\n",
    "print(a.size)\n",
    "print(a.shape)\n",
    "print(a.itemsize)\n",
    "print(a.ndim)\n",
    "print(a.nbytes)  "
   ]
  },
  {
   "cell_type": "markdown",
   "id": "f3ab05dc",
   "metadata": {},
   "source": [
    "### `ch07\\ch7-2-4.py`"
   ]
  },
  {
   "cell_type": "code",
   "execution_count": null,
   "id": "690b318a",
   "metadata": {},
   "outputs": [],
   "source": [
    "import numpy as np \n",
    "\n",
    "a = np.array([1, 2, 3, 4, 5])\n",
    "for ele in a:\n",
    "    print(ele)\n"
   ]
  },
  {
   "cell_type": "markdown",
   "id": "c72fc8f2",
   "metadata": {},
   "source": [
    "### `ch07\\ch7-2-4a.py`"
   ]
  },
  {
   "cell_type": "code",
   "execution_count": null,
   "id": "0801260e",
   "metadata": {},
   "outputs": [],
   "source": [
    "import numpy as np \n",
    "\n",
    "a = np.array([[1, 2], [3, 4], [5, 6]])\n",
    "for ele in a:\n",
    "    print(ele)\n",
    "print(\"---------------------------\")\n",
    "for ele in a:\n",
    "    for item in ele:\n",
    "        print(str(item) + \" \", end=\"\")"
   ]
  },
  {
   "cell_type": "markdown",
   "id": "f9e5ea34",
   "metadata": {},
   "source": [
    "### `ch07\\ch7-2-5.py`"
   ]
  },
  {
   "cell_type": "code",
   "execution_count": null,
   "id": "ed2c38a0",
   "metadata": {},
   "outputs": [],
   "source": [
    "import numpy as np \n",
    "\n",
    "a = np.arange(10)\n",
    "outputfile = \"Example.npy\"\n",
    "with open(outputfile, 'wb') as fp:\n",
    "    np.save(fp, a)\n"
   ]
  },
  {
   "cell_type": "markdown",
   "id": "2c178ca3",
   "metadata": {},
   "source": [
    "### `ch07\\ch7-2-5a.py`"
   ]
  },
  {
   "cell_type": "code",
   "execution_count": null,
   "id": "e73a94e6",
   "metadata": {},
   "outputs": [],
   "source": [
    "import numpy as np \n",
    "\n",
    "a = np.array([[1,2,3],[4,5,6]])\n",
    "outputfile = \"Example.out\"\n",
    "np.savetxt(outputfile, a, delimiter=',')\n"
   ]
  },
  {
   "cell_type": "markdown",
   "id": "97e24959",
   "metadata": {},
   "source": [
    "### `ch07\\ch7-2-5b.py`"
   ]
  },
  {
   "cell_type": "code",
   "execution_count": null,
   "id": "9b87f69f",
   "metadata": {},
   "outputs": [],
   "source": [
    "import numpy as np \n",
    "\n",
    "outputfile = \"Example.npy\"\n",
    "with open(outputfile, 'rb') as fp:\n",
    "    a = np.load(fp)\n",
    "print(a)\n"
   ]
  },
  {
   "cell_type": "markdown",
   "id": "ad43412b",
   "metadata": {},
   "source": [
    "### `ch07\\ch7-2-5c.py`"
   ]
  },
  {
   "cell_type": "code",
   "execution_count": null,
   "id": "a039be73",
   "metadata": {},
   "outputs": [],
   "source": [
    "import numpy as np \n",
    "\n",
    "outputfile = \"Example.out\"\n",
    "a = np.loadtxt(outputfile, delimiter=',')\n",
    "print(a)\n"
   ]
  },
  {
   "cell_type": "markdown",
   "id": "3146d825",
   "metadata": {},
   "source": [
    "### `ch07\\ch7-3-1.py`"
   ]
  },
  {
   "cell_type": "code",
   "execution_count": null,
   "id": "6ec716da",
   "metadata": {},
   "outputs": [],
   "source": [
    "import numpy as np \n",
    "\n",
    "a = np.array([1, 2, 3]) \n",
    "print(\"a=\" + str(a))\n",
    "s = 5 \n",
    "print(\"s=\" + str(s))\n",
    "b = a + s       \n",
    "print(\"a+s=\" + str(b))    \n",
    "b = a - s       \n",
    "print(\"a-s=\" + str(b))   \n",
    "b = a * s       \n",
    "print(\"a*s=\" + str(b))  \n",
    "b = a / s       \n",
    "print(\"a/s=\" + str(b))  "
   ]
  },
  {
   "cell_type": "markdown",
   "id": "e50604e1",
   "metadata": {},
   "source": [
    "### `ch07\\ch7-3-1a.py`"
   ]
  },
  {
   "cell_type": "code",
   "execution_count": null,
   "id": "4b93753d",
   "metadata": {},
   "outputs": [],
   "source": [
    "import numpy as np \n",
    "\n",
    "a = np.array([1, 2, 3]) \n",
    "print(\"a=\" + str(a))\n",
    "s = 5 \n",
    "print(\"s=\" + str(s))\n",
    "b = np.add(a, s)       \n",
    "print(\"np.add(a,s)=\" + str(b))    \n",
    "b = np.subtract(a, s)       \n",
    "print(\"np.subtract(a,s)=\" + str(b))   \n",
    "b = np.multiply(a, s)       \n",
    "print(\"np.multiply(a,s)=\" + str(b))  \n",
    "b = np.divide(a, s)       \n",
    "print(\"np.divide(a,s)=\" + str(b))  "
   ]
  },
  {
   "cell_type": "markdown",
   "id": "053bf738",
   "metadata": {},
   "source": [
    "### `ch07\\ch7-3-1b.py`"
   ]
  },
  {
   "cell_type": "code",
   "execution_count": null,
   "id": "948d7a0c",
   "metadata": {},
   "outputs": [],
   "source": [
    "import numpy as np \n",
    "\n",
    "a = np.array([1, 2, 3]) \n",
    "print(\"a=\" + str(a))\n",
    "s = np.array([4, 5, 6])  \n",
    "print(\"s=\" + str(s))\n",
    "b = a + s       \n",
    "print(\"a+s=\" + str(b))    \n",
    "b = a - s       \n",
    "print(\"a-s=\" + str(b))   \n",
    "b = a * s       \n",
    "print(\"a*s=\" + str(b))  \n",
    "b = a / s       \n",
    "print(\"a/s=\" + str(b))  "
   ]
  },
  {
   "cell_type": "markdown",
   "id": "30f4c9cc",
   "metadata": {},
   "source": [
    "### `ch07\\ch7-3-1c.py`"
   ]
  },
  {
   "cell_type": "code",
   "execution_count": null,
   "id": "ea59e23e",
   "metadata": {},
   "outputs": [],
   "source": [
    "import numpy as np \n",
    "\n",
    "a = np.array([1, 2, 3]) \n",
    "print(\"c=\" + str(a))\n",
    "s = np.array([4, 5, 6])  \n",
    "print(\"s=\" + str(s))\n",
    "b = np.add(a, s)       \n",
    "print(\"np.add(a,s)=\" + str(b))    \n",
    "b = np.subtract(a, s)       \n",
    "print(\"np.subtract(a,s)=\" + str(b))   \n",
    "b = np.multiply(a, s)       \n",
    "print(\"np.multiply(a,s)=\" + str(b))  \n",
    "b = np.divide(a, s)       \n",
    "print(\"np.divide(a,s)=\" + str(b))  "
   ]
  },
  {
   "cell_type": "markdown",
   "id": "65b532d6",
   "metadata": {},
   "source": [
    "### `ch07\\ch7-3-1d.py`"
   ]
  },
  {
   "cell_type": "code",
   "execution_count": null,
   "id": "62e0e3b0",
   "metadata": {},
   "outputs": [],
   "source": [
    "import numpy as np \n",
    "\n",
    "a = np.array([1, 2, 3]) \n",
    "print(\"a=\" + str(a))\n",
    "s = np.array([4, 5, 6])  \n",
    "print(\"s=\" + str(s))\n",
    "b = a.dot(s)       \n",
    "print(\"a.dot(s)=\" + str(b))    \n"
   ]
  },
  {
   "cell_type": "markdown",
   "id": "e19627cb",
   "metadata": {},
   "source": [
    "### `ch07\\ch7-3-2.py`"
   ]
  },
  {
   "cell_type": "code",
   "execution_count": null,
   "id": "225ddc45",
   "metadata": {},
   "outputs": [],
   "source": [
    "import numpy as np \n",
    "\n",
    "a = np.array([1, 2, 3, 4, 5, 6, 7, 8, 9])\n",
    "print(\"a=\" + str(a))\n",
    "\n",
    "b = a[1:3]     # 索引 1,2\n",
    "print(\"a[1:3]=\" + str(b))\n",
    "b = a[:4]      # 索引 0,1,2,3\n",
    "print(\"a[:4]=\" + str(b))\n",
    "b = a[3:]      # 索引 3,4,5,6,7,8\n",
    "print(\"a[3:]=\" + str(b))\n",
    "b = a[2:9:3]   # 索引 2,5,8\n",
    "print(\"a[2:9:3]=\" + str(b))\n",
    "b = a[::2]     # 索引 0,2,4,6,8\n",
    "print(\"a[::2]=\" + str(b))\n",
    "b = a[::-1]    # 索引 8,7,6,5,4,3,2,1,0\n",
    "print(\"a[::-1]=\" + str(b))\n",
    "b = a[2:-2]    # 索引 8,7,6,5,4,3,2,1,0\n",
    "print(\"a[2:-2]=\" + str(b))\n"
   ]
  },
  {
   "cell_type": "markdown",
   "id": "823c757a",
   "metadata": {},
   "source": [
    "### `ch07\\ch7-3-3.py`"
   ]
  },
  {
   "cell_type": "code",
   "execution_count": null,
   "id": "6c5ac2ed",
   "metadata": {},
   "outputs": [],
   "source": [
    "import numpy as np \n",
    "\n",
    "a = np.array([1, 2, 3, 4, 5, 6, 7, 8, 9])\n",
    "print(\"a=\" + str(a))\n",
    "\n",
    "print(a[0], a[2], a[-1])  # 索引 0,2,最後1個 \n",
    "b = a[[1, 3, 5, 7]]       # 索引 1,3,5,7\n",
    "print(\"a[[1,3,5,7]]=\" + str(b))\n",
    "b = a[range(6)]           # 索引 0,1,2,3,4,5\n",
    "print(\"a[range(6)]=\" + str(b))\n",
    "a[[2, 6]] = 10            # 同時更改多個索引值\n",
    "print(\"a[[2,6]]=10->\" + str(a))"
   ]
  },
  {
   "cell_type": "markdown",
   "id": "587a7390",
   "metadata": {},
   "source": [
    "### `ch07\\ch7-3-3a.py`"
   ]
  },
  {
   "cell_type": "code",
   "execution_count": null,
   "id": "8e36571e",
   "metadata": {},
   "outputs": [],
   "source": [
    "import numpy as np \n",
    "\n",
    "a = np.array([14,8,10,11,6,3,18,13,12,9])\n",
    "print(\"a=\" + str(a))\n",
    "mask = (a % 3 == 0)        # 建立布林值陣列\n",
    "print(\"mask=\" + str(mask))\n",
    "b = a[mask]                # 使用布林值陣列取出值\n",
    "print(\"a[mask]=\" + str(b))\n",
    "a[a % 3 == 0] = -1         # 同時更改多個True索引\n",
    "print(\"a[a%3==0]=-1->\" + str(a))"
   ]
  },
  {
   "cell_type": "markdown",
   "id": "2415ea41",
   "metadata": {},
   "source": [
    "### `ch07\\ch7-4-1.py`"
   ]
  },
  {
   "cell_type": "code",
   "execution_count": null,
   "id": "21330193",
   "metadata": {},
   "outputs": [],
   "source": [
    "import numpy as np \n",
    "\n",
    "a = np.array([[1,2,3],[4,5,6]])\n",
    "print(\"a=\")\n",
    "print(a)\n",
    "s = 5 \n",
    "print(\"s=\" + str(s))\n",
    "b = a + s       \n",
    "print(\"a+s=\")\n",
    "print(b)    \n",
    "b = a - s       \n",
    "print(\"a-s=\")\n",
    "print(b)   \n",
    "b = a * s       \n",
    "print(\"a*s=\")\n",
    "print(b)  \n",
    "b = a / s       \n",
    "print(\"a/s=\")\n",
    "print(b)  "
   ]
  },
  {
   "cell_type": "markdown",
   "id": "66645a2c",
   "metadata": {},
   "source": [
    "### `ch07\\ch7-4-1a.py`"
   ]
  },
  {
   "cell_type": "code",
   "execution_count": null,
   "id": "85639ab3",
   "metadata": {},
   "outputs": [],
   "source": [
    "import numpy as np \n",
    "\n",
    "a = np.array([[1,2,3],[4,5,6]])\n",
    "print(\"a=\")\n",
    "print(a)\n",
    "s = 5 \n",
    "print(\"s=\" + str(s))\n",
    "b = np.add(a, s)       \n",
    "print(\"np.add(a,s)=\")\n",
    "print(b)    \n",
    "b = np.subtract(a, s)       \n",
    "print(\"np.subtract(a,s)=\")\n",
    "print(b)   \n",
    "b = np.multiply(a, s)       \n",
    "print(\"np.multiply(a,s)=\")\n",
    "print(b)  \n",
    "b = np.divide(a, s)       \n",
    "print(\"np.divide(a,s)=\")\n",
    "print(b)  "
   ]
  },
  {
   "cell_type": "markdown",
   "id": "490d0713",
   "metadata": {},
   "source": [
    "### `ch07\\ch7-4-1b.py`"
   ]
  },
  {
   "cell_type": "code",
   "execution_count": null,
   "id": "a1d4c876",
   "metadata": {},
   "outputs": [],
   "source": [
    "import numpy as np \n",
    "\n",
    "a = np.array([[1,2],[3,4]])\n",
    "print(\"a=\")\n",
    "print(a)\n",
    "s = np.array([[5,6],[7,8]])\n",
    "print(\"s=\")\n",
    "print(s)\n",
    "b = a + s       \n",
    "print(\"a+s=\")\n",
    "print(b)    \n",
    "b = a - s       \n",
    "print(\"a-s=\")\n",
    "print(b)   \n",
    "b = a * s       \n",
    "print(\"a*s=\")\n",
    "print(b)  \n",
    "b = a / s       \n",
    "print(\"a/s=\")\n",
    "print(b)  "
   ]
  },
  {
   "cell_type": "markdown",
   "id": "fd2495e0",
   "metadata": {},
   "source": [
    "### `ch07\\ch7-4-1c.py`"
   ]
  },
  {
   "cell_type": "code",
   "execution_count": null,
   "id": "e917eef8",
   "metadata": {},
   "outputs": [],
   "source": [
    "import numpy as np \n",
    "\n",
    "a = np.array([[1,2],[3,4]])\n",
    "print(\"a=\")\n",
    "print(a)\n",
    "s = np.array([[5,6],[7,8]])\n",
    "print(\"s=\")\n",
    "print(s)\n",
    "b = np.add(a, s)       \n",
    "print(\"np.add(a,s)=\")\n",
    "print(b)    \n",
    "b = np.subtract(a, s)       \n",
    "print(\"np.subtract(a,s)=\")\n",
    "print(b)   \n",
    "b = np.multiply(a, s)       \n",
    "print(\"np.multiply(a,s)=\")\n",
    "print(b)  \n",
    "b = np.divide(a, s)       \n",
    "print(\"np.divide(a,s)=\")\n",
    "print(b)  "
   ]
  },
  {
   "cell_type": "markdown",
   "id": "8ce6b79b",
   "metadata": {},
   "source": [
    "### `ch07\\ch7-4-1d.py`"
   ]
  },
  {
   "cell_type": "code",
   "execution_count": null,
   "id": "28dcf9db",
   "metadata": {},
   "outputs": [],
   "source": [
    "import numpy as np \n",
    "\n",
    "a = np.array([[1,2],[3,4]])\n",
    "print(\"a=\")\n",
    "print(a)\n",
    "s = np.array([[5,6],[7,8]])\n",
    "print(\"s=\")\n",
    "print(s)\n",
    "b = a.dot(s)       \n",
    "print(\"a.dot(s)=\")\n",
    "print(b)    \n"
   ]
  },
  {
   "cell_type": "markdown",
   "id": "3d9fb5d1",
   "metadata": {},
   "source": [
    "### `ch07\\ch7-4-2.py`"
   ]
  },
  {
   "cell_type": "code",
   "execution_count": null,
   "id": "0961534c",
   "metadata": {},
   "outputs": [],
   "source": [
    "import numpy as np \n",
    "\n",
    "a = np.arange(11,36)\n",
    "a = a.reshape(5,5)\n",
    "print(\"a=\")\n",
    "print(a)\n",
    "\n",
    "b = a[0, 1:4]     # 索引 [0,1~3]\n",
    "print(\"a[0,1:4]=\")\n",
    "print(b)\n",
    "b = a[1:4, 0]     # 索引 [1~3,0]\n",
    "print(\"a[1:4,0]=\")\n",
    "print(b)\n",
    "b = a[:2, 1:3]    # 索引 [0~1,1~2]\n",
    "print(\"a[:2,1:3]=\")\n",
    "print(b)\n",
    "b = a[:,1]        # 索引 [0~4,1]\n",
    "print(\"a[:,1]=\")\n",
    "print(b)\n",
    "b = a[::2, ::2]   # 索引 [0~2~4,0~2~4]\n",
    "print(\"a[::2,::2]=\")\n",
    "print(b)"
   ]
  },
  {
   "cell_type": "markdown",
   "id": "7b30f49e",
   "metadata": {},
   "source": [
    "### `ch07\\ch7-4-3.py`"
   ]
  },
  {
   "cell_type": "code",
   "execution_count": null,
   "id": "f245bac1",
   "metadata": {},
   "outputs": [],
   "source": [
    "import numpy as np \n",
    "\n",
    "a = np.array([[1,2,3],[4,5,6],[7,8,9],[10,11,12]])\n",
    "print(\"a=\")\n",
    "print(a)\n",
    "\n",
    "b = a[[0,1,2],[0,1,0]]   # 索引 [0,0][1,1][2,0]\n",
    "print(\"a[[0,1,2],[0,1,0]]=\")\n",
    "print(b)\n",
    "b = np.array([a[0,0],a[1,1],a[2,0]])  # 索引 [0,0][1,1][2,0]\n",
    "print(\"np.array([a[0,0],a[1,1],a[2,0]])\")\n",
    "print(b)\n",
    "\n",
    "idx = np.array([0, 2, 0, 1])\n",
    "print(\"idx=\" + str(idx))\n",
    "b = a[np.arange(4), idx]     # 索引 [0,0][1,2][2,0][3,1]\n",
    "print(\"a[np.arange(4),idx]=\")\n",
    "print(b)\n",
    "a[np.arange(4), idx] += 10\n",
    "print(\"a[np.arange(4), idx] += 10->\")\n",
    "print(a)\n"
   ]
  },
  {
   "cell_type": "markdown",
   "id": "c68992bf",
   "metadata": {},
   "source": [
    "### `ch07\\ch7-4-3a.py`"
   ]
  },
  {
   "cell_type": "code",
   "execution_count": null,
   "id": "beef75b7",
   "metadata": {},
   "outputs": [],
   "source": [
    "import numpy as np \n",
    "\n",
    "a = np.array([[1,2],[3,4],[5,6]])\n",
    "print(\"a=\")\n",
    "print(a)\n",
    "\n",
    "mask = (a > 2)\n",
    "print(\"mask=\")\n",
    "print(mask)\n",
    "b = a[mask]           # 使用布林值陣列取出值\n",
    "print(\"a[mask]=\" + str(b))\n",
    "a[a > 2] = -1         # 同時更改多個True索引\n",
    "print(\"a[a>2]=-1->\")\n",
    "print(a)\n",
    "\n"
   ]
  },
  {
   "cell_type": "markdown",
   "id": "850214c6",
   "metadata": {},
   "source": [
    "### `ch07\\ch7-5.py`"
   ]
  },
  {
   "cell_type": "code",
   "execution_count": null,
   "id": "3f3b8437",
   "metadata": {},
   "outputs": [],
   "source": [
    "import numpy as np \n",
    "\n",
    "a = np.array([[1,2,3],[4,5,6],[7,8,9],[10,11,12]])\n",
    "print(\"a=\")\n",
    "print(a)\n",
    "print(\"a 形狀: \" + str(a.shape))\n",
    "b = np.array([1,0,1])\n",
    "print(\"b=\" + str(b))\n",
    "print(\"b 形狀: \" + str(b.shape))\n",
    "\n",
    "c = a + b\n",
    "print(c)"
   ]
  },
  {
   "cell_type": "markdown",
   "id": "34ecda3c",
   "metadata": {},
   "source": [
    "### `ch07\\ch7-6-1.py`"
   ]
  },
  {
   "cell_type": "code",
   "execution_count": null,
   "id": "0a0ad97a",
   "metadata": {},
   "outputs": [],
   "source": [
    "import numpy as np\n",
    "\n",
    "a = np.array([[1,2,3],[4,5,6]])\n",
    "print(\"a=\")\n",
    "print(a)\n",
    "\n",
    "b = a.ravel()\n",
    "print(\"a.ravel()=\" + str(b))\n",
    "c = a.flatten()\n",
    "print(\"a.flatten()=\" + str(c))\n",
    "d = np.ravel(a)\n",
    "print(\"np.ravel(a)=\" + str(d))\n",
    "\n"
   ]
  },
  {
   "cell_type": "markdown",
   "id": "18d7ad56",
   "metadata": {},
   "source": [
    "### `ch07\\ch7-6-1a.py`"
   ]
  },
  {
   "cell_type": "code",
   "execution_count": null,
   "id": "4b7edab6",
   "metadata": {},
   "outputs": [],
   "source": [
    "import numpy as np \n",
    "\n",
    "a = np.array([1,2,3,4,5,6])\n",
    "print(\"a=\" + str(a))\n",
    "\n",
    "b = np.reshape(a,(3,2))\n",
    "print(\"b=np.reshape(a,(3,2))->\")\n",
    "print(b)\n",
    "c = b.T\n",
    "print(\"c=b.T->\")\n",
    "print(c)\n",
    "c = b.transpose()\n",
    "print(\"c=b.transpose()->\")\n",
    "print(c)\n",
    "c = np.transpose(b)\n",
    "print(\"c=np.transpose(b)->\")\n",
    "print(c)"
   ]
  },
  {
   "cell_type": "markdown",
   "id": "7f68fa71",
   "metadata": {},
   "source": [
    "### `ch07\\ch7-6-1b.py`"
   ]
  },
  {
   "cell_type": "code",
   "execution_count": null,
   "id": "231b4ce7",
   "metadata": {},
   "outputs": [],
   "source": [
    "import numpy as np \n",
    "\n",
    "a = np.array([1,2,3])\n",
    "print(\"a=\" + str(a))\n",
    "\n",
    "b = a[:, np.newaxis]\n",
    "print(\"b=a[:,np.newaxis]->\")\n",
    "print(b)\n",
    "print(b.shape)\n",
    "b = a[np.newaxis, :]\n",
    "print(\"b=a[np.newaxis,:]->\")\n",
    "print(b)\n",
    "print(b.shape)"
   ]
  },
  {
   "cell_type": "markdown",
   "id": "8c2d1431",
   "metadata": {},
   "source": [
    "### `ch07\\ch7-6-1c.py`"
   ]
  },
  {
   "cell_type": "code",
   "execution_count": null,
   "id": "bb2284e9",
   "metadata": {},
   "outputs": [],
   "source": [
    "import numpy as np \n",
    "\n",
    "a = np.array([1,2,3])\n",
    "print(\"a=\" + str(a))\n",
    "\n",
    "b = a.copy()\n",
    "print(\"b=a.copy()->\" + str(b))\n",
    "b.fill(4)\n",
    "print(\"b.fill(0)=\" + str(b))\n",
    "c = np.concatenate((a,b))\n",
    "print(\"c=np.concatenate((a,b))->\" + str(c))\n"
   ]
  },
  {
   "cell_type": "markdown",
   "id": "660912bd",
   "metadata": {},
   "source": [
    "### `ch07\\ch7-6-1d.py`"
   ]
  },
  {
   "cell_type": "code",
   "execution_count": null,
   "id": "2212fe47",
   "metadata": {},
   "outputs": [],
   "source": [
    "import numpy as np \n",
    "\n",
    "a = np.array([[1,2],[3,4]])\n",
    "b = np.array([[5,6],[7,8]])\n",
    "\n",
    "c = np.concatenate((a,b))\n",
    "print(\"c=np.concatenate((a,b))->\")\n",
    "print(c)\n",
    "c = np.concatenate((a,b), axis=0)\n",
    "print(\"c=np.concatenate((a,b), axis=0)->\")\n",
    "print(c)\n",
    "c = np.concatenate((a,b), axis=1)\n",
    "print(\"c=np.concatenate((a,b), axis=1)->\")\n",
    "print(c)"
   ]
  },
  {
   "cell_type": "markdown",
   "id": "c0836a7e",
   "metadata": {},
   "source": [
    "### `ch07\\ch7-6-1e.py`"
   ]
  },
  {
   "cell_type": "code",
   "execution_count": null,
   "id": "897b65b4",
   "metadata": {},
   "outputs": [],
   "source": [
    "import numpy as np\n",
    "\n",
    "a = np.array([[1,2,3,4,5,6,7,8]])\n",
    "b = a.reshape(2, 4)\n",
    "print(b.shape)\n",
    "print(\"---------------------------\")\n",
    "c = np.expand_dims(b, axis=0)\n",
    "d = np.expand_dims(b, axis=1)\n",
    "print(c.shape, d.shape)\n",
    "print(\"---------------------------\")\n",
    "e = np.squeeze(c)\n",
    "f = np.squeeze(d)\n",
    "print(e.shape, f.shape)"
   ]
  },
  {
   "cell_type": "markdown",
   "id": "e7a0508b",
   "metadata": {},
   "source": [
    "### `ch07\\ch7-6-1f.py`"
   ]
  },
  {
   "cell_type": "code",
   "execution_count": null,
   "id": "d4ad36a2",
   "metadata": {},
   "outputs": [],
   "source": [
    "import numpy as np\n",
    "\n",
    "a = np.array([[11,22,13,74,35,6,27,18]])\n",
    "\n",
    "min_value = np.min(a)\n",
    "max_value = np.max(a)\n",
    "print(\"最小值: \" + str(min_value))\n",
    "print(\"最大值: \" + str(max_value))\n",
    "\n",
    "min_idx = np.argmin(a)\n",
    "max_idx = np.argmax(a)\n",
    "print(\"最小值索引: \" + str(min_idx))\n",
    "print(\"最大值索引: \" + str(max_idx))"
   ]
  },
  {
   "cell_type": "markdown",
   "id": "a078559c",
   "metadata": {},
   "source": [
    "### `ch07\\ch7-6-2.py`"
   ]
  },
  {
   "cell_type": "code",
   "execution_count": null,
   "id": "7bd4e77e",
   "metadata": {},
   "outputs": [],
   "source": [
    "import numpy as np \n",
    "\n",
    "np.random.seed(293423)\n",
    "\n",
    "v1 = np.random.random()\n",
    "v2 = np.random.random()\n",
    "print(v1, v2)\n",
    "v3 = np.random.randint(5, 10)\n",
    "v4 = np.random.randint(1, 101)\n",
    "print(v3, v4)"
   ]
  },
  {
   "cell_type": "markdown",
   "id": "eeda0a77",
   "metadata": {},
   "source": [
    "### `ch07\\ch7-6-2a.py`"
   ]
  },
  {
   "cell_type": "code",
   "execution_count": null,
   "id": "a65b0d7f",
   "metadata": {},
   "outputs": [],
   "source": [
    "import numpy as np \n",
    "\n",
    "a = np.random.rand(5)\n",
    "print(\"np.random.rand(5)=\")\n",
    "print(a)\n",
    "b = np.random.rand(3, 2)  \n",
    "print(\"np.random.rand(3,2)=\")\n",
    "print(b)\n",
    "c = np.random.randint(5, 10, size=5)\n",
    "print(\"np.random.randint(5,10,size=5)\")\n",
    "print(c)\n",
    "d = np.random.randint(5, 10, size=(2,3))\n",
    "print(\"np.random.randint(5,10,size=(2,3))\")\n",
    "print(d)"
   ]
  },
  {
   "cell_type": "markdown",
   "id": "48455b21",
   "metadata": {},
   "source": [
    "### `ch07\\ch7-6-3.py`"
   ]
  },
  {
   "cell_type": "code",
   "execution_count": null,
   "id": "326f870d",
   "metadata": {},
   "outputs": [],
   "source": [
    "import numpy as np \n",
    "\n",
    "a = np.array([30,45,60]) \n",
    "\n",
    "print(np.sin(a*np.pi/180)) \n",
    "print(np.cos(a*np.pi/180)) \n",
    "print(np.tan(a*np.pi/180)) "
   ]
  },
  {
   "cell_type": "markdown",
   "id": "ac95de55",
   "metadata": {},
   "source": [
    "### `ch07\\ch7-6-3a.py`"
   ]
  },
  {
   "cell_type": "code",
   "execution_count": null,
   "id": "de6b1725",
   "metadata": {},
   "outputs": [],
   "source": [
    "import numpy as np \n",
    "\n",
    "a = np.array([1.0,5.55, 123, 0.567, 25.532]) \n",
    "print(\"a=\" + str(a))\n",
    "\n",
    "print(np.around(a))\n",
    "print(np.around(a, decimals = 1))\n",
    "print(np.around(a, decimals = -1))\n",
    "\n",
    "a = np.array([-1.7, 1.5, -0.2, 0.6, 10]) \n",
    "print(\"a=\" + str(a))\n",
    "\n",
    "b = np.floor(a)\n",
    "print(\"floor()=\" + str(b))\n",
    "b = np.ceil(a)\n",
    "print(\"ceil()=\" + str(b))"
   ]
  },
  {
   "cell_type": "markdown",
   "id": "2c128899",
   "metadata": {},
   "source": [
    "### `ch08\\ch8-1-2.py`"
   ]
  },
  {
   "cell_type": "code",
   "execution_count": null,
   "id": "70c796fd",
   "metadata": {},
   "outputs": [],
   "source": [
    "import pandas as pd \n",
    "\n",
    "s = pd.Series([12, 29, 72,4, 8, 10]) \n",
    "print(s)  "
   ]
  },
  {
   "cell_type": "markdown",
   "id": "4e76cbbc",
   "metadata": {},
   "source": [
    "### `ch08\\ch8-1-2a.py`"
   ]
  },
  {
   "cell_type": "code",
   "execution_count": null,
   "id": "b500600a",
   "metadata": {},
   "outputs": [],
   "source": [
    "import pandas as pd\n",
    "\n",
    "fruits = [\"蘋果\", \"橘子\", \"梨子\", \"櫻桃\"]\n",
    "quantities = [15, 33, 45, 55]\n",
    "s = pd.Series(quantities, index=fruits) \n",
    "print(s)\n",
    "print(\"---------------------------\")\n",
    "print(s.index)\n",
    "print(\"---------------------------\")\n",
    "print(s.values)  "
   ]
  },
  {
   "cell_type": "markdown",
   "id": "0c9be4ac",
   "metadata": {},
   "source": [
    "### `ch08\\ch8-1-2b.py`"
   ]
  },
  {
   "cell_type": "code",
   "execution_count": null,
   "id": "50f0c768",
   "metadata": {},
   "outputs": [],
   "source": [
    "import pandas as pd\n",
    "\n",
    "fruits = [\"蘋果\", \"橘子\", \"梨子\", \"櫻桃\"]\n",
    "quantities = [15, 33, 45, 55]\n",
    "s = pd.Series(quantities, index=fruits) \n",
    "p = pd.Series([11, 16, 21, 32], index=fruits) \n",
    "print(s + p)\n",
    "print(\"---------------------------\")\n",
    "print(\"總計=\", sum(s + p))\n",
    " "
   ]
  },
  {
   "cell_type": "markdown",
   "id": "e86e3cbd",
   "metadata": {},
   "source": [
    "### `ch08\\ch8-1-2c.py`"
   ]
  },
  {
   "cell_type": "code",
   "execution_count": null,
   "id": "156c86d9",
   "metadata": {},
   "outputs": [],
   "source": [
    "import numpy as np\n",
    "import pandas as pd\n",
    "\n",
    "fruits = [\"蘋果\", \"橘子\", \"梨子\", \"櫻桃\"]\n",
    "s = pd.Series([15, 33, 45, 55], index=fruits) \n",
    "print(\"橘子=\", s[\"橘子\"])\n",
    "print(\"---------------------------\")\n",
    "print(s[[\"橘子\",\"梨子\",\"櫻桃\"]])\n",
    "print(\"---------------------------\")\n",
    "print((s+2)*3)\n",
    "print(\"---------------------------\")\n",
    "print(s.apply(np.sin))\n",
    " "
   ]
  },
  {
   "cell_type": "markdown",
   "id": "b8dcf89b",
   "metadata": {},
   "source": [
    "### `ch08\\ch8-2-1.py`"
   ]
  },
  {
   "cell_type": "code",
   "execution_count": null,
   "id": "06437b9d",
   "metadata": {},
   "outputs": [],
   "source": [
    "import pandas as pd\n",
    "\n",
    "dists = {\"name\": [\"中正區\", \"板橋區\", \"桃園區\", \"北屯區\", \n",
    "                   \"安南區\", \"三民區\", \"大安區\", \"永和區\", \n",
    "                   \"八德區\", \"前鎮區\", \"鳳山區\", \n",
    "                   \"信義區\", \"新店區\"],\n",
    "         \"population\": [159598, 551452, 441287, 275207,\n",
    "                        192327, 343203, 309835, 222531,\n",
    "                        198473, 189623, 359125, \n",
    "                        225561, 302070],\n",
    "         \"city\": [\"台北市\", \"新北市\", \"桃園市\", \"台中市\",\n",
    "                  \"台南市\", \"高雄市\", \"台北市\", \"新北市\",\n",
    "                  \"桃園市\", \"高雄市\", \"高雄市\",\n",
    "                  \"台北市\", \"新北市\"]}\n",
    "df = pd.DataFrame(dists) \n",
    "print(df)\n",
    "df.to_html(\"ch8-2-1.html\")"
   ]
  },
  {
   "cell_type": "markdown",
   "id": "a5dc3b72",
   "metadata": {},
   "source": [
    "### `ch08\\ch8-2-1a.py`"
   ]
  },
  {
   "cell_type": "code",
   "execution_count": null,
   "id": "5be02604",
   "metadata": {},
   "outputs": [],
   "source": [
    "import pandas as pd\n",
    "\n",
    "dists = {\"name\": [\"中正區\", \"板橋區\", \"桃園區\", \"北屯區\", \n",
    "                   \"安南區\", \"三民區\", \"大安區\", \"永和區\", \n",
    "                   \"八德區\", \"前鎮區\", \"鳳山區\", \n",
    "                   \"信義區\", \"新店區\"],\n",
    "         \"population\": [159598, 551452, 441287, 275207,\n",
    "                        192327, 343203, 309835, 222531,\n",
    "                        198473, 189623, 359125, \n",
    "                        225561, 302070],\n",
    "         \"city\": [\"台北市\", \"新北市\", \"桃園市\", \"台中市\",\n",
    "                  \"台南市\", \"高雄市\", \"台北市\", \"新北市\",\n",
    "                  \"桃園市\", \"高雄市\", \"高雄市\",\n",
    "                  \"台北市\", \"新北市\"]}\n",
    "         \n",
    "ordinals =[\"first\", \"second\", \"third\", \"fourth\", \"fifth\",\n",
    "           \"sixth\", \"seventh\", \"eigth\", \"ninth\", \"tenth\",\n",
    "           \"eleventh\", \"twelvth\", \"thirteenth\"]         \n",
    "df = pd.DataFrame(dists, index=ordinals) \n",
    "print(df)  \n",
    "df.to_html(\"ch8-2-1a.html\")\n",
    "print(\"---------------------------\")\n",
    "df2 = pd.DataFrame(dists)\n",
    "df2.index = ordinals\n",
    "print(df2) "
   ]
  },
  {
   "cell_type": "markdown",
   "id": "4a033e77",
   "metadata": {},
   "source": [
    "### `ch08\\ch8-2-1b.py`"
   ]
  },
  {
   "cell_type": "code",
   "execution_count": null,
   "id": "9e04e53e",
   "metadata": {},
   "outputs": [],
   "source": [
    "import pandas as pd\n",
    "\n",
    "dists = {\"name\": [\"中正區\", \"板橋區\", \"桃園區\", \"北屯區\", \n",
    "                   \"安南區\", \"三民區\", \"大安區\", \"永和區\", \n",
    "                   \"八德區\", \"前鎮區\", \"鳳山區\", \n",
    "                   \"信義區\", \"新店區\"],\n",
    "         \"population\": [159598, 551452, 441287, 275207,\n",
    "                        192327, 343203, 309835, 222531,\n",
    "                        198473, 189623, 359125, \n",
    "                        225561, 302070],\n",
    "         \"city\": [\"台北市\", \"新北市\", \"桃園市\", \"台中市\",\n",
    "                  \"台南市\", \"高雄市\", \"台北市\", \"新北市\",\n",
    "                  \"桃園市\", \"高雄市\", \"高雄市\",\n",
    "                  \"台北市\", \"新北市\"]}\n",
    "         \n",
    "ordinals =[\"first\", \"second\", \"third\", \"fourth\", \"fifth\",\n",
    "           \"sixth\", \"seventh\", \"eigth\", \"ninth\", \"tenth\",\n",
    "           \"eleventh\", \"twelvth\", \"thirteenth\"]         \n",
    "df = pd.DataFrame(dists, \n",
    "                  columns = [\"name\", \"city\", \"population\"],\n",
    "                  index=ordinals) \n",
    "print(df)\n",
    "df.to_html(\"ch8-2-1b.html\")  \n",
    "print(\"---------------------------\")\n",
    "df2 = pd.DataFrame(dists, index=ordinals)\n",
    "df2.columns = [\"name\", \"city\", \"population\"]\n",
    "print(df2) "
   ]
  },
  {
   "cell_type": "markdown",
   "id": "eebf4084",
   "metadata": {},
   "source": [
    "### `ch08\\ch8-2-1c.py`"
   ]
  },
  {
   "cell_type": "code",
   "execution_count": 21,
   "id": "51618817",
   "metadata": {},
   "outputs": [
    {
     "name": "stdout",
     "output_type": "stream",
     "text": [
      "    name  population\n",
      "台北市  中正區      159598\n",
      "新北市  板橋區      551452\n",
      "桃園市  桃園區      441287\n",
      "台中市  北屯區      275207\n",
      "台南市  安南區      192327\n",
      "高雄市  三民區      343203\n",
      "台北市  大安區      309835\n",
      "新北市  永和區      222531\n",
      "桃園市  八德區      198473\n",
      "高雄市  前鎮區      189623\n",
      "高雄市  鳳山區      359125\n",
      "台北市  信義區      225561\n",
      "新北市  新店區      302070\n"
     ]
    }
   ],
   "source": [
    "import pandas as pd\n",
    "\n",
    "dists = {\"name\": [\"中正區\", \"板橋區\", \"桃園區\", \"北屯區\", \n",
    "                   \"安南區\", \"三民區\", \"大安區\", \"永和區\", \n",
    "                   \"八德區\", \"前鎮區\", \"鳳山區\", \n",
    "                   \"信義區\", \"新店區\"],\n",
    "         \"population\": [159598, 551452, 441287, 275207,\n",
    "                        192327, 343203, 309835, 222531,\n",
    "                        198473, 189623, 359125, \n",
    "                        225561, 302070],\n",
    "         \"city\": [\"台北市\", \"新北市\", \"桃園市\", \"台中市\",\n",
    "                  \"台南市\", \"高雄市\", \"台北市\", \"新北市\",\n",
    "                  \"桃園市\", \"高雄市\", \"高雄市\",\n",
    "                  \"台北市\", \"新北市\"]}\n",
    "         \n",
    "df = pd.DataFrame(dists, \n",
    "                  columns = [\"name\", \"population\"],\n",
    "                  index = dists[\"city\"]) \n",
    "print(df) \n",
    "df.to_html(\"ch8-2-1c.html\")\n"
   ]
  },
  {
   "cell_type": "markdown",
   "id": "63cd9a05",
   "metadata": {},
   "source": [
    "### `ch08\\ch8-2-1d.py`"
   ]
  },
  {
   "cell_type": "code",
   "execution_count": 22,
   "id": "e9212c04",
   "metadata": {},
   "outputs": [
    {
     "name": "stdout",
     "output_type": "stream",
     "text": [
      "               台北市     新北市     桃園市     台中市     台南市     高雄市     台北市     新北市  \\\n",
      "name           中正區     板橋區     桃園區     北屯區     安南區     三民區     大安區     永和區   \n",
      "population  159598  551452  441287  275207  192327  343203  309835  222531   \n",
      "\n",
      "               桃園市     高雄市     高雄市     台北市     新北市  \n",
      "name           八德區     前鎮區     鳳山區     信義區     新店區  \n",
      "population  198473  189623  359125  225561  302070  \n"
     ]
    }
   ],
   "source": [
    "import pandas as pd\n",
    "\n",
    "dists = {\"name\": [\"中正區\", \"板橋區\", \"桃園區\", \"北屯區\", \n",
    "                   \"安南區\", \"三民區\", \"大安區\", \"永和區\", \n",
    "                   \"八德區\", \"前鎮區\", \"鳳山區\", \n",
    "                   \"信義區\", \"新店區\"],\n",
    "         \"population\": [159598, 551452, 441287, 275207,\n",
    "                        192327, 343203, 309835, 222531,\n",
    "                        198473, 189623, 359125, \n",
    "                        225561, 302070],\n",
    "         \"city\": [\"台北市\", \"新北市\", \"桃園市\", \"台中市\",\n",
    "                  \"台南市\", \"高雄市\", \"台北市\", \"新北市\",\n",
    "                  \"桃園市\", \"高雄市\", \"高雄市\",\n",
    "                  \"台北市\", \"新北市\"]}\n",
    "         \n",
    "ordinals =[\"first\", \"second\", \"third\", \"fourth\", \"fifth\",\n",
    "           \"sixth\", \"seventh\", \"eigth\", \"ninth\", \"tenth\",\n",
    "           \"eleventh\", \"twelvth\", \"thirteenth\"]         \n",
    "df = pd.DataFrame(dists, \n",
    "                  columns = [\"name\", \"population\"],\n",
    "                  index = dists[\"city\"]) \n",
    "print(df.T) \n",
    "df.T.to_html(\"ch8-2-1d.html\")"
   ]
  },
  {
   "cell_type": "markdown",
   "id": "ec0a8720",
   "metadata": {},
   "source": [
    "### `ch08\\ch8-2-2.py`"
   ]
  },
  {
   "cell_type": "code",
   "execution_count": null,
   "id": "b3d60b58",
   "metadata": {},
   "outputs": [],
   "source": [
    "import pandas as pd \n",
    "\n",
    "dists = {\"name\": [\"中正區\", \"板橋區\", \"桃園區\", \"北屯區\", \n",
    "                   \"安南區\", \"三民區\", \"大安區\", \"永和區\", \n",
    "                   \"八德區\", \"前鎮區\", \"鳳山區\", \n",
    "                   \"信義區\", \"新店區\"],\n",
    "         \"population\": [159598, 551452, 441287, 275207,\n",
    "                        192327, 343203, 309835, 222531,\n",
    "                        198473, 189623, 359125, \n",
    "                        225561, 302070],\n",
    "         \"city\": [\"台北市\", \"新北市\", \"桃園市\", \"台中市\",\n",
    "                  \"台南市\", \"高雄市\", \"台北市\", \"新北市\",\n",
    "                  \"桃園市\", \"高雄市\", \"高雄市\",\n",
    "                  \"台北市\", \"新北市\"]}\n",
    "df = pd.DataFrame(dists) \n",
    "\n",
    "df.to_csv(\"dists2.csv\", index=False, encoding=\"utf8\")\n",
    "df.to_json(\"dists.json\")"
   ]
  },
  {
   "cell_type": "markdown",
   "id": "15010ee3",
   "metadata": {},
   "source": [
    "### `ch08\\ch8-2-2a.py`"
   ]
  },
  {
   "cell_type": "code",
   "execution_count": null,
   "id": "a8d452e0",
   "metadata": {},
   "outputs": [],
   "source": [
    "import pandas as pd\n",
    "\n",
    "# 匯入CSV格式的檔案\n",
    "df = pd.read_csv(\"dists2.csv\", encoding=\"utf8\")\n",
    "print(df)\n",
    "df.to_html(\"ch8-2-2a-01.html\")\n",
    "print(\"---------------------------\")\n",
    "# 匯入JSON格式的檔案\n",
    "df2 = pd.read_json(\"dists.json\")\n",
    "print(df2)\n",
    "df.to_html(\"ch8-2-2a-02.html\")"
   ]
  },
  {
   "cell_type": "markdown",
   "id": "9d0f50e2",
   "metadata": {},
   "source": [
    "### `ch08\\ch8-2-3.py`"
   ]
  },
  {
   "cell_type": "code",
   "execution_count": null,
   "id": "bbe6eca4",
   "metadata": {},
   "outputs": [],
   "source": [
    "import pandas as pd\n",
    "\n",
    "df = pd.read_csv(\"dists.csv\", encoding=\"utf8\")\n",
    "\n",
    "print(df.head())\n",
    "df.head().to_html(\"ch8-2-3-01.html\")\n",
    "print(\"---------------------------\")\n",
    "print(df.head(3))\n",
    "df.head(3).to_html(\"ch8-2-3-02.html\")"
   ]
  },
  {
   "cell_type": "markdown",
   "id": "37895dc8",
   "metadata": {},
   "source": [
    "### `ch08\\ch8-2-3a.py`"
   ]
  },
  {
   "cell_type": "code",
   "execution_count": null,
   "id": "b1d305a1",
   "metadata": {},
   "outputs": [],
   "source": [
    "import pandas as pd\n",
    "\n",
    "df = pd.read_csv(\"dists.csv\", encoding=\"utf8\")\n",
    "\n",
    "print(df.tail())\n",
    "df.tail().to_html(\"ch8-2-3a-01.html\")\n",
    "print(\"---------------------------\")\n",
    "print(df.tail(3)) \n",
    "df.tail(3).to_html(\"ch8-2-3a-02.html\")\n"
   ]
  },
  {
   "cell_type": "markdown",
   "id": "0c4234fb",
   "metadata": {},
   "source": [
    "### `ch08\\ch8-2-3b.py`"
   ]
  },
  {
   "cell_type": "code",
   "execution_count": null,
   "id": "23513683",
   "metadata": {},
   "outputs": [],
   "source": [
    "import pandas as pd\n",
    "\n",
    "df = pd.read_csv(\"dists.csv\", encoding=\"utf8\")\n",
    "\n",
    "df.columns = [\"區\", \"人口\", \"直轄市\"]\n",
    "print(df.head(4)) \n",
    "df.head(4).to_html(\"ch8-2-3b.html\")"
   ]
  },
  {
   "cell_type": "markdown",
   "id": "b893051d",
   "metadata": {},
   "source": [
    "### `ch08\\ch8-2-3c.py`"
   ]
  },
  {
   "cell_type": "code",
   "execution_count": null,
   "id": "81f113c4-7211-4bc1-a4b4-40f81986b20a",
   "metadata": {},
   "outputs": [],
   "source": []
  },
  {
   "cell_type": "code",
   "execution_count": null,
   "id": "557cb79a",
   "metadata": {},
   "outputs": [],
   "source": [
    "import pandas as pd\n",
    "\n",
    "df = pd.read_csv(\"dists.csv\", encoding=\"utf8\")\n",
    "\n",
    "df.columns = [\"區\", \"人口\", \"直轄市\"]\n",
    "print(df.index)\n",
    "print(\"---------------------------\")\n",
    "print(df.columns)\n",
    "print(\"---------------------------\")\n",
    "print(df.values)"
   ]
  },
  {
   "cell_type": "markdown",
   "id": "65ced858",
   "metadata": {},
   "source": [
    "### `ch08\\ch8-2-3d.py`"
   ]
  },
  {
   "cell_type": "code",
   "execution_count": null,
   "id": "8ec84c9e",
   "metadata": {},
   "outputs": [],
   "source": [
    "import pandas as pd \n",
    "\n",
    "df = pd.read_csv(\"dists.csv\", encoding=\"utf8\")\n",
    "\n",
    "print(\"資料數= \", len(df))\n",
    "print(\"---------------------------\")\n",
    "print(\"形狀= \", df.shape)\n",
    "print(\"---------------------------\")\n",
    "df.info()"
   ]
  },
  {
   "cell_type": "markdown",
   "id": "95fa0219",
   "metadata": {},
   "source": [
    "### `ch08\\ch8-2-4.py`"
   ]
  },
  {
   "cell_type": "code",
   "execution_count": null,
   "id": "62693b5e",
   "metadata": {},
   "outputs": [],
   "source": [
    "import pandas as pd \n",
    "\n",
    "df = pd.read_csv(\"dists.csv\", encoding=\"utf8\")\n",
    "\n",
    "for index, row in df.iterrows() :\n",
    "    print(index, row[\"city\"], row[\"name\"], row[\"population\"])"
   ]
  },
  {
   "cell_type": "markdown",
   "id": "9f9f81ef",
   "metadata": {},
   "source": [
    "### `ch08\\ch8-2-5.py`"
   ]
  },
  {
   "cell_type": "code",
   "execution_count": null,
   "id": "fc9685ac",
   "metadata": {},
   "outputs": [],
   "source": [
    "import pandas as pd\n",
    "\n",
    "df = pd.read_csv(\"dists.csv\", encoding=\"utf8\")\n",
    "\n",
    "df2 = df.set_index(\"city\")\n",
    "print(df2.head())\n",
    "df2.head().to_html(\"ch8-2-5-01.html\")\n",
    "print(\"---------------------------\")\n",
    "df3 = df2.reset_index()\n",
    "print(df3.head())\n",
    "df3.head().to_html(\"ch8-2-5-02.html\")"
   ]
  },
  {
   "cell_type": "markdown",
   "id": "7ae661ea",
   "metadata": {},
   "source": [
    "### `ch08\\ch8-2-5a.py`"
   ]
  },
  {
   "cell_type": "code",
   "execution_count": null,
   "id": "514db43a",
   "metadata": {},
   "outputs": [],
   "source": [
    "import pandas as pd\n",
    "\n",
    "df = pd.read_csv(\"dists.csv\", encoding=\"utf8\")\n",
    "\n",
    "df2 = df.set_index([\"city\", \"name\"])\n",
    "df2.sort_index(ascending=False, inplace=True)\n",
    "print(df2)\n",
    "df2.to_html(\"ch8-2-5a.html\")"
   ]
  },
  {
   "cell_type": "markdown",
   "id": "4c76df16",
   "metadata": {},
   "source": [
    "### `ch08\\ch8-3-1.py`"
   ]
  },
  {
   "cell_type": "code",
   "execution_count": null,
   "id": "48774168",
   "metadata": {},
   "outputs": [],
   "source": [
    "import pandas as pd\n",
    "\n",
    "df = pd.read_csv(\"dists.csv\", encoding=\"utf8\")\n",
    "ordinals =[\"first\", \"second\", \"third\", \"fourth\", \"fifth\",\n",
    "           \"sixth\", \"seventh\", \"eigth\", \"ninth\", \"tenth\",\n",
    "           \"eleventh\", \"twelvth\", \"thirteenth\"]  \n",
    "df.index = ordinals\n",
    "\n",
    "print(df[\"population\"].head(3))\n",
    "print(\"---------------------------\")\n",
    "print(df[[\"city\",\"name\"]].head(3))\n",
    "df[[\"city\",\"name\"]].head(3).to_html(\"ch8-3-1.html\")\n",
    "print(\"---------------------------\")\n",
    "print(df.population.head(3))   # 使用屬性方式\n"
   ]
  },
  {
   "cell_type": "markdown",
   "id": "cb9d1d76",
   "metadata": {},
   "source": [
    "### `ch08\\ch8-3-1a.py`"
   ]
  },
  {
   "cell_type": "code",
   "execution_count": null,
   "id": "f6bf752d",
   "metadata": {},
   "outputs": [],
   "source": [
    "import pandas as pd\n",
    "\n",
    "df = pd.read_csv(\"dists.csv\", encoding=\"utf8\")\n",
    "ordinals =[\"first\", \"second\", \"third\", \"fourth\", \"fifth\",\n",
    "           \"sixth\", \"seventh\", \"eigth\", \"ninth\", \"tenth\",\n",
    "           \"eleventh\", \"twelvth\", \"thirteenth\"]  \n",
    "df.index = ordinals\n",
    "\n",
    "print(df[0:3])                # 不含 3\n",
    "df[0:3].to_html(\"ch8-3-1a-01.html\")\n",
    "print(\"---------------------------\")\n",
    "print(df[\"sixth\":\"eleventh\"]) # 含 \"eleventh\"\n",
    "df[\"sixth\":\"eleventh\"].to_html(\"ch8-3-1a-02.html\")"
   ]
  },
  {
   "cell_type": "markdown",
   "id": "0feee54a",
   "metadata": {},
   "source": [
    "### `ch08\\ch8-3-1b.py`"
   ]
  },
  {
   "cell_type": "code",
   "execution_count": null,
   "id": "13a6d171",
   "metadata": {},
   "outputs": [],
   "source": [
    "import pandas as pd\n",
    "\n",
    "df = pd.read_csv(\"dists.csv\", encoding=\"utf8\")\n",
    "ordinals =[\"first\", \"second\", \"third\", \"fourth\", \"fifth\",\n",
    "           \"sixth\", \"seventh\", \"eigth\", \"ninth\", \"tenth\",\n",
    "           \"eleventh\", \"twelvth\", \"thirteenth\"]  \n",
    "df.index = ordinals\n",
    "\n",
    "print(df.loc[ordinals[1]])\n",
    "print(type(df.loc[ordinals[1]]))\n",
    "print(\"---------------------------\")\n",
    "print(df.loc[:,[\"name\",\"population\"]].head(3))\n",
    "df.loc[:,[\"name\",\"population\"]].head(3).to_html(\"ch8-3-1b-01.html\")\n",
    "print(\"---------------------------\")\n",
    "print(df.loc[\"third\":\"fifth\", [\"name\",\"population\"]])\n",
    "print(\"---------------------------\")\n",
    "print(df.loc[\"third\", [\"name\",\"population\"]])\n",
    "df.loc[\"third\":\"fifth\", [\"name\",\"population\"]].to_html(\"ch8-3-1b-02.html\")\n",
    "print(\"---------------------------\")\n",
    "# 取得單一純量值\n",
    "print(df.loc[ordinals[0], \"name\"])\n",
    "print(type(df.loc[ordinals[0],\"name\"]))\n",
    "print(\"---------------------------\")\n",
    "print(df.loc[\"first\", \"population\"])\n",
    "print(type(df.loc[\"first\", \"population\"]))\n"
   ]
  },
  {
   "cell_type": "markdown",
   "id": "ea88ec04",
   "metadata": {},
   "source": [
    "### `ch08\\ch8-3-1c.py`"
   ]
  },
  {
   "cell_type": "code",
   "execution_count": null,
   "id": "a9cd5d7c",
   "metadata": {},
   "outputs": [],
   "source": [
    "import pandas as pd\n",
    "\n",
    "df = pd.read_csv(\"dists.csv\", encoding=\"utf8\")\n",
    "ordinals =[\"first\", \"second\", \"third\", \"fourth\", \"fifth\",\n",
    "           \"sixth\", \"seventh\", \"eigth\", \"ninth\", \"tenth\",\n",
    "           \"eleventh\", \"twelvth\", \"thirteenth\"]  \n",
    "df.index = ordinals\n",
    "\n",
    "print(df.iloc[3])          # 第 4 筆\n",
    "print(\"---------------------------\")\n",
    "print(df.iloc[3:5, 1:3])   # 切割\n",
    "df.iloc[3:5, 1:3].to_html(\"ch8-3-1c-01.html\")\n",
    "print(\"---------------------------\")\n",
    "print(df.iloc[1:3, :])     # 切割列\n",
    "df.iloc[1:3, :].to_html(\"ch8-3-1c-02.html\")\n",
    "print(\"---------------------------\")\n",
    "print(df.iloc[:, 1:3])     # 切割欄\n",
    "df.iloc[:, 1:3].to_html(\"ch8-3-1c-03.html\")\n",
    "print(\"---------------------------\")\n",
    "print(df.iloc[[1,2,4], [0,2]])   # 索引清單\n",
    "df.iloc[[1,2,4], [0,2]].to_html(\"ch8-3-1c-04.html\")\n",
    "print(\"---------------------------\")\n",
    "# 取得單一純量值\n",
    "print(df.iloc[1,1])\n",
    "print(df.iat[1,1])\n"
   ]
  },
  {
   "cell_type": "markdown",
   "id": "3f0e6206",
   "metadata": {},
   "source": [
    "### `ch08\\ch8-3-2.py`"
   ]
  },
  {
   "cell_type": "code",
   "execution_count": null,
   "id": "38208dfb",
   "metadata": {},
   "outputs": [],
   "source": [
    "import pandas as pd\n",
    "\n",
    "df = pd.read_csv(\"dists.csv\", encoding=\"utf8\")\n",
    "ordinals =[\"first\", \"second\", \"third\", \"fourth\", \"fifth\",\n",
    "           \"sixth\", \"seventh\", \"eigth\", \"ninth\", \"tenth\",\n",
    "           \"eleventh\", \"twelvth\", \"thirteenth\"]  \n",
    "df.index = ordinals\n",
    "\n",
    "print(df[df.population > 350000])\n",
    "df[df.population > 350000].to_html(\"ch8-3-2-01.html\")\n",
    "print(\"---------------------------\")\n",
    "print(df[df[\"city\"].isin([\"台北市\",\"高雄市\"])])\n",
    "df[df[\"city\"].isin([\"台北市\",\"高雄市\"])].to_html(\"ch8-3-2-02.html\")\n"
   ]
  },
  {
   "cell_type": "markdown",
   "id": "bb42ad39",
   "metadata": {},
   "source": [
    "### `ch08\\ch8-3-2a.py`"
   ]
  },
  {
   "cell_type": "code",
   "execution_count": null,
   "id": "e0986865",
   "metadata": {},
   "outputs": [],
   "source": [
    "import pandas as pd\n",
    "\n",
    "df = pd.read_csv(\"dists.csv\", encoding=\"utf8\")\n",
    "ordinals =[\"first\", \"second\", \"third\", \"fourth\", \"fifth\",\n",
    "           \"sixth\", \"seventh\", \"eigth\", \"ninth\", \"tenth\",\n",
    "           \"eleventh\", \"twelvth\", \"thirteenth\"]  \n",
    "df.index = ordinals\n",
    "\n",
    "print(df[(df.population > 350000) & (df.population < 500000)])\n",
    "df[(df.population > 350000) & (df.population < 500000)].to_html(\"ch8-3-2a-01.html\")\n",
    "print(\"---------------------------\")\n",
    "print(df[df[\"city\"].str.startswith(\"台\")])\n",
    "df[df[\"city\"].str.startswith(\"台\")].to_html(\"ch8-3-2a-02.html\")\n"
   ]
  },
  {
   "cell_type": "markdown",
   "id": "35a40659",
   "metadata": {},
   "source": [
    "### `ch08\\ch8-3-3.py`"
   ]
  },
  {
   "cell_type": "code",
   "execution_count": null,
   "id": "bcb6b46e",
   "metadata": {},
   "outputs": [],
   "source": [
    "import pandas as pd\n",
    "\n",
    "df = pd.read_csv(\"dists.csv\", encoding=\"utf8\")\n",
    "ordinals =[\"first\", \"second\", \"third\", \"fourth\", \"fifth\",\n",
    "           \"sixth\", \"seventh\", \"eigth\", \"ninth\", \"tenth\",\n",
    "           \"eleventh\", \"twelvth\", \"thirteenth\"]  \n",
    "df.index = ordinals\n",
    "\n",
    "df2 = df.set_index(\"population\")\n",
    "print(df2.head())\n",
    "df2.head().to_html(\"ch8-3-3-01.html\")\n",
    "print(\"---------------------------\")\n",
    "df2.sort_index(ascending=False, inplace=True)\n",
    "print(df2.head())\n",
    "df2.head().to_html(\"ch8-3-3-02.html\")"
   ]
  },
  {
   "cell_type": "markdown",
   "id": "f6176d0c",
   "metadata": {},
   "source": [
    "### `ch08\\ch8-3-3a.py`"
   ]
  },
  {
   "cell_type": "code",
   "execution_count": null,
   "id": "1a2549e1",
   "metadata": {},
   "outputs": [],
   "source": [
    "import pandas as pd\n",
    "\n",
    "df = pd.read_csv(\"dists.csv\", encoding=\"utf8\")\n",
    "ordinals =[\"first\", \"second\", \"third\", \"fourth\", \"fifth\",\n",
    "           \"sixth\", \"seventh\", \"eigth\", \"ninth\", \"tenth\",\n",
    "           \"eleventh\", \"twelvth\", \"thirteenth\"]  \n",
    "df.index = ordinals\n",
    "\n",
    "print(df.head())\n",
    "df.head().to_html(\"ch8-3-3a-01.html\")\n",
    "print(\"---------------------------\")\n",
    "df2 = df.sort_values(\"population\", ascending=False)\n",
    "print(df2.head())\n",
    "df2.head().to_html(\"ch8-3-3a-02.html\")\n",
    "print(\"---------------------------\")\n",
    "df.sort_values([\"city\",\"population\"], inplace=True)\n",
    "print(df.head())\n",
    "df.head().to_html(\"ch8-3-3a-03.html\")"
   ]
  },
  {
   "cell_type": "markdown",
   "id": "02c89db3",
   "metadata": {},
   "source": [
    "### `ch08\\ch8-4-1.py`"
   ]
  },
  {
   "cell_type": "code",
   "execution_count": null,
   "id": "05bf67ab",
   "metadata": {},
   "outputs": [],
   "source": [
    "import pandas as pd\n",
    "\n",
    "df = pd.read_csv(\"dists.csv\", encoding=\"utf8\")\n",
    "ordinals =[\"first\", \"second\", \"third\", \"fourth\", \"fifth\",\n",
    "           \"sixth\", \"seventh\", \"eigth\", \"ninth\", \"tenth\",\n",
    "           \"eleventh\", \"twelvth\", \"thirteenth\"]  \n",
    "df.index = ordinals\n",
    "\n",
    "print(df.head(2))\n",
    "print(\"---------------------------\")\n",
    "# 取得與更新單一純量值\n",
    "print(df.loc[ordinals[0], \"population\"])\n",
    "df.loc[ordinals[0], \"population\"] = 160000\n",
    "print(df.iloc[1,1])\n",
    "df.iloc[1,1] = 560000\n",
    "print(df.head(2))\n",
    "df.head(2).to_html(\"ch8-4-1.html\")"
   ]
  },
  {
   "cell_type": "markdown",
   "id": "a7bc2c10",
   "metadata": {},
   "source": [
    "### `ch08\\ch8-4-1a.py`"
   ]
  },
  {
   "cell_type": "code",
   "execution_count": null,
   "id": "98bca9c5",
   "metadata": {},
   "outputs": [],
   "source": [
    "import pandas as pd\n",
    "\n",
    "df = pd.read_csv(\"dists.csv\", encoding=\"utf8\")\n",
    "ordinals =[\"first\", \"second\", \"third\", \"fourth\", \"fifth\",\n",
    "           \"sixth\", \"seventh\", \"eigth\", \"ninth\", \"tenth\",\n",
    "           \"eleventh\", \"twelvth\", \"thirteenth\"]  \n",
    "df.index = ordinals\n",
    "\n",
    "print(df.head(3))\n",
    "print(\"---------------------------\")\n",
    "# 取得與更新單筆記錄\n",
    "print(df.loc[ordinals[1]])\n",
    "print(\"---------------------------\")\n",
    "s = [\"新莊區\", 416640, \"新北市\"] \n",
    "df.loc[ordinals[1]] = s\n",
    "print(df.head(3))\n",
    "df.head(3).to_html(\"ch8-4-1a.html\")"
   ]
  },
  {
   "cell_type": "markdown",
   "id": "ce84ec40",
   "metadata": {},
   "source": [
    "### `ch08\\ch8-4-1b.py`"
   ]
  },
  {
   "cell_type": "code",
   "execution_count": null,
   "id": "a80f2d5b",
   "metadata": {},
   "outputs": [],
   "source": [
    "import pandas as pd\n",
    "import numpy as np\n",
    "\n",
    "df = pd.read_csv(\"dists.csv\", encoding=\"utf8\")\n",
    "ordinals =[\"first\", \"second\", \"third\", \"fourth\", \"fifth\",\n",
    "           \"sixth\", \"seventh\", \"eigth\", \"ninth\", \"tenth\",\n",
    "           \"eleventh\", \"twelvth\", \"thirteenth\"]  \n",
    "df.index = ordinals\n",
    "\n",
    "print(df)\n",
    "print(\"---------------------------\")\n",
    "# 取得與更新整個欄位\n",
    "print(df.loc[:, \"population\"])\n",
    "print(\"---------------------------\")\n",
    "df.loc[:, \"population\"] = np.random.randint(34000, 700000, size=len(df))\n",
    "print(df.head())\n",
    "df.head().to_html(\"ch8-4-1b.html\")\n"
   ]
  },
  {
   "cell_type": "markdown",
   "id": "fa42e3c2",
   "metadata": {},
   "source": [
    "### `ch08\\ch8-4-1c.py`"
   ]
  },
  {
   "cell_type": "code",
   "execution_count": null,
   "id": "87db3b8a",
   "metadata": {},
   "outputs": [],
   "source": [
    "import pandas as pd\n",
    "import numpy as np\n",
    "\n",
    "df = pd.DataFrame(np.random.randint(5, 1500, size=(2,3)))\n",
    "print(df)\n",
    "df.to_html(\"ch8-4-1c-01.html\")\n",
    "print(\"---------------------------\")\n",
    "# 取得與更新整個DataFrame\n",
    "print(df[df > 800])\n",
    "df[df > 800].to_html(\"ch8-4-1c-02.html\")\n",
    "print(\"---------------------------\")\n",
    "df[df > 800] = df - 100\n",
    "print(df)\n",
    "df.to_html(\"ch8-4-1c-03.html\")"
   ]
  },
  {
   "cell_type": "markdown",
   "id": "b5a16f47",
   "metadata": {},
   "source": [
    "### `ch08\\ch8-4-2.py`"
   ]
  },
  {
   "cell_type": "code",
   "execution_count": null,
   "id": "1f07c271",
   "metadata": {},
   "outputs": [],
   "source": [
    "import pandas as pd\n",
    "\n",
    "df = pd.read_csv(\"dists.csv\", encoding=\"utf8\")\n",
    "ordinals =[\"first\", \"second\", \"third\", \"fourth\", \"fifth\",\n",
    "           \"sixth\", \"seventh\", \"eigth\", \"ninth\", \"tenth\",\n",
    "           \"eleventh\", \"twelvth\", \"thirteenth\"]  \n",
    "df.index = ordinals\n",
    "\n",
    "print(df.head(3))\n",
    "print(\"---------------------------\")\n",
    "# 刪除純量值\n",
    "print(df.loc[ordinals[0], \"population\"])\n",
    "df.loc[ordinals[0], \"population\"] = None\n",
    "print(df.iloc[1,1])\n",
    "df.iloc[1,1] = None\n",
    "print(df.head(3))\n",
    "df.head(3).to_html(\"ch8-4-2.html\")"
   ]
  },
  {
   "cell_type": "markdown",
   "id": "b27831d4",
   "metadata": {},
   "source": [
    "### `ch08\\ch8-4-2a.py`"
   ]
  },
  {
   "cell_type": "code",
   "execution_count": null,
   "id": "2a58a236",
   "metadata": {},
   "outputs": [],
   "source": [
    "import pandas as pd\n",
    "\n",
    "df = pd.read_csv(\"dists.csv\", encoding=\"utf8\")\n",
    "ordinals =[\"first\", \"second\", \"third\", \"fourth\", \"fifth\",\n",
    "           \"sixth\", \"seventh\", \"eigth\", \"ninth\", \"tenth\",\n",
    "           \"eleventh\", \"twelvth\", \"thirteenth\"]  \n",
    "df.index = ordinals\n",
    "\n",
    "print(df.head())\n",
    "print(\"---------------------------\")\n",
    "# 刪除記錄\n",
    "df2 = df.drop([\"second\", \"fourth\"])    # 2,4 筆\n",
    "print(df2.head())\n",
    "df2.head().to_html(\"ch8-4-2a-01.html\")\n",
    "print(\"---------------------------\")\n",
    "df.drop(df.index[[2,3]], inplace=True) # 3,4 筆\n",
    "print(df.head())\n",
    "df.head().to_html(\"ch8-4-2a-02.html\")"
   ]
  },
  {
   "cell_type": "markdown",
   "id": "d672ead0",
   "metadata": {},
   "source": [
    "### `ch08\\ch8-4-2b.py`"
   ]
  },
  {
   "cell_type": "code",
   "execution_count": null,
   "id": "c0a851b9",
   "metadata": {},
   "outputs": [],
   "source": [
    "import pandas as pd\n",
    "\n",
    "df = pd.read_csv(\"dists.csv\", encoding=\"utf8\")\n",
    "ordinals =[\"first\", \"second\", \"third\", \"fourth\", \"fifth\",\n",
    "           \"sixth\", \"seventh\", \"eigth\", \"ninth\", \"tenth\",\n",
    "           \"eleventh\", \"twelvth\", \"thirteenth\"]  \n",
    "df.index = ordinals\n",
    "\n",
    "print(df.head(3))\n",
    "print(\"---------------------------\")\n",
    "# 刪除欄位\n",
    "df2 = df.drop([\"population\"], axis=1)\n",
    "print(df2.head(3))\n",
    "df2.head(3).to_html(\"ch8-4-2b.html\")"
   ]
  },
  {
   "cell_type": "markdown",
   "id": "e2a6d7a7",
   "metadata": {},
   "source": [
    "### `ch08\\ch8-4-3.py`"
   ]
  },
  {
   "cell_type": "code",
   "execution_count": null,
   "id": "e1a7fc96",
   "metadata": {},
   "outputs": [],
   "source": [
    "import pandas as pd\n",
    "\n",
    "df = pd.read_csv(\"dists.csv\", encoding=\"utf8\")\n",
    "ordinals =[\"first\", \"second\", \"third\", \"fourth\", \"fifth\",\n",
    "           \"sixth\", \"seventh\", \"eigth\", \"ninth\", \"tenth\",\n",
    "           \"eleventh\", \"twelvth\", \"thirteenth\"]  \n",
    "df.index = ordinals\n",
    "\n",
    "print(df.tail(3))\n",
    "print(\"---------------------------\")\n",
    "# 新增記錄\n",
    "df.loc[\"third-1\"] = [\"士林區\", 288340, \"台北市\"]\n",
    "print(df.tail(3))\n",
    "df.tail(3).to_html(\"ch8-4-3-01.html\")\n",
    "print(\"---------------------------\")\n",
    "s = pd.Series({\"city\":\"新北市\",\"name\":\"中和區\",\"population\":413291})\n",
    "df2 = df.append(s, ignore_index=True)\n",
    "print(df2.tail(3))\n",
    "df2.tail(3).to_html(\"ch8-4-3-02.html\")"
   ]
  },
  {
   "cell_type": "markdown",
   "id": "34c7c1bd",
   "metadata": {},
   "source": [
    "### `ch08\\ch8-4-3a.py`"
   ]
  },
  {
   "cell_type": "code",
   "execution_count": null,
   "id": "3bb2f647",
   "metadata": {},
   "outputs": [],
   "source": [
    "import pandas as pd\n",
    "from numpy.random import randint\n",
    "\n",
    "df = pd.DataFrame(columns=(\"qty1\", \"qty2\", \"qty3\"))\n",
    "for i in range(5):\n",
    "    df.loc[i] = [randint(-1,1) for n in range(3)]\n",
    "print(df)\n",
    "df.to_html(\"ch8-4-3a-01.html\")\n",
    "print(\"---------------------------\")\n",
    "df2 = pd.DataFrame(columns=(\"qty1\", \"qty2\", \"qty3\"))\n",
    "for i in range(5):\n",
    "    s = pd.Series({\"qty1\":randint(-1,1),\"qty2\":randint(-1,1),\"qty3\":randint(-1,1)})\n",
    "    df2 = df2.append(s, ignore_index=True)\n",
    "print(df2)\n",
    "df.to_html(\"ch8-4-3a-02.html\")"
   ]
  },
  {
   "cell_type": "markdown",
   "id": "e8336345",
   "metadata": {},
   "source": [
    "### `ch08\\ch8-4-3b.py`"
   ]
  },
  {
   "cell_type": "code",
   "execution_count": null,
   "id": "4114c597",
   "metadata": {},
   "outputs": [],
   "source": [
    "import pandas as pd\n",
    "from numpy.random import randint\n",
    "\n",
    "df = pd.read_csv(\"dists.csv\", encoding=\"utf8\")\n",
    "ordinals =[\"first\", \"second\", \"third\", \"fourth\", \"fifth\",\n",
    "           \"sixth\", \"seventh\", \"eigth\", \"ninth\", \"tenth\",\n",
    "           \"eleventh\", \"twelvth\", \"thirteenth\"]  \n",
    "df.index = ordinals\n",
    "\n",
    "df[\"area\"] = pd.Series([randint(6000,9000) for n in range(len(df))]).values \n",
    "print(df.head())\n",
    "df.head().to_html(\"ch8-4-3b-01.html\")\n",
    "print(\"---------------------------\")\n",
    "df.loc[:,\"zip\"] = randint(100, 120, size=len(df))\n",
    "print(df.head())\n",
    "df.head().to_html(\"ch8-4-3b-02.html\")"
   ]
  },
  {
   "cell_type": "markdown",
   "id": "b51d4909",
   "metadata": {},
   "source": [
    "### `ch08\\ch8-4-4.py`"
   ]
  },
  {
   "cell_type": "code",
   "execution_count": null,
   "id": "420cbcbc",
   "metadata": {},
   "outputs": [],
   "source": [
    "import pandas as pd \n",
    "import numpy as np\n",
    "\n",
    "df = pd.read_csv(\"dists.csv\", encoding=\"utf8\")\n",
    "ordinals =[\"first\", \"second\", \"third\", \"fourth\", \"fifth\",\n",
    "           \"sixth\", \"seventh\", \"eigth\", \"ninth\", \"tenth\",\n",
    "           \"eleventh\", \"twelvth\", \"thirteenth\"]  \n",
    "df.index = ordinals\n",
    "\n",
    "columns =[\"city\",\"name\", \"population\"]\n",
    "# 建立空的DataFrame物件\n",
    "df_empty = pd.DataFrame(np.nan, index=ordinals, columns=columns)\n",
    "print(df_empty)\n",
    "print(\"---------------------------\")\n",
    "# 複製DataFrame物件\n",
    "df_copy = df.copy()\n",
    "print(df_copy)"
   ]
  },
  {
   "cell_type": "markdown",
   "id": "e04656f6",
   "metadata": {},
   "source": [
    "### `ch08\\ch8-4-4a.py`"
   ]
  },
  {
   "cell_type": "code",
   "execution_count": null,
   "id": "27e30c6c",
   "metadata": {},
   "outputs": [],
   "source": [
    "import pandas as pd\n",
    "from numpy.random import randint\n",
    "\n",
    "df1 = pd.DataFrame(randint(5,10,size=(3,4)),columns=[\"a\",\"b\",\"c\",\"d\"])  \n",
    "df2 = pd.DataFrame(randint(5,10,size=(2,3)),columns=[\"b\",\"d\",\"a\"])  \n",
    "print(df1)\n",
    "df1.to_html(\"ch8-4-4a-01.html\")\n",
    "print(\"---------------------------\")\n",
    "print(df2)\n",
    "df2.to_html(\"ch8-4-4a-02.html\")\n",
    "print(\"---------------------------\")  \n",
    "df3 = pd.concat([df1,df2])  \n",
    "print(df3)\n",
    "df3.to_html(\"ch8-4-4a-03.html\")\n",
    "print(\"---------------------------\")\n",
    "df4 = pd.concat([df1,df2], ignore_index=True)\n",
    "print(df4) \n",
    "df4.to_html(\"ch8-4-4a-04.html\") "
   ]
  },
  {
   "cell_type": "markdown",
   "id": "15f9b126",
   "metadata": {},
   "source": [
    "### `ch08\\ch8-4-4b.py`"
   ]
  },
  {
   "cell_type": "code",
   "execution_count": null,
   "id": "6b89e258",
   "metadata": {},
   "outputs": [],
   "source": [
    "import pandas as pd\n",
    "\n",
    "df1 = pd.DataFrame({\"key\":[\"a\",\"b\",\"b\"],\"data1\":range(3)})  \n",
    "df2 = pd.DataFrame({\"key\":[\"a\",\"b\",\"c\"],\"data2\":range(3)})  \n",
    "print(df1)\n",
    "df1.to_html(\"ch8-4-4b-01.html\")\n",
    "print(\"---------------------------\")\n",
    "print(df2)\n",
    "df2.to_html(\"ch8-4-4b-02.html\")\n",
    "print(\"---------------------------\")\n",
    "df3 = pd.merge(df1, df2)\n",
    "print(df3)\n",
    "df3.to_html(\"ch8-4-4b-03.html\")\n",
    "print(\"---------------------------\")\n",
    "df4 = pd.merge(df2, df1)\n",
    "print(df4)\n",
    "df4.to_html(\"ch8-4-4b-04.html\")\n",
    "print(\"---------------------------\")\n",
    "df5 = pd.merge(df2, df1, how='left')\n",
    "print(df5)\n",
    "df5.to_html(\"ch8-4-4b-05.html\")"
   ]
  },
  {
   "cell_type": "markdown",
   "id": "4b342d38",
   "metadata": {},
   "source": [
    "### `ch08\\ch8-5-1.py`"
   ]
  },
  {
   "cell_type": "code",
   "execution_count": null,
   "id": "b560cfae",
   "metadata": {},
   "outputs": [],
   "source": [
    "import pandas as pd\n",
    "import numpy as np\n",
    "\n",
    "df = pd.DataFrame({\"名稱\" : [\"客戶A\", \"客戶B\", \"客戶A\", \"客戶B\",\n",
    "                             \"客戶A\", \"客戶B\", \"客戶A\", \"客戶A\"],\n",
    "                   \"編號\" : [\"訂單1\", \"訂單1\", \"訂單2\", \"訂單3\",\n",
    "                             \"訂單2\", \"訂單2\", \"訂單1\", \"訂單3\"],\n",
    "                   \"數量\" : np.random.randint(1,5,size=8),\n",
    "                   \"售價\" : np.random.randint(150,500,size=8)})\n",
    "\n",
    "print(df)\n",
    "df.to_html(\"ch8-5-1-01.html\")\n",
    "print(\"---------------------------\")\n",
    "print(df.groupby(\"名稱\").sum())\n",
    "df.groupby(\"名稱\").sum().to_html(\"ch8-5-1-02.html\")\n",
    "print(\"---------------------------\")\n",
    "print(df.groupby([\"名稱\",\"編號\"]).sum())\n",
    "df.groupby([\"名稱\",\"編號\"]).sum().to_html(\"ch8-5-1-03.html\")"
   ]
  },
  {
   "cell_type": "markdown",
   "id": "adc8d50d",
   "metadata": {},
   "source": [
    "### `ch08\\ch8-5-2.py`"
   ]
  },
  {
   "cell_type": "code",
   "execution_count": null,
   "id": "93c84371",
   "metadata": {},
   "outputs": [],
   "source": [
    "import pandas as pd\n",
    "\n",
    "products = pd.DataFrame({\n",
    "        \"分類\": [\"居家\", \"居家\", \"娛樂\", \"娛樂\", \"科技\", \"科技\"],\n",
    "        \"商店\": [\"家樂福\", \"頂好\", \"家樂福\", \"全聯\", \"頂好\",\"家樂福\"],\n",
    "        \"價格\":[11.42, 23.50, 19.99, 15.95, 55.75, 111.55],\n",
    "        \"測試分數\": [4, 3, 5, 7, 5, 8]})\n",
    "print(products)\n",
    "products.to_html(\"ch8-5-2-01.html\")\n",
    "print(\"---------------------------\")\n",
    "# 呼叫 pivot_table() 方法\n",
    "pivot_products = products.pivot_table(index='分類',columns='商店',values='價格')\n",
    "print(pivot_products)\n",
    "pivot_products.to_html(\"ch8-5-2-02.html\")"
   ]
  },
  {
   "cell_type": "markdown",
   "id": "69930494",
   "metadata": {},
   "source": [
    "### `ch08\\ch8-5-3.py`"
   ]
  },
  {
   "cell_type": "code",
   "execution_count": null,
   "id": "5b52adc1",
   "metadata": {},
   "outputs": [],
   "source": [
    "import pandas as pd\n",
    "import numpy as np\n",
    "\n",
    "df = pd.DataFrame(np.random.rand(6,4), columns=list(\"ABCD\"))\n",
    "print(df)\n",
    "df.to_html(\"ch8-5-3-01.html\")\n",
    "print(\"---------------------------\")\n",
    "df2 = df.apply(np.cumsum)\n",
    "print(df2)\n",
    "df2.to_html(\"ch8-5-3-02.html\")\n",
    "print(\"---------------------------\")\n",
    "df3 = df.apply(lambda x: x.max() - x.min())\n",
    "print(df3)\n"
   ]
  },
  {
   "cell_type": "markdown",
   "id": "8fa7f153",
   "metadata": {},
   "source": [
    "### `ch09\\ch9-1-1.py`"
   ]
  },
  {
   "cell_type": "code",
   "execution_count": null,
   "id": "a41f7b4a",
   "metadata": {},
   "outputs": [],
   "source": [
    "import matplotlib.pyplot as plt\n",
    "\n",
    "data = [-1, -4.3, 15, 21, 31]\n",
    "plt.plot(data)  # x軸是 0,1,2,3,4\n",
    "plt.show()\n",
    "\n"
   ]
  },
  {
   "cell_type": "markdown",
   "id": "452107a0",
   "metadata": {},
   "source": [
    "### `ch09\\ch9-1-1a.py`"
   ]
  },
  {
   "cell_type": "code",
   "execution_count": null,
   "id": "c04a890b",
   "metadata": {},
   "outputs": [],
   "source": [
    "import matplotlib.pyplot as plt\n",
    "\n",
    "data = [-1, -4.3, 15, 21, 31]\n",
    "plt.plot(data, \"o--b\")  # x軸是 0,1,2,3,4\n",
    "plt.show()\n",
    "\n"
   ]
  },
  {
   "cell_type": "markdown",
   "id": "288e7127",
   "metadata": {},
   "source": [
    "### `ch09\\ch9-1-1b.py`"
   ]
  },
  {
   "cell_type": "code",
   "execution_count": null,
   "id": "ed5d4537",
   "metadata": {},
   "outputs": [],
   "source": [
    "import matplotlib.pyplot as plt\n",
    "\n",
    "days = range(0, 22, 3)\n",
    "celsius = [25.6, 23.2, 18.5, 28.3, 26.5, 30.5, 32.6, 33.1]\n",
    "plt.plot(days, celsius)\n",
    "plt.show()\n",
    "\n"
   ]
  },
  {
   "cell_type": "markdown",
   "id": "f72981a9",
   "metadata": {},
   "source": [
    "### `ch09\\ch9-1-1c.py`"
   ]
  },
  {
   "cell_type": "code",
   "execution_count": null,
   "id": "aa951a8f",
   "metadata": {},
   "outputs": [],
   "source": [
    "import matplotlib.pyplot as plt\n",
    "import numpy as np\n",
    "\n",
    "x = np.linspace(0, 10, 50)\n",
    "sinus = np.sin(x)\n",
    "cosinus = np.cos(x)\n",
    "plt.plot(x, sinus, x, cosinus)\n",
    "plt.show()\n",
    "\n"
   ]
  },
  {
   "cell_type": "markdown",
   "id": "b1bcaabf",
   "metadata": {},
   "source": [
    "### `ch09\\ch9-1-2.py`"
   ]
  },
  {
   "cell_type": "code",
   "execution_count": null,
   "id": "4969e905",
   "metadata": {},
   "outputs": [],
   "source": [
    "import matplotlib.pyplot as plt\n",
    "import numpy as np\n",
    "\n",
    "x = np.linspace(0, 10, 50)\n",
    "sinus = np.sin(x)\n",
    "cosinus = np.cos(x)\n",
    "plt.plot(x, sinus, \"r-o\",\n",
    "         x, cosinus, \"g--\")\n",
    "plt.show()\n",
    "\n"
   ]
  },
  {
   "cell_type": "markdown",
   "id": "a7e9fd75",
   "metadata": {},
   "source": [
    "### `ch09\\ch9-1-2a.py`"
   ]
  },
  {
   "cell_type": "code",
   "execution_count": null,
   "id": "ad070aae",
   "metadata": {},
   "outputs": [],
   "source": [
    "import matplotlib.pyplot as plt\n",
    "import numpy as np\n",
    "\n",
    "x = np.linspace(0, 10, 50)\n",
    "sinus = np.sin(x)\n",
    "cosinus = np.cos(x)\n",
    "plt.plot(x, sinus, \"r-o\",\n",
    "         x, cosinus, \"g--\")\n",
    "plt.grid(True)\n",
    "plt.show()\n",
    "\n"
   ]
  },
  {
   "cell_type": "markdown",
   "id": "4c95d705",
   "metadata": {},
   "source": [
    "### `ch09\\ch9-1-3.py`"
   ]
  },
  {
   "cell_type": "code",
   "execution_count": null,
   "id": "8cace812",
   "metadata": {},
   "outputs": [],
   "source": [
    "import matplotlib.pyplot as plt\n",
    "plt.rcParams['font.sans-serif'] = ['Microsoft JhengHei'] \n",
    "plt.rcParams['axes.unicode_minus'] = False\n",
    "\n",
    "days = range(0, 22, 3)\n",
    "celsius = [25.6, 23.2, 18.5, 28.3, 26.5, 30.5, 32.6, 33.1]\n",
    "plt.plot(days, celsius)\n",
    "plt.xlabel(\"日\")\n",
    "plt.ylabel(\"攝氏溫度\")\n",
    "plt.show()\n",
    "\n"
   ]
  },
  {
   "cell_type": "markdown",
   "id": "ea9135e4",
   "metadata": {},
   "source": [
    "### `ch09\\ch9-1-3a.py`"
   ]
  },
  {
   "cell_type": "code",
   "execution_count": null,
   "id": "4c584139",
   "metadata": {},
   "outputs": [],
   "source": [
    "import matplotlib.pyplot as plt\n",
    "import numpy as np\n",
    "plt.rcParams['font.sans-serif'] = ['Microsoft JhengHei'] \n",
    "plt.rcParams['axes.unicode_minus'] = False\n",
    "\n",
    "x = np.linspace(0, 10, 50)\n",
    "sinus = np.sin(x)\n",
    "cosinus = np.cos(x)\n",
    "plt.plot(x, sinus, \"r-o\",\n",
    "         x, cosinus, \"g--\")\n",
    "plt.xlabel(\"徑度\")\n",
    "plt.ylabel(\"振幅\")\n",
    "plt.title(\"Sin和Cos三角函數的波型\")\n",
    "plt.show()\n",
    "\n"
   ]
  },
  {
   "cell_type": "markdown",
   "id": "ec9f96cd",
   "metadata": {},
   "source": [
    "### `ch09\\ch9-1-4.py`"
   ]
  },
  {
   "cell_type": "code",
   "execution_count": null,
   "id": "4b91fb5d",
   "metadata": {},
   "outputs": [],
   "source": [
    "import matplotlib.pyplot as plt\n",
    "import numpy as np\n",
    "plt.rcParams['font.sans-serif'] = ['Microsoft JhengHei'] \n",
    "plt.rcParams['axes.unicode_minus'] = False\n",
    "\n",
    "x = np.linspace(0, 10, 50)\n",
    "sinus = np.sin(x)\n",
    "cosinus = np.cos(x)\n",
    "plt.plot(x, sinus, \"r-o\", label=\"sin(x)\")\n",
    "plt.plot(x, cosinus, \"g--\", label=\"cos(x)\")\n",
    "plt.legend()\n",
    "plt.xlabel(\"徑度\")\n",
    "plt.ylabel(\"振幅\")\n",
    "plt.title(\"Sin和Cos三角函數的波型\")\n",
    "plt.show()\n",
    "\n"
   ]
  },
  {
   "cell_type": "markdown",
   "id": "fe247c39",
   "metadata": {},
   "source": [
    "### `ch09\\ch9-1-4a.py`"
   ]
  },
  {
   "cell_type": "code",
   "execution_count": null,
   "id": "43a84075",
   "metadata": {},
   "outputs": [],
   "source": [
    "import matplotlib.pyplot as plt\n",
    "import numpy as np\n",
    "plt.rcParams['font.sans-serif'] = ['Microsoft JhengHei'] \n",
    "plt.rcParams['axes.unicode_minus'] = False\n",
    "\n",
    "x = np.linspace(0, 10, 50)\n",
    "sinus = np.sin(x)\n",
    "cosinus = np.cos(x)\n",
    "plt.plot(x, sinus, \"r-o\", label=\"sin(x)\")\n",
    "plt.plot(x, cosinus, \"g--\", label=\"cos(x)\")\n",
    "plt.legend(loc=1)\n",
    "plt.xlabel(\"徑度\")\n",
    "plt.ylabel(\"振幅\")\n",
    "plt.title(\"Sin和Cos三角函數的波型\")\n",
    "plt.show()\n",
    "\n"
   ]
  },
  {
   "cell_type": "markdown",
   "id": "b617d3ea",
   "metadata": {},
   "source": [
    "### `ch09\\ch9-1-4b.py`"
   ]
  },
  {
   "cell_type": "code",
   "execution_count": null,
   "id": "12e941c1",
   "metadata": {},
   "outputs": [],
   "source": [
    "import matplotlib.pyplot as plt\n",
    "import numpy as np\n",
    "plt.rcParams['font.sans-serif'] = ['Microsoft JhengHei'] \n",
    "plt.rcParams['axes.unicode_minus'] = False\n",
    "\n",
    "x = np.linspace(0, 10, 50)\n",
    "sinus = np.sin(x)\n",
    "cosinus = np.cos(x)\n",
    "plt.plot(x, sinus, \"r-o\", label=\"sin(x)\")\n",
    "plt.plot(x, cosinus, \"g--\", label=\"cos(x)\")\n",
    "plt.legend(loc=2)\n",
    "plt.xlabel(\"徑度\")\n",
    "plt.ylabel(\"振幅\")\n",
    "plt.title(\"Sin和Cos三角函數的波型\")\n",
    "plt.show()\n",
    "\n"
   ]
  },
  {
   "cell_type": "markdown",
   "id": "f1e885a5",
   "metadata": {},
   "source": [
    "### `ch09\\ch9-1-4c.py`"
   ]
  },
  {
   "cell_type": "code",
   "execution_count": null,
   "id": "7be14ad9",
   "metadata": {},
   "outputs": [],
   "source": [
    "import matplotlib.pyplot as plt\n",
    "import numpy as np\n",
    "plt.rcParams['font.sans-serif'] = ['Microsoft JhengHei'] \n",
    "plt.rcParams['axes.unicode_minus'] = False\n",
    "\n",
    "x = np.linspace(0, 10, 50)\n",
    "sinus = np.sin(x)\n",
    "cosinus = np.cos(x)\n",
    "plt.plot(x, sinus, \"r-o\", label=\"sin(x)\")\n",
    "plt.plot(x, cosinus, \"g--\", label=\"cos(x)\")\n",
    "plt.legend(loc=3)\n",
    "plt.xlabel(\"徑度\")\n",
    "plt.ylabel(\"振幅\")\n",
    "plt.title(\"Sin和Cos三角函數的波型\")\n",
    "plt.show()\n",
    "\n"
   ]
  },
  {
   "cell_type": "markdown",
   "id": "39347e1b",
   "metadata": {},
   "source": [
    "### `ch09\\ch9-1-4d.py`"
   ]
  },
  {
   "cell_type": "code",
   "execution_count": null,
   "id": "35b31143",
   "metadata": {},
   "outputs": [],
   "source": [
    "import matplotlib.pyplot as plt\n",
    "import numpy as np\n",
    "plt.rcParams['font.sans-serif'] = ['Microsoft JhengHei'] \n",
    "plt.rcParams['axes.unicode_minus'] = False\n",
    "\n",
    "x = np.linspace(0, 10, 50)\n",
    "sinus = np.sin(x)\n",
    "cosinus = np.cos(x)\n",
    "plt.plot(x, sinus, \"r-o\", label=\"sin(x)\")\n",
    "plt.plot(x, cosinus, \"g--\", label=\"cos(x)\")\n",
    "plt.legend(loc=4)\n",
    "plt.xlabel(\"徑度\")\n",
    "plt.ylabel(\"振幅\")\n",
    "plt.title(\"Sin和Cos三角函數的波型\")\n",
    "plt.show()\n",
    "\n"
   ]
  },
  {
   "cell_type": "markdown",
   "id": "12ff2072",
   "metadata": {},
   "source": [
    "### `ch09\\ch9-1-5.py`"
   ]
  },
  {
   "cell_type": "code",
   "execution_count": null,
   "id": "24ce512e",
   "metadata": {},
   "outputs": [],
   "source": [
    "import matplotlib.pyplot as plt\n",
    "plt.rcParams['font.sans-serif'] = ['Microsoft JhengHei'] \n",
    "plt.rcParams['axes.unicode_minus'] = False\n",
    "\n",
    "days = range(0, 22, 3)\n",
    "celsius = [25.6, 23.2, 18.5, 28.3, 26.5, 30.5, 32.6, 33.1]\n",
    "plt.plot(days, celsius)\n",
    "plt.title(\"軸範圍: \" + str(plt.axis()))\n",
    "plt.show()\n",
    "\n"
   ]
  },
  {
   "cell_type": "markdown",
   "id": "27518e1b",
   "metadata": {},
   "source": [
    "### `ch09\\ch9-1-5a.py`"
   ]
  },
  {
   "cell_type": "code",
   "execution_count": null,
   "id": "56373515",
   "metadata": {},
   "outputs": [],
   "source": [
    "import matplotlib.pyplot as plt\n",
    "\n",
    "days = range(0, 22, 3)\n",
    "celsius = [25.6, 23.2, 18.5, 28.3, 26.5, 30.5, 32.6, 33.1]\n",
    "plt.plot(days, celsius)\n",
    "xmin, xmax, ymin, ymax = -5, 25, 15, 35\n",
    "plt.axis([xmin, xmax, ymin, ymax])\n",
    "plt.show()\n",
    "\n"
   ]
  },
  {
   "cell_type": "markdown",
   "id": "4840c7b1",
   "metadata": {},
   "source": [
    "### `ch09\\ch9-1-5b.py`"
   ]
  },
  {
   "cell_type": "code",
   "execution_count": null,
   "id": "2b35dc30",
   "metadata": {},
   "outputs": [],
   "source": [
    "import matplotlib.pyplot as plt\n",
    "plt.rcParams['font.sans-serif'] = ['Microsoft JhengHei'] \n",
    "plt.rcParams['axes.unicode_minus'] = False\n",
    "\n",
    "days = range(1, 9)\n",
    "celsius_min = [25.6, 23.2, 18.5, 28.3, 26.5, 30.5, 32.6, 33.1]\n",
    "celsius_max = [27.6, 26.1, 22.5, 30.4, 29.5, 31.5, 35.1, 39.4]\n",
    "plt.plot(days, celsius_min, \"r-o\",\n",
    "         days, celsius_max, \"g--o\")\n",
    "plt.xlabel(\"日\")\n",
    "plt.ylabel(\"攝氏溫度\")\n",
    "plt.axis([0, 10, 15, 40])\n",
    "plt.show()"
   ]
  },
  {
   "cell_type": "markdown",
   "id": "cb3f6261",
   "metadata": {},
   "source": [
    "### `ch09\\ch9-1-6.py`"
   ]
  },
  {
   "cell_type": "code",
   "execution_count": null,
   "id": "015227cd",
   "metadata": {},
   "outputs": [],
   "source": [
    "import matplotlib.pyplot as plt\n",
    "plt.rcParams['font.sans-serif'] = ['Microsoft JhengHei'] \n",
    "plt.rcParams['axes.unicode_minus'] = False\n",
    "\n",
    "days = range(1, 9)\n",
    "celsius_min = [25.6, 23.2, 18.5, 28.3, 26.5, 30.5, 32.6, 33.1]\n",
    "celsius_max = [27.6, 26.1, 22.5, 30.4, 29.5, 31.5, 35.1, 39.4]\n",
    "plt.plot(days, celsius_min, \"r-o\",\n",
    "         days, celsius_max, \"g--o\")\n",
    "plt.xlabel(\"日\")\n",
    "plt.ylabel(\"攝氏溫度\")\n",
    "plt.axis([0, 10, 15, 40])\n",
    "plt.savefig(\"Celsius.png\")\n",
    "plt.show()"
   ]
  },
  {
   "cell_type": "markdown",
   "id": "5926e9f7",
   "metadata": {},
   "source": [
    "### `ch09\\ch9-1-6a.py`"
   ]
  },
  {
   "cell_type": "code",
   "execution_count": null,
   "id": "9a52ae30",
   "metadata": {},
   "outputs": [],
   "source": [
    "import matplotlib.pyplot as plt\n",
    "plt.rcParams['font.sans-serif'] = ['Microsoft JhengHei'] \n",
    "plt.rcParams['axes.unicode_minus'] = False\n",
    "\n",
    "days = range(1, 9)\n",
    "celsius_min = [25.6, 23.2, 18.5, 28.3, 26.5, 30.5, 32.6, 33.1]\n",
    "celsius_max = [27.6, 26.1, 22.5, 30.4, 29.5, 31.5, 35.1, 39.4]\n",
    "plt.plot(days, celsius_min, \"r-o\",\n",
    "         days, celsius_max, \"g--o\")\n",
    "plt.xlabel(\"日\")\n",
    "plt.ylabel(\"攝氏溫度\")\n",
    "plt.axis([0, 10, 15, 40])\n",
    "plt.savefig(\"Celsius.svg\")\n",
    "plt.show()"
   ]
  },
  {
   "cell_type": "markdown",
   "id": "c9c01d42",
   "metadata": {},
   "source": [
    "### `ch09\\ch9-1-6b.py`"
   ]
  },
  {
   "cell_type": "code",
   "execution_count": null,
   "id": "2308d16e",
   "metadata": {},
   "outputs": [],
   "source": [
    "import matplotlib.pyplot as plt\n",
    "plt.rcParams['font.sans-serif'] = ['Microsoft JhengHei'] \n",
    "plt.rcParams['axes.unicode_minus'] = False\n",
    "\n",
    "days = range(1, 9)\n",
    "celsius_min = [25.6, 23.2, 18.5, 28.3, 26.5, 30.5, 32.6, 33.1]\n",
    "celsius_max = [27.6, 26.1, 22.5, 30.4, 29.5, 31.5, 35.1, 39.4]\n",
    "plt.plot(days, celsius_min, \"r-o\",\n",
    "         days, celsius_max, \"g--o\")\n",
    "plt.xlabel(\"日\")\n",
    "plt.ylabel(\"攝氏溫度\")\n",
    "plt.axis([0, 10, 15, 40])\n",
    "plt.savefig(\"Celsius.pdf\")\n",
    "plt.show()"
   ]
  },
  {
   "cell_type": "markdown",
   "id": "ede2fc48",
   "metadata": {},
   "source": [
    "### `ch09\\ch9-2-1.py`"
   ]
  },
  {
   "cell_type": "code",
   "execution_count": null,
   "id": "3eeff8bd",
   "metadata": {},
   "outputs": [],
   "source": [
    "import matplotlib.pyplot as plt\n",
    "import numpy as np\n",
    "\n",
    "x = np.linspace(0, 2*np.pi, 50)\n",
    "y = np.sin(x)\n",
    "plt.scatter(x, y)\n",
    "plt.show()\n",
    "\n"
   ]
  },
  {
   "cell_type": "markdown",
   "id": "f338f1a4",
   "metadata": {},
   "source": [
    "### `ch09\\ch9-2-1a.py`"
   ]
  },
  {
   "cell_type": "code",
   "execution_count": null,
   "id": "04835664",
   "metadata": {},
   "outputs": [],
   "source": [
    "import matplotlib.pyplot as plt\n",
    "import numpy as np\n",
    "\n",
    "x = np.random.rand(1000)\n",
    "y = np.random.rand(1000)\n",
    "size = np.random.rand(1000) * 50\n",
    "color = np.random.rand(1000)\n",
    "plt.scatter(x, y, size, color)\n",
    "plt.colorbar()\n",
    "plt.show()\n",
    "\n"
   ]
  },
  {
   "cell_type": "markdown",
   "id": "1b8588ac",
   "metadata": {},
   "source": [
    "### `ch09\\ch9-2-2.py`"
   ]
  },
  {
   "cell_type": "code",
   "execution_count": null,
   "id": "2b94bc52",
   "metadata": {},
   "outputs": [],
   "source": [
    "import matplotlib.pyplot as plt\n",
    "import numpy as np\n",
    "plt.rcParams['font.sans-serif'] = ['Microsoft JhengHei'] \n",
    "plt.rcParams['axes.unicode_minus'] = False\n",
    " \n",
    "labels = [\"Python\", \"C++\", \"Java\", \"JS\", \"C\", \"C#\"]\n",
    "index = np.arange(len(labels))\n",
    "ratings = [5.168, 5.726, 14.988, 3.165, 11.857, 4.453]\n",
    " \n",
    "plt.bar(index, ratings)\n",
    "plt.xticks(index, labels)\n",
    "plt.ylabel(\"使用率\")\n",
    "plt.title(\"程式語言的使用率\") \n",
    "plt.show()\n"
   ]
  },
  {
   "cell_type": "markdown",
   "id": "58dcc1d0",
   "metadata": {},
   "source": [
    "### `ch09\\ch9-2-2a.py`"
   ]
  },
  {
   "cell_type": "code",
   "execution_count": null,
   "id": "0752a219",
   "metadata": {},
   "outputs": [],
   "source": [
    "import matplotlib.pyplot as plt\n",
    "import numpy as np\n",
    "plt.rcParams['font.sans-serif'] = ['Microsoft JhengHei'] \n",
    "plt.rcParams['axes.unicode_minus'] = False\n",
    " \n",
    "labels = [\"Python\", \"C++\", \"Java\", \"JS\", \"C\", \"C#\"]\n",
    "index = np.arange(len(labels))\n",
    "ratings = [5.168, 5.726, 14.988, 3.165, 11.857, 4.453]\n",
    " \n",
    "plt.barh(index, ratings)\n",
    "plt.yticks(index, labels)\n",
    "plt.ylabel(\"使用率\")\n",
    "plt.title(\"程式語言的使用率\") \n",
    "plt.show()\n"
   ]
  },
  {
   "cell_type": "markdown",
   "id": "fd644029",
   "metadata": {},
   "source": [
    "### `ch09\\ch9-2-2b.py`"
   ]
  },
  {
   "cell_type": "code",
   "execution_count": null,
   "id": "ce4126c4",
   "metadata": {},
   "outputs": [],
   "source": [
    "import matplotlib.pyplot as plt\n",
    "import numpy as np\n",
    "plt.rcParams['font.sans-serif'] = ['Microsoft JhengHei'] \n",
    "plt.rcParams['axes.unicode_minus'] = False\n",
    " \n",
    "labels = [\"Python\", \"C++\", \"Java\", \"JS\", \"C\", \"C#\"]\n",
    "index = np.arange(len(labels)*2)\n",
    "ratings = [5.168, 5.726, 14.988, 3.165, 11.857, 4.453]\n",
    "change = [1.12, 0.3, -1.69, 0.29, 3.41, -0.45]\n",
    " \n",
    "plt.bar(index[0::2], ratings, label=\"使用率\")\n",
    "plt.bar(index[1::2], change, label=\"增減值\", color=\"r\")\n",
    "plt.legend()\n",
    "plt.xticks(index[0::2], labels)\n",
    "plt.ylabel(\"使用率\")\n",
    "plt.title(\"程式語言的使用率\") \n",
    "plt.show()\n"
   ]
  },
  {
   "cell_type": "markdown",
   "id": "1a64f7ed",
   "metadata": {},
   "source": [
    "### `ch09\\ch9-2-3.py`"
   ]
  },
  {
   "cell_type": "code",
   "execution_count": null,
   "id": "96d3d23c",
   "metadata": {},
   "outputs": [],
   "source": [
    "import matplotlib.pyplot as plt\n",
    "\n",
    "x = [21,42,23,4,5,26,77,88,9,10,31,32,33,34,35,36,37,18,49,50,100]\n",
    "num_bins = 5\n",
    "n, bins, patches = plt.hist(x, num_bins)\n",
    "plt.title(str(n) + \"\\n\" + str(bins))\n",
    "plt.show()\n",
    "\n"
   ]
  },
  {
   "cell_type": "markdown",
   "id": "1775767e",
   "metadata": {},
   "source": [
    "### `ch09\\ch9-2-3a.py`"
   ]
  },
  {
   "cell_type": "code",
   "execution_count": null,
   "id": "e97a96b1",
   "metadata": {},
   "outputs": [],
   "source": [
    "import matplotlib.pyplot as plt\n",
    "import numpy as np\n",
    "\n",
    "x = np.random.randn(1000)\n",
    "num_bins = 50\n",
    "plt.hist(x, num_bins)\n",
    "plt.show()\n",
    "\n"
   ]
  },
  {
   "cell_type": "markdown",
   "id": "8a762c0b",
   "metadata": {},
   "source": [
    "### `ch09\\ch9-2-4.py`"
   ]
  },
  {
   "cell_type": "code",
   "execution_count": null,
   "id": "6db91880",
   "metadata": {},
   "outputs": [],
   "source": [
    "import matplotlib.pyplot as plt\n",
    "plt.rcParams['font.sans-serif'] = ['Microsoft JhengHei'] \n",
    "plt.rcParams['axes.unicode_minus'] = False\n",
    " \n",
    "labels = [\"Python\", \"C++\", \"Java\", \"JS\", \"C\", \"C#\"]\n",
    "ratings = [5, 6, 15, 3, 12, 4]\n",
    " \n",
    "plt.pie(ratings, labels=labels)\n",
    "plt.title(\"程式語言的使用率\")  \n",
    "plt.axis(\"equal\")\n",
    "plt.show()\n"
   ]
  },
  {
   "cell_type": "markdown",
   "id": "3e80538e",
   "metadata": {},
   "source": [
    "### `ch09\\ch9-2-4a.py`"
   ]
  },
  {
   "cell_type": "code",
   "execution_count": null,
   "id": "0df5eb52",
   "metadata": {},
   "outputs": [],
   "source": [
    "import matplotlib.pyplot as plt\n",
    "plt.rcParams['font.sans-serif'] = ['Microsoft JhengHei'] \n",
    "plt.rcParams['axes.unicode_minus'] = False\n",
    " \n",
    "labels = [\"Python\", \"C++\", \"Java\", \"JS\", \"C\", \"C#\"]\n",
    "ratings = [5, 6, 15, 3, 12, 4]\n",
    "explode = (0, 0, 0, 0.2, 0, 0.2)\n",
    " \n",
    "plt.pie(ratings, \n",
    "        labels=labels,\n",
    "        explode=explode)\n",
    "plt.title(\"程式語言的使用率\")\n",
    "plt.axis(\"equal\")\n",
    "plt.show()\n"
   ]
  },
  {
   "cell_type": "markdown",
   "id": "eeacf6ce",
   "metadata": {},
   "source": [
    "### `ch09\\ch9-2-4b.py`"
   ]
  },
  {
   "cell_type": "code",
   "execution_count": null,
   "id": "8039e4c2",
   "metadata": {},
   "outputs": [],
   "source": [
    "import matplotlib.pyplot as plt\n",
    "plt.rcParams['font.sans-serif'] = ['Microsoft JhengHei'] \n",
    "plt.rcParams['axes.unicode_minus'] = False\n",
    " \n",
    "labels = [\"Python\", \"C++\", \"Java\", \"JS\", \"C\", \"C#\"]\n",
    "ratings = [5, 6, 15, 3, 12, 4]\n",
    "explode = (0, 0, 0, 0.2, 0, 0.2)\n",
    " \n",
    "patches, texts = plt.pie(ratings, \n",
    "                         labels=labels,\n",
    "                         explode=explode)\n",
    "plt.legend(patches, labels, loc=\"best\")\n",
    "plt.title(\"程式語言的使用率\") \n",
    "plt.axis(\"equal\")\n",
    "plt.show()\n"
   ]
  },
  {
   "cell_type": "markdown",
   "id": "ce9cf3a5",
   "metadata": {},
   "source": [
    "### `ch09\\ch9-3-1.py`"
   ]
  },
  {
   "cell_type": "code",
   "execution_count": null,
   "id": "d8175642",
   "metadata": {},
   "outputs": [],
   "source": [
    "import matplotlib.pyplot as plt\n",
    "import numpy as np\n",
    "\n",
    "x = np.linspace(0, 10, 50)\n",
    "sinus = np.sin(x)\n",
    "cosinus = np.cos(x)\n",
    "plt.subplot(2, 1, 1)\n",
    "plt.plot(x, sinus, \"r-o\")\n",
    "plt.subplot(2, 1, 2)\n",
    "plt.plot(x, cosinus, \"g--\")\n",
    "plt.show()\n",
    "\n"
   ]
  },
  {
   "cell_type": "markdown",
   "id": "e8559bd2",
   "metadata": {},
   "source": [
    "### `ch09\\ch9-3-1a.py`"
   ]
  },
  {
   "cell_type": "code",
   "execution_count": null,
   "id": "3cbbe7a4",
   "metadata": {},
   "outputs": [],
   "source": [
    "import matplotlib.pyplot as plt\n",
    "import numpy as np\n",
    "\n",
    "x = np.linspace(0, 10, 50)\n",
    "sinus = np.sin(x)\n",
    "cosinus = np.cos(x)\n",
    "plt.subplot(1, 2, 1)\n",
    "plt.plot(x, sinus, \"r-o\")\n",
    "plt.subplot(1, 2, 2)\n",
    "plt.plot(x, cosinus, \"g--\")\n",
    "plt.show()\n",
    "\n"
   ]
  },
  {
   "cell_type": "markdown",
   "id": "bff8127e",
   "metadata": {},
   "source": [
    "### `ch09\\ch9-3-1b.py`"
   ]
  },
  {
   "cell_type": "code",
   "execution_count": null,
   "id": "e825ebfb",
   "metadata": {},
   "outputs": [],
   "source": [
    "import matplotlib.pyplot as plt\n",
    "import numpy as np\n",
    "\n",
    "x = np.linspace(0, 10, 50)\n",
    "plt.subplot(231)\n",
    "plt.plot(x, np.sin(x))\n",
    "plt.subplot(232)\n",
    "plt.plot(x, np.cos(x))\n",
    "plt.subplot(233)\n",
    "plt.plot(x, np.tan(x))\n",
    "plt.subplot(234)\n",
    "plt.plot(x, np.sinh(x))\n",
    "plt.subplot(235)\n",
    "plt.plot(x, np.cosh(x))\n",
    "plt.subplot(236)\n",
    "plt.plot(x, np.tanh(x))\n",
    "plt.show()\n",
    "\n"
   ]
  },
  {
   "cell_type": "markdown",
   "id": "b21537b5",
   "metadata": {},
   "source": [
    "### `ch09\\ch9-3-2.py`"
   ]
  },
  {
   "cell_type": "code",
   "execution_count": null,
   "id": "f9d18b2b",
   "metadata": {},
   "outputs": [],
   "source": [
    "import matplotlib.pyplot as plt\n",
    "import numpy as np\n",
    "\n",
    "x = np.linspace(0, 10, 50)\n",
    "sinus = np.sin(x)\n",
    "sinhs = np.sinh(x)\n",
    "fig, ax = plt.subplots()\n",
    "ax.plot(x, sinus, \"r-o\")\n",
    "ax2 = ax.twinx()\n",
    "ax2.plot(x, sinhs, \"g--\")\n",
    "plt.show()\n",
    "\n"
   ]
  },
  {
   "cell_type": "markdown",
   "id": "1c0ab1ae",
   "metadata": {},
   "source": [
    "### `ch09\\ch9-3-2a.py`"
   ]
  },
  {
   "cell_type": "code",
   "execution_count": null,
   "id": "b8b9e7f7",
   "metadata": {},
   "outputs": [],
   "source": [
    "import matplotlib.pyplot as plt\n",
    "import numpy as np\n",
    "\n",
    "x = np.linspace(0, 10, 50)\n",
    "sinus = np.sin(x)\n",
    "sinhs = np.sinh(x)\n",
    "fig, ax = plt.subplots()\n",
    "ax.plot(x, sinus, \"r-o\")\n",
    "ax.set_xlabel(\"x\", color=\"green\")\n",
    "ax.set_ylabel(\"Sin(x)\", color=\"red\")\n",
    "ax2 = ax.twinx()\n",
    "ax2.plot(x, sinhs, \"g--\")\n",
    "ax2.set_ylabel(\"Sinh(x)\", color=\"blue\")\n",
    "plt.show()\n",
    "\n"
   ]
  },
  {
   "cell_type": "markdown",
   "id": "9b44302a",
   "metadata": {},
   "source": [
    "### `ch09\\ch9-3-2b.py`"
   ]
  },
  {
   "cell_type": "code",
   "execution_count": null,
   "id": "715a750a",
   "metadata": {},
   "outputs": [],
   "source": [
    "import matplotlib.pyplot as plt\n",
    "import numpy as np\n",
    "\n",
    "x = np.linspace(0, 10, 50)\n",
    "sinus = np.sin(x)\n",
    "sinhs = np.sinh(x)\n",
    "fig, ax = plt.subplots()\n",
    "ax.plot(x, sinus, \"r-o\", label=\"Sin(x)\")\n",
    "ax.set_xlabel(\"x\", color=\"green\")\n",
    "ax.set_ylabel(\"Sin(x)\", color=\"red\")\n",
    "ax.legend(loc=\"best\")\n",
    "ax2 = ax.twinx()\n",
    "ax2.plot(x, sinhs, \"g--\", label=\"Sinh(x)\")\n",
    "ax2.set_ylabel(\"Sinh(x)\", color=\"blue\")\n",
    "ax2.legend(loc=\"best\")\n",
    "plt.show()\n",
    "\n"
   ]
  },
  {
   "cell_type": "markdown",
   "id": "80c0f9df",
   "metadata": {},
   "source": [
    "### `ch09\\ch9-3-2c.py`"
   ]
  },
  {
   "cell_type": "code",
   "execution_count": null,
   "id": "bd07d71b",
   "metadata": {},
   "outputs": [],
   "source": [
    "import matplotlib.pyplot as plt\n",
    "import numpy as np\n",
    "\n",
    "x = np.linspace(0, 10, 50)\n",
    "sinus = np.sin(x)\n",
    "sinhs = np.sinh(x)\n",
    "fig, ax = plt.subplots()\n",
    "lns1 = ax.plot(x, sinus, \"r-o\", label=\"Sin(x)\")\n",
    "ax.set_xlabel(\"x\", color=\"green\")\n",
    "ax.set_ylabel(\"Sin(x)\", color=\"red\")\n",
    "ax2 = ax.twinx()\n",
    "lns2 = ax2.plot(x, sinhs, \"g--\", label=\"Sinh(x)\")\n",
    "ax2.set_ylabel(\"Sinh(x)\", color=\"blue\")\n",
    "# 自行建立圖例來顯示所有標籤\n",
    "lns = lns1 + lns2\n",
    "labs = [l.get_label() for l in lns]\n",
    "ax.legend(lns, labs, loc=\"best\")\n",
    "plt.show()\n",
    "\n"
   ]
  },
  {
   "cell_type": "markdown",
   "id": "23213d4d",
   "metadata": {},
   "source": [
    "### `ch09\\ch9-3-3.py`"
   ]
  },
  {
   "cell_type": "code",
   "execution_count": null,
   "id": "784fa17c",
   "metadata": {},
   "outputs": [],
   "source": [
    "import matplotlib.pyplot as plt\n",
    "import numpy as np\n",
    "plt.rcParams['font.sans-serif'] = ['Microsoft JhengHei'] \n",
    "plt.rcParams['axes.unicode_minus'] = False\n",
    "\n",
    "x = np.linspace(0, 10, 50)\n",
    "sinus = np.sin(x)\n",
    "sinhs = np.sinh(x)\n",
    "fig, ax = plt.subplots()\n",
    "ax.plot(x, sinus, \"r-o\")\n",
    "ax.set_xlabel(\"x\", color=\"green\")\n",
    "ax.set_ylabel(\"Sin(x)\", color=\"red\")\n",
    "ax2 = ax.twinx()\n",
    "ax2.plot(x, sinhs, \"g--\")\n",
    "ax2.set_ylabel(\"Sinh(x)\", color=\"blue\")\n",
    "# 指定圖表標題文字\n",
    "ax.set_title(\"Sin和Cos三角函數的波型\", fontsize=\"large\")\n",
    "# 更改刻度的外觀\n",
    "for tick in ax.xaxis.get_ticklabels():\n",
    "    tick.set_fontsize(\"large\")\n",
    "    tick.set_fontname(\"Times New Roman\")\n",
    "    tick.set_color(\"blue\")\n",
    "    tick.set_weight(\"bold\")   \n",
    "plt.show()\n",
    "\n"
   ]
  },
  {
   "cell_type": "markdown",
   "id": "367e0363",
   "metadata": {},
   "source": [
    "### `ch09\\ch9-3-3a.py`"
   ]
  },
  {
   "cell_type": "code",
   "execution_count": null,
   "id": "745ce076",
   "metadata": {},
   "outputs": [],
   "source": [
    "import matplotlib.pyplot as plt\n",
    "plt.rcParams['font.sans-serif'] = ['Microsoft JhengHei'] \n",
    "plt.rcParams['axes.unicode_minus'] = False\n",
    "\n",
    "days = range(0, 22, 3)\n",
    "celsius = [25.6, 23.2, 18.5, 28.3, 26.5, 30.5, 32.6, 33.1]\n",
    "plt.plot(days, celsius)\n",
    "plt.xlabel(\"日\")\n",
    "plt.ylabel(\"攝氏溫度\")\n",
    "locs1, labels = plt.xticks()\n",
    "locs2, labels = plt.yticks()\n",
    "plt.title(str(locs1) + \"\\n\" + str(locs2))\n",
    "plt.show()\n",
    "\n"
   ]
  },
  {
   "cell_type": "markdown",
   "id": "7dd8c06b",
   "metadata": {},
   "source": [
    "### `ch09\\ch9-3-3b.py`"
   ]
  },
  {
   "cell_type": "code",
   "execution_count": null,
   "id": "333f65af",
   "metadata": {},
   "outputs": [],
   "source": [
    "import matplotlib.pyplot as plt\n",
    "plt.rcParams['font.sans-serif'] = ['Microsoft JhengHei'] \n",
    "plt.rcParams['axes.unicode_minus'] = False\n",
    "\n",
    "days = range(0, 22, 3)\n",
    "celsius = [25.6, 23.2, 18.5, 28.3, 26.5, 30.5, 32.6, 33.1]\n",
    "plt.plot(days, celsius)\n",
    "plt.xlabel(\"日\")\n",
    "plt.ylabel(\"攝氏溫度\")\n",
    "plt.xticks(range(0, 25, 2))\n",
    "plt.yticks(range(15, 35, 3))\n",
    "plt.show()\n",
    "\n"
   ]
  },
  {
   "cell_type": "markdown",
   "id": "b81bffc0",
   "metadata": {},
   "source": [
    "### `ch09\\ch9-3-3c.py`"
   ]
  },
  {
   "cell_type": "code",
   "execution_count": null,
   "id": "eb504bda",
   "metadata": {},
   "outputs": [],
   "source": [
    "import matplotlib.pyplot as plt\n",
    "import numpy as np\n",
    "\n",
    "x = np.linspace(0, 10, 50)\n",
    "sinus = np.sin(x)\n",
    "sinhs = np.sinh(x)\n",
    "fig, ax = plt.subplots()\n",
    "ax.plot(x, sinus, \"r-o\")\n",
    "ax.set_xlabel(\"x\", color=\"green\")\n",
    "ax.set_ylabel(\"Sin(x)\", color=\"red\")\n",
    "ax2 = ax.twinx()\n",
    "ax2.plot(x, sinhs, \"g--\")\n",
    "ax2.set_ylabel(\"Sinh(x)\", color=\"blue\")\n",
    "plt.xticks(range(0, 11))\n",
    "ax.set_yticks(np.linspace(-1, 1, 10))\n",
    "ax2.set_yticks(np.linspace(0, 12000, 10))\n",
    "plt.show()\n",
    "\n"
   ]
  },
  {
   "cell_type": "markdown",
   "id": "a32d282b",
   "metadata": {},
   "source": [
    "### `ch09\\ch9-4-1.py`"
   ]
  },
  {
   "cell_type": "code",
   "execution_count": null,
   "id": "23e8395f",
   "metadata": {},
   "outputs": [],
   "source": [
    "import matplotlib.pyplot as plt\n",
    "import pandas as pd\n",
    "\n",
    "data = [100, 110, 150, 170, 190, 200, 220]\n",
    "s = pd.Series(data)\n",
    "s.plot()\n",
    "plt.show()"
   ]
  },
  {
   "cell_type": "markdown",
   "id": "0d17dce6",
   "metadata": {},
   "source": [
    "### `ch09\\ch9-4-1a.py`"
   ]
  },
  {
   "cell_type": "code",
   "execution_count": null,
   "id": "0f8d2ccc",
   "metadata": {},
   "outputs": [],
   "source": [
    "import matplotlib.pyplot as plt\n",
    "import pandas as pd\n",
    "\n",
    "data = [100, 110, 150, 170, 190, 200, 220]\n",
    "weekday = [\"Sun\", \"Mon\", \"Tue\", \"Wed\", \"Thu\", \"Fri\", \"Sat\"]\n",
    "s = pd.Series(data, index=weekday)\n",
    "s.plot()\n",
    "plt.show()"
   ]
  },
  {
   "cell_type": "markdown",
   "id": "275d3946",
   "metadata": {},
   "source": [
    "### `ch09\\ch9-4-2.py`"
   ]
  },
  {
   "cell_type": "code",
   "execution_count": null,
   "id": "db5d65a1",
   "metadata": {},
   "outputs": [],
   "source": [
    "import matplotlib.pyplot as plt\n",
    "import pandas as pd\n",
    "\n",
    "dists = {\"name\": [\"Zhongzheng\", \"Banqiao\", \"Taoyuan\", \"Beitun\", \n",
    "                   \"Annan\", \"Sanmin\", \"Daan\", \"Yonghe\", \n",
    "                   \"Bade\", \"Cianjhen\", \"Fengshan\", \n",
    "                   \"Xinyi\", \"Xindian\"],\n",
    "         \"population\": [159598, 551452, 441287, 275207,\n",
    "                        192327, 343203, 309835, 222531,\n",
    "                        198473, 189623, 359125, \n",
    "                        225561, 302070]}\n",
    "df = pd.DataFrame(dists)\n",
    "print(df) \n",
    "df.to_html(\"ch9-4-2-01.html\")\n",
    "df.plot()\n",
    "\n",
    "df2 = pd.DataFrame(dists, \n",
    "                   columns=[\"population\"],\n",
    "                   index=dists[\"name\"])\n",
    "print(df2)\n",
    "df2.to_html(\"ch9-4-2-02.html\")\n",
    "df2.plot()\n",
    "plt.show()"
   ]
  },
  {
   "cell_type": "markdown",
   "id": "92e1c176",
   "metadata": {},
   "source": [
    "### `ch09\\ch9-4-2a.py`"
   ]
  },
  {
   "cell_type": "code",
   "execution_count": null,
   "id": "ad5bbbb7",
   "metadata": {},
   "outputs": [],
   "source": [
    "import matplotlib.pyplot as plt\n",
    "import pandas as pd\n",
    "\n",
    "dists = {\"name\": [\"Zhongzheng\", \"Banqiao\", \"Taoyuan\", \"Beitun\", \n",
    "                   \"Annan\", \"Sanmin\", \"Daan\", \"Yonghe\", \n",
    "                   \"Bade\", \"Cianjhen\", \"Fengshan\", \n",
    "                   \"Xinyi\", \"Xindian\"],\n",
    "         \"population\": [159598, 551452, 441287, 275207,\n",
    "                        192327, 343203, 309835, 222531,\n",
    "                        198473, 189623, 359125, \n",
    "                        225561, 302070]}\n",
    "\n",
    "df = pd.DataFrame(dists, \n",
    "                   columns=[\"population\"],\n",
    "                   index=dists[\"name\"])\n",
    "print(df)\n",
    "df.plot(xticks=range(len(df.index)),\n",
    "        use_index=True)\n",
    "\n",
    "df.plot(xticks=range(len(df.index)),\n",
    "        use_index=True,\n",
    "        rot=90)\n",
    "plt.show()"
   ]
  },
  {
   "cell_type": "markdown",
   "id": "8e4e1c23",
   "metadata": {},
   "source": [
    "### `ch09\\ch9-4-3.py`"
   ]
  },
  {
   "cell_type": "code",
   "execution_count": null,
   "id": "c02f3adc",
   "metadata": {},
   "outputs": [],
   "source": [
    "import matplotlib.pyplot as plt\n",
    "import pandas as pd\n",
    "plt.rcParams['font.sans-serif'] = ['Microsoft JhengHei'] \n",
    "plt.rcParams['axes.unicode_minus'] = False\n",
    "\n",
    "dists = {\"區名\": [\"中正區\", \"板橋區\", \"桃園區\", \"北屯區\", \n",
    "                  \"安南區\", \"三民區\", \"大安區\", \"永和區\", \n",
    "                  \"八德區\", \"前鎮區\", \"鳳山區\", \n",
    "                  \"信義區\", \"新店區\"],\n",
    "         \"人口\": [159598, 551452, 441287, 275207,\n",
    "                  192327, 343203, 309835, 222531,\n",
    "                  198473, 189623, 359125, \n",
    "                  225561, 302070],\n",
    "         \"面積\": [7.6071, 23.1373, 34.8046, 62.7034, \n",
    "                  107.2016, 19.7866, 11.3614, 5.7138, \n",
    "                  33.7111, 19.1207, 26.7590, \n",
    "                  11.2077, 120.2255]}\n",
    "\n",
    "df = pd.DataFrame(dists, \n",
    "                  columns=[\"人口\", \"面積\"],\n",
    "                  index=dists[\"區名\"])\n",
    "print(df)\n",
    "df.to_html(\"ch9-4-3.html\")\n",
    "df[\"面積\"] *= 1000\n",
    "df.plot(xticks=range(len(df.index)),\n",
    "        use_index=True,\n",
    "        rot=90)\n",
    "plt.show()"
   ]
  },
  {
   "cell_type": "markdown",
   "id": "5dc9148f",
   "metadata": {},
   "source": [
    "### `ch09\\ch9-4-3a.py`"
   ]
  },
  {
   "cell_type": "code",
   "execution_count": null,
   "id": "a4289ac6",
   "metadata": {},
   "outputs": [],
   "source": [
    "import matplotlib.pyplot as plt\n",
    "import pandas as pd\n",
    "plt.rcParams['font.sans-serif'] = ['Microsoft JhengHei'] \n",
    "plt.rcParams['axes.unicode_minus'] = False\n",
    "\n",
    "dists = {\"區名\": [\"中正區\", \"板橋區\", \"桃園區\", \"北屯區\", \n",
    "                  \"安南區\", \"三民區\", \"大安區\", \"永和區\", \n",
    "                  \"八德區\", \"前鎮區\", \"鳳山區\", \n",
    "                  \"信義區\", \"新店區\"],\n",
    "         \"人口\": [159598, 551452, 441287, 275207,\n",
    "                  192327, 343203, 309835, 222531,\n",
    "                  198473, 189623, 359125, \n",
    "                  225561, 302070],\n",
    "         \"面積\": [7.6071, 23.1373, 34.8046, 62.7034, \n",
    "                  107.2016, 19.7866, 11.3614, 5.7138, \n",
    "                  33.7111, 19.1207, 26.7590, \n",
    "                  11.2077, 120.2255]}\n",
    "\n",
    "df = pd.DataFrame(dists, \n",
    "                  columns=[\"人口\", \"面積\"],\n",
    "                  index=dists[\"區名\"])\n",
    "print(df)\n",
    "fig, ax = plt.subplots()\n",
    "fig.suptitle(\"分區統計\")\n",
    "ax.set_ylabel(\"人口\")\n",
    "ax.set_xlabel(\"分區\")\n",
    "ax2 = ax.twinx()\n",
    "ax2.set_ylabel(\"面積\")\n",
    "df[\"人口\"].plot( ax=ax, \n",
    "                 style=\"b--o\",\n",
    "                 use_index=True,\n",
    "                 rot=90)\n",
    "df[\"面積\"].plot( ax=ax2, \n",
    "                 style=\"g-s\",\n",
    "                 use_index=True,\n",
    "                 rot=90)\n",
    "plt.show()"
   ]
  },
  {
   "cell_type": "markdown",
   "id": "f0bfc0cd",
   "metadata": {},
   "source": [
    "### `ch09\\ch9-4-4.py`"
   ]
  },
  {
   "cell_type": "code",
   "execution_count": null,
   "id": "b35bca06",
   "metadata": {},
   "outputs": [],
   "source": [
    "import matplotlib.pyplot as plt\n",
    "import pandas as pd\n",
    "\n",
    "data = [100, 110, 150, 170, 190, 200, 220]\n",
    "s = pd.Series(data)\n",
    "s.plot(kind=\"bar\", rot=0)\n",
    "plt.show()"
   ]
  },
  {
   "cell_type": "markdown",
   "id": "3ace66ec",
   "metadata": {},
   "source": [
    "### `ch09\\ch9-4-4a.py`"
   ]
  },
  {
   "cell_type": "code",
   "execution_count": null,
   "id": "6644821b",
   "metadata": {},
   "outputs": [],
   "source": [
    "import matplotlib.pyplot as plt\n",
    "import pandas as pd\n",
    "\n",
    "usage = {\"os\": [\"Windows\",\"Mac OS\",\"Linux\",\"Chrome OS\",\"BSD\"],\n",
    "         \"percentage\": [88.78, 8.21, 2.32, 0.34, 0.02]}\n",
    "\n",
    "df = pd.DataFrame(usage, \n",
    "                  columns=[\"percentage\"],\n",
    "                  index=usage[\"os\"])\n",
    "print(df)\n",
    "df.to_html(\"ch9-4-4.html\")\n",
    "df.plot(kind=\"bar\")\n",
    "plt.show()"
   ]
  },
  {
   "cell_type": "markdown",
   "id": "2a7fbb73",
   "metadata": {},
   "source": [
    "### `ch09\\ch9-4-5.py`"
   ]
  },
  {
   "cell_type": "code",
   "execution_count": null,
   "id": "0e48aa79",
   "metadata": {},
   "outputs": [],
   "source": [
    "import matplotlib.pyplot as plt\n",
    "import pandas as pd\n",
    "plt.rcParams['font.sans-serif'] = ['Microsoft JhengHei'] \n",
    "plt.rcParams['axes.unicode_minus'] = False\n",
    "\n",
    "fruits = [\"蘋果\",\"梨子\",\"香蕉\",\"橙子\"]\n",
    "percentage = [30, 10, 40, 20]\n",
    "\n",
    "s = pd.Series(percentage, index=fruits, name=\"水果\")\n",
    "print(s)\n",
    "s.plot(kind=\"pie\")\n",
    "plt.show()"
   ]
  },
  {
   "cell_type": "markdown",
   "id": "85007232",
   "metadata": {},
   "source": [
    "### `ch09\\ch9-4-5a.py`"
   ]
  },
  {
   "cell_type": "code",
   "execution_count": null,
   "id": "21b5e14f",
   "metadata": {},
   "outputs": [],
   "source": [
    "import matplotlib.pyplot as plt\n",
    "import pandas as pd\n",
    "plt.rcParams['font.sans-serif'] = ['Microsoft JhengHei'] \n",
    "plt.rcParams['axes.unicode_minus'] = False\n",
    "\n",
    "fruits = [\"蘋果\",\"梨子\",\"香蕉\",\"橙子\"]\n",
    "percentage = [30, 10, 40, 20]\n",
    "\n",
    "s = pd.Series(percentage, index=fruits, name=\"水果\")\n",
    "print(s)\n",
    "explode = [0.1, 0.3, 0.1, 0.3]\n",
    "s.plot(kind=\"pie\",\n",
    "       figsize=(6, 6),\n",
    "       explode=explode)\n",
    "plt.show()"
   ]
  },
  {
   "cell_type": "markdown",
   "id": "8a327fe9",
   "metadata": {},
   "source": [
    "### `ch09\\ch9-4-6.py`"
   ]
  },
  {
   "cell_type": "code",
   "execution_count": null,
   "id": "c9493877",
   "metadata": {},
   "outputs": [],
   "source": [
    "import matplotlib.pyplot as plt\n",
    "import numpy as np\n",
    "import pandas as pd\n",
    "\n",
    "x = np.linspace(0, 2*np.pi, 50)\n",
    "y = np.sin(x)\n",
    "df = pd.DataFrame({\"x\":x, \"y\":y})\n",
    "df.plot(kind=\"scatter\", x=\"x\", y=\"y\", \n",
    "        title=\"Sin(x)\")\n",
    "plt.show()\n",
    "\n"
   ]
  },
  {
   "cell_type": "markdown",
   "id": "a06ffe5a",
   "metadata": {},
   "source": [
    "### `ch09\\ch9-4-6a.py`"
   ]
  },
  {
   "cell_type": "code",
   "execution_count": null,
   "id": "983389f8",
   "metadata": {},
   "outputs": [],
   "source": [
    "import matplotlib.pyplot as plt\n",
    "import pandas as pd\n",
    "\n",
    "iris = pd.read_csv(\"iris.csv\")\n",
    "\n",
    "iris.boxplot(column=\"sepal_length\",\n",
    "             by=\"target\",\n",
    "             figsize=(6,5))\n",
    "plt.show()\n"
   ]
  },
  {
   "cell_type": "markdown",
   "id": "069778c8",
   "metadata": {},
   "source": [
    "### `ch10\\ch10-3-1.py`"
   ]
  },
  {
   "cell_type": "code",
   "execution_count": null,
   "id": "2bb87bcb",
   "metadata": {},
   "outputs": [],
   "source": [
    "import matplotlib.pyplot as plt \n",
    "import seaborn as sns\n",
    "import math\n",
    "\n",
    "x = [0,0.5,1,1.5,2,2.5,3,3.5,4,4.5,5,\n",
    "     5.5,6,6.5,7,7.5,8,8.5,9,9.5,10]\n",
    "sinus = [math.sin(v) for v in x]\n",
    "cosinus = [math.cos(v) for v in x]\n",
    "\n",
    "sns.set()\n",
    "fig, axes = plt.subplots(1,2, figsize=(6,4))\n",
    "ax1 = sns.lineplot(x=x, y=sinus, ax=axes[0])\n",
    "ax2 = sns.scatterplot(x=x, y=cosinus, ax=axes[1])\n",
    "plt.show()\n"
   ]
  },
  {
   "cell_type": "markdown",
   "id": "c3da546e",
   "metadata": {},
   "source": [
    "### `ch10\\ch10-3-1a.py`"
   ]
  },
  {
   "cell_type": "code",
   "execution_count": null,
   "id": "6199d7cf",
   "metadata": {},
   "outputs": [],
   "source": [
    "import matplotlib.pyplot as plt \n",
    "import seaborn as sns\n",
    "import pandas as pd\n",
    "import math\n",
    "\n",
    "x = [0,0.5,1,1.5,2,2.5,3,3.5,4,4.5,5,\n",
    "     5.5,6,6.5,7,7.5,8,8.5,9,9.5,10]\n",
    "sinus = [math.sin(v) for v in x]\n",
    "cosinus = [math.cos(v) for v in x]\n",
    "\n",
    "df = pd.DataFrame()\n",
    "df[\"x\"] = x\n",
    "df[\"sin\"]= sinus\n",
    "df[\"cos\"] = cosinus\n",
    "print(df.head())\n",
    "df.head().to_html(\"ch10-3-1a-01.html\")\n",
    "df2 = pd.melt(df, id_vars=['x'], value_vars=['sin', 'cos'])\n",
    "print(df2.head())\n",
    "df2.head().to_html(\"ch10-3-1a-02.html\")\n",
    "\n",
    "sns.set()\n",
    "sns.relplot(x=\"x\", y=\"value\", kind=\"scatter\", col=\"variable\", data=df2)\n",
    "plt.show()\n"
   ]
  },
  {
   "cell_type": "markdown",
   "id": "01316a10",
   "metadata": {},
   "source": [
    "### `ch10\\ch10-3-2.py`"
   ]
  },
  {
   "cell_type": "code",
   "execution_count": null,
   "id": "4e207a9a",
   "metadata": {},
   "outputs": [],
   "source": [
    "import matplotlib.pyplot as plt\n",
    "import seaborn as sns\n",
    "import math\n",
    "\n",
    "x = [0,0.5,1,1.5,2,2.5,3,3.5,4,4.5,5,\n",
    "     5.5,6,6.5,7,7.5,8,8.5,9,9.5,10]\n",
    "sinus = [math.sin(v) for v in x]\n",
    "\n",
    "sns.set_style(\"whitegrid\")\n",
    "sns.lineplot(x=x, y=sinus)\n",
    "plt.show()\n",
    "\n"
   ]
  },
  {
   "cell_type": "markdown",
   "id": "413d63ec",
   "metadata": {},
   "source": [
    "### `ch10\\ch10-3-2a.py`"
   ]
  },
  {
   "cell_type": "code",
   "execution_count": null,
   "id": "397a3d71",
   "metadata": {},
   "outputs": [],
   "source": [
    "import matplotlib.pyplot as plt\n",
    "import seaborn as sns\n",
    "import math\n",
    "\n",
    "x = [0,0.5,1,1.5,2,2.5,3,3.5,4,4.5,5,\n",
    "     5.5,6,6.5,7,7.5,8,8.5,9,9.5,10]\n",
    "sinus = [math.sin(v) for v in x]\n",
    "\n",
    "sns.set_style(\"whitegrid\")\n",
    "sns.lineplot(x=x, y=sinus)\n",
    "sns.despine()\n",
    "plt.show()\n",
    " "
   ]
  },
  {
   "cell_type": "markdown",
   "id": "e5226596",
   "metadata": {},
   "source": [
    "### `ch10\\ch10-3-2b.py`"
   ]
  },
  {
   "cell_type": "code",
   "execution_count": null,
   "id": "4fe8bf6f",
   "metadata": {},
   "outputs": [],
   "source": [
    "import matplotlib.pyplot as plt\n",
    "import seaborn as sns\n",
    "import math\n",
    "\n",
    "x = [0,0.5,1,1.5,2,2.5,3,3.5,4,4.5,5,\n",
    "     5.5,6,6.5,7,7.5,8,8.5,9,9.5,10]\n",
    "sinus = [math.sin(v) for v in x]\n",
    "\n",
    "sns.set_style(\"darkgrid\", {\"axes.axisbelow\": False})\n",
    "sns.lineplot(x=x, y=sinus)\n",
    "plt.show()\n",
    "\n",
    "print(sns.axes_style())\n"
   ]
  },
  {
   "cell_type": "markdown",
   "id": "661e55ae",
   "metadata": {},
   "source": [
    "### `ch10\\ch10-3-2c.py`"
   ]
  },
  {
   "cell_type": "code",
   "execution_count": null,
   "id": "c7212b30",
   "metadata": {},
   "outputs": [],
   "source": [
    "import matplotlib.pyplot as plt\n",
    "import seaborn as sns\n",
    "import math\n",
    "\n",
    "x = [0,0.5,1,1.5,2,2.5,3,3.5,4,4.5,5,\n",
    "     5.5,6,6.5,7,7.5,8,8.5,9,9.5,10]\n",
    "sinus = [math.sin(v) for v in x]\n",
    "\n",
    "plt.rcParams[\"axes.unicode_minus\"] = False\n",
    "sns.set_style(\"darkgrid\", {\"axes.axisbelow\": False,\n",
    "                           \"font.sans-serif\":['Microsoft JhengHei']})\n",
    "sns.lineplot(x=x, y=sinus)\n",
    "plt.title(\"Sinus三角函數的波型\")\n",
    "plt.xlim(-2, 12)\n",
    "plt.ylim(-2, 2)\n",
    "plt.xlabel(\"x\")\n",
    "plt.ylabel(\"sin(x)\")\n",
    "plt.show()\n"
   ]
  },
  {
   "cell_type": "markdown",
   "id": "04a1f85d",
   "metadata": {},
   "source": [
    "### `ch10\\ch10-3-2d.py`"
   ]
  },
  {
   "cell_type": "code",
   "execution_count": null,
   "id": "82e3b43d",
   "metadata": {},
   "outputs": [],
   "source": [
    "import matplotlib.pyplot as plt\n",
    "import seaborn as sns\n",
    "import pandas as pd\n",
    "import math\n",
    "\n",
    "x = [0,0.5,1,1.5,2,2.5,3,3.5,4,4.5,5,\n",
    "     5.5,6,6.5,7,7.5,8,8.5,9,9.5,10]\n",
    "sinus = [math.sin(v) for v in x]\n",
    "cosinus = [math.cos(v) for v in x]\n",
    "\n",
    "df = pd.DataFrame()\n",
    "df[\"x\"] = x\n",
    "df[\"sin\"]= sinus\n",
    "df[\"cos\"] = cosinus\n",
    "print(df.head())\n",
    "df.head().to_html(\"ch10-3-2d-01.html\")\n",
    "df2 = pd.melt(df, id_vars=['x'], value_vars=['sin', 'cos'])\n",
    "print(df2.head())\n",
    "df2.head().to_html(\"ch10-3-2d-02.html\")\n",
    "\n",
    "sns.set()\n",
    "sns.relplot(x=\"x\", y=\"value\", kind=\"scatter\", col=\"variable\",\n",
    "            height=4, aspect=1.2, data=df2)\n",
    "plt.show()\n"
   ]
  },
  {
   "cell_type": "markdown",
   "id": "5ff28949",
   "metadata": {},
   "source": [
    "### `ch10\\ch10-3-3.py`"
   ]
  },
  {
   "cell_type": "code",
   "execution_count": null,
   "id": "bc85e5df",
   "metadata": {},
   "outputs": [],
   "source": [
    "import seaborn as sns\n",
    "\n",
    "df = sns.load_dataset(\"tips\")\n",
    "print(df.head())\n",
    "df.head().to_html(\"ch10-3-3.html\")\n",
    "\n",
    "\n"
   ]
  },
  {
   "cell_type": "markdown",
   "id": "ecb58b35",
   "metadata": {},
   "source": [
    "### `ch10\\ch10-3-3a.py`"
   ]
  },
  {
   "cell_type": "code",
   "execution_count": null,
   "id": "75a08d6c",
   "metadata": {},
   "outputs": [],
   "source": [
    "import seaborn as sns\n",
    "\n",
    "print(sns.get_dataset_names())\n",
    " "
   ]
  },
  {
   "cell_type": "markdown",
   "id": "7e790b43",
   "metadata": {},
   "source": [
    "### `ch10\\ch10-4-1.py`"
   ]
  },
  {
   "cell_type": "code",
   "execution_count": null,
   "id": "19bba2fb",
   "metadata": {},
   "outputs": [],
   "source": [
    "import seaborn as sns\n",
    "import matplotlib.pyplot as plt\n",
    "\n",
    "df = sns.load_dataset(\"tips\")\n",
    "\n",
    "sns.set()\n",
    "sns.relplot(x=\"total_bill\", y=\"tip\", data=df)\n",
    "plt.show()\n"
   ]
  },
  {
   "cell_type": "markdown",
   "id": "ebc745ae",
   "metadata": {},
   "source": [
    "### `ch10\\ch10-4-1a.py`"
   ]
  },
  {
   "cell_type": "code",
   "execution_count": null,
   "id": "80b226fe",
   "metadata": {},
   "outputs": [],
   "source": [
    "import seaborn as sns\n",
    "import matplotlib.pyplot as plt\n",
    "\n",
    "df = sns.load_dataset(\"tips\")\n",
    "\n",
    "sns.set()\n",
    "sns.relplot(x=\"total_bill\", y=\"tip\", hue=\"smoker\", data=df)\n",
    "plt.show()\n"
   ]
  },
  {
   "cell_type": "markdown",
   "id": "b0fa805b",
   "metadata": {},
   "source": [
    "### `ch10\\ch10-4-1b.py`"
   ]
  },
  {
   "cell_type": "code",
   "execution_count": null,
   "id": "715d8e54",
   "metadata": {},
   "outputs": [],
   "source": [
    "import seaborn as sns\n",
    "import matplotlib.pyplot as plt\n",
    "\n",
    "df = sns.load_dataset(\"tips\")\n",
    "\n",
    "sns.set()\n",
    "sns.relplot(x=\"total_bill\", y=\"tip\", hue=\"smoker\",\n",
    "            style=\"smoker\", data=df)\n",
    "plt.show()\n"
   ]
  },
  {
   "cell_type": "markdown",
   "id": "95230649",
   "metadata": {},
   "source": [
    "### `ch10\\ch10-4-2.py`"
   ]
  },
  {
   "cell_type": "code",
   "execution_count": null,
   "id": "8b2a14e8",
   "metadata": {},
   "outputs": [],
   "source": [
    "import seaborn as sns\n",
    "import matplotlib.pyplot as plt\n",
    "import pandas as pd\n",
    "\n",
    "df = pd.read_csv(\"Kobe_stats.csv\")\n",
    "data = pd.DataFrame()\n",
    "data[\"Season\"] = pd.to_datetime(df[\"Season\"])\n",
    "data[\"PTS\"] = df[\"PTS\"]\n",
    "\n",
    "sns.set()\n",
    "sns.relplot(x=\"Season\", y=\"PTS\", data=data, kind=\"line\")\n",
    "plt.show()\n"
   ]
  },
  {
   "cell_type": "markdown",
   "id": "0cfaf712",
   "metadata": {},
   "source": [
    "### `ch10\\ch10-4-2a.py`"
   ]
  },
  {
   "cell_type": "code",
   "execution_count": null,
   "id": "e21a62f7",
   "metadata": {},
   "outputs": [],
   "source": [
    "import seaborn as sns\n",
    "import matplotlib.pyplot as plt\n",
    "\n",
    "df = sns.load_dataset(\"fmri\")\n",
    "\n",
    "sns.set()\n",
    "sns.relplot(x=\"timepoint\", y=\"signal\", data=df, kind=\"line\")\n",
    "\n",
    "sns.relplot(x=\"timepoint\", y=\"signal\", errorbar=None, data=df, kind=\"line\")\n",
    "sns.relplot(x=\"timepoint\", y=\"signal\", errorbar=\"sd\", data=df, kind=\"line\")\n",
    "\n",
    "sns.relplot(x=\"timepoint\", y=\"signal\", data=df, kind='scatter')\n",
    "\n",
    "plt.show()\n"
   ]
  },
  {
   "cell_type": "markdown",
   "id": "548ca36b",
   "metadata": {},
   "source": [
    "### `ch10\\ch10-5-1.py`"
   ]
  },
  {
   "cell_type": "code",
   "execution_count": null,
   "id": "52ea13a8",
   "metadata": {},
   "outputs": [],
   "source": [
    "import seaborn as sns\n",
    "import matplotlib.pyplot as plt\n",
    "\n",
    "df = sns.load_dataset(\"tips\")\n",
    "\n",
    "sns.set()\n",
    "sns.histplot(df[\"total_bill\"], kde=False)\n",
    "plt.show()\n"
   ]
  },
  {
   "cell_type": "markdown",
   "id": "210ca898",
   "metadata": {},
   "source": [
    "### `ch10\\ch10-5-1a.py`"
   ]
  },
  {
   "cell_type": "code",
   "execution_count": null,
   "id": "01a18a27",
   "metadata": {},
   "outputs": [],
   "source": [
    "import seaborn as sns\n",
    "import matplotlib.pyplot as plt\n",
    "\n",
    "df = sns.load_dataset(\"tips\")\n",
    "\n",
    "sns.set()\n",
    "sns.histplot(df[\"total_bill\"], kde=False)\n",
    "sns.histplot(df[\"total_bill\"], kde=False, bins=20, color=\"red\")\n",
    "sns.histplot(df[\"total_bill\"], kde=False, bins=30, color=\"green\")\n",
    "plt.show()\n",
    "\n"
   ]
  },
  {
   "cell_type": "markdown",
   "id": "5fed2aab",
   "metadata": {},
   "source": [
    "### `ch10\\ch10-5-1b.py`"
   ]
  },
  {
   "cell_type": "code",
   "execution_count": null,
   "id": "9afe744b",
   "metadata": {},
   "outputs": [],
   "source": [
    "import seaborn as sns\n",
    "import matplotlib.pyplot as plt\n",
    "\n",
    "df = sns.load_dataset(\"tips\")\n",
    "\n",
    "sns.set()\n",
    "sns.kdeplot(df[\"total_bill\"], label=\"default\")\n",
    "sns.kdeplot(df[\"total_bill\"], bw_adjust=2, label=\"bw_adjust: 2\")\n",
    "sns.kdeplot(df[\"total_bill\"], bw_adjust=5, label=\"bw_adjust: 5\")\n",
    "plt.legend()\n",
    "plt.show()\n"
   ]
  },
  {
   "cell_type": "markdown",
   "id": "9dc343ad",
   "metadata": {},
   "source": [
    "### `ch10\\ch10-5-1c.py`"
   ]
  },
  {
   "cell_type": "code",
   "execution_count": null,
   "id": "f71672ec",
   "metadata": {},
   "outputs": [],
   "source": [
    "import seaborn as sns\n",
    "import matplotlib.pyplot as plt\n",
    "\n",
    "df = sns.load_dataset(\"tips\")\n",
    "\n",
    "sns.set()\n",
    "sns.histplot(df[\"total_bill\"], kde=True)\n",
    "plt.show()\n",
    "\n"
   ]
  },
  {
   "cell_type": "markdown",
   "id": "e6e76e39",
   "metadata": {},
   "source": [
    "### `ch10\\ch10-5-1d.py`"
   ]
  },
  {
   "cell_type": "code",
   "execution_count": null,
   "id": "be6d7547",
   "metadata": {},
   "outputs": [],
   "source": [
    "import seaborn as sns\n",
    "import matplotlib.pyplot as plt\n",
    "\n",
    "df = sns.load_dataset(\"tips\")\n",
    "\n",
    "sns.set()\n",
    "sns.displot(df[\"total_bill\"], kde=True, rug=True)\n",
    "plt.show()\n",
    "\n"
   ]
  },
  {
   "cell_type": "markdown",
   "id": "51c688e9",
   "metadata": {},
   "source": [
    "### `ch10\\ch10-5-1e-kde_demo.py`"
   ]
  },
  {
   "cell_type": "code",
   "execution_count": null,
   "id": "75b0d3fa",
   "metadata": {},
   "outputs": [],
   "source": [
    "'''\n",
    "FYI: I asked ChatGPT how the KDE process works. The sentence I asked was: given a number of samples point,\n",
    "how to obtain its kde. According to its answer, hope you can understand the KDE process. The following code\n",
    "is also the example code from the answer. I modify it a little bit to make it work on the tips dataset.\n",
    "'''\n",
    "import numpy as np\n",
    "import matplotlib.pyplot as plt\n",
    "from scipy.stats import gaussian_kde\n",
    "import seaborn as sns\n",
    "\n",
    "df = sns.load_dataset(\"tips\")\n",
    "\n",
    "# Generate some example data\n",
    "data = df['total_bill'] #np.random.normal(size=1000)\n",
    "\n",
    "# Choose bandwidth\n",
    "bandwidth = 0.3\n",
    "\n",
    "# Create KDE object\n",
    "kde = gaussian_kde(data, bw_method=bandwidth)\n",
    "\n",
    "# Evaluate KDE on a grid of points\n",
    "x_grid = np.linspace(min(data), max(data), 100)\n",
    "kde_values = kde.evaluate(x_grid)\n",
    "\n",
    "# Plot the results\n",
    "plt.plot(x_grid, kde_values, label='KDE')\n",
    "plt.hist(data, bins=30, density=True, alpha=0.5, label='Histogram')  # Optional: Plot histogram for comparison\n",
    "plt.legend()\n",
    "plt.show()"
   ]
  },
  {
   "cell_type": "markdown",
   "id": "6a3d0dfb",
   "metadata": {},
   "source": [
    "### `ch10\\ch10-5-2.py`"
   ]
  },
  {
   "cell_type": "code",
   "execution_count": null,
   "id": "3e2ccb87",
   "metadata": {},
   "outputs": [],
   "source": [
    "import seaborn as sns\n",
    "\n",
    "df = sns.load_dataset(\"iris\")\n",
    "print(df.head())\n",
    "df.head().to_html(\"ch10-5-2.html\")\n"
   ]
  },
  {
   "cell_type": "markdown",
   "id": "339c57d8",
   "metadata": {},
   "source": [
    "### `ch10\\ch10-5-2a.py`"
   ]
  },
  {
   "cell_type": "code",
   "execution_count": null,
   "id": "a33b4934",
   "metadata": {},
   "outputs": [],
   "source": [
    "import seaborn as sns\n",
    "import matplotlib.pyplot as plt\n",
    "\n",
    "df = sns.load_dataset(\"iris\")\n",
    "\n",
    "sns.set()\n",
    "sns.jointplot(x=\"petal_length\", y=\"petal_width\", data=df)\n",
    "plt.show()\n"
   ]
  },
  {
   "cell_type": "markdown",
   "id": "4768f16a",
   "metadata": {},
   "source": [
    "### `ch10\\ch10-5-2b.py`"
   ]
  },
  {
   "cell_type": "code",
   "execution_count": null,
   "id": "ddf56fa4",
   "metadata": {},
   "outputs": [],
   "source": [
    "import seaborn as sns\n",
    "import matplotlib.pyplot as plt\n",
    "\n",
    "df = sns.load_dataset(\"iris\")\n",
    "\n",
    "sns.set()\n",
    "sns.jointplot(x=\"petal_length\", y=\"petal_width\", kind=\"hex\", data=df)\n",
    "plt.show()\n"
   ]
  },
  {
   "cell_type": "markdown",
   "id": "dea74aae",
   "metadata": {},
   "source": [
    "### `ch10\\ch10-5-2c.py`"
   ]
  },
  {
   "cell_type": "code",
   "execution_count": null,
   "id": "d0f0f848",
   "metadata": {},
   "outputs": [],
   "source": [
    "import seaborn as sns\n",
    "import matplotlib.pyplot as plt\n",
    "\n",
    "df = sns.load_dataset(\"iris\")\n",
    "\n",
    "sns.set()\n",
    "sns.jointplot(x=\"petal_length\", y=\"petal_width\", kind=\"kde\", data=df)\n",
    "plt.show()\n"
   ]
  },
  {
   "cell_type": "markdown",
   "id": "a94f00c6",
   "metadata": {},
   "source": [
    "### `ch10\\ch10-5-3.py`"
   ]
  },
  {
   "cell_type": "code",
   "execution_count": null,
   "id": "f2fd28aa",
   "metadata": {},
   "outputs": [],
   "source": [
    "import seaborn as sns\n",
    "import matplotlib.pyplot as plt\n",
    "\n",
    "df = sns.load_dataset(\"iris\")\n",
    "\n",
    "sns.set()\n",
    "sns.pairplot(df)\n",
    "plt.show()\n"
   ]
  },
  {
   "cell_type": "markdown",
   "id": "4fb96082",
   "metadata": {},
   "source": [
    "### `ch10\\ch10-5-3a.py`"
   ]
  },
  {
   "cell_type": "code",
   "execution_count": null,
   "id": "596f33b1",
   "metadata": {},
   "outputs": [],
   "source": [
    "import seaborn as sns\n",
    "import matplotlib.pyplot as plt\n",
    "\n",
    "df = sns.load_dataset(\"iris\")\n",
    "\n",
    "sns.set()\n",
    "sns.pairplot(df, kind=\"scatter\", diag_kind=\"kde\",\n",
    "             hue=\"species\", palette=\"husl\")\n",
    "plt.show()\n"
   ]
  },
  {
   "cell_type": "markdown",
   "id": "04dfc653",
   "metadata": {},
   "source": [
    "### `ch10\\ch10-6-1.py`"
   ]
  },
  {
   "cell_type": "code",
   "execution_count": null,
   "id": "8314fd8c",
   "metadata": {},
   "outputs": [],
   "source": [
    "import seaborn as sns\n",
    "import matplotlib.pyplot as plt\n",
    "\n",
    "df = sns.load_dataset(\"iris\")\n",
    "\n",
    "sns.set()\n",
    "sns.stripplot(x=\"species\", y=\"sepal_length\", data=df)\n",
    "plt.show()\n"
   ]
  },
  {
   "cell_type": "markdown",
   "id": "4921af88",
   "metadata": {},
   "source": [
    "### `ch10\\ch10-6-1a.py`"
   ]
  },
  {
   "cell_type": "code",
   "execution_count": null,
   "id": "987c79bc",
   "metadata": {},
   "outputs": [],
   "source": [
    "import seaborn as sns\n",
    "import matplotlib.pyplot as plt\n",
    "\n",
    "df = sns.load_dataset(\"iris\")\n",
    "\n",
    "sns.set()\n",
    "sns.stripplot(x=\"species\", y=\"sepal_length\", jitter=False, data=df)\n",
    "plt.show()\n"
   ]
  },
  {
   "cell_type": "markdown",
   "id": "389c8a24",
   "metadata": {},
   "source": [
    "### `ch10\\ch10-6-1b.py`"
   ]
  },
  {
   "cell_type": "code",
   "execution_count": null,
   "id": "304ba624",
   "metadata": {},
   "outputs": [],
   "source": [
    "import seaborn as sns\n",
    "import matplotlib.pyplot as plt\n",
    "\n",
    "df = sns.load_dataset(\"iris\")\n",
    "\n",
    "sns.set()\n",
    "sns.swarmplot(x=\"species\", y=\"sepal_length\", data=df)\n",
    "plt.show()\n"
   ]
  },
  {
   "cell_type": "markdown",
   "id": "0e897024",
   "metadata": {},
   "source": [
    "### `ch10\\ch10-6-2.py`"
   ]
  },
  {
   "cell_type": "code",
   "execution_count": null,
   "id": "67cf09a2",
   "metadata": {},
   "outputs": [],
   "source": [
    "import seaborn as sns\n",
    "import matplotlib.pyplot as plt\n",
    "\n",
    "df = sns.load_dataset(\"iris\")\n",
    "\n",
    "sns.set()\n",
    "sns.boxplot(x=\"species\", y=\"petal_length\", data=df)\n",
    "plt.show()\n"
   ]
  },
  {
   "cell_type": "markdown",
   "id": "6af0408d",
   "metadata": {},
   "source": [
    "### `ch10\\ch10-6-2a.py`"
   ]
  },
  {
   "cell_type": "code",
   "execution_count": null,
   "id": "50193bba",
   "metadata": {},
   "outputs": [],
   "source": [
    "import seaborn as sns\n",
    "import matplotlib.pyplot as plt\n",
    "\n",
    "df = sns.load_dataset(\"tips\")\n",
    "\n",
    "sns.set()\n",
    "sns.violinplot(x=\"day\", y=\"total_bill\", data=df)\n",
    "plt.show()\n"
   ]
  },
  {
   "cell_type": "markdown",
   "id": "63147d9b",
   "metadata": {},
   "source": [
    "### `ch10\\ch10-6-2b.py`"
   ]
  },
  {
   "cell_type": "code",
   "execution_count": null,
   "id": "a3679c94",
   "metadata": {},
   "outputs": [],
   "source": [
    "import seaborn as sns\n",
    "import matplotlib.pyplot as plt\n",
    "\n",
    "df = sns.load_dataset(\"tips\")\n",
    "\n",
    "sns.set()\n",
    "sns.violinplot(x=\"day\", y=\"total_bill\", hue=\"sex\", data=df)\n",
    "plt.show()\n"
   ]
  },
  {
   "cell_type": "markdown",
   "id": "a2ceaddb",
   "metadata": {},
   "source": [
    "### `ch10\\ch10-6-2c.py`"
   ]
  },
  {
   "cell_type": "code",
   "execution_count": null,
   "id": "0815bd1b",
   "metadata": {},
   "outputs": [],
   "source": [
    "import seaborn as sns\n",
    "import matplotlib.pyplot as plt\n",
    "\n",
    "df = sns.load_dataset(\"tips\")\n",
    "\n",
    "sns.set()\n",
    "sns.violinplot(x=\"day\", y=\"total_bill\", hue=\"sex\", \n",
    "               split=True, data=df)\n",
    "plt.show()\n"
   ]
  },
  {
   "cell_type": "markdown",
   "id": "76a54803",
   "metadata": {},
   "source": [
    "### `ch10\\ch10-6-3.py`"
   ]
  },
  {
   "cell_type": "code",
   "execution_count": null,
   "id": "76aa54af",
   "metadata": {},
   "outputs": [],
   "source": [
    "import seaborn as sns\n",
    "import matplotlib.pyplot as plt\n",
    "\n",
    "df = sns.load_dataset(\"tips\")\n",
    "\n",
    "sns.set()\n",
    "sns.barplot(x=\"sex\", y=\"total_bill\", hue=\"day\", data=df)\n",
    "plt.show()\n"
   ]
  },
  {
   "cell_type": "markdown",
   "id": "d1e75570",
   "metadata": {},
   "source": [
    "### `ch10\\ch10-6-3a.py`"
   ]
  },
  {
   "cell_type": "code",
   "execution_count": null,
   "id": "d8c13aab",
   "metadata": {},
   "outputs": [],
   "source": [
    "import seaborn as sns\n",
    "import matplotlib.pyplot as plt\n",
    "\n",
    "df = sns.load_dataset(\"tips\")\n",
    "\n",
    "sns.set()\n",
    "sns.countplot(x=\"sex\", data=df)\n",
    "plt.show()\n"
   ]
  },
  {
   "cell_type": "markdown",
   "id": "8d2919d3",
   "metadata": {},
   "source": [
    "### `ch10\\ch10-6-3b.py`"
   ]
  },
  {
   "cell_type": "code",
   "execution_count": null,
   "id": "bc0aac56",
   "metadata": {},
   "outputs": [],
   "source": [
    "import seaborn as sns\n",
    "import matplotlib.pyplot as plt\n",
    "\n",
    "df = sns.load_dataset(\"tips\")\n",
    "\n",
    "sns.set()\n",
    "sns.pointplot(x=\"sex\", y=\"total_bill\", hue=\"day\", data=df)\n",
    "plt.show()\n"
   ]
  },
  {
   "cell_type": "markdown",
   "id": "67e9cdc3",
   "metadata": {},
   "source": [
    "### `ch10\\ch10-6-4.py`"
   ]
  },
  {
   "cell_type": "code",
   "execution_count": null,
   "id": "18704985",
   "metadata": {},
   "outputs": [],
   "source": [
    "import seaborn as sns\n",
    "import matplotlib.pyplot as plt\n",
    "\n",
    "df = sns.load_dataset(\"tips\")\n",
    "\n",
    "sns.set()\n",
    "sns.catplot(x=\"day\", y=\"total_bill\", data=df,\n",
    "               kind=\"bar\", hue=\"sex\")\n",
    "plt.show()\n"
   ]
  },
  {
   "cell_type": "markdown",
   "id": "ff9ecdcc",
   "metadata": {},
   "source": [
    "### `ch10\\ch10-6-4a.py`"
   ]
  },
  {
   "cell_type": "code",
   "execution_count": null,
   "id": "0ca1e79a",
   "metadata": {},
   "outputs": [],
   "source": [
    "import seaborn as sns\n",
    "import matplotlib.pyplot as plt\n",
    "\n",
    "df = sns.load_dataset(\"tips\")\n",
    "\n",
    "sns.set()\n",
    "sns.catplot(x=\"day\", y=\"total_bill\", data=df,\n",
    "               kind=\"bar\", col=\"sex\")\n",
    "plt.show()\n"
   ]
  },
  {
   "cell_type": "markdown",
   "id": "46358b2e",
   "metadata": {},
   "source": [
    "### `ch10\\ch10-6-4b.py`"
   ]
  },
  {
   "cell_type": "code",
   "execution_count": null,
   "id": "1e3b395a",
   "metadata": {},
   "outputs": [],
   "source": [
    "import seaborn as sns\n",
    "import matplotlib.pyplot as plt\n",
    "\n",
    "df = sns.load_dataset(\"tips\")\n",
    "\n",
    "sns.set()\n",
    "sns.catplot(x=\"sex\", y=\"total_bill\", data=df,\n",
    "               kind=\"bar\", col=\"day\", col_wrap=2)\n",
    "plt.show()\n"
   ]
  },
  {
   "cell_type": "markdown",
   "id": "cfe3c941",
   "metadata": {},
   "source": [
    "### `ch10\\ch10-7.py`"
   ]
  },
  {
   "cell_type": "code",
   "execution_count": null,
   "id": "1a625db3",
   "metadata": {},
   "outputs": [],
   "source": [
    "import seaborn as sns\n",
    "import matplotlib.pyplot as plt\n",
    "\n",
    "df = sns.load_dataset(\"iris\")\n",
    "\n",
    "sns.set()\n",
    "sns.boxplot(x=\"petal_length\", y=\"species\", data=df)\n",
    "plt.show()\n"
   ]
  },
  {
   "cell_type": "markdown",
   "id": "ebc279a9",
   "metadata": {},
   "source": [
    "### `ch10\\ch10-7a.py`"
   ]
  },
  {
   "cell_type": "code",
   "execution_count": null,
   "id": "76e036cb",
   "metadata": {},
   "outputs": [],
   "source": [
    "import seaborn as sns\n",
    "import matplotlib.pyplot as plt\n",
    "\n",
    "df = sns.load_dataset(\"iris\")\n",
    "\n",
    "sns.set()\n",
    "sns.boxplot(data=df, orient=\"h\")\n",
    "plt.show()\n"
   ]
  },
  {
   "cell_type": "markdown",
   "id": "c04de631",
   "metadata": {},
   "source": [
    "### `ch10\\ch10-8-1.py`"
   ]
  },
  {
   "cell_type": "code",
   "execution_count": null,
   "id": "7c085d0d",
   "metadata": {},
   "outputs": [],
   "source": [
    "import seaborn as sns\n",
    "import matplotlib.pyplot as plt\n",
    "\n",
    "df = sns.load_dataset(\"tips\")\n",
    "\n",
    "sns.set()\n",
    "sns.regplot(x=\"total_bill\", y=\"tip\", data=df)\n",
    "sns.lmplot(x=\"total_bill\", y=\"tip\", data=df)\n",
    "plt.show()\n"
   ]
  },
  {
   "cell_type": "markdown",
   "id": "b86645af",
   "metadata": {},
   "source": [
    "### `ch10\\ch10-8-1a.py`"
   ]
  },
  {
   "cell_type": "code",
   "execution_count": null,
   "id": "e14750f5",
   "metadata": {},
   "outputs": [],
   "source": [
    "import seaborn as sns\n",
    "import matplotlib.pyplot as plt\n",
    "\n",
    "df = sns.load_dataset(\"tips\")\n",
    "\n",
    "sns.set()\n",
    "sns.regplot(x=df[\"total_bill\"], y=df[\"tip\"])\n",
    "plt.show()\n"
   ]
  },
  {
   "cell_type": "markdown",
   "id": "9e1eb253",
   "metadata": {},
   "source": [
    "### `ch10\\ch10-8-2.py`"
   ]
  },
  {
   "cell_type": "code",
   "execution_count": null,
   "id": "a42ad292",
   "metadata": {},
   "outputs": [],
   "source": [
    "import seaborn as sns\n",
    "import matplotlib.pyplot as plt\n",
    "\n",
    "df = sns.load_dataset(\"anscombe\")\n",
    "\n",
    "sns.set()\n",
    "sns.lmplot(x=\"x\", y=\"y\", col=\"dataset\", hue=\"dataset\", data=df,\n",
    "           col_wrap=2, ci=None, height=4)\n",
    "plt.show()\n"
   ]
  },
  {
   "cell_type": "markdown",
   "id": "e28f0a60",
   "metadata": {},
   "source": [
    "### `ch10\\ch10-8-2a.py`"
   ]
  },
  {
   "cell_type": "code",
   "execution_count": null,
   "id": "4d58925c",
   "metadata": {},
   "outputs": [],
   "source": [
    "import seaborn as sns\n",
    "import matplotlib.pyplot as plt\n",
    "\n",
    "df = sns.load_dataset(\"anscombe\")\n",
    "\n",
    "sns.set()\n",
    "sns.lmplot(x=\"x\", y=\"y\", data=df.query(\"dataset=='II'\"), order=2)\n",
    "plt.show()\n"
   ]
  },
  {
   "cell_type": "markdown",
   "id": "f1f6dd51",
   "metadata": {},
   "source": [
    "### `ch10\\ch10-8-2b.py`"
   ]
  },
  {
   "cell_type": "code",
   "execution_count": null,
   "id": "902daf3c",
   "metadata": {},
   "outputs": [],
   "source": [
    "import seaborn as sns\n",
    "import matplotlib.pyplot as plt\n",
    "\n",
    "df = sns.load_dataset(\"anscombe\")\n",
    "\n",
    "sns.set()\n",
    "sns.residplot(x=\"x\", y=\"y\", data=df.query(\"dataset=='III'\"))\n",
    "plt.show()\n"
   ]
  },
  {
   "cell_type": "markdown",
   "id": "2bf723f0",
   "metadata": {},
   "source": [
    "### `ch11\\ch11-1-3.py`"
   ]
  },
  {
   "cell_type": "code",
   "execution_count": null,
   "id": "47048fdb",
   "metadata": {},
   "outputs": [],
   "source": [
    "import numpy as np\n",
    "import pandas as pd\n",
    "import matplotlib.pyplot as plt\n",
    "plt.rcParams['font.sans-serif'] = ['Microsoft JhengHei'] \n",
    "plt.rcParams['axes.unicode_minus'] = False\n",
    "\n",
    "results = []\n",
    "for num_throws in range(1, 10001):\n",
    "    throws = np.random.randint(low=0, high=2, size=num_throws)\n",
    "    probability_of_throws = throws.sum()/num_throws\n",
    "    results.append(probability_of_throws)\n",
    "\n",
    "df = pd.DataFrame({\"投擲\" : results})\n",
    "\n",
    "df.plot(color=\"b\")\n",
    "plt.title(\"大數法則(Law of Large Numbers)\")\n",
    "plt.xlabel(\"投擲次數\")\n",
    "plt.ylabel(\"平均機率\")\n",
    "plt.show()\n",
    "\n"
   ]
  },
  {
   "cell_type": "markdown",
   "id": "fe46e660",
   "metadata": {},
   "source": [
    "### `ch11\\ch11-1-3a.py`"
   ]
  },
  {
   "cell_type": "code",
   "execution_count": null,
   "id": "123e0459",
   "metadata": {},
   "outputs": [],
   "source": [
    "import numpy as np\n",
    "import pandas as pd\n",
    "import matplotlib.pyplot as plt\n",
    "plt.rcParams['font.sans-serif'] = ['Microsoft JhengHei'] \n",
    "plt.rcParams['axes.unicode_minus'] = False\n",
    "\n",
    "results = []\n",
    "for num_throws in range(1, 10001):\n",
    "    throws = np.random.randint(low=1, high=7, size=num_throws)\n",
    "    mask = (throws == 1)\n",
    "    probability_of_throws = len(throws[mask])/num_throws    \n",
    "    results.append(probability_of_throws)\n",
    "\n",
    "df = pd.DataFrame({\"投擲\" : results})\n",
    "\n",
    "df.plot(color=\"r\")\n",
    "plt.title(\"大數法則(Law of Large Numbers)\")\n",
    "plt.xlabel(\"投擲次數\")\n",
    "plt.ylabel(\"平均機率\")\n",
    "plt.show()"
   ]
  },
  {
   "cell_type": "markdown",
   "id": "6e9eac01",
   "metadata": {},
   "source": [
    "### `ch11\\ch11-5-1.py`"
   ]
  },
  {
   "cell_type": "code",
   "execution_count": null,
   "id": "4b8e16f1",
   "metadata": {},
   "outputs": [],
   "source": [
    "import pandas as pd\n",
    "\n",
    "df = pd.read_csv(\"titanic.csv\")\n",
    "s =  pd.Series([30,1,5,10,30,50,30,15,40,45,30])\n",
    "\n",
    "print(df[\"Age\"].mode())\n",
    "print(s.mode())\n"
   ]
  },
  {
   "cell_type": "markdown",
   "id": "3ea88695",
   "metadata": {},
   "source": [
    "### `ch11\\ch11-5-1a.py`"
   ]
  },
  {
   "cell_type": "code",
   "execution_count": null,
   "id": "d1f83bcb",
   "metadata": {},
   "outputs": [],
   "source": [
    "import pandas as pd\n",
    "\n",
    "df = pd.read_csv(\"titanic.csv\")\n",
    "s =  pd.Series([30,1,5,10,30,50,30,15,40,45,30])\n",
    "\n",
    "print(df[\"Age\"].median())\n",
    "print(s.median())\n"
   ]
  },
  {
   "cell_type": "markdown",
   "id": "6ed70d7f",
   "metadata": {},
   "source": [
    "### `ch11\\ch11-5-1b.py`"
   ]
  },
  {
   "cell_type": "code",
   "execution_count": null,
   "id": "4333ef61",
   "metadata": {},
   "outputs": [],
   "source": [
    "import pandas as pd\n",
    "\n",
    "df = pd.read_csv(\"titanic.csv\")\n",
    "s =  pd.Series([30,1,5,10,30,50,30,15,40,45,30])\n",
    "\n",
    "print(df[\"Age\"].quantile(q=0.25))\n",
    "print(df[\"Age\"].quantile(q=0.5))\n",
    "print(df[\"Age\"].quantile(q=0.75))\n",
    "print(s.quantile(q=0.25))\n",
    "print(s.quantile(q=0.5))\n",
    "print(s.quantile(q=0.75))\n"
   ]
  },
  {
   "cell_type": "markdown",
   "id": "b7394305",
   "metadata": {},
   "source": [
    "### `ch11\\ch11-5-1c.py`"
   ]
  },
  {
   "cell_type": "code",
   "execution_count": null,
   "id": "29bf00ab",
   "metadata": {},
   "outputs": [],
   "source": [
    "import pandas as pd\n",
    "\n",
    "df = pd.read_csv(\"titanic.csv\")\n",
    "s =  pd.Series([30,1,5,10,30,50,30,15,40,45,30])\n",
    "\n",
    "print(df[\"Age\"].mean())\n",
    "print(s.mean())\n"
   ]
  },
  {
   "cell_type": "markdown",
   "id": "f904e1e5",
   "metadata": {},
   "source": [
    "### `ch11\\ch11-5-2.py`"
   ]
  },
  {
   "cell_type": "code",
   "execution_count": null,
   "id": "1045f2b0",
   "metadata": {},
   "outputs": [],
   "source": [
    "import pandas as pd\n",
    "\n",
    "df = pd.read_csv(\"titanic.csv\")\n",
    "s =  pd.Series([30,1,5,10,30,50,30,15,40,45,30])\n",
    "\n",
    "print(df[\"Age\"].max() - df[\"Age\"].min())\n",
    "print(s.max() - s.min())\n"
   ]
  },
  {
   "cell_type": "markdown",
   "id": "0d5d0f76",
   "metadata": {},
   "source": [
    "### `ch11\\ch11-5-2a.py`"
   ]
  },
  {
   "cell_type": "code",
   "execution_count": null,
   "id": "30a5a632",
   "metadata": {},
   "outputs": [],
   "source": [
    "import pandas as pd\n",
    "\n",
    "df = pd.read_csv(\"titanic.csv\")\n",
    "s =  pd.Series([30,1,5,10,30,50,30,15,40,45,30])\n",
    "\n",
    "print(df[\"Age\"].quantile(0.75) - df[\"Age\"].quantile(0.25))\n",
    "print(s.quantile(0.75) - s.quantile(0.25))\n"
   ]
  },
  {
   "cell_type": "markdown",
   "id": "06e7ecff",
   "metadata": {},
   "source": [
    "### `ch11\\ch11-5-2b.py`"
   ]
  },
  {
   "cell_type": "code",
   "execution_count": null,
   "id": "50551e30",
   "metadata": {},
   "outputs": [],
   "source": [
    "import pandas as pd\n",
    "\n",
    "df = pd.read_csv(\"titanic.csv\")\n",
    "s =  pd.Series([30,1,5,10,30,50,30,15,40,45,30])\n",
    "\n",
    "print(df[\"Age\"].var())\n",
    "print(s.var())\n"
   ]
  },
  {
   "cell_type": "markdown",
   "id": "b7296abd",
   "metadata": {},
   "source": [
    "### `ch11\\ch11-5-2c.py`"
   ]
  },
  {
   "cell_type": "code",
   "execution_count": null,
   "id": "3cb06d9f",
   "metadata": {},
   "outputs": [],
   "source": [
    "import pandas as pd\n",
    "\n",
    "df = pd.read_csv(\"titanic.csv\")\n",
    "s =  pd.Series([30,1,5,10,30,50,30,15,40,45,30])\n",
    "\n",
    "print(df[\"Age\"].std())\n",
    "print(s.std())\n"
   ]
  },
  {
   "cell_type": "markdown",
   "id": "80cdc283",
   "metadata": {},
   "source": [
    "### `ch11\\ch11-5-2d.py`"
   ]
  },
  {
   "cell_type": "code",
   "execution_count": null,
   "id": "09addb68",
   "metadata": {},
   "outputs": [],
   "source": [
    "import pandas as pd\n",
    "\n",
    "df = pd.read_csv(\"titanic.csv\")\n",
    "s =  pd.Series([30,1,5,10,30,50,30,15,40,45,30])\n",
    "\n",
    "print(df[\"Age\"].describe())\n",
    "print(\"---------------------------\")\n",
    "print(s.describe())\n"
   ]
  },
  {
   "cell_type": "markdown",
   "id": "17a9df65",
   "metadata": {},
   "source": [
    "### `ch11\\ch11-6-2.py`"
   ]
  },
  {
   "cell_type": "code",
   "execution_count": null,
   "id": "ac63059f",
   "metadata": {},
   "outputs": [],
   "source": [
    "import random\n",
    "\n",
    "def dice_roll():\n",
    "    v = random.randint(1, 6)\n",
    "    return v\n",
    "    \n",
    "trials = []    \n",
    "num_of_trials = 100\n",
    "for trial in range(num_of_trials):\n",
    "    trials.append(dice_roll())\n",
    "print(sum(trials)/float(num_of_trials))\n"
   ]
  },
  {
   "cell_type": "markdown",
   "id": "e6baa272",
   "metadata": {},
   "source": [
    "### `ch11\\ch11-6-2a.py`"
   ]
  },
  {
   "cell_type": "code",
   "execution_count": null,
   "id": "ec218424",
   "metadata": {},
   "outputs": [],
   "source": [
    "import random\n",
    "import matplotlib.pyplot as plt\n",
    "plt.rcParams['font.sans-serif'] = ['Microsoft JhengHei'] \n",
    "plt.rcParams['axes.unicode_minus'] = False\n",
    "\n",
    "def dice_roll():\n",
    "    v = random.randint(1, 6)\n",
    "    return v\n",
    "\n",
    "num_of_trials = range(100, 10000, 10)\n",
    "avgs = []\n",
    "for num_of_trial in num_of_trials:  \n",
    "    trials = []    \n",
    "    for trial in range(num_of_trial):\n",
    "        trials.append(dice_roll())\n",
    "    avgs.append(sum(trials)/float(num_of_trial))\n",
    "\n",
    "plt.plot(num_of_trials, avgs)\n",
    "plt.xlabel(\"試驗次數\")\n",
    "plt.ylabel(\"平均\")\n",
    "plt.show()\n"
   ]
  },
  {
   "cell_type": "markdown",
   "id": "2062b47e",
   "metadata": {},
   "source": [
    "### `ch11\\ch11-6-5.py`"
   ]
  },
  {
   "cell_type": "code",
   "execution_count": null,
   "id": "a17f58f6",
   "metadata": {},
   "outputs": [],
   "source": [
    "from scipy import stats\n",
    "\n",
    "n = 5\n",
    "p = 1/6\n",
    "for k in range(n+1):\n",
    "    v = stats.binom.pmf(k, n, p)\n",
    "    print(k, v)\n"
   ]
  },
  {
   "cell_type": "markdown",
   "id": "f08476d7",
   "metadata": {},
   "source": [
    "### `ch11\\ch11-6-5a.py`"
   ]
  },
  {
   "cell_type": "code",
   "execution_count": null,
   "id": "d1650b3c",
   "metadata": {},
   "outputs": [],
   "source": [
    "import pandas as pd\n",
    "import matplotlib.pyplot as plt\n",
    "from scipy import stats\n",
    "\n",
    "fair_dice_rolls = stats.binom.rvs(n=5, \n",
    "                                  p=1/6,\n",
    "                                  size=10000)\n",
    "print(fair_dice_rolls)\n",
    "df = pd.DataFrame(fair_dice_rolls)\n",
    "df.hist(range=(-0.5, 5.5), bins=6)\n",
    "plt.show()"
   ]
  },
  {
   "cell_type": "markdown",
   "id": "24b65ac4",
   "metadata": {},
   "source": [
    "### `ch11\\ch11-6-5b.py`"
   ]
  },
  {
   "cell_type": "code",
   "execution_count": null,
   "id": "247a6235",
   "metadata": {},
   "outputs": [],
   "source": [
    "import pandas as pd\n",
    "import matplotlib.pyplot as plt\n",
    "from scipy import stats\n",
    "\n",
    "fair_dice_rolls = stats.binom.rvs(n=10, \n",
    "                                  p=0.5,\n",
    "                                  size=10000)\n",
    "print(fair_dice_rolls)\n",
    "df = pd.DataFrame(fair_dice_rolls)\n",
    "df.hist(range=(-0.5, 10.5), bins=11)\n",
    "plt.show()"
   ]
  },
  {
   "cell_type": "markdown",
   "id": "774ceec0",
   "metadata": {},
   "source": [
    "### `ch11\\ch11-6-5c.py`"
   ]
  },
  {
   "cell_type": "code",
   "execution_count": null,
   "id": "2a7d597f",
   "metadata": {},
   "outputs": [],
   "source": [
    "from scipy import stats\n",
    "\n",
    "n = 10\n",
    "p = 1/2\n",
    "for k in range(n+1):\n",
    "    v = stats.binom.pmf(k, n, p)\n",
    "    print(k, v)\n",
    "\n"
   ]
  },
  {
   "cell_type": "markdown",
   "id": "ea5a936e",
   "metadata": {},
   "source": [
    "### `ch11\\ch11-6-5d.py`"
   ]
  },
  {
   "cell_type": "code",
   "execution_count": null,
   "id": "2a6918fe",
   "metadata": {},
   "outputs": [],
   "source": [
    "from scipy import stats\n",
    "\n",
    "n = 14\n",
    "p = 0.2\n",
    "k = 3\n",
    "v = stats.binom.pmf(k, n, p)\n",
    "print(k, v)\n",
    " "
   ]
  },
  {
   "cell_type": "markdown",
   "id": "952a0193",
   "metadata": {},
   "source": [
    "### `ch11\\ch11-6-6.py`"
   ]
  },
  {
   "cell_type": "code",
   "execution_count": null,
   "id": "8641d63b",
   "metadata": {},
   "outputs": [],
   "source": [
    "import numpy as np\n",
    "import matplotlib.pyplot as plt\n",
    "\n",
    "def normal_pdf(x, mu, sigma):\n",
    "    pi = 3.1415926\n",
    "    e = 2.718281\n",
    "    f = (1./np.sqrt(2*pi*sigma**2))*e**(-(x-mu)**2/(2.*sigma**2))\n",
    "    return f\n",
    "\n",
    "ax = np.linspace(-5, 5, 100)\n",
    "ay = [normal_pdf(x, 0, 1) for x in ax]  \n",
    "plt.plot(ax, ay)\n",
    "plt.show()\n"
   ]
  },
  {
   "cell_type": "markdown",
   "id": "46955492",
   "metadata": {},
   "source": [
    "### `ch11\\ch11-6-6a.py`"
   ]
  },
  {
   "cell_type": "code",
   "execution_count": null,
   "id": "29cc1354",
   "metadata": {},
   "outputs": [],
   "source": [
    "from scipy import stats\n",
    "import matplotlib.pyplot as plt\n",
    "import numpy as np\n",
    "plt.rcParams['font.sans-serif'] = ['Microsoft JhengHei'] \n",
    "plt.rcParams['axes.unicode_minus'] = False\n",
    "\n",
    "x = [x/10.0 for x in range(-50, 60)]\n",
    "plt.plot(x, stats.norm.pdf(x, 0, 1),\n",
    "       'r-', lw=1, alpha=0.6, label='mu=0,sigma=1')\n",
    "plt.plot(x, stats.norm.pdf(x, 0, 2),\n",
    "       'b--', lw=1, alpha=0.6, label='mu=0,sigma=2')\n",
    "plt.plot(x, stats.norm.pdf(x, 2, 1),\n",
    "       'g-.', lw=1, alpha=0.6, label='mu=2,sigma=1')\n",
    "plt.legend()\n",
    "plt.title(\"常態分配PDF的機率\")\n",
    "plt.show()\n"
   ]
  },
  {
   "cell_type": "markdown",
   "id": "ae448465",
   "metadata": {},
   "source": [
    "### `ch12\\ch12-2-1.py`"
   ]
  },
  {
   "cell_type": "code",
   "execution_count": null,
   "id": "f6ea1608",
   "metadata": {},
   "outputs": [],
   "source": [
    "import numpy as np\n",
    "from scipy.stats import norm\n",
    "from matplotlib import pyplot as plt\n",
    "plt.rcParams['font.sans-serif'] = ['Microsoft JhengHei'] \n",
    "plt.rcParams['axes.unicode_minus'] = False\n",
    "\n",
    "sigma = 1\n",
    "mu = 0\n",
    "x = np.linspace(-10, 10, 1000)\n",
    "dist = norm(mu, sigma)\n",
    "plt.plot(x, dist.pdf(x), ls=\"-\", c=\"black\",\n",
    "            label=\"mu=0,sigma=1\")\n",
    "plt.xlim(-5, 5)\n",
    "plt.ylim(0, 0.45)\n",
    "plt.xlabel(\"x\")\n",
    "plt.ylabel(\"P(x)\")\n",
    "plt.title(\"標準常態分配(Standard Normal Distribution)\")\n",
    "plt.legend()\n",
    "plt.show()"
   ]
  },
  {
   "cell_type": "markdown",
   "id": "4ee916c3",
   "metadata": {},
   "source": [
    "### `ch12\\ch12-2-2.py`"
   ]
  },
  {
   "cell_type": "code",
   "execution_count": null,
   "id": "e9c9fc0b",
   "metadata": {},
   "outputs": [],
   "source": [
    "import pandas as pd\n",
    "\n",
    "friends = [110, 1017, 1127, 417, 624, 957, 89, \n",
    "           951, 947, 797, 981, 125, 455, 731, \n",
    "           1641, 486, 1307, 472, 1131, 1771, 905,\n",
    "           532, 742, 622]\n",
    "\n",
    "s_friends = pd.Series(friends)\n",
    "print(s_friends.describe())\n"
   ]
  },
  {
   "cell_type": "markdown",
   "id": "9cb5225f",
   "metadata": {},
   "source": [
    "### `ch12\\ch12-2-2a.py`"
   ]
  },
  {
   "cell_type": "code",
   "execution_count": null,
   "id": "790de570",
   "metadata": {},
   "outputs": [],
   "source": [
    "import pandas as pd\n",
    "\n",
    "friends = [110, 1017, 1127, 417, 624, 957, 89, \n",
    "           951, 947, 797, 981, 125, 455, 731, \n",
    "           1641, 486, 1307, 472, 1131, 1771, 905,\n",
    "           532, 742, 622]\n",
    "\n",
    "s_friends = pd.Series(friends)\n",
    "m = s_friends.mean()\n",
    "print(\"平均數: \", m)\n",
    "s = s_friends.std()\n",
    "print(\"標準差: \", s)\n",
    "\n",
    "z_scores = []\n",
    "for x in friends:\n",
    "    z = (x - m)/s   # 公式\n",
    "    z_scores.append(z)\n",
    "print(z_scores)\n"
   ]
  },
  {
   "cell_type": "markdown",
   "id": "bca1054f",
   "metadata": {},
   "source": [
    "### `ch12\\ch12-2-2b.py`"
   ]
  },
  {
   "cell_type": "code",
   "execution_count": null,
   "id": "b5713f23",
   "metadata": {},
   "outputs": [],
   "source": [
    "import pandas as pd\n",
    "import matplotlib.pyplot as plt\n",
    "import numpy as np\n",
    "\n",
    "friends = [110, 1017, 1127, 417, 624, 957, 89, \n",
    "           951, 947, 797, 981, 125, 455, 731, \n",
    "           1641, 486, 1307, 472, 1131, 1771, 905,\n",
    "           532, 742, 622]\n",
    "\n",
    "s_friends = pd.Series(friends)\n",
    "m = s_friends.mean()\n",
    "s = s_friends.std()\n",
    "z_scores = []\n",
    "for x in friends:\n",
    "    z = (x - m)/s   # 公式\n",
    "    z_scores.append(z)\n",
    "index = np.arange(len(friends))\n",
    "plt.bar(index, z_scores)\n",
    "plt.show()\n"
   ]
  },
  {
   "cell_type": "markdown",
   "id": "4a7e2e6c",
   "metadata": {},
   "source": [
    "### `ch12\\ch12-3.py`"
   ]
  },
  {
   "cell_type": "code",
   "execution_count": null,
   "id": "9dcac5bf",
   "metadata": {},
   "outputs": [],
   "source": [
    "import pandas as pd\n",
    "import matplotlib.pyplot as plt\n",
    "import numpy as np\n",
    "\n",
    "dice = [1, 2, 3, 4, 5, 6]\n",
    "sample_means = []\n",
    "for x in range(100):\n",
    "    sample = np.random.choice(a=dice, size=1)\n",
    "    sample_means.append(sample.mean())\n",
    "\n",
    "df = pd.DataFrame(sample_means)\n",
    "df.plot(kind=\"density\")\n",
    "plt.show()"
   ]
  },
  {
   "cell_type": "markdown",
   "id": "a9be47a3",
   "metadata": {},
   "source": [
    "### `ch12\\ch12-3a.py`"
   ]
  },
  {
   "cell_type": "code",
   "execution_count": null,
   "id": "4aedb165",
   "metadata": {},
   "outputs": [],
   "source": [
    "import pandas as pd\n",
    "import matplotlib.pyplot as plt\n",
    "import numpy as np\n",
    "\n",
    "dice = [1, 2, 3, 4, 5, 6]\n",
    "sample_means = []\n",
    "for x in range(100):\n",
    "    sample = np.random.choice(a=dice, size=10)\n",
    "    sample_means.append(sample.mean())\n",
    "\n",
    "df = pd.DataFrame(sample_means)\n",
    "df.plot(kind=\"density\")\n",
    "plt.show()"
   ]
  },
  {
   "cell_type": "markdown",
   "id": "4ba6aa87",
   "metadata": {},
   "source": [
    "### `ch12\\ch12-3b.py`"
   ]
  },
  {
   "cell_type": "code",
   "execution_count": null,
   "id": "7e8bd606",
   "metadata": {},
   "outputs": [],
   "source": [
    "import pandas as pd\n",
    "import matplotlib.pyplot as plt\n",
    "import numpy as np\n",
    "\n",
    "dice = [1, 2, 3, 4, 5, 6]\n",
    "sample_means = []\n",
    "for x in range(100):\n",
    "    sample = np.random.choice(a=dice, size=100)\n",
    "    sample_means.append(sample.mean())\n",
    "\n",
    "df = pd.DataFrame(sample_means)\n",
    "df.plot(kind=\"density\")\n",
    "plt.show()"
   ]
  },
  {
   "cell_type": "markdown",
   "id": "ec3a083c",
   "metadata": {},
   "source": [
    "### `ch12\\ch12-4-2.py`"
   ]
  },
  {
   "cell_type": "code",
   "execution_count": null,
   "id": "fd21b35b",
   "metadata": {},
   "outputs": [],
   "source": [
    "import numpy as np\n",
    "\n",
    "dice = [1, 2, 3, 4, 5, 6]\n",
    "population = []\n",
    "for x in range(10000):\n",
    "    sample = np.random.choice(a=dice, size=100)\n",
    "    population.append(sample.mean())\n",
    "print(\"母體平均數:\", sum(population)/10000.0)\n",
    "  \n",
    "size_range = [10, 100, 1000]\n",
    "for sample_size in size_range:\n",
    "    sample = np.random.choice(a=population, size=sample_size)    \n",
    "    sample_mean = sample.mean()\n",
    "    print(sample_size, \"樣本平均數:\", sample_mean)\n",
    "\n"
   ]
  },
  {
   "cell_type": "markdown",
   "id": "c663e486",
   "metadata": {},
   "source": [
    "### `ch12\\ch12-4-2a.py`"
   ]
  },
  {
   "cell_type": "code",
   "execution_count": null,
   "id": "ea33878d",
   "metadata": {},
   "outputs": [],
   "source": [
    "import random\n",
    "\n",
    "population = ([\"臺灣閩南語\"]*7330) + ([\"臺灣客家語\"]*1200) + \\\n",
    "             ([\"其他漢語方言\"]*1300) + ([\"原住民語\"]*170) \n",
    "sample_size = 1000    \n",
    "sample = random.sample(population, sample_size)\n",
    "for lang in set(sample):\n",
    "    print(lang+\"比例估計:\", sample.count(lang)/sample_size)\n",
    "    "
   ]
  },
  {
   "cell_type": "markdown",
   "id": "994c1bee",
   "metadata": {},
   "source": [
    "### `ch12\\ch12-4-4.py`"
   ]
  },
  {
   "cell_type": "code",
   "execution_count": null,
   "id": "b5c5b9a0",
   "metadata": {},
   "outputs": [],
   "source": [
    "import numpy as np\n",
    "from scipy import stats\n",
    "import math\n",
    "\n",
    "dice = [1, 2, 3, 4, 5, 6]\n",
    "population = []\n",
    "for x in range(10000):\n",
    "    sample = np.random.choice(a=dice, size=100)\n",
    "    population.append(sample.mean())\n",
    "print(\"母體平均:\", sum(population)/10000.0)\n",
    "  \n",
    "sample_size = 100\n",
    "sample = np.random.choice(a=population, size=sample_size)    \n",
    "\n",
    "sample_mean = sample.mean()\n",
    "print(\"樣本平均:\", sample_mean)\n",
    "sample_stdev = sample.std()\n",
    "print(\"樣本標準差:\", sample_stdev)\n",
    "sigma = sample_stdev/math.sqrt(sample_size-1)\n",
    "print(\"樣本計算出的母體標準差:\", sigma)\n",
    "z_critical = stats.norm.ppf(q=0.975)\n",
    "print(\"Z分數:\", z_critical)\n",
    "margin_of_error = z_critical * sigma\n",
    "confidence_interval = (sample_mean - margin_of_error,\n",
    "                       sample_mean + margin_of_error)\n",
    "print(confidence_interval)\n",
    "conf_int = stats.norm.interval(alpha=0.95,                 \n",
    "                               loc=sample_mean, \n",
    "                               scale=sigma)\n",
    "print(conf_int[0], conf_int[1])\n"
   ]
  },
  {
   "cell_type": "markdown",
   "id": "20b73827",
   "metadata": {},
   "source": [
    "### `ch12\\ch12-4-4a.py`"
   ]
  },
  {
   "cell_type": "code",
   "execution_count": null,
   "id": "5c97a755",
   "metadata": {},
   "outputs": [],
   "source": [
    "import numpy as np\n",
    "from scipy import stats\n",
    "import matplotlib.pyplot as plt\n",
    "import math\n",
    "\n",
    "dice = [1, 2, 3, 4, 5, 6]\n",
    "population = []\n",
    "for x in range(10000):\n",
    "    sample = np.random.choice(a=dice, size=100)\n",
    "    population.append(sample.mean())\n",
    "population_mean = sum(population)/10000.0\n",
    "  \n",
    "sample_size = 1000\n",
    "intervals = []\n",
    "sample_means = []\n",
    "\n",
    "for sample in range(25):\n",
    "    sample = np.random.choice(a=population, size=sample_size)    \n",
    "    sample_mean = sample.mean()\n",
    "    sample_means.append(sample_mean)\n",
    "    sample_stdev = sample.std()\n",
    "    sigma = sample_stdev/math.sqrt(sample_size-1)\n",
    "    z_critical = stats.norm.ppf(q=0.975)\n",
    "    margin_of_error = z_critical * sigma\n",
    "    confidence_interval = (sample_mean - margin_of_error,\n",
    "                           sample_mean + margin_of_error)\n",
    "    intervals.append(confidence_interval)\n",
    "\n",
    "plt.figure(figsize=(9,9))\n",
    "plt.errorbar(x=np.arange(0.1,25,1),\n",
    "             y=sample_means,\n",
    "             yerr=[(top-bot)/2 for top,bot in intervals],\n",
    "             fmt=\"o\")\n",
    "plt.hlines(xmin=0, xmax=25,\n",
    "           y=population_mean,linewidth=2.0,color=\"red\")\n",
    "plt.show()"
   ]
  },
  {
   "cell_type": "markdown",
   "id": "b066da3f",
   "metadata": {},
   "source": [
    "### `ch12\\ch12-4-5.py`"
   ]
  },
  {
   "cell_type": "code",
   "execution_count": null,
   "id": "d0c49ddc",
   "metadata": {},
   "outputs": [],
   "source": [
    "import numpy as np\n",
    "from scipy import stats\n",
    "import math\n",
    "\n",
    "dice = [1, 2, 3, 4, 5, 6]\n",
    "population = []\n",
    "for x in range(10000):\n",
    "    sample = np.random.choice(a=dice, size=100)\n",
    "    population.append(sample.mean())\n",
    "print(\"母體平均:\", sum(population)/10000.0)\n",
    "  \n",
    "sample_size = 20\n",
    "sample = np.random.choice(a=population, size=sample_size)    \n",
    "\n",
    "sample_mean = sample.mean()\n",
    "print(\"樣本平均:\", sample_mean)\n",
    "sample_stdev = sample.std()\n",
    "print(\"樣本標準差:\", sample_stdev)\n",
    "sigma = sample_stdev/math.sqrt(sample_size-1)\n",
    "print(\"樣本計算出的母體標準差:\", sigma)\n",
    "t_critical = stats.t.ppf(q=0.975, df=sample_size-1)\n",
    "print(\"t分數:\", t_critical)\n",
    "margin_of_error = t_critical * sigma\n",
    "confidence_interval = (sample_mean - margin_of_error,\n",
    "                       sample_mean + margin_of_error)\n",
    "print(confidence_interval)\n",
    "conf_int = stats.t.interval(alpha=0.95,\n",
    "                            df=sample_size-1,\n",
    "                            loc=sample_mean, \n",
    "                            scale=sigma)\n",
    "print(conf_int[0], conf_int[1])\n"
   ]
  },
  {
   "cell_type": "markdown",
   "id": "d253ebb1",
   "metadata": {},
   "source": [
    "### `ch12\\ch12-5-2.py`"
   ]
  },
  {
   "cell_type": "code",
   "execution_count": null,
   "id": "05eecb96",
   "metadata": {},
   "outputs": [],
   "source": [
    "import numpy as np\n",
    "from scipy import stats\n",
    "import math\n",
    "\n",
    "population_mean = 70\n",
    "sample_size = 100\n",
    "sample_mean = 71.5\n",
    "print(\"樣本平均:\", sample_mean)\n",
    "sigma = 2.5\n",
    "print(\"母體標準差:\", sigma)\n",
    "z_obtained = (sample_mean-population_mean)/(sigma/math.sqrt(sample_size))\n",
    "print(\"Z檢定統計量:\", z_obtained)\n",
    "z_critical = stats.norm.ppf(q=0.975)\n",
    "print(\"Z分數:\", z_critical)\n",
    " "
   ]
  },
  {
   "cell_type": "markdown",
   "id": "205855e1",
   "metadata": {},
   "source": [
    "### `ch12\\ch12-5-3.py`"
   ]
  },
  {
   "cell_type": "code",
   "execution_count": null,
   "id": "26ee11d1",
   "metadata": {},
   "outputs": [],
   "source": [
    "import numpy as np\n",
    "from scipy import stats\n",
    "import math\n",
    "\n",
    "population_mean = 500\n",
    "sample = np.array([502.2, 501.6, 499.8, 502.8,\n",
    "                   498.6, 502.2, 499.2, 503.4,\n",
    "                   499.2])  \n",
    "sample_size = len(sample)\n",
    "sample_mean = sample.mean()\n",
    "print(\"樣本平均:\", sample_mean)\n",
    "sample_stdev = sample.std()\n",
    "print(\"樣本標準差:\", sample_stdev)\n",
    "sigma = sample_stdev/math.sqrt(sample_size-1)\n",
    "print(\"樣本計算出的母體標準差:\", sigma)\n",
    "t_obtained = (sample_mean-population_mean)/sigma\n",
    "print(\"檢定統計量:\", t_obtained)\n",
    "print(stats.ttest_1samp(a=sample, popmean=population_mean))\n",
    "\n",
    "t_critical = stats.t.ppf(q=0.975, df=sample_size-1)\n",
    "print(\"t分數:\", t_critical)\n",
    " "
   ]
  },
  {
   "cell_type": "markdown",
   "id": "3c7f5b7c",
   "metadata": {},
   "source": [
    "### `ch12\\ch12-6-1.py`"
   ]
  },
  {
   "cell_type": "code",
   "execution_count": null,
   "id": "671686ee",
   "metadata": {},
   "outputs": [],
   "source": [
    "import numpy as np\n",
    "from scipy import stats\n",
    "\n",
    "observed = np.array([20, 16, 34, 40, 38, 32])\n",
    "expected = np.array([30, 30, 30, 30, 30, 30])\n",
    "\n",
    "df = len(observed) - 1\n",
    "print(\"自由度:\", df)\n",
    "chi_squared_stat = (((observed-expected)**2)/expected).sum()\n",
    "print(\"卡方檢定統計量:\", chi_squared_stat)\n",
    "\n",
    "chi_squared, p_value = stats.chisquare(f_obs=observed, f_exp=expected)\n",
    "print(chi_squared, p_value)\n",
    "\n",
    "crit = stats.chi2.ppf(q = 0.95, df=df)\n",
    "print(\"臨界區: \", crit)\n"
   ]
  },
  {
   "cell_type": "markdown",
   "id": "24751a8c",
   "metadata": {},
   "source": [
    "### `ch12\\ch12-6-2.py`"
   ]
  },
  {
   "cell_type": "code",
   "execution_count": null,
   "id": "c024213a",
   "metadata": {},
   "outputs": [],
   "source": [
    "import numpy as np\n",
    "import pandas as pd\n",
    "\n",
    "voter_gender = np.array(([\"男\"]*352)+([\"男\"]*315)+ \\\n",
    "                        ([\"女\"]*217)+([\"女\"]*331))\n",
    "voter_favorite = np.array(([\"喜歡\"]*352)+([\"不喜歡\"]*315)+ \\\n",
    "                          ([\"喜歡\"]*217)+([\"不喜歡\"]*331))\n",
    "voters = pd.DataFrame({\"gender\":voter_gender,\n",
    "                       \"favorite\":voter_favorite})\n",
    "voter_tab = pd.crosstab(voters.gender, voters.favorite, margins=True)\n",
    "voter_tab.columns = [\"喜歡\", \"不喜歡\", \"小計\"]\n",
    "voter_tab.index = [\"男\", \"女\", \"小計\"]\n",
    "observed = voter_tab.iloc[0:3, 0:3]\n",
    "print(observed)\n"
   ]
  },
  {
   "cell_type": "markdown",
   "id": "0d24471e",
   "metadata": {},
   "source": [
    "### `ch12\\ch12-6-2a.py`"
   ]
  },
  {
   "cell_type": "code",
   "execution_count": null,
   "id": "99c5c414",
   "metadata": {},
   "outputs": [],
   "source": [
    "import numpy as np\n",
    "import pandas as pd\n",
    "\n",
    "voter_gender = np.array(([\"男\"]*352)+([\"男\"]*315)+ \\\n",
    "                        ([\"女\"]*217)+([\"女\"]*331))\n",
    "voter_favorite = np.array(([\"喜歡\"]*352)+([\"不喜歡\"]*315)+ \\\n",
    "                          ([\"喜歡\"]*217)+([\"不喜歡\"]*331))\n",
    "voters = pd.DataFrame({\"gender\":voter_gender,\n",
    "                       \"favorite\":voter_favorite})\n",
    "voter_tab = pd.crosstab(voters.gender, voters.favorite, margins=True)\n",
    "voter_tab.columns = [\"喜歡\", \"不喜歡\", \"小計\"]\n",
    "voter_tab.index = [\"男\", \"女\", \"小計\"]\n",
    "observed = voter_tab.iloc[0:3, 0:3]\n",
    "print(observed)\n",
    "print(\"---------------------------\")\n",
    "expected = np.outer(voter_tab[\"小計\"][0:2],\n",
    "                    voter_tab.loc[\"小計\"][0:2]) / 1215\n",
    "expected = pd.DataFrame(expected)\n",
    "expected.columns = [\"喜歡\", \"不喜歡\"]\n",
    "expected.index = [\"男\", \"女\"]                   \n",
    "print(expected)\n",
    " "
   ]
  },
  {
   "cell_type": "markdown",
   "id": "9f43e888",
   "metadata": {},
   "source": [
    "### `ch12\\ch12-6-2b.py`"
   ]
  },
  {
   "cell_type": "code",
   "execution_count": null,
   "id": "5d8cc3e0",
   "metadata": {},
   "outputs": [],
   "source": [
    "import numpy as np\n",
    "import pandas as pd\n",
    "from scipy import stats\n",
    "\n",
    "voter_gender = np.array(([\"男\"]*352)+([\"男\"]*315)+ \\\n",
    "                        ([\"女\"]*217)+([\"女\"]*331))\n",
    "voter_favorite = np.array(([\"喜歡\"]*352)+([\"不喜歡\"]*315)+ \\\n",
    "                          ([\"喜歡\"]*217)+([\"不喜歡\"]*331))\n",
    "voters = pd.DataFrame({\"gender\":voter_gender,\n",
    "                       \"favorite\":voter_favorite})\n",
    "voter_tab = pd.crosstab(voters.gender, voters.favorite, margins=True)\n",
    "voter_tab.columns = [\"喜歡\", \"不喜歡\", \"小計\"]\n",
    "voter_tab.index = [\"男\", \"女\", \"小計\"]\n",
    "observed = voter_tab.iloc[0:3, 0:3]\n",
    "print(observed)\n",
    "print(\"---------------------------\")\n",
    "expected = np.outer(voter_tab[\"小計\"][0:2],\n",
    "                    voter_tab.loc[\"小計\"][0:2]) / 1215\n",
    "expected = pd.DataFrame(expected)\n",
    "expected.columns = [\"喜歡\", \"不喜歡\"]\n",
    "expected.index = [\"男\", \"女\"]                   \n",
    "print(expected)\n",
    "print(\"---------------------------\")\n",
    "rows = 2\n",
    "columns =2\n",
    "df = (rows-1)*(columns-1)\n",
    "print(\"自由度:\", df)\n",
    "chi_squared_stat = (((observed-expected)**2)/expected).sum().sum()\n",
    "print(\"卡方檢定統計量:\",chi_squared_stat)\n",
    "\n",
    "chi_squared, p_value, degree_of_freedom, matrix = \\\n",
    "           stats.chi2_contingency(observed=observed)\n",
    "print(chi_squared, p_value)\n",
    "\n",
    "crit = stats.chi2.ppf(q = 0.95, df=df)\n",
    "print(\"臨界區: \", crit)\n"
   ]
  },
  {
   "cell_type": "markdown",
   "id": "b77d2819",
   "metadata": {},
   "source": [
    "### `ch13\\ch13-1-1.py`"
   ]
  },
  {
   "cell_type": "code",
   "execution_count": null,
   "id": "be266284",
   "metadata": {},
   "outputs": [],
   "source": [
    "import matplotlib.pyplot as plt\n",
    "import pandas as pd\n",
    "plt.rcParams['font.sans-serif'] = ['Microsoft JhengHei'] \n",
    "plt.rcParams['axes.unicode_minus'] = False\n",
    "\n",
    "hours_phone_used = [0,0,0,1,1.3,1.5,2,2.2,2.6,3.2,4.1,4.4,4.4,5]\n",
    "work_performance = [87,89,91,90,82,80,78,81,76,85,80,75,73,72]\n",
    "\n",
    "df = pd.DataFrame({\"手機使用時間(小時)\":hours_phone_used,\n",
    "                   \"工作效率\":work_performance})\n",
    "\n",
    "df.plot(kind=\"scatter\", x=\"手機使用時間(小時)\", y=\"工作效率\")\n",
    "plt.title(\"手機使用時數與工作效率\")\n",
    "plt.show()"
   ]
  },
  {
   "cell_type": "markdown",
   "id": "42f5d1f2",
   "metadata": {},
   "source": [
    "### `ch13\\ch13-1-2.py`"
   ]
  },
  {
   "cell_type": "code",
   "execution_count": null,
   "id": "998b664b",
   "metadata": {},
   "outputs": [],
   "source": [
    "import numpy as np\n",
    "\n",
    "hours_phone_used = [0,0,0,1,1.3,1.5,2,2.2,2.6,3.2,4.1,4.4,4.4,5]\n",
    "work_performance = [87,89,91,90,82,80,78,81,76,85,80,75,73,72]\n",
    "\n",
    "x = np.array(hours_phone_used)\n",
    "y = np.array(work_performance)\n",
    "n = len(x)\n",
    "x_mean = x.mean()\n",
    "y_mean = y.mean()\n",
    "print(\"資料數:\", n)\n",
    "print(\"x平均:\", x_mean)\n",
    "print(\"y平均:\", y_mean)\n",
    "\n",
    "diff = (x-x_mean)*(y-y_mean)\n",
    "print(\"x偏差*y編差和:\", diff.sum())\n",
    "covar = diff.sum()/n\n",
    "print(\"共變異數:\", covar)\n"
   ]
  },
  {
   "cell_type": "markdown",
   "id": "28ae263b",
   "metadata": {},
   "source": [
    "### `ch13\\ch13-1-3.py`"
   ]
  },
  {
   "cell_type": "code",
   "execution_count": null,
   "id": "97965e9e",
   "metadata": {},
   "outputs": [],
   "source": [
    "import numpy as np\n",
    "import pandas as pd\n",
    "\n",
    "hours_phone_used = [0,0,0,1,1.3,1.5,2,2.2,2.6,3.2,4.1,4.4,4.4,5]\n",
    "work_performance = [87,89,91,90,82,80,78,81,76,85,80,75,73,72]\n",
    "\n",
    "x = np.array(hours_phone_used)\n",
    "y = np.array(work_performance)\n",
    "n = len(x)\n",
    "x_mean = x.mean()\n",
    "y_mean = y.mean()\n",
    "\n",
    "diff = (x-x_mean)*(y-y_mean)\n",
    "covar = diff.sum()/n\n",
    "print(\"共變異數:\", covar)\n",
    "\n",
    "corr = covar/(x.std()*y.std())\n",
    "print(\"相關係數:\", corr)\n",
    "print(\"---------------------------\")\n",
    "df = pd.DataFrame({\"手機使用時間(小時)\":hours_phone_used,\n",
    "                   \"工作效率\":work_performance})\n",
    "print(df.corr())\n",
    "df.corr().to_html(\"ch13-1-3.html\")\n"
   ]
  },
  {
   "cell_type": "markdown",
   "id": "a3b66d6c",
   "metadata": {},
   "source": [
    "### `ch13\\ch13-2-1.py`"
   ]
  },
  {
   "cell_type": "code",
   "execution_count": null,
   "id": "12ccd8f5",
   "metadata": {},
   "outputs": [],
   "source": [
    "import matplotlib.pyplot as plt\n",
    "import pandas as pd\n",
    "from sklearn import preprocessing\n",
    "plt.rcParams['font.sans-serif'] = ['Microsoft JhengHei'] \n",
    "plt.rcParams['axes.unicode_minus'] = False\n",
    "\n",
    "f_tracking= [110, 1018, 1130, 417, 626,\n",
    "             957, 90, 951, 946, 797,\n",
    "             981, 125, 456, 731, 1640,\n",
    "             486, 1309, 472, 1133, 1773,\n",
    "             906, 532, 742, 621, 855]\n",
    "happiness = [0.3, 0.8, 0.5, 0.4, 0.6,\n",
    "             0.4, 0.7, 0.5, 0.4, 0.3, \n",
    "             0.3, 0.6, 0.2, 0.8, 1,\n",
    "             0.6, 0.2, 0.7, 0.5, 0.7,\n",
    "             0.1, 0.4, 0.3, 0.6, 0.3]\n",
    "\n",
    "df = pd.DataFrame({\"FB追蹤數\" : f_tracking,\n",
    "                   \"快樂程度\" : happiness})\n",
    "print(df.head())\n",
    "df.head().to_html(\"ch13-2-1-01.html\")\n",
    "print(\"---------------------------\")\n",
    "df_scaled = pd.DataFrame(preprocessing.scale(df), \n",
    "            columns=[\"標準化FB追蹤數\", \"標準化快樂程度\"])\n",
    "print(df_scaled.head())\n",
    "df_scaled.head().to_html(\"ch13-2-1-02.html\")\n",
    "\n",
    "df_scaled.plot(kind=\"scatter\", x=\"標準化FB追蹤數\",\n",
    "               y=\"標準化快樂程度\")\n",
    "plt.show()\n"
   ]
  },
  {
   "cell_type": "markdown",
   "id": "3c11e4fe",
   "metadata": {},
   "source": [
    "### `ch13\\ch13-2-1a.py`"
   ]
  },
  {
   "cell_type": "code",
   "execution_count": null,
   "id": "2fbee114",
   "metadata": {},
   "outputs": [],
   "source": [
    "import matplotlib.pyplot as plt\n",
    "import pandas as pd\n",
    "from sklearn import preprocessing\n",
    "plt.rcParams['font.sans-serif'] = ['Microsoft JhengHei'] \n",
    "plt.rcParams['axes.unicode_minus'] = False\n",
    "\n",
    "f_tracking= [110, 1018, 1130, 417, 626,\n",
    "             957, 90, 951, 946, 797,\n",
    "             981, 125, 456, 731, 1640,\n",
    "             486, 1309, 472, 1133, 1773,\n",
    "             906, 532, 742, 621, 855]\n",
    "happiness = [0.3, 0.8, 0.5, 0.4, 0.6,\n",
    "             0.4, 0.7, 0.5, 0.4, 0.3, \n",
    "             0.3, 0.6, 0.2, 0.8, 1,\n",
    "             0.6, 0.2, 0.7, 0.5, 0.7,\n",
    "             0.1, 0.4, 0.3, 0.6, 0.3]\n",
    "\n",
    "df = pd.DataFrame({\"FB追蹤數\" : f_tracking,\n",
    "                   \"快樂程度\" : happiness})\n",
    "print(df.head())\n",
    "df.head().to_html(\"ch13-2-1a-01.html\")\n",
    "print(\"---------------------------\")\n",
    "scaler = preprocessing.StandardScaler()\n",
    "np_std = scaler.fit_transform(df)\n",
    "df_std = pd.DataFrame(np_std,\n",
    "         columns=[\"標準化FB追蹤數\", \"標準化快樂程度\"])\n",
    "print(df_std.head())\n",
    "df_std.head().to_html(\"ch13-2-1a-02.html\")\n",
    "\n",
    "df_std.plot(kind=\"scatter\", x=\"標準化FB追蹤數\", y=\"標準化快樂程度\")\n",
    "plt.show()"
   ]
  },
  {
   "cell_type": "markdown",
   "id": "8c859f1b",
   "metadata": {},
   "source": [
    "### `ch13\\ch13-2-2.py`"
   ]
  },
  {
   "cell_type": "code",
   "execution_count": null,
   "id": "40b54fcf",
   "metadata": {},
   "outputs": [],
   "source": [
    "import matplotlib.pyplot as plt\n",
    "import pandas as pd\n",
    "from sklearn import preprocessing\n",
    "plt.rcParams['font.sans-serif'] = ['Microsoft JhengHei'] \n",
    "plt.rcParams['axes.unicode_minus'] = False\n",
    "\n",
    "f_tracking= [110, 1018, 1130, 417, 626,\n",
    "             957, 90, 951, 946, 797,\n",
    "             981, 125, 456, 731, 1640,\n",
    "             486, 1309, 472, 1133, 1773,\n",
    "             906, 532, 742, 621, 855]\n",
    "happiness = [0.3, 0.8, 0.5, 0.4, 0.6,\n",
    "             0.4, 0.7, 0.5, 0.4, 0.3, \n",
    "             0.3, 0.6, 0.2, 0.8, 1,\n",
    "             0.6, 0.2, 0.7, 0.5, 0.7,\n",
    "             0.1, 0.4, 0.3, 0.6, 0.3]\n",
    "\n",
    "df = pd.DataFrame({\"FB追蹤數\" : f_tracking,\n",
    "                   \"快樂程度\" : happiness})\n",
    "print(df.head())\n",
    "print(\"---------------------------\")\n",
    "df_scaled = pd.DataFrame(preprocessing.scale(df), \n",
    "            columns=[\"標準化FB追蹤數\", \"標準化快樂程度\"])\n",
    "print(df_scaled.head())\n",
    "df_scaled.plot(kind=\"scatter\", x=\"標準化FB追蹤數\", y=\"標準化快樂程度\")\n",
    "print(\"---------------------------\")\n",
    "scaler = preprocessing.MinMaxScaler(feature_range=(0, 1))\n",
    "np_minmax = scaler.fit_transform(df)\n",
    "df_minmax = pd.DataFrame(np_minmax,\n",
    "            columns=[\"最小最大值縮放FB追蹤數\", \"最小最大值縮放快樂程度\"])\n",
    "print(df_minmax.head())\n",
    "df_minmax.head().to_html(\"ch13-2-2.html\")\n",
    "\n",
    "df_minmax.plot(kind=\"scatter\", x=\"最小最大值縮放FB追蹤數\",\n",
    "               y=\"最小最大值縮放快樂程度\")\n",
    "plt.show()"
   ]
  },
  {
   "cell_type": "markdown",
   "id": "c4dd79e9",
   "metadata": {},
   "source": [
    "### `ch13\\ch13-3-1.py`"
   ]
  },
  {
   "cell_type": "code",
   "execution_count": null,
   "id": "5763e6d1",
   "metadata": {},
   "outputs": [],
   "source": [
    "import pandas as pd\n",
    "\n",
    "df = pd.read_csv(\"test.csv\")\n",
    "print(df)\n",
    "df.to_html(\"ch13-3-1.html\")"
   ]
  },
  {
   "cell_type": "markdown",
   "id": "3bc72e88",
   "metadata": {},
   "source": [
    "### `ch13\\ch13-3-1a.py`"
   ]
  },
  {
   "cell_type": "code",
   "execution_count": null,
   "id": "9f13625f",
   "metadata": {},
   "outputs": [],
   "source": [
    "import pandas as pd\n",
    "\n",
    "df = pd.read_csv(\"test.csv\")\n",
    "print(df)\n",
    "print(\"---------------------------\")\n",
    "df.info()\n",
    " "
   ]
  },
  {
   "cell_type": "markdown",
   "id": "112cc4c0",
   "metadata": {},
   "source": [
    "### `ch13\\ch13-3-1b.py`"
   ]
  },
  {
   "cell_type": "code",
   "execution_count": null,
   "id": "0c7c541f",
   "metadata": {},
   "outputs": [],
   "source": [
    "import pandas as pd\n",
    "\n",
    "df = pd.read_csv(\"test.csv\")\n",
    "# 刪除所有 NaN 的記錄\n",
    "df1 = df.dropna()\n",
    "print(df1)\n",
    "df1.to_html(\"ch13-3-1b-01.html\")\n",
    "print(\"---------------------------\")\n",
    "df2 = df.dropna(how=\"any\")\n",
    "print(df2)\n",
    "df2.to_html(\"ch13-3-1b-02.html\")\n",
    "print(\"---------------------------\")\n",
    "df3 = df.dropna(how=\"all\")\n",
    "print(df3)\n",
    "df3.to_html(\"ch13-3-1b-03.html\")\n",
    "print(\"---------------------------\")\n",
    "df4 = df.dropna(subset=[\"B\", \"C\"])\n",
    "print(df4)\n",
    "df4.to_html(\"ch13-3-1b-04.html\")"
   ]
  },
  {
   "cell_type": "markdown",
   "id": "300dc5c9",
   "metadata": {},
   "source": [
    "### `ch13\\ch13-3-1c.py`"
   ]
  },
  {
   "cell_type": "code",
   "execution_count": null,
   "id": "d187a3b0",
   "metadata": {},
   "outputs": [],
   "source": [
    "import pandas as pd\n",
    "\n",
    "df = pd.read_csv(\"test.csv\")\n",
    "# 填補遺失資料\n",
    "df1 = df.fillna(value=1)\n",
    "print(df1)\n",
    "df1.to_html(\"ch13-3-1c-01.html\")\n",
    "print(\"---------------------------\")\n",
    "df[\"B\"] = df[\"B\"].fillna(df[\"B\"].mean())\n",
    "print(df)\n",
    "df.to_html(\"ch13-3-1c-02.html\")\n",
    "print(\"---------------------------\")\n",
    "df[\"C\"] = df[\"C\"].fillna(df[\"C\"].median())\n",
    "print(df)\n",
    "df.to_html(\"ch13-3-1c-03.html\")\n"
   ]
  },
  {
   "cell_type": "markdown",
   "id": "26ec43e4",
   "metadata": {},
   "source": [
    "### `ch13\\ch13-3-1d.py`"
   ]
  },
  {
   "cell_type": "code",
   "execution_count": null,
   "id": "a59caf64",
   "metadata": {},
   "outputs": [],
   "source": [
    "import pandas as pd\n",
    "\n",
    "df = pd.read_csv(\"test.csv\")\n",
    "# 建立布林遮罩\n",
    "df1 = pd.isnull(df)\n",
    "print(df1)\n",
    "df1.to_html(\"ch13-3-1d.html\")"
   ]
  },
  {
   "cell_type": "markdown",
   "id": "fac35bd8",
   "metadata": {},
   "source": [
    "### `ch13\\ch13-3-2.py`"
   ]
  },
  {
   "cell_type": "code",
   "execution_count": null,
   "id": "8d8c6b9b",
   "metadata": {},
   "outputs": [],
   "source": [
    "import pandas as pd\n",
    "\n",
    "df = pd.read_csv(\"test2.csv\")\n",
    "print(df)\n",
    "df.to_html(\"ch13-3-2.html\")\n"
   ]
  },
  {
   "cell_type": "markdown",
   "id": "b6b6bce5",
   "metadata": {},
   "source": [
    "### `ch13\\ch13-3-2a.py`"
   ]
  },
  {
   "cell_type": "code",
   "execution_count": null,
   "id": "bf620920",
   "metadata": {},
   "outputs": [],
   "source": [
    "import pandas as pd\n",
    "\n",
    "df = pd.read_csv(\"test2.csv\")\n",
    "print(df.duplicated())\n",
    "print(\"---------------------------\")\n",
    "print(df.duplicated(\"B\"))\n"
   ]
  },
  {
   "cell_type": "markdown",
   "id": "45746248",
   "metadata": {},
   "source": [
    "### `ch13\\ch13-3-2b.py`"
   ]
  },
  {
   "cell_type": "code",
   "execution_count": null,
   "id": "6b51b1f7",
   "metadata": {},
   "outputs": [],
   "source": [
    "import pandas as pd\n",
    "\n",
    "df = pd.read_csv(\"test2.csv\")\n",
    "\n",
    "df1 = df.drop_duplicates()\n",
    "print(df1)\n",
    "df1.to_html(\"ch13-3-2b.html\") \n"
   ]
  },
  {
   "cell_type": "markdown",
   "id": "d6fdfd7b",
   "metadata": {},
   "source": [
    "### `ch13\\ch13-3-2c.py`"
   ]
  },
  {
   "cell_type": "code",
   "execution_count": null,
   "id": "e02f728b",
   "metadata": {},
   "outputs": [],
   "source": [
    "import pandas as pd\n",
    "\n",
    "df = pd.read_csv(\"test2.csv\")\n",
    "\n",
    "df1 = df.drop_duplicates(\"B\")\n",
    "print(df1)\n",
    "df1.to_html(\"ch13-3-2c-01.html\") \n",
    "print(\"---------------------------\")\n",
    "df2 = df.drop_duplicates(\"B\", keep=\"last\")\n",
    "print(df2)\n",
    "df2.to_html(\"ch13-3-2c-02.html\") \n",
    "print(\"---------------------------\")\n",
    "df3 = df.drop_duplicates(\"B\", keep=False)\n",
    "print(df3)\n",
    "df3.to_html(\"ch13-3-2c-03.html\") "
   ]
  },
  {
   "cell_type": "markdown",
   "id": "0c4e2ac7",
   "metadata": {},
   "source": [
    "### `ch13\\ch13-3-3.py`"
   ]
  },
  {
   "cell_type": "code",
   "execution_count": null,
   "id": "b48035aa",
   "metadata": {},
   "outputs": [],
   "source": [
    "import pandas as pd\n",
    "\n",
    "df = pd.read_csv(\"test3.csv\")\n",
    "print(df)\n",
    "df.to_html(\"ch13-3-3-01.html\")\n",
    "print(\"---------------------------\")\n",
    "size_mapping = {\"XXL\": 5,\n",
    "                \"XL\": 4,\n",
    "                \"L\": 3,\n",
    "                \"M\": 2,\n",
    "                \"S\": 1,\n",
    "                \"XS\": 0}\n",
    "\n",
    "df[\"尺寸\"] = df[\"尺寸\"].map(size_mapping)\n",
    "print(df)\n",
    "df.to_html(\"ch13-3-3-02.html\")"
   ]
  },
  {
   "cell_type": "markdown",
   "id": "67ca76d5",
   "metadata": {},
   "source": [
    "### `ch13\\ch13-3-3a.py`"
   ]
  },
  {
   "cell_type": "code",
   "execution_count": null,
   "id": "55ba985c",
   "metadata": {},
   "outputs": [],
   "source": [
    "import pandas as pd\n",
    "from sklearn import preprocessing\n",
    "\n",
    "df = pd.read_csv(\"test3.csv\")\n",
    "\n",
    "label_encoder = preprocessing.LabelEncoder()\n",
    "df[\"性別\"] = label_encoder.fit_transform(df[\"性別\"])\n",
    "print(df)\n",
    "df.to_html(\"ch13-3-3a.html\")"
   ]
  },
  {
   "cell_type": "markdown",
   "id": "072ef6ee",
   "metadata": {},
   "source": [
    "### `ch13\\ch13-5.py`"
   ]
  },
  {
   "cell_type": "code",
   "execution_count": null,
   "id": "7c7569be",
   "metadata": {},
   "outputs": [],
   "source": [
    "import pandas as pd\n",
    "\n",
    "titanic = pd.read_csv(\"titanic_data.csv\")\n",
    "# 顯示資料集的形狀\n",
    "print(titanic.shape)\n"
   ]
  },
  {
   "cell_type": "markdown",
   "id": "a1d7fb52",
   "metadata": {},
   "source": [
    "### `ch13\\ch13-5a.py`"
   ]
  },
  {
   "cell_type": "code",
   "execution_count": null,
   "id": "47bda4eb",
   "metadata": {},
   "outputs": [],
   "source": [
    "import pandas as pd\n",
    "\n",
    "titanic = pd.read_csv(\"titanic_data.csv\")\n",
    "# 顯示前5筆\n",
    "print(titanic.head())\n",
    "titanic.head().to_html(\"ch13-5a-01.html\")\n",
    "print(\"---------------------------\")\n",
    "# 顯示統計摘要資訊\n",
    "print(titanic.describe())\n",
    "titanic.describe().to_html(\"ch13-5a-02.html\")\n",
    "print(\"---------------------------\")\n",
    "# 顯示資料集資訊\n",
    "print(titanic.info())\n"
   ]
  },
  {
   "cell_type": "markdown",
   "id": "dd54d211",
   "metadata": {},
   "source": [
    "### `ch13\\ch13-5b.py`"
   ]
  },
  {
   "cell_type": "code",
   "execution_count": null,
   "id": "16fca9d2",
   "metadata": {},
   "outputs": [],
   "source": [
    "import pandas as pd\n",
    "import numpy as np\n",
    "\n",
    "titanic = pd.read_csv(\"titanic_data.csv\")\n",
    "print(\"---檢查PassengerId欄位是否是唯一值---\")\n",
    "# 檢查PassengerId欄位是否是唯一值\n",
    "print(np.unique(titanic[\"PassengerId\"].values).size)\n",
    "print(\"---指定DataFrame物件的索引欄位---\")\n",
    "# 指定DataFrame物件的索引欄位\n",
    "titanic.set_index([\"PassengerId\"], inplace=True)\n",
    "print(titanic.head())\n",
    "titanic.head().to_html(\"ch13-5b-01.html\")\n",
    "print(\"---新增SexCode欄位---\")\n",
    "# 新增SexCode欄位\n",
    "titanic[\"SexCode\"] = np.where(titanic[\"Sex\"]==\"female\", 1, 0)\n",
    "print(titanic.head())\n",
    "titanic.head().to_html(\"ch13-5b-02.html\")\n",
    "print(\"---PCass欄位轉換成數值資料---\")\n",
    "# PCass欄位轉換成數值資料\n",
    "class_mapping = {\"1st\": 1,\n",
    "                 \"2nd\": 2,\n",
    "                 \"3rd\": 3}\n",
    "titanic[\"PClass\"] = titanic[\"PClass\"].map(class_mapping)\n",
    "print(titanic.head())\n",
    "titanic.head().to_html(\"ch13-5b-03.html\")\n",
    "print(\"---檢查Age欄位的遺漏值有多少---\")\n",
    "# 檢查Age欄位的遺漏值有多少\n",
    "print(titanic.isnull().sum())\n",
    "print(sum(titanic[\"Age\"].isnull()))\n",
    "print(\"---補值成平均值---\")\n",
    "# 補值成平均值\n",
    "avg_age = titanic[\"Age\"].mean()\n",
    "titanic[\"Age\"].fillna(avg_age, inplace=True)\n",
    "print(sum(titanic[\"Age\"].isnull()))\n",
    "print(\"---顯示性別人數和計算平均年齡---\")\n",
    "# 顯示性別人數和計算平均年齡\n",
    "print(\"性別人數:\")\n",
    "print(titanic[\"Sex\"].groupby(titanic[\"Sex\"]).size())\n",
    "print(titanic.groupby(\"Sex\")[\"Age\"].mean())\n",
    "print(\"---處理姓名欄位---\")\n",
    "# 處理姓名欄位\n",
    "import re\n",
    "patt = re.compile(r\"\\,\\s(\\S+\\s)\") \n",
    "titles = []\n",
    "for index, row in titanic.iterrows():\n",
    "    m = re.search(patt, row[\"Name\"])\n",
    "    if m is None:\n",
    "        title = \"Mrs\" if row[\"SexCode\"] == 1 else \"Mr\"\n",
    "    else:\n",
    "        title = m.group(0)\n",
    "        title = re.sub(r\",\", \"\", title).strip()\n",
    "        if title[0] != \"M\":\n",
    "            title = \"Mrs\" if row[\"SexCode\"] == 1 else \"Mr\"\n",
    "        else:\n",
    "           if title[0] == \"M\" and title[1] == \"a\":\n",
    "            title = \"Mrs\" if row[\"SexCode\"] == 1 else \"Mr\"\n",
    "    titles.append(title)\n",
    "titanic[\"Title\"] = titles\n",
    "\n",
    "print(\"Title類別:\")\n",
    "print(np.unique(titles).shape[0], np.unique(titles))\n",
    "print(\"---修正類別錯誤顯示Titel人數---\")\n",
    "# 修正類別錯誤\n",
    "titanic[\"Title\"] = titanic[\"Title\"].replace(\"Mlle\",\"Miss\")\n",
    "titanic[\"Title\"] = titanic[\"Title\"].replace(\"Ms\",\"Miss\")  \n",
    "titanic.to_csv(\"titanic_pre.csv\", encoding=\"utf8\")\n",
    "print(\"Title人數:\")\n",
    "print(titanic[\"Title\"].groupby(titanic[\"Title\"]).size())\n",
    "print(\"---顯示平均生存率---\")\n",
    "print(\"平均生存率:\")\n",
    "print(titanic[[\"Title\",\"Survived\"]].groupby(titanic[\"Title\"]).mean())\n",
    "\n",
    "\n",
    "\n"
   ]
  },
  {
   "cell_type": "markdown",
   "id": "63b4b1df",
   "metadata": {},
   "source": [
    "### `ch13\\ch13-5c.py`"
   ]
  },
  {
   "cell_type": "code",
   "execution_count": null,
   "id": "f4ac7756",
   "metadata": {},
   "outputs": [],
   "source": [
    "import pandas as pd\n",
    "import numpy as np\n",
    "import matplotlib.pyplot as plt\n",
    "\n",
    "titanic = pd.read_csv(\"titanic_pre.csv\")\n",
    "titanic[\"Died\"] = np.where(titanic[\"Survived\"]==0, 1, 0)\n",
    "print(titanic.head())\n",
    "titanic.head().to_html(\"ch13-5c-01.html\")\n",
    "print(\"---------------------------\")\n",
    "# 繪出直方圖的年齡分佈, 生存或死亡\n",
    "titanic[\"Age\"].plot(kind=\"hist\", bins=15)\n",
    "df = titanic[titanic.Survived == 0]\n",
    "df[\"Age\"].plot(kind=\"hist\", bins=15)\n",
    "df = titanic[titanic.Survived == 1]\n",
    "df[\"Age\"].plot(kind=\"hist\", bins=15)\n",
    "# 分類顯示Title欄位的生存和死亡數\n",
    "fig, axes = plt.subplots(nrows=1, ncols=2)\n",
    "df = titanic[[\"Survived\",\"Died\"]].groupby(titanic[\"Title\"]).sum()\n",
    "df.plot(kind=\"bar\", ax=axes[0])\n",
    "df = titanic[[\"Survived\",\"Died\"]].groupby(titanic[\"Title\"]).mean()\n",
    "df.plot(kind=\"bar\", ax=axes[1])\n",
    "# 分類顯示Sex欄位的生存和死亡數\n",
    "fig, axes = plt.subplots(nrows=1, ncols=2)\n",
    "df = titanic[[\"Survived\",\"Died\"]].groupby(titanic[\"Sex\"]).sum()\n",
    "df.plot(kind=\"bar\", ax=axes[0])\n",
    "df = titanic[[\"Survived\",\"Died\"]].groupby(titanic[\"Sex\"]).mean()\n",
    "df.plot(kind=\"bar\", ax=axes[1])\n",
    "# 分類顯示PClass欄位的生存和死亡數\n",
    "df = titanic[['Survived',\"Died\"]].groupby(titanic[\"PClass\"]).sum()\n",
    "df.plot(kind=\"bar\")\n",
    "df = titanic[['Survived',\"Died\"]].groupby(titanic[\"PClass\"]).mean()\n",
    "df.plot(kind=\"bar\")\n",
    "# 計算相關係數\n",
    "df = titanic.drop(\"PassengerId\", axis=1)\n",
    "df = df.drop(\"Died\", axis=1)\n",
    "df = df.drop(\"Title\", axis=1)\n",
    "print(df.corr())\n",
    "df.to_csv(\"titanic_train.csv\", encoding=\"utf8\")\n",
    "df.corr().to_html(\"ch13-5c-02.html\")\n",
    "plt.show()"
   ]
  },
  {
   "cell_type": "markdown",
   "id": "0bce1451",
   "metadata": {},
   "source": [
    "### `ch15\\ch15-2-2.py`"
   ]
  },
  {
   "cell_type": "code",
   "execution_count": null,
   "id": "f2ad9092",
   "metadata": {},
   "outputs": [],
   "source": [
    "import numpy as np\n",
    "import pandas as pd\n",
    "from sklearn.linear_model import LinearRegression\n",
    "\n",
    "temperatures = np.array([29, 28, 34, 31,\n",
    "                         25, 29, 32, 31,\n",
    "                         24, 33, 25, 31,\n",
    "                         26, 30])\n",
    "drink_sales = np.array([7.7, 6.2, 9.3, 8.4,\n",
    "                        5.9, 6.4, 8.0, 7.5,\n",
    "                        5.8, 9.1, 5.1, 7.3,\n",
    "                        6.5, 8.4])\n",
    "X = pd.DataFrame(temperatures, columns=[\"氣溫\"])\n",
    "target = pd.DataFrame(drink_sales, columns=[\"營業額\"])\n",
    "y = target[\"營業額\"]\n",
    "\n",
    "lm = LinearRegression()\n",
    "lm.fit(X, y)\n",
    "print(\"迴歸係數:\", lm.coef_)\n",
    "print(\"截距:\", lm.intercept_ )\n",
    "# 預測氣溫26, 30度的業績\n",
    "new_temperatures = pd.DataFrame(np.array([26, 30]),\n",
    "                                columns=[\"氣溫\"])\n",
    "predicted_sales = lm.predict(new_temperatures)\n",
    "print(predicted_sales)\n"
   ]
  },
  {
   "cell_type": "markdown",
   "id": "9b321b31",
   "metadata": {},
   "source": [
    "### `ch15\\ch15-2-2a-seaborn.py`"
   ]
  },
  {
   "cell_type": "code",
   "execution_count": null,
   "id": "dba2ea5d",
   "metadata": {},
   "outputs": [],
   "source": [
    "import numpy as np\n",
    "import pandas as pd\n",
    "from sklearn.linear_model import LinearRegression\n",
    "import matplotlib.pyplot as plt\n",
    "import seaborn as sns\n",
    "\n",
    "temperatures = np.array([29, 28, 34, 31,\n",
    "                         25, 29, 32, 31,\n",
    "                         24, 33, 25, 31,\n",
    "                         26, 30])\n",
    "drink_sales = np.array([7.7, 6.2, 9.3, 8.4,\n",
    "                        5.9, 6.4, 8.0, 7.5,\n",
    "                        5.8, 9.1, 5.1, 7.3,\n",
    "                        6.5, 8.4])\n",
    "X = pd.DataFrame(temperatures, columns=[\"氣溫\"])\n",
    "target = pd.DataFrame(drink_sales, columns=[\"營業額\"])\n",
    "y = target[\"營業額\"]\n",
    "lm = LinearRegression()\n",
    "lm.fit(X, y)\n",
    "# 預測氣溫26, 30度的業績\n",
    "new_temperatures = pd.DataFrame(np.array([26, 30]),\n",
    "                                columns=[\"氣溫\"])\n",
    "predicted_sales = lm.predict(new_temperatures)\n",
    "print(predicted_sales)\n",
    "\n",
    "regression_sales = lm.predict(X)\n",
    "\n",
    "plt.rcParams[\"axes.unicode_minus\"] = False\n",
    "sns.set_style(\"darkgrid\", {\"axes.axisbelow\": False,\n",
    "                       \"font.sans-serif\":['Microsoft JhengHei']})\n",
    "\n",
    "df = pd.DataFrame({\"氣溫\": temperatures,\n",
    "                   \"營業額\": drink_sales})\n",
    "sns.regplot(x=\"氣溫\", y=\"營業額\", data=df)\n",
    "plt.plot(temperatures, regression_sales, color=\"pink\")\n",
    "plt.plot(new_temperatures[\"氣溫\"], predicted_sales, \n",
    "         color=\"red\", marker=\"o\", markersize=10)\n",
    "plt.title(\"使用當日氣溫來預測當日的業積\")\n",
    "plt.show()"
   ]
  },
  {
   "cell_type": "markdown",
   "id": "e9b9b1c2",
   "metadata": {},
   "source": [
    "### `ch15\\ch15-2-2a.py`"
   ]
  },
  {
   "cell_type": "code",
   "execution_count": null,
   "id": "729d6c27",
   "metadata": {},
   "outputs": [],
   "source": [
    "import numpy as np\n",
    "import pandas as pd\n",
    "from sklearn.linear_model import LinearRegression\n",
    "import matplotlib.pyplot as plt\n",
    "plt.rcParams['font.sans-serif'] = ['Microsoft JhengHei'] \n",
    "plt.rcParams['axes.unicode_minus'] = False\n",
    "\n",
    "temperatures = np.array([29, 28, 34, 31,\n",
    "                         25, 29, 32, 31,\n",
    "                         24, 33, 25, 31,\n",
    "                         26, 30])\n",
    "drink_sales = np.array([7.7, 6.2, 9.3, 8.4,\n",
    "                        5.9, 6.4, 8.0, 7.5,\n",
    "                        5.8, 9.1, 5.1, 7.3,\n",
    "                        6.5, 8.4])\n",
    "X = pd.DataFrame(temperatures, columns=[\"氣溫\"])\n",
    "target = pd.DataFrame(drink_sales, columns=[\"營業額\"])\n",
    "y = target[\"營業額\"]\n",
    "lm = LinearRegression()\n",
    "lm.fit(X, y)\n",
    "# 預測氣溫26, 30度的業績\n",
    "new_temperatures = pd.DataFrame(np.array([26, 30]),\n",
    "                                columns=[\"氣溫\"])\n",
    "predicted_sales = lm.predict(new_temperatures)\n",
    "print(predicted_sales)\n",
    "\n",
    "plt.scatter(temperatures, drink_sales)  # 繪點\n",
    "regression_sales = lm.predict(X)\n",
    "plt.plot(temperatures, regression_sales, color=\"blue\")\n",
    "plt.plot(new_temperatures[\"氣溫\"], predicted_sales, \n",
    "         color=\"red\", marker=\"o\", markersize=10)\n",
    "plt.title(\"使用當日氣溫來預測當日的業積\")\n",
    "plt.show()"
   ]
  },
  {
   "cell_type": "markdown",
   "id": "ff0d6a95",
   "metadata": {},
   "source": [
    "### `ch15\\ch15-2-2b-seaborn.py`"
   ]
  },
  {
   "cell_type": "code",
   "execution_count": null,
   "id": "ee390fff",
   "metadata": {},
   "outputs": [],
   "source": [
    "import numpy as np\n",
    "import pandas as pd\n",
    "from sklearn.linear_model import LinearRegression\n",
    "import matplotlib.pyplot as plt\n",
    "import seaborn as sns\n",
    "\n",
    "heights = np.array([147.9, 163.5, 159.8, 155.1,\n",
    "                    163.3, 158.7, 172.0, 161.2,\n",
    "                    153.9, 161.6])\n",
    "weights = np.array([41.7, 60.2, 47.0, 53.2,\n",
    "                    48.3, 55.2, 58.5, 49.0,\n",
    "                    46.7, 52.5])\n",
    "X = pd.DataFrame(heights, columns=[\"身高\"])\n",
    "target = pd.DataFrame(weights, columns=[\"體重\"])\n",
    "y = target[\"體重\"]\n",
    "lm = LinearRegression()\n",
    "lm.fit(X, y)\n",
    "print(\"迴歸係數:\", lm.coef_)\n",
    "print(\"截距:\", lm.intercept_ )\n",
    "\n",
    "# 預測身高150, 160, 170的體重\n",
    "new_heights = pd.DataFrame(np.array([150, 160, 170]),\n",
    "                           columns=[\"身高\"])\n",
    "predicted_weights = lm.predict(new_heights)\n",
    "print(predicted_weights)\n",
    "\n",
    "regression_weights = lm.predict(X)\n",
    "\n",
    "plt.rcParams[\"axes.unicode_minus\"] = False\n",
    "sns.set_style(\"darkgrid\", {\"axes.axisbelow\": False,\n",
    "                       \"font.sans-serif\":['Microsoft JhengHei']})\n",
    "\n",
    "df = pd.DataFrame({\"身高\": heights,\n",
    "                   \"體重\": weights})\n",
    "sns.regplot(x=\"身高\", y=\"體重\", data=df)\n",
    "plt.plot(heights, regression_weights, color=\"pink\")\n",
    "plt.plot(new_heights[\"身高\"], predicted_weights, \n",
    "         color=\"red\", marker=\"o\", markersize=10)\n",
    "plt.title(\"使用學生的身高來預測體重\")\n",
    "plt.show()"
   ]
  },
  {
   "cell_type": "markdown",
   "id": "5d3ec418",
   "metadata": {},
   "source": [
    "### `ch15\\ch15-2-2b.py`"
   ]
  },
  {
   "cell_type": "code",
   "execution_count": null,
   "id": "8583f3b3",
   "metadata": {},
   "outputs": [],
   "source": [
    "import numpy as np\n",
    "import pandas as pd\n",
    "from sklearn.linear_model import LinearRegression\n",
    "import matplotlib.pyplot as plt\n",
    "plt.rcParams['font.sans-serif'] = ['Microsoft JhengHei'] \n",
    "plt.rcParams['axes.unicode_minus'] = False\n",
    "\n",
    "heights = np.array([147.9, 163.5, 159.8, 155.1,\n",
    "                    163.3, 158.7, 172.0, 161.2,\n",
    "                    153.9, 161.6])\n",
    "weights = np.array([41.7, 60.2, 47.0, 53.2,\n",
    "                    48.3, 55.2, 58.5, 49.0,\n",
    "                    46.7, 52.5])\n",
    "X = pd.DataFrame(heights, columns=[\"身高\"])\n",
    "target = pd.DataFrame(weights, columns=[\"體重\"])\n",
    "y = target[\"體重\"]\n",
    "lm = LinearRegression()\n",
    "lm.fit(X, y)\n",
    "print(\"迴歸係數:\", lm.coef_)\n",
    "print(\"截距:\", lm.intercept_ )\n",
    "\n",
    "# 預測身高150, 160, 170的體重\n",
    "new_heights = pd.DataFrame(np.array([150, 160, 170]),\n",
    "                           columns=[\"身高\"])\n",
    "predicted_weights = lm.predict(new_heights)\n",
    "print(predicted_weights)\n",
    "\n",
    "plt.scatter(heights, weights)  # 繪點\n",
    "regression_weights = lm.predict(X)\n",
    "plt.plot(heights, regression_weights, color=\"blue\")\n",
    "plt.plot(new_heights[\"身高\"], predicted_weights, \n",
    "         color=\"red\", marker=\"o\", markersize=10)\n",
    "plt.title(\"使用學生的身高來預測體重\")\n",
    "plt.show()"
   ]
  },
  {
   "cell_type": "markdown",
   "id": "3f42f9b7",
   "metadata": {},
   "source": [
    "### `ch15\\ch15-3-1.py`"
   ]
  },
  {
   "cell_type": "code",
   "execution_count": null,
   "id": "25332723",
   "metadata": {},
   "outputs": [],
   "source": [
    "import numpy as np\n",
    "import pandas as pd\n",
    "from sklearn.linear_model import LinearRegression\n",
    "\n",
    "waist_heights = np.array([[67,160], [68,165], [70,167], \n",
    "                          [65,170], [80,165], [85,167],\n",
    "                          [78,178], [79,182], [95,175],\n",
    "                          [89,172]])\n",
    "weights = np.array([50, 60, 65, 65,\n",
    "                    70, 75, 80, 85,\n",
    "                    90, 81])\n",
    "X = pd.DataFrame(waist_heights, columns=[\"腰圍\", \"身高\"])\n",
    "target = pd.DataFrame(weights, columns=[\"體重\"])\n",
    "y = target[\"體重\"]\n",
    "lm = LinearRegression()\n",
    "lm.fit(X, y)\n",
    "print(\"迴歸係數:\", lm.coef_)\n",
    "print(\"截距:\", lm.intercept_ )\n",
    "\n",
    "# 預測腰圍和身高[66,164],[82,172]的體重\n",
    "new_waist_heights = pd.DataFrame(np.array([[66, 164],\n",
    "                                           [82, 172]]),\n",
    "                                 columns=[\"腰圍\", \"身高\"])\n",
    "predicted_weights = lm.predict(new_waist_heights)\n",
    "print(predicted_weights)\n"
   ]
  },
  {
   "cell_type": "markdown",
   "id": "fb44393e",
   "metadata": {},
   "source": [
    "### `ch15\\ch15-3-1a.py`"
   ]
  },
  {
   "cell_type": "code",
   "execution_count": null,
   "id": "a3406200",
   "metadata": {},
   "outputs": [],
   "source": [
    "import numpy as np\n",
    "import pandas as pd\n",
    "from sklearn.linear_model import LinearRegression\n",
    "\n",
    "area_dists = np.array([[10,80], [8,0], [8,200], \n",
    "                       [5,200], [7,300], [8,230],\n",
    "                       [7,40], [9,0], [6,330],\n",
    "                       [9,180]])\n",
    "sales = np.array([46.9, 36.6, 37.1, 20.8,\n",
    "                    24.6, 29.7, 36.6, 43.6,\n",
    "                    19.8, 36.4])\n",
    "X = pd.DataFrame(area_dists, columns=[\"店面積\", \"距捷運\"])\n",
    "target = pd.DataFrame(sales, columns=[\"月營收\"])\n",
    "y = target[\"月營收\"]\n",
    "lm = LinearRegression()\n",
    "lm.fit(X, y)\n",
    "print(\"迴歸係數:\", lm.coef_)\n",
    "print(\"截距:\", lm.intercept_ )\n",
    "\n",
    "# 預測腰面積和距離[10,100]的營業額\n",
    "new_area_dists = pd.DataFrame(np.array([[10, 100]]),\n",
    "                              columns=[\"店面積\", \"距捷運\"])\n",
    "predicted_sales = lm.predict(new_area_dists)\n",
    "print(predicted_sales)\n"
   ]
  },
  {
   "cell_type": "markdown",
   "id": "1b2ba622",
   "metadata": {},
   "source": [
    "### `ch15\\ch15-3-2.py`"
   ]
  },
  {
   "cell_type": "code",
   "execution_count": null,
   "id": "384a79d0",
   "metadata": {},
   "outputs": [],
   "source": [
    "import pandas as pd\n",
    "import numpy as np\n",
    "\n",
    "raw_df = pd.read_csv(\"boston.csv\", sep=\"\\s+\", skiprows=22, header=None)\n",
    "data = np.hstack([raw_df.values[::2, :], raw_df.values[1::2, :2]])\n",
    "target = raw_df.values[1::2, 2]\n",
    "print(data.shape)\n"
   ]
  },
  {
   "cell_type": "markdown",
   "id": "7c085d86",
   "metadata": {},
   "source": [
    "### `ch15\\ch15-3-2a.py`"
   ]
  },
  {
   "cell_type": "code",
   "execution_count": null,
   "id": "b81bd597",
   "metadata": {},
   "outputs": [],
   "source": [
    "import pandas as pd\n",
    "import numpy as np\n",
    "\n",
    "raw_df = pd.read_csv(\"boston.csv\", sep=\"\\s+\", skiprows=22, header=None)\n",
    "data = np.hstack([raw_df.values[::2, :], raw_df.values[1::2, :2]])\n",
    "target = raw_df.values[1::2, 2]\n",
    "feature_names = ['CRIM', 'ZN', 'INDUS', 'CHAS', 'NOX', 'RM',\n",
    "                 'AGE', 'DIS', 'RAD', 'TAX', 'PTRATIO', 'B', 'LSTAT']\n",
    "X = pd.DataFrame(data, columns=feature_names)\n",
    "print(X.head())\n",
    "X.head().to_html(\"ch15-3-2a-01.html\")\n",
    "print(\"---------------------------\")\n",
    "target = pd.DataFrame(target, columns=[\"MEDV\"])\n",
    "print(target.head())\n",
    "target.head().to_html(\"ch15-3-2a-02.html\")"
   ]
  },
  {
   "cell_type": "markdown",
   "id": "f4090dbc",
   "metadata": {},
   "source": [
    "### `ch15\\ch15-3-2b.py`"
   ]
  },
  {
   "cell_type": "code",
   "execution_count": null,
   "id": "952430ca",
   "metadata": {},
   "outputs": [],
   "source": [
    "import pandas as pd\n",
    "from sklearn.linear_model import LinearRegression\n",
    "import matplotlib.pyplot as plt\n",
    "import numpy as np\n",
    "plt.rcParams['font.sans-serif'] = ['Microsoft JhengHei'] \n",
    "plt.rcParams['axes.unicode_minus'] = False\n",
    "\n",
    "raw_df = pd.read_csv(\"boston.csv\", sep=\"\\s+\", skiprows=22, header=None)\n",
    "data = np.hstack([raw_df.values[::2, :], raw_df.values[1::2, :2]])\n",
    "target = raw_df.values[1::2, 2]\n",
    "feature_names = ['CRIM', 'ZN', 'INDUS', 'CHAS', 'NOX', 'RM',\n",
    "                 'AGE', 'DIS', 'RAD', 'TAX', 'PTRATIO', 'B', 'LSTAT']\n",
    "X = pd.DataFrame(data, columns=feature_names)\n",
    "target = pd.DataFrame(target, columns=[\"MEDV\"])\n",
    "y = target[\"MEDV\"]\n",
    "\n",
    "lm = LinearRegression()\n",
    "lm.fit(X, y)\n",
    "print(\"迴歸係數:\", lm.coef_)\n",
    "print(\"截距:\", lm.intercept_ )\n",
    "print(\"---------------------------\")\n",
    "coef = pd.DataFrame(feature_names, columns=[\"features\"])\n",
    "coef[\"estimatedCoefficients\"] = lm.coef_\n",
    "print(coef)\n",
    "coef.to_html(\"ch15-3-2b.html\")\n",
    "\n",
    "plt.scatter(X.RM, y)\n",
    "plt.xlabel(\"每個住宅的平均房間數(RM)\")\n",
    "plt.ylabel(\"中位數房價(MEDV)\")\n",
    "plt.title(\"每個住宅的平均房間數和中位數房價的關聯性\")\n",
    "plt.show()"
   ]
  },
  {
   "cell_type": "markdown",
   "id": "807c33ea",
   "metadata": {},
   "source": [
    "### `ch15\\ch15-3-2c.py`"
   ]
  },
  {
   "cell_type": "code",
   "execution_count": null,
   "id": "be8d00ab",
   "metadata": {},
   "outputs": [],
   "source": [
    "import pandas as pd\n",
    "from sklearn.linear_model import LinearRegression\n",
    "import matplotlib.pyplot as plt\n",
    "import numpy as np\n",
    "plt.rcParams['font.sans-serif'] = ['Microsoft JhengHei'] \n",
    "plt.rcParams['axes.unicode_minus'] = False\n",
    "\n",
    "raw_df = pd.read_csv(\"boston.csv\", sep=\"\\s+\", skiprows=22, header=None)\n",
    "data = np.hstack([raw_df.values[::2, :], raw_df.values[1::2, :2]])\n",
    "target = raw_df.values[1::2, 2]\n",
    "feature_names = ['CRIM', 'ZN', 'INDUS', 'CHAS', 'NOX', 'RM',\n",
    "                 'AGE', 'DIS', 'RAD', 'TAX', 'PTRATIO', 'B', 'LSTAT']\n",
    "X = pd.DataFrame(data, columns=feature_names)\n",
    "target = pd.DataFrame(target, columns=[\"MEDV\"])\n",
    "y = target[\"MEDV\"]\n",
    "\n",
    "lm = LinearRegression()\n",
    "lm.fit(X, y)\n",
    "\n",
    "predicted_price = lm.predict(X)\n",
    "print(predicted_price[0:5])\n",
    "\n",
    "plt.scatter(y, predicted_price)\n",
    "plt.xlabel(\"中位數房價\")\n",
    "plt.ylabel(\"預測的中位數房價\")\n",
    "plt.title(\"中位數房價 vs 預測的中位數房價\")\n",
    "plt.show()\n",
    "\n"
   ]
  },
  {
   "cell_type": "markdown",
   "id": "82afbd9a",
   "metadata": {},
   "source": [
    "### `ch15\\ch15-3-3.py`"
   ]
  },
  {
   "cell_type": "code",
   "execution_count": null,
   "id": "1966abda",
   "metadata": {},
   "outputs": [],
   "source": [
    "import pandas as pd\n",
    "from sklearn.linear_model import LinearRegression\n",
    "from sklearn.model_selection import train_test_split\n",
    "import matplotlib.pyplot as plt\n",
    "import numpy as np\n",
    "plt.rcParams['font.sans-serif'] = ['Microsoft JhengHei'] \n",
    "plt.rcParams['axes.unicode_minus'] = False\n",
    "\n",
    "raw_df = pd.read_csv(\"boston.csv\", sep=\"\\s+\", skiprows=22, header=None)\n",
    "data = np.hstack([raw_df.values[::2, :], raw_df.values[1::2, :2]])\n",
    "target = raw_df.values[1::2, 2]\n",
    "feature_names = ['CRIM', 'ZN', 'INDUS', 'CHAS', 'NOX', 'RM',\n",
    "                 'AGE', 'DIS', 'RAD', 'TAX', 'PTRATIO', 'B', 'LSTAT']\n",
    "X = pd.DataFrame(data, columns=feature_names)\n",
    "target = pd.DataFrame(target, columns=[\"MEDV\"])\n",
    "y = target[\"MEDV\"]\n",
    "\n",
    "XTrain, XTest, yTrain, yTest = train_test_split(X, y, test_size=0.33,\n",
    "                                                random_state=5)\n",
    "lm = LinearRegression()\n",
    "lm.fit(XTrain, yTrain)\n",
    "\n",
    "pred_test = lm.predict(XTest)\n",
    "\n",
    "plt.scatter(yTest, pred_test)\n",
    "plt.xlabel(\"中位數房價\")\n",
    "plt.ylabel(\"預測的中位數房價\")\n",
    "plt.title(\"中位數房價 vs 預測的中位數房價\")\n",
    "plt.show()\n",
    "\n"
   ]
  },
  {
   "cell_type": "markdown",
   "id": "7656d697",
   "metadata": {},
   "source": [
    "### `ch15\\ch15-3-3a.py`"
   ]
  },
  {
   "cell_type": "code",
   "execution_count": null,
   "id": "561b6948",
   "metadata": {},
   "outputs": [],
   "source": [
    "import pandas as pd\n",
    "from sklearn.linear_model import LinearRegression\n",
    "from sklearn.model_selection import train_test_split\n",
    "import matplotlib.pyplot as plt\n",
    "import numpy as np\n",
    "plt.rcParams['font.sans-serif'] = ['Microsoft JhengHei'] \n",
    "plt.rcParams['axes.unicode_minus'] = False\n",
    "\n",
    "raw_df = pd.read_csv(\"boston.csv\", sep=\"\\s+\", skiprows=22, header=None)\n",
    "data = np.hstack([raw_df.values[::2, :], raw_df.values[1::2, :2]])\n",
    "target = raw_df.values[1::2, 2]\n",
    "feature_names = ['CRIM', 'ZN', 'INDUS', 'CHAS', 'NOX', 'RM',\n",
    "                 'AGE', 'DIS', 'RAD', 'TAX', 'PTRATIO', 'B', 'LSTAT']\n",
    "X = pd.DataFrame(data, columns=feature_names)\n",
    "target = pd.DataFrame(target, columns=[\"MEDV\"])\n",
    "y = target[\"MEDV\"]\n",
    "\n",
    "XTrain, XTest, yTrain, yTest = train_test_split(X, y, test_size=0.33,\n",
    "                                                random_state=5)\n",
    "lm = LinearRegression()\n",
    "lm.fit(XTrain, yTrain)\n",
    "\n",
    "pred_train = lm.predict(XTrain)\n",
    "pred_test = lm.predict(XTest)\n",
    "\n",
    "MSE_train = np.mean((yTrain-pred_train)**2)\n",
    "MSE_test = np.mean((yTest-pred_test)**2)\n",
    "print(\"訓練資料的MSE:\", MSE_train)\n",
    "print(\"測試資料的MSE:\", MSE_test)\n",
    "print(\"---------------------------\")\n",
    "print(\"訓練資料的R-squared:\", lm.score(XTrain, yTrain))\n",
    "print(\"測試資料的R-squared:\", lm.score(XTest, yTest))\n",
    "\n"
   ]
  },
  {
   "cell_type": "markdown",
   "id": "1e1d5215",
   "metadata": {},
   "source": [
    "### `ch15\\ch15-3-3b.py`"
   ]
  },
  {
   "cell_type": "code",
   "execution_count": null,
   "id": "d6912964",
   "metadata": {},
   "outputs": [],
   "source": [
    "import pandas as pd\n",
    "from sklearn.linear_model import LinearRegression\n",
    "import numpy as np\n",
    "\n",
    "raw_df = pd.read_csv(\"boston.csv\", sep=\"\\s+\", skiprows=22, header=None)\n",
    "data = np.hstack([raw_df.values[::2, :], raw_df.values[1::2, :2]])\n",
    "target = raw_df.values[1::2, 2]\n",
    "feature_names = ['CRIM', 'ZN', 'INDUS', 'CHAS', 'NOX', 'RM',\n",
    "                 'AGE', 'DIS', 'RAD', 'TAX', 'PTRATIO', 'B', 'LSTAT']\n",
    "X = pd.DataFrame(data, columns=feature_names)\n",
    "target = pd.DataFrame(target, columns=[\"MEDV\"])\n",
    "y = target[\"MEDV\"]\n",
    "\n",
    "lm = LinearRegression()\n",
    "lm.fit(X, y)\n",
    "\n",
    "predicted_price = lm.predict(X)\n",
    "print(predicted_price[0:5])\n",
    "print(\"---------------------------\")\n",
    "MSE = np.mean((y-predicted_price)**2)\n",
    "print(\"MSE:\", MSE)\n",
    "print(\"---------------------------\")\n",
    "print(\"R-squared:\", lm.score(X, y))\n",
    "\n"
   ]
  },
  {
   "cell_type": "markdown",
   "id": "876ec26d",
   "metadata": {},
   "source": [
    "### `ch15\\ch15-3-4.py`"
   ]
  },
  {
   "cell_type": "code",
   "execution_count": null,
   "id": "543e429a",
   "metadata": {},
   "outputs": [],
   "source": [
    "import pandas as pd\n",
    "from sklearn.linear_model import LinearRegression\n",
    "from sklearn.model_selection import train_test_split\n",
    "import matplotlib.pyplot as plt\n",
    "import numpy as np\n",
    "plt.rcParams['font.sans-serif'] = ['Microsoft JhengHei'] \n",
    "plt.rcParams['axes.unicode_minus'] = False\n",
    "\n",
    "raw_df = pd.read_csv(\"boston.csv\", sep=\"\\s+\", skiprows=22, header=None)\n",
    "data = np.hstack([raw_df.values[::2, :], raw_df.values[1::2, :2]])\n",
    "target = raw_df.values[1::2, 2]\n",
    "feature_names = ['CRIM', 'ZN', 'INDUS', 'CHAS', 'NOX', 'RM',\n",
    "                 'AGE', 'DIS', 'RAD', 'TAX', 'PTRATIO', 'B', 'LSTAT']\n",
    "X = pd.DataFrame(data, columns=feature_names)\n",
    "target = pd.DataFrame(target, columns=[\"MEDV\"])\n",
    "y = target[\"MEDV\"]\n",
    "\n",
    "XTrain, XTest, yTrain, yTest = train_test_split(X, y, test_size=0.33,\n",
    "                                                random_state=5)\n",
    "lm = LinearRegression()\n",
    "lm.fit(XTrain, yTrain)\n",
    "\n",
    "pred_train = lm.predict(XTrain)\n",
    "pred_test = lm.predict(XTest)\n",
    "\n",
    "plt.scatter(pred_train, yTrain-pred_train,\n",
    "            c=\"b\", s=40, alpha=0.5, label=\"訓練資料集\")\n",
    "plt.scatter(pred_test, yTest-pred_test,\n",
    "            c=\"r\", s=40, label=\"測試資料集\")\n",
    "plt.hlines(y=0, xmin=0, xmax=50)\n",
    "plt.title(\"殘差圖(Residual Plot)\")\n",
    "plt.ylabel(\"殘差值(Residual Value)\")\n",
    "plt.legend()\n",
    "plt.show()"
   ]
  },
  {
   "cell_type": "markdown",
   "id": "5e49fd02",
   "metadata": {},
   "source": [
    "### `ch15\\ch15-3-4a.py`"
   ]
  },
  {
   "cell_type": "code",
   "execution_count": null,
   "id": "56eb0f91",
   "metadata": {},
   "outputs": [],
   "source": [
    "import pandas as pd\n",
    "from sklearn.linear_model import LinearRegression\n",
    "from sklearn.model_selection import train_test_split\n",
    "import matplotlib.pyplot as plt\n",
    "import seaborn as sns\n",
    "import numpy as np\n",
    "\n",
    "raw_df = pd.read_csv(\"boston.csv\", sep=\"\\s+\", skiprows=22, header=None)\n",
    "data = np.hstack([raw_df.values[::2, :], raw_df.values[1::2, :2]])\n",
    "target = raw_df.values[1::2, 2]\n",
    "feature_names = ['CRIM', 'ZN', 'INDUS', 'CHAS', 'NOX', 'RM',\n",
    "                 'AGE', 'DIS', 'RAD', 'TAX', 'PTRATIO', 'B', 'LSTAT']\n",
    "X = pd.DataFrame(data, columns=feature_names)\n",
    "target = pd.DataFrame(target, columns=[\"MEDV\"])\n",
    "y = target[\"MEDV\"]\n",
    "\n",
    "XTrain, XTest, yTrain, yTest = train_test_split(X, y, test_size=0.33,\n",
    "                                                random_state=5)\n",
    "lm = LinearRegression()\n",
    "lm.fit(XTrain, yTrain)\n",
    "\n",
    "pred_train = lm.predict(XTrain)\n",
    "pred_test = lm.predict(XTest)\n",
    "\n",
    "plt.rcParams[\"axes.unicode_minus\"] = False\n",
    "sns.set_style(\"darkgrid\", {\"axes.axisbelow\": False,\n",
    "                       \"font.sans-serif\":['Microsoft JhengHei']})\n",
    "\n",
    "df = pd.DataFrame({\"x\": pred_train, \"y\": yTrain})\n",
    "df2 = pd.DataFrame({\"x\": pred_test, \"y\": yTest})\n",
    "sns.residplot(x=\"x\", y=\"y\", data=df)\n",
    "sns.residplot(x=\"x\", y=\"y\", data=df2)\n",
    "plt.title(\"殘差圖(Residual Plot)\")\n",
    "plt.ylabel(\"殘差值(Residual Value)\")\n",
    "plt.legend()\n",
    "plt.show()\n",
    "plt.show()\n"
   ]
  },
  {
   "cell_type": "markdown",
   "id": "99e04f0e",
   "metadata": {},
   "source": [
    "### `ch15\\ch15-4-1.py`"
   ]
  },
  {
   "cell_type": "code",
   "execution_count": null,
   "id": "2cc5eb54",
   "metadata": {},
   "outputs": [],
   "source": [
    "import numpy as np\n",
    "import matplotlib.pyplot as plt\n",
    "plt.rcParams['font.sans-serif'] = ['Microsoft JhengHei'] \n",
    "plt.rcParams['axes.unicode_minus'] = False\n",
    "\n",
    "t = np.arange(-6, 6, 0.1)\n",
    "S = 1/(1+(np.e**(-t)))\n",
    "\n",
    "plt.plot(t, S)\n",
    "plt.title(\"sigmoid函數\")\n",
    "plt.show()\n",
    " "
   ]
  },
  {
   "cell_type": "markdown",
   "id": "3026aa4c",
   "metadata": {},
   "source": [
    "### `ch15\\ch15-4-2.py`"
   ]
  },
  {
   "cell_type": "code",
   "execution_count": null,
   "id": "e2032716",
   "metadata": {},
   "outputs": [],
   "source": [
    "import pandas as pd\n",
    "import numpy as np\n",
    "from sklearn import preprocessing, linear_model\n",
    "\n",
    "titanic = pd.read_csv(\"titanic.csv\")\n",
    "print(titanic.info())\n",
    "print(\"---------------------------\")\n",
    "# 將年齡的空值填入年齡的中位數\n",
    "age_median = np.nanmedian(titanic[\"Age\"])\n",
    "print(\"年齡中位數\", age_median)\n",
    "print(\"---------------------------\")\n",
    "new_age = np.where(titanic[\"Age\"].isnull(), \n",
    "                   age_median, titanic[\"Age\"])\n",
    "titanic[\"Age\"] = new_age\n",
    "print(titanic)\n",
    "print(\"---------------------------\")\n",
    "# 轉換欄位值成為數值\n",
    "label_encoder = preprocessing.LabelEncoder()\n",
    "encoded_class = label_encoder.fit_transform(titanic[\"PClass\"])\n",
    "\n",
    "X = pd.DataFrame([encoded_class, \n",
    "                  titanic[\"SexCode\"],\n",
    "                  titanic[\"Age\"]]).T\n",
    "y = titanic[\"Survived\"]\n",
    "\n",
    "logistic = linear_model.LogisticRegression()\n",
    "logistic.fit(X, y)\n",
    "print(\"迴歸係數:\", logistic.coef_)\n",
    "print(\"截距:\", logistic.intercept_ )\n"
   ]
  },
  {
   "cell_type": "markdown",
   "id": "2fed65b7",
   "metadata": {},
   "source": [
    "### `ch15\\ch15-4-2a.py`"
   ]
  },
  {
   "cell_type": "code",
   "execution_count": null,
   "id": "212c9898",
   "metadata": {},
   "outputs": [],
   "source": [
    "import pandas as pd\n",
    "import numpy as np\n",
    "from sklearn import preprocessing, linear_model\n",
    "\n",
    "titanic = pd.read_csv(\"titanic.csv\")\n",
    "print(titanic.info())\n",
    "print(\"---------------------------\")\n",
    "# 將年齡的空值填入年齡的中位數\n",
    "age_median = np.nanmedian(titanic[\"Age\"])\n",
    "new_age = np.where(titanic[\"Age\"].isnull(), \n",
    "                   age_median, titanic[\"Age\"])\n",
    "titanic[\"Age\"] = new_age\n",
    "# 轉換欄位值成為數值\n",
    "label_encoder = preprocessing.LabelEncoder()\n",
    "encoded_class = label_encoder.fit_transform(titanic[\"PClass\"])\n",
    "\n",
    "X = pd.DataFrame([encoded_class, \n",
    "                  titanic[\"SexCode\"],\n",
    "                  titanic[\"Age\"]]).T\n",
    "y = titanic[\"Survived\"]\n",
    "\n",
    "logistic = linear_model.LogisticRegression()\n",
    "logistic.fit(X, y)\n",
    "\n",
    "preds = logistic.predict(X)\n",
    "print(pd.crosstab(preds, titanic[\"Survived\"]))\n",
    "pd.crosstab(preds, titanic[\"Survived\"]).to_html(\"ch15-4-2a.html\")\n",
    "print(\"---------------------------\")\n",
    "print((805+265)/(805+185+58+265))\n",
    "print(logistic.score(X, y))\n"
   ]
  },
  {
   "cell_type": "markdown",
   "id": "3bf79e98",
   "metadata": {},
   "source": [
    "### `ch15\\ch15-4-2b.py`"
   ]
  },
  {
   "cell_type": "code",
   "execution_count": null,
   "id": "a055fa6a",
   "metadata": {},
   "outputs": [],
   "source": [
    "import pandas as pd\n",
    "from sklearn import preprocessing, linear_model\n",
    "\n",
    "titanic = pd.read_csv(\"titanic.csv\")\n",
    "print(titanic.info())\n",
    "print(\"---------------------------\")\n",
    "# 轉換欄位值成為數值\n",
    "label_encoder = preprocessing.LabelEncoder()\n",
    "encoded_class = label_encoder.fit_transform(titanic[\"PClass\"])\n",
    "\n",
    "X = pd.DataFrame([encoded_class, \n",
    "                  titanic[\"SexCode\"]]).T\n",
    "y = titanic[\"Survived\"]\n",
    "\n",
    "logistic = linear_model.LogisticRegression()\n",
    "logistic.fit(X, y)\n",
    "print(\"迴歸係數:\", logistic.coef_)\n",
    "print(\"截距:\", logistic.intercept_ )\n",
    "print(\"---------------------------\")\n",
    "preds = logistic.predict(X)\n",
    "print(pd.crosstab(preds, titanic[\"Survived\"]))\n",
    "pd.crosstab(preds, titanic[\"Survived\"]).to_html(\"ch15-4-2b.html\")\n",
    "print(\"---------------------------\")\n",
    "print((840+222)/(840+222+23+228))\n",
    "print(logistic.score(X, y))\n"
   ]
  },
  {
   "cell_type": "markdown",
   "id": "fbab5268",
   "metadata": {},
   "source": [
    "### `ch16\\ch16-1-2.py`"
   ]
  },
  {
   "cell_type": "code",
   "execution_count": null,
   "id": "118ee622",
   "metadata": {},
   "outputs": [],
   "source": [
    "import pandas as pd\n",
    "from sklearn import preprocessing, tree\n",
    "from sklearn.model_selection import train_test_split\n",
    "\n",
    "titanic = pd.read_csv(\"titanic.csv\")\n",
    "# 轉換欄位值成為數值\n",
    "label_encoder = preprocessing.LabelEncoder()\n",
    "encoded_class = label_encoder.fit_transform(titanic[\"PClass\"])\n",
    "\n",
    "X = pd.DataFrame([titanic[\"SexCode\"],\n",
    "                  encoded_class]).T\n",
    "X.columns = [\"SexCode\", \"PClass\"]\n",
    "y = titanic[\"Survived\"]\n",
    "\n",
    "XTrain, XTest, yTrain, yTest = train_test_split(X, y, test_size=0.25,\n",
    "                                                random_state=1)\n",
    "\n",
    "dtree = tree.DecisionTreeClassifier()\n",
    "dtree.fit(XTrain, yTrain)\n",
    "\n",
    "print(\"準確率:\", dtree.score(XTest, yTest))\n",
    "print(\"---------------------------\")\n",
    "preds = dtree.predict_proba(X=XTest)\n",
    "print(pd.crosstab(preds[:,0], columns=[XTest[\"PClass\"],\n",
    "                                       XTest[\"SexCode\"]]))\n",
    "pd.crosstab(preds[:,0], columns=[XTest[\"PClass\"],\n",
    "                                       XTest[\"SexCode\"]]).to_html(\"ch16-1-2.html\")\n"
   ]
  },
  {
   "cell_type": "markdown",
   "id": "f1bcd96b",
   "metadata": {},
   "source": [
    "### `ch16\\ch16-1-2a.py`"
   ]
  },
  {
   "cell_type": "code",
   "execution_count": null,
   "id": "bcb6fdd5",
   "metadata": {},
   "outputs": [],
   "source": [
    "import pandas as pd\n",
    "from sklearn import preprocessing, tree\n",
    "from sklearn.model_selection import train_test_split\n",
    "\n",
    "titanic = pd.read_csv(\"titanic.csv\")\n",
    "# 轉換欄位值成為數值\n",
    "label_encoder = preprocessing.LabelEncoder()\n",
    "encoded_class = label_encoder.fit_transform(titanic[\"PClass\"])\n",
    "\n",
    "X = pd.DataFrame([titanic[\"SexCode\"],\n",
    "                  encoded_class]).T\n",
    "X.columns = [\"SexCode\", \"PClass\"]\n",
    "y = titanic[\"Survived\"]\n",
    "\n",
    "XTrain, XTest, yTrain, yTest = train_test_split(X, y, test_size=0.25,\n",
    "                                                random_state=1)\n",
    "\n",
    "dtree = tree.DecisionTreeClassifier()\n",
    "dtree.fit(XTrain, yTrain)\n",
    "\n",
    "with open(\"tree.dot\", \"w\") as f:\n",
    "    f = tree.export_graphviz(dtree,\n",
    "                             feature_names=[\"Sex\", \"Class\"],\n",
    "                             out_file=f)\n",
    " "
   ]
  },
  {
   "cell_type": "markdown",
   "id": "3c8b6ca1",
   "metadata": {},
   "source": [
    "### `ch16\\ch16-1-3.py`"
   ]
  },
  {
   "cell_type": "code",
   "execution_count": null,
   "id": "f5682f8a",
   "metadata": {},
   "outputs": [],
   "source": [
    "from sklearn import datasets\n",
    "\n",
    "iris = datasets.load_iris()\n",
    "\n",
    "print(iris.keys())\n",
    "print(\"---------------------------\")\n",
    "print(iris.data.shape)\n",
    "print(\"---------------------------\")\n",
    "print(iris.feature_names)\n",
    "print(\"---------------------------\")\n",
    "print(iris.DESCR)\n"
   ]
  },
  {
   "cell_type": "markdown",
   "id": "c8d60b7d",
   "metadata": {},
   "source": [
    "### `ch16\\ch16-1-3a.py`"
   ]
  },
  {
   "cell_type": "code",
   "execution_count": null,
   "id": "919c0bf9",
   "metadata": {},
   "outputs": [],
   "source": [
    "import pandas as pd\n",
    "from sklearn import datasets\n",
    "from sklearn import tree\n",
    "from sklearn.model_selection import train_test_split\n",
    "\n",
    "iris = datasets.load_iris()\n",
    "\n",
    "X = pd.DataFrame(iris.data, columns=iris.feature_names)\n",
    "target = pd.DataFrame(iris.target, columns=[\"target\"])\n",
    "y = target[\"target\"]\n",
    "\n",
    "XTrain, XTest, yTrain, yTest = train_test_split(X, y, test_size=0.33,\n",
    "                                                random_state=1)\n",
    "\n",
    "dtree = tree.DecisionTreeClassifier(max_depth = 8)\n",
    "dtree.fit(XTrain, yTrain)\n",
    "\n",
    "print(\"準確率:\", dtree.score(XTest, yTest))\n",
    "print(\"---------------------------\")\n",
    "print(dtree.predict(XTest))\n",
    "print(\"---------------------------\")\n",
    "print(yTest.values)\n"
   ]
  },
  {
   "cell_type": "markdown",
   "id": "b33131b6",
   "metadata": {},
   "source": [
    "### `ch16\\ch16-1-3b.py`"
   ]
  },
  {
   "cell_type": "code",
   "execution_count": null,
   "id": "37f089f3",
   "metadata": {},
   "outputs": [],
   "source": [
    "import pandas as pd\n",
    "from sklearn import datasets\n",
    "from sklearn import tree\n",
    "from sklearn.model_selection import train_test_split\n",
    "\n",
    "iris = datasets.load_iris()\n",
    "\n",
    "X = pd.DataFrame(iris.data, columns=iris.feature_names)\n",
    "target = pd.DataFrame(iris.target, columns=[\"target\"])\n",
    "y = target[\"target\"]\n",
    "\n",
    "XTrain, XTest, yTrain, yTest = train_test_split(X, y, test_size=0.33,\n",
    "                                                random_state=1)\n",
    "\n",
    "dtree = tree.DecisionTreeClassifier(max_depth = 8)\n",
    "dtree.fit(XTrain, yTrain)\n",
    "\n",
    "with open(\"tree2.dot\", \"w\") as f:\n",
    "    f = tree.export_graphviz(dtree,\n",
    "                             feature_names=iris.feature_names,\n",
    "                             out_file=f)\n"
   ]
  },
  {
   "cell_type": "markdown",
   "id": "d792f2f7",
   "metadata": {},
   "source": [
    "### `ch16\\ch16-2-1.py`"
   ]
  },
  {
   "cell_type": "code",
   "execution_count": null,
   "id": "4740a85d",
   "metadata": {},
   "outputs": [],
   "source": [
    "import pandas as pd\n",
    "import numpy as np\n",
    "from sklearn import neighbors\n",
    "\n",
    "X = pd.DataFrame({\n",
    "   \"耐酸性\": [7, 7, 3, 1],\n",
    "   \"強度\":   [7, 4, 4, 4]\n",
    "})\n",
    "\n",
    "y = np.array([0, 0, 1, 1])\n",
    "k = 3\n",
    "\n",
    "knn = neighbors.KNeighborsClassifier(n_neighbors=k)\n",
    "knn.fit(X, y)\n",
    "\n",
    "# 預測新產品[3,7]的分類 1:好 0:壞\n",
    "new_tissue = pd.DataFrame(np.array([[3, 7]]),\n",
    "                          columns=[\"耐酸性\", \"強度\"])\n",
    "pred = knn.predict(new_tissue)\n",
    "print(pred)\n",
    " "
   ]
  },
  {
   "cell_type": "markdown",
   "id": "88a21304",
   "metadata": {},
   "source": [
    "### `ch16\\ch16-2-2.py`"
   ]
  },
  {
   "cell_type": "code",
   "execution_count": null,
   "id": "60c6c2e2",
   "metadata": {},
   "outputs": [],
   "source": [
    "import pandas as pd\n",
    "import numpy as np\n",
    "from sklearn import datasets\n",
    "import matplotlib.pyplot as plt\n",
    "plt.rcParams['font.sans-serif'] = ['Microsoft JhengHei'] \n",
    "plt.rcParams['axes.unicode_minus'] = False\n",
    "\n",
    "iris = datasets.load_iris()\n",
    "\n",
    "X = pd.DataFrame(iris.data, columns=iris.feature_names)\n",
    "X.columns = [\"sepal_length\",\"sepal_width\",\"petal_length\",\"petal_width\"]\n",
    "target = pd.DataFrame(iris.target, columns=[\"target\"])\n",
    "y = target[\"target\"]\n",
    "\n",
    "colmap = np.array([\"r\", \"g\", \"y\"])\n",
    "plt.figure(figsize=(10,5))\n",
    "plt.subplot(1, 2, 1)\n",
    "plt.subplots_adjust(hspace = .5)\n",
    "plt.scatter(X[\"sepal_length\"], X[\"sepal_width\"], color=colmap[y])\n",
    "plt.xlabel(\"花萼長度(Sepal Length)\")\n",
    "plt.ylabel(\"花萼寬度(Sepal Width)\")\n",
    "plt.subplot(1, 2, 2)\n",
    "plt.scatter(X[\"petal_length\"], X[\"petal_width\"], color=colmap[y])\n",
    "plt.xlabel(\"花瓣長度(Petal Length)\")\n",
    "plt.ylabel(\"花瓣寬度(Petal Width)\")\n",
    "plt.show()\n",
    "\n"
   ]
  },
  {
   "cell_type": "markdown",
   "id": "850e3c87",
   "metadata": {},
   "source": [
    "### `ch16\\ch16-2-2a.py`"
   ]
  },
  {
   "cell_type": "code",
   "execution_count": null,
   "id": "c07f966a",
   "metadata": {},
   "outputs": [],
   "source": [
    "import pandas as pd\n",
    "from sklearn import datasets\n",
    "from sklearn import neighbors \n",
    "from sklearn.model_selection import train_test_split\n",
    "\n",
    "iris = datasets.load_iris()\n",
    "\n",
    "X = pd.DataFrame(iris.data, columns=iris.feature_names)\n",
    "X.columns = [\"sepal_length\",\"sepal_width\",\"petal_length\",\"petal_width\"]\n",
    "target = pd.DataFrame(iris.target, columns=[\"target\"])\n",
    "y = target[\"target\"]\n",
    "\n",
    "XTrain, XTest, yTrain, yTest = train_test_split(X, y, test_size=0.33,\n",
    "                                                random_state=1)\n",
    "k = 3\n",
    "\n",
    "knn = neighbors.KNeighborsClassifier(n_neighbors=k)\n",
    "knn.fit(X, y)\n",
    "\n",
    "print(\"準確率:\", knn.score(XTest, yTest))\n",
    "print(\"---------------------------\")\n",
    "print(knn.predict(XTest))\n",
    "print(\"---------------------------\")\n",
    "print(yTest.values)\n",
    "\n"
   ]
  },
  {
   "cell_type": "markdown",
   "id": "0d512d10",
   "metadata": {},
   "source": [
    "### `ch16\\ch16-2-2b.py`"
   ]
  },
  {
   "cell_type": "code",
   "execution_count": null,
   "id": "7ab162d4",
   "metadata": {},
   "outputs": [],
   "source": [
    "import pandas as pd\n",
    "import numpy as np\n",
    "from sklearn import datasets\n",
    "from sklearn import neighbors \n",
    "from sklearn.model_selection import train_test_split\n",
    "import matplotlib.pyplot as plt\n",
    "\n",
    "iris = datasets.load_iris()\n",
    "\n",
    "X = pd.DataFrame(iris.data, columns=iris.feature_names)\n",
    "X.columns = [\"sepal_length\",\"sepal_width\",\"petal_length\",\"petal_width\"]\n",
    "target = pd.DataFrame(iris.target, columns=[\"target\"])\n",
    "y = target[\"target\"]\n",
    "\n",
    "XTrain, XTest, yTrain, yTest = train_test_split(X, y, test_size=0.33,\n",
    "                                                random_state=1)\n",
    "\n",
    "Ks = np.arange(1, round(0.2*len(XTrain) + 1))\n",
    "accuracies=[]\n",
    "for k in Ks:\n",
    "    knn = neighbors.KNeighborsClassifier(n_neighbors=k)\n",
    "    knn.fit(X, y)\n",
    "    accuracy = knn.score(XTest, yTest)\n",
    "    accuracies.append(accuracy)\n",
    "    \n",
    "plt.plot(Ks, accuracies)\n",
    "plt.show()\n",
    "\n"
   ]
  },
  {
   "cell_type": "markdown",
   "id": "6d30db88",
   "metadata": {},
   "source": [
    "### `ch16\\ch16-2-3.py`"
   ]
  },
  {
   "cell_type": "code",
   "execution_count": null,
   "id": "de884de0",
   "metadata": {},
   "outputs": [],
   "source": [
    "import pandas as pd\n",
    "import numpy as np\n",
    "from sklearn import datasets\n",
    "from sklearn import neighbors \n",
    "from sklearn.model_selection import cross_val_score\n",
    "import matplotlib.pyplot as plt\n",
    "\n",
    "iris = datasets.load_iris()\n",
    "\n",
    "X = pd.DataFrame(iris.data, columns=iris.feature_names)\n",
    "X.columns = [\"sepal_length\",\"sepal_width\",\"petal_length\",\"petal_width\"]\n",
    "target = pd.DataFrame(iris.target, columns=[\"target\"])\n",
    "y = target[\"target\"]\n",
    "\n",
    "Ks = np.arange(1, round(0.2*len(X) + 1))\n",
    "accuracies=[]\n",
    "for k in Ks:\n",
    "    knn = neighbors.KNeighborsClassifier(n_neighbors=k)\n",
    "    scores = cross_val_score(knn, X, y, scoring=\"accuracy\",\n",
    "                            cv=10)\n",
    "    accuracies.append(scores.mean())\n",
    "\n",
    "plt.plot(Ks, accuracies)\n",
    "plt.show()\n",
    " "
   ]
  },
  {
   "cell_type": "markdown",
   "id": "6b28ccef",
   "metadata": {},
   "source": [
    "### `ch16\\ch16-3-1.py`"
   ]
  },
  {
   "cell_type": "code",
   "execution_count": null,
   "id": "a53d373b",
   "metadata": {},
   "outputs": [],
   "source": [
    "import pandas as pd\n",
    "import numpy as np\n",
    "from sklearn import cluster\n",
    "import matplotlib.pyplot as plt\n",
    "\n",
    "df = pd.DataFrame({\n",
    "   \"length\": [51, 46, 51, 45, 51, 50, 33,\n",
    "              38, 37, 33, 33, 21, 23, 24],\n",
    "   \"weight\": [10.2, 8.8, 8.1, 7.7, 9.8, 7.2, 4.8,\n",
    "              4.6, 3.5, 3.3, 4.3, 2.0, 1.0, 2.0]\n",
    "})\n",
    "k = 3\n",
    "\n",
    "kmeans = cluster.KMeans(n_clusters=k, random_state=12)\n",
    "kmeans.fit(df)\n",
    "print(kmeans.labels_)\n",
    "\n",
    "colmap = np.array([\"r\", \"g\", \"y\"])\n",
    "plt.scatter(df[\"length\"], df[\"weight\"], color=colmap[kmeans.labels_])\n",
    "plt.show()\n",
    " "
   ]
  },
  {
   "cell_type": "markdown",
   "id": "d998e874",
   "metadata": {},
   "source": [
    "### `ch16\\ch16-3-2.py`"
   ]
  },
  {
   "cell_type": "code",
   "execution_count": null,
   "id": "03fa258a",
   "metadata": {},
   "outputs": [],
   "source": [
    "import pandas as pd\n",
    "import numpy as np\n",
    "from sklearn import datasets\n",
    "from sklearn import cluster\n",
    "import matplotlib.pyplot as plt\n",
    "plt.rcParams['font.sans-serif'] = ['Microsoft JhengHei'] \n",
    "plt.rcParams['axes.unicode_minus'] = False\n",
    "\n",
    "iris = datasets.load_iris()\n",
    "\n",
    "X = pd.DataFrame(iris.data, columns=iris.feature_names)\n",
    "X.columns = [\"sepal_length\",\"sepal_width\",\"petal_length\",\"petal_width\"]\n",
    "y = iris.target\n",
    "k = 3\n",
    "\n",
    "kmeans = cluster.KMeans(n_clusters=k, random_state=12)\n",
    "kmeans.fit(X)\n",
    "print(kmeans.labels_)\n",
    "print(y)\n",
    "\n",
    "colmap = np.array([\"r\", \"g\", \"y\"])\n",
    "plt.figure(figsize=(10,5))\n",
    "plt.subplot(1, 2, 1)\n",
    "plt.subplots_adjust(hspace = .5)\n",
    "plt.scatter(X[\"petal_length\"], X[\"petal_width\"],\n",
    "            color=colmap[y])\n",
    "plt.xlabel(\"花瓣長度(Petal Length)\")\n",
    "plt.ylabel(\"花瓣寬度(Petal Width)\")\n",
    "plt.title(\"真實分類(Real Classification)\")\n",
    "plt.subplot(1, 2, 2)\n",
    "plt.scatter(X[\"petal_length\"], X[\"petal_width\"], \n",
    "            color=colmap[kmeans.labels_])\n",
    "plt.xlabel(\"花瓣長度(Petal Length)\")\n",
    "plt.ylabel(\"花瓣寬度(Petal Width)\")\n",
    "plt.title(\"K-means分類(K-means Classification)\")\n",
    "plt.show()\n"
   ]
  },
  {
   "cell_type": "markdown",
   "id": "d5e2faff",
   "metadata": {},
   "source": [
    "### `ch16\\ch16-3-2a.py`"
   ]
  },
  {
   "cell_type": "code",
   "execution_count": null,
   "id": "91edd8b1",
   "metadata": {},
   "outputs": [],
   "source": [
    "import pandas as pd\n",
    "import numpy as np\n",
    "from sklearn import datasets\n",
    "from sklearn import cluster\n",
    "import matplotlib.pyplot as plt\n",
    "plt.rcParams['font.sans-serif'] = ['Microsoft JhengHei'] \n",
    "plt.rcParams['axes.unicode_minus'] = False\n",
    "\n",
    "iris = datasets.load_iris()\n",
    "\n",
    "X = pd.DataFrame(iris.data, columns=iris.feature_names)\n",
    "X.columns = [\"sepal_length\",\"sepal_width\",\"petal_length\",\"petal_width\"]\n",
    "y = iris.target\n",
    "k = 3\n",
    "\n",
    "kmeans = cluster.KMeans(n_clusters=k, random_state=12)\n",
    "kmeans.fit(X)\n",
    "print(\"K-means分類(K-means Classification):\")\n",
    "print(kmeans.labels_)\n",
    "# 修正標籤錯誤\n",
    "pred_y = np.choose(kmeans.labels_, [2,0,1]).astype(np.int64)\n",
    "print(\"K-means修正分類(K-means Fix Classification):\")\n",
    "print(pred_y) \n",
    "print(\"真實分類(Real Classification):\")\n",
    "print(y)\n",
    "\n",
    "colmap = np.array([\"r\", \"g\", \"y\"])\n",
    "plt.figure(figsize=(10,5))\n",
    "plt.subplot(1, 2, 1)\n",
    "plt.subplots_adjust(hspace = .5)\n",
    "plt.scatter(X[\"petal_length\"], X[\"petal_width\"],\n",
    "            color=colmap[y])\n",
    "plt.xlabel(\"花瓣長度(Petal Length)\")\n",
    "plt.ylabel(\"花瓣寬度(Petal Width)\")\n",
    "plt.title(\"真實分類(Real Classification)\")\n",
    "plt.subplot(1, 2, 2)\n",
    "plt.scatter(X[\"petal_length\"], X[\"petal_width\"], \n",
    "            color=colmap[pred_y])\n",
    "plt.xlabel(\"花瓣長度(Petal Length)\")\n",
    "plt.ylabel(\"花瓣寬度(Petal Width)\")\n",
    "plt.title(\"K-means分類(K-means Classification)\")\n",
    "plt.show()\n"
   ]
  },
  {
   "cell_type": "markdown",
   "id": "5cead2f6",
   "metadata": {},
   "source": [
    "### `ch16\\ch16-3-2b.py`"
   ]
  },
  {
   "cell_type": "code",
   "execution_count": null,
   "id": "708ed9fe",
   "metadata": {},
   "outputs": [],
   "source": [
    "import pandas as pd\n",
    "import numpy as np\n",
    "from sklearn import datasets\n",
    "from sklearn import cluster\n",
    "import sklearn.metrics as sm\n",
    "\n",
    "iris = datasets.load_iris()\n",
    "\n",
    "X = pd.DataFrame(iris.data, columns=iris.feature_names)\n",
    "X.columns = [\"sepal_length\",\"sepal_width\",\"petal_length\",\"petal_width\"]\n",
    "y = iris.target\n",
    "k = 3\n",
    "\n",
    "kmeans = cluster.KMeans(n_clusters=k, random_state=12)\n",
    "kmeans.fit(X)\n",
    "# 修正標籤錯誤\n",
    "pred_y = np.choose(kmeans.labels_, [2,0,1]).astype(np.int64)\n",
    "# 績效矩陣\n",
    "print(sm.accuracy_score(y, pred_y))\n",
    "print(\"---------------------------\")\n",
    "# 混淆矩陣\n",
    "print(sm.confusion_matrix(y, pred_y))\n",
    " "
   ]
  },
  {
   "cell_type": "markdown",
   "id": "ee9feb3a",
   "metadata": {},
   "source": [
    "### `ch17\\ch17-2a.py`"
   ]
  },
  {
   "cell_type": "code",
   "execution_count": null,
   "id": "c8ebe6a4",
   "metadata": {},
   "outputs": [],
   "source": [
    "import matplotlib.pyplot as plt\n",
    "import numpy as np\n",
    "\n",
    "x = np.linspace(0, 10, 50)\n",
    "sinus = np.sin(x)\n",
    "cosinus = np.cos(x)\n",
    "plt.plot(x, sinus, x, cosinus)\n",
    "plt.show()\n"
   ]
  },
  {
   "cell_type": "markdown",
   "id": "d5639d1e",
   "metadata": {},
   "source": [
    "### `import nbformat.py`"
   ]
  },
  {
   "cell_type": "code",
   "execution_count": null,
   "id": "302a1245",
   "metadata": {},
   "outputs": [],
   "source": [
    "import nbformat\n",
    "from nbformat.v4 import new_notebook, new_code_cell, new_markdown_cell\n",
    "import pathlib\n",
    "\n",
    "# Recursively find all .py files\n",
    "py_files = list(pathlib.Path(\".\").rglob(\"*.py\"))\n",
    "\n",
    "# Sort by path (optional)\n",
    "py_files.sort()\n",
    "\n",
    "# Build notebook cells\n",
    "cells = []\n",
    "for file_path in py_files:\n",
    "    relative_path = str(file_path)\n",
    "    \n",
    "    # Add markdown cell with file path\n",
    "    cells.append(new_markdown_cell(f\"### `{relative_path}`\"))\n",
    "    \n",
    "    # Add code cell with file content\n",
    "    code = file_path.read_text(encoding='utf-8')\n",
    "    cells.append(new_code_cell(code))\n",
    "\n",
    "# Create notebook\n",
    "nb = new_notebook(cells=cells)\n",
    "\n",
    "# Save to .ipynb\n",
    "with open(\"combined_files.ipynb\", \"w\", encoding=\"utf-8\") as f:\n",
    "    nbformat.write(nb, f)\n"
   ]
  }
 ],
 "metadata": {
  "kernelspec": {
   "display_name": "base",
   "language": "python",
   "name": "python3"
  },
  "language_info": {
   "codemirror_mode": {
    "name": "ipython",
    "version": 3
   },
   "file_extension": ".py",
   "mimetype": "text/x-python",
   "name": "python",
   "nbconvert_exporter": "python",
   "pygments_lexer": "ipython3",
   "version": "3.12.4"
  }
 },
 "nbformat": 4,
 "nbformat_minor": 5
}
